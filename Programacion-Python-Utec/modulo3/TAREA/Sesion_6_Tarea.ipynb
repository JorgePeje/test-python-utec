{
  "nbformat": 4,
  "nbformat_minor": 0,
  "metadata": {
    "colab": {
      "provenance": [],
      "include_colab_link": true
    },
    "kernelspec": {
      "name": "python3",
      "display_name": "Python 3"
    },
    "language_info": {
      "name": "python"
    }
  },
  "cells": [
    {
      "cell_type": "markdown",
      "metadata": {
        "id": "view-in-github",
        "colab_type": "text"
      },
      "source": [
        "<a href=\"https://colab.research.google.com/github/JorgePeje/test-python-utec/blob/main/Programacion-Python-Utec/modulo3/TAREA/Sesion_6_Tarea.ipynb\" target=\"_parent\"><img src=\"https://colab.research.google.com/assets/colab-badge.svg\" alt=\"Open In Colab\"/></a>"
      ]
    },
    {
      "cell_type": "markdown",
      "source": [
        "![picture](https://drive.google.com/uc?export=view&id=1KaUW3_JAieeY7WVNfoRiTSr2JsaeAcXi)"
      ],
      "metadata": {
        "id": "P2iWOtPY4vaX"
      }
    },
    {
      "cell_type": "markdown",
      "source": [
        "![image.png](data:image/png;base64,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)"
      ],
      "metadata": {
        "id": "I8HyClx1NRDg"
      }
    },
    {
      "cell_type": "markdown",
      "source": [
        "\n",
        "# **Módulo 3** - Sesión 5:  **Viualización de Datos Cuantitativos**\n",
        "## Profesor: Germain Garcia Zanabria\n",
        "\n",
        "### Indicaciones\n",
        "\n",
        "Completa las secciones de código en las que se indique `### Completar`. Siga las instrucciones y proporcione la implementación adecuada en cada caso. Si necesitas ayuda o tienes alguna pregunta, no dudes en levantar la mano para que pueda asistirte.\n",
        "\n",
        "**Nota:**\n",
        "No olvides completar con tu análisis en las secciones: `La interpretación de tu gráfico anterior`."
      ],
      "metadata": {
        "id": "QSTF9RjENURG"
      }
    },
    {
      "cell_type": "markdown",
      "source": [
        "## **Assignment:** Análisis Visual\n",
        "\n",
        "El objetivo de este assignment es prácticar las técnicas de análisis exploratorio de datos para análisis univariado."
      ],
      "metadata": {
        "id": "fh39_dGSvi-d"
      }
    },
    {
      "cell_type": "markdown",
      "source": [
        "### **Paso 0:** Cargar librerías y seleccionar el conjunto de datos que se utilizará para este assignment."
      ],
      "metadata": {
        "id": "9Z7BwhN9vz6W"
      }
    },
    {
      "cell_type": "code",
      "execution_count": 1,
      "metadata": {
        "id": "NwQve_t_AANW"
      },
      "outputs": [],
      "source": [
        "#Importar Librerias\n",
        "import pandas as pd\n",
        "import seaborn as sns\n",
        "import random"
      ]
    },
    {
      "cell_type": "markdown",
      "source": [
        "La función `cargarDatos()` escogerá al azar el conjunto de datos (dataset) con el que trabajarás en este assignment. Además la función ya te devuelve el dataset cargado en la variable `df`"
      ],
      "metadata": {
        "id": "8p5k_6umwMaf"
      }
    },
    {
      "cell_type": "code",
      "source": [
        "def cargarDatos():\n",
        "  datasetList = [\"taxis\", \"flights\", \"planets\"]\n",
        "  rand_idx = random.randrange(len(datasetList))\n",
        "  random_dataset = datasetList[rand_idx]\n",
        "  print(\"El dataset que utilizarás es: \", random_dataset)\n",
        "  df = sns.load_dataset(random_dataset)\n",
        "  return df"
      ],
      "metadata": {
        "id": "mONFkMhCETHT"
      },
      "execution_count": 11,
      "outputs": []
    },
    {
      "cell_type": "code",
      "source": [
        "#Asigna el dataset al azar y carga el dataset\n",
        "df= cargarDatos()\n",
        "df.head()"
      ],
      "metadata": {
        "id": "3U3RVTrCAKAb",
        "colab": {
          "base_uri": "https://localhost:8080/",
          "height": 225
        },
        "outputId": "ed32582e-9881-47e3-cc84-05c8c17140e3"
      },
      "execution_count": 21,
      "outputs": [
        {
          "output_type": "stream",
          "name": "stdout",
          "text": [
            "El dataset que utilizarás es:  taxis\n"
          ]
        },
        {
          "output_type": "execute_result",
          "data": {
            "text/plain": [
              "               pickup             dropoff  passengers  distance  fare   tip  \\\n",
              "0 2019-03-23 20:21:09 2019-03-23 20:27:24           1      1.60   7.0  2.15   \n",
              "1 2019-03-04 16:11:55 2019-03-04 16:19:00           1      0.79   5.0  0.00   \n",
              "2 2019-03-27 17:53:01 2019-03-27 18:00:25           1      1.37   7.5  2.36   \n",
              "3 2019-03-10 01:23:59 2019-03-10 01:49:51           1      7.70  27.0  6.15   \n",
              "4 2019-03-30 13:27:42 2019-03-30 13:37:14           3      2.16   9.0  1.10   \n",
              "\n",
              "   tolls  total   color      payment            pickup_zone  \\\n",
              "0    0.0  12.95  yellow  credit card        Lenox Hill West   \n",
              "1    0.0   9.30  yellow         cash  Upper West Side South   \n",
              "2    0.0  14.16  yellow  credit card          Alphabet City   \n",
              "3    0.0  36.95  yellow  credit card              Hudson Sq   \n",
              "4    0.0  13.40  yellow  credit card           Midtown East   \n",
              "\n",
              "            dropoff_zone pickup_borough dropoff_borough  \n",
              "0    UN/Turtle Bay South      Manhattan       Manhattan  \n",
              "1  Upper West Side South      Manhattan       Manhattan  \n",
              "2           West Village      Manhattan       Manhattan  \n",
              "3         Yorkville West      Manhattan       Manhattan  \n",
              "4         Yorkville West      Manhattan       Manhattan  "
            ],
            "text/html": [
              "\n",
              "  <div id=\"df-c4ae56fc-fee1-4b82-8fb4-930192cac905\" class=\"colab-df-container\">\n",
              "    <div>\n",
              "<style scoped>\n",
              "    .dataframe tbody tr th:only-of-type {\n",
              "        vertical-align: middle;\n",
              "    }\n",
              "\n",
              "    .dataframe tbody tr th {\n",
              "        vertical-align: top;\n",
              "    }\n",
              "\n",
              "    .dataframe thead th {\n",
              "        text-align: right;\n",
              "    }\n",
              "</style>\n",
              "<table border=\"1\" class=\"dataframe\">\n",
              "  <thead>\n",
              "    <tr style=\"text-align: right;\">\n",
              "      <th></th>\n",
              "      <th>pickup</th>\n",
              "      <th>dropoff</th>\n",
              "      <th>passengers</th>\n",
              "      <th>distance</th>\n",
              "      <th>fare</th>\n",
              "      <th>tip</th>\n",
              "      <th>tolls</th>\n",
              "      <th>total</th>\n",
              "      <th>color</th>\n",
              "      <th>payment</th>\n",
              "      <th>pickup_zone</th>\n",
              "      <th>dropoff_zone</th>\n",
              "      <th>pickup_borough</th>\n",
              "      <th>dropoff_borough</th>\n",
              "    </tr>\n",
              "  </thead>\n",
              "  <tbody>\n",
              "    <tr>\n",
              "      <th>0</th>\n",
              "      <td>2019-03-23 20:21:09</td>\n",
              "      <td>2019-03-23 20:27:24</td>\n",
              "      <td>1</td>\n",
              "      <td>1.60</td>\n",
              "      <td>7.0</td>\n",
              "      <td>2.15</td>\n",
              "      <td>0.0</td>\n",
              "      <td>12.95</td>\n",
              "      <td>yellow</td>\n",
              "      <td>credit card</td>\n",
              "      <td>Lenox Hill West</td>\n",
              "      <td>UN/Turtle Bay South</td>\n",
              "      <td>Manhattan</td>\n",
              "      <td>Manhattan</td>\n",
              "    </tr>\n",
              "    <tr>\n",
              "      <th>1</th>\n",
              "      <td>2019-03-04 16:11:55</td>\n",
              "      <td>2019-03-04 16:19:00</td>\n",
              "      <td>1</td>\n",
              "      <td>0.79</td>\n",
              "      <td>5.0</td>\n",
              "      <td>0.00</td>\n",
              "      <td>0.0</td>\n",
              "      <td>9.30</td>\n",
              "      <td>yellow</td>\n",
              "      <td>cash</td>\n",
              "      <td>Upper West Side South</td>\n",
              "      <td>Upper West Side South</td>\n",
              "      <td>Manhattan</td>\n",
              "      <td>Manhattan</td>\n",
              "    </tr>\n",
              "    <tr>\n",
              "      <th>2</th>\n",
              "      <td>2019-03-27 17:53:01</td>\n",
              "      <td>2019-03-27 18:00:25</td>\n",
              "      <td>1</td>\n",
              "      <td>1.37</td>\n",
              "      <td>7.5</td>\n",
              "      <td>2.36</td>\n",
              "      <td>0.0</td>\n",
              "      <td>14.16</td>\n",
              "      <td>yellow</td>\n",
              "      <td>credit card</td>\n",
              "      <td>Alphabet City</td>\n",
              "      <td>West Village</td>\n",
              "      <td>Manhattan</td>\n",
              "      <td>Manhattan</td>\n",
              "    </tr>\n",
              "    <tr>\n",
              "      <th>3</th>\n",
              "      <td>2019-03-10 01:23:59</td>\n",
              "      <td>2019-03-10 01:49:51</td>\n",
              "      <td>1</td>\n",
              "      <td>7.70</td>\n",
              "      <td>27.0</td>\n",
              "      <td>6.15</td>\n",
              "      <td>0.0</td>\n",
              "      <td>36.95</td>\n",
              "      <td>yellow</td>\n",
              "      <td>credit card</td>\n",
              "      <td>Hudson Sq</td>\n",
              "      <td>Yorkville West</td>\n",
              "      <td>Manhattan</td>\n",
              "      <td>Manhattan</td>\n",
              "    </tr>\n",
              "    <tr>\n",
              "      <th>4</th>\n",
              "      <td>2019-03-30 13:27:42</td>\n",
              "      <td>2019-03-30 13:37:14</td>\n",
              "      <td>3</td>\n",
              "      <td>2.16</td>\n",
              "      <td>9.0</td>\n",
              "      <td>1.10</td>\n",
              "      <td>0.0</td>\n",
              "      <td>13.40</td>\n",
              "      <td>yellow</td>\n",
              "      <td>credit card</td>\n",
              "      <td>Midtown East</td>\n",
              "      <td>Yorkville West</td>\n",
              "      <td>Manhattan</td>\n",
              "      <td>Manhattan</td>\n",
              "    </tr>\n",
              "  </tbody>\n",
              "</table>\n",
              "</div>\n",
              "    <div class=\"colab-df-buttons\">\n",
              "\n",
              "  <div class=\"colab-df-container\">\n",
              "    <button class=\"colab-df-convert\" onclick=\"convertToInteractive('df-c4ae56fc-fee1-4b82-8fb4-930192cac905')\"\n",
              "            title=\"Convert this dataframe to an interactive table.\"\n",
              "            style=\"display:none;\">\n",
              "\n",
              "  <svg xmlns=\"http://www.w3.org/2000/svg\" height=\"24px\" viewBox=\"0 -960 960 960\">\n",
              "    <path d=\"M120-120v-720h720v720H120Zm60-500h600v-160H180v160Zm220 220h160v-160H400v160Zm0 220h160v-160H400v160ZM180-400h160v-160H180v160Zm440 0h160v-160H620v160ZM180-180h160v-160H180v160Zm440 0h160v-160H620v160Z\"/>\n",
              "  </svg>\n",
              "    </button>\n",
              "\n",
              "  <style>\n",
              "    .colab-df-container {\n",
              "      display:flex;\n",
              "      gap: 12px;\n",
              "    }\n",
              "\n",
              "    .colab-df-convert {\n",
              "      background-color: #E8F0FE;\n",
              "      border: none;\n",
              "      border-radius: 50%;\n",
              "      cursor: pointer;\n",
              "      display: none;\n",
              "      fill: #1967D2;\n",
              "      height: 32px;\n",
              "      padding: 0 0 0 0;\n",
              "      width: 32px;\n",
              "    }\n",
              "\n",
              "    .colab-df-convert:hover {\n",
              "      background-color: #E2EBFA;\n",
              "      box-shadow: 0px 1px 2px rgba(60, 64, 67, 0.3), 0px 1px 3px 1px rgba(60, 64, 67, 0.15);\n",
              "      fill: #174EA6;\n",
              "    }\n",
              "\n",
              "    .colab-df-buttons div {\n",
              "      margin-bottom: 4px;\n",
              "    }\n",
              "\n",
              "    [theme=dark] .colab-df-convert {\n",
              "      background-color: #3B4455;\n",
              "      fill: #D2E3FC;\n",
              "    }\n",
              "\n",
              "    [theme=dark] .colab-df-convert:hover {\n",
              "      background-color: #434B5C;\n",
              "      box-shadow: 0px 1px 3px 1px rgba(0, 0, 0, 0.15);\n",
              "      filter: drop-shadow(0px 1px 2px rgba(0, 0, 0, 0.3));\n",
              "      fill: #FFFFFF;\n",
              "    }\n",
              "  </style>\n",
              "\n",
              "    <script>\n",
              "      const buttonEl =\n",
              "        document.querySelector('#df-c4ae56fc-fee1-4b82-8fb4-930192cac905 button.colab-df-convert');\n",
              "      buttonEl.style.display =\n",
              "        google.colab.kernel.accessAllowed ? 'block' : 'none';\n",
              "\n",
              "      async function convertToInteractive(key) {\n",
              "        const element = document.querySelector('#df-c4ae56fc-fee1-4b82-8fb4-930192cac905');\n",
              "        const dataTable =\n",
              "          await google.colab.kernel.invokeFunction('convertToInteractive',\n",
              "                                                    [key], {});\n",
              "        if (!dataTable) return;\n",
              "\n",
              "        const docLinkHtml = 'Like what you see? Visit the ' +\n",
              "          '<a target=\"_blank\" href=https://colab.research.google.com/notebooks/data_table.ipynb>data table notebook</a>'\n",
              "          + ' to learn more about interactive tables.';\n",
              "        element.innerHTML = '';\n",
              "        dataTable['output_type'] = 'display_data';\n",
              "        await google.colab.output.renderOutput(dataTable, element);\n",
              "        const docLink = document.createElement('div');\n",
              "        docLink.innerHTML = docLinkHtml;\n",
              "        element.appendChild(docLink);\n",
              "      }\n",
              "    </script>\n",
              "  </div>\n",
              "\n",
              "\n",
              "    <div id=\"df-481cfaf9-c4c2-4f2c-b726-cce5b715ddfa\">\n",
              "      <button class=\"colab-df-quickchart\" onclick=\"quickchart('df-481cfaf9-c4c2-4f2c-b726-cce5b715ddfa')\"\n",
              "                title=\"Suggest charts\"\n",
              "                style=\"display:none;\">\n",
              "\n",
              "<svg xmlns=\"http://www.w3.org/2000/svg\" height=\"24px\"viewBox=\"0 0 24 24\"\n",
              "     width=\"24px\">\n",
              "    <g>\n",
              "        <path d=\"M19 3H5c-1.1 0-2 .9-2 2v14c0 1.1.9 2 2 2h14c1.1 0 2-.9 2-2V5c0-1.1-.9-2-2-2zM9 17H7v-7h2v7zm4 0h-2V7h2v10zm4 0h-2v-4h2v4z\"/>\n",
              "    </g>\n",
              "</svg>\n",
              "      </button>\n",
              "\n",
              "<style>\n",
              "  .colab-df-quickchart {\n",
              "      --bg-color: #E8F0FE;\n",
              "      --fill-color: #1967D2;\n",
              "      --hover-bg-color: #E2EBFA;\n",
              "      --hover-fill-color: #174EA6;\n",
              "      --disabled-fill-color: #AAA;\n",
              "      --disabled-bg-color: #DDD;\n",
              "  }\n",
              "\n",
              "  [theme=dark] .colab-df-quickchart {\n",
              "      --bg-color: #3B4455;\n",
              "      --fill-color: #D2E3FC;\n",
              "      --hover-bg-color: #434B5C;\n",
              "      --hover-fill-color: #FFFFFF;\n",
              "      --disabled-bg-color: #3B4455;\n",
              "      --disabled-fill-color: #666;\n",
              "  }\n",
              "\n",
              "  .colab-df-quickchart {\n",
              "    background-color: var(--bg-color);\n",
              "    border: none;\n",
              "    border-radius: 50%;\n",
              "    cursor: pointer;\n",
              "    display: none;\n",
              "    fill: var(--fill-color);\n",
              "    height: 32px;\n",
              "    padding: 0;\n",
              "    width: 32px;\n",
              "  }\n",
              "\n",
              "  .colab-df-quickchart:hover {\n",
              "    background-color: var(--hover-bg-color);\n",
              "    box-shadow: 0 1px 2px rgba(60, 64, 67, 0.3), 0 1px 3px 1px rgba(60, 64, 67, 0.15);\n",
              "    fill: var(--button-hover-fill-color);\n",
              "  }\n",
              "\n",
              "  .colab-df-quickchart-complete:disabled,\n",
              "  .colab-df-quickchart-complete:disabled:hover {\n",
              "    background-color: var(--disabled-bg-color);\n",
              "    fill: var(--disabled-fill-color);\n",
              "    box-shadow: none;\n",
              "  }\n",
              "\n",
              "  .colab-df-spinner {\n",
              "    border: 2px solid var(--fill-color);\n",
              "    border-color: transparent;\n",
              "    border-bottom-color: var(--fill-color);\n",
              "    animation:\n",
              "      spin 1s steps(1) infinite;\n",
              "  }\n",
              "\n",
              "  @keyframes spin {\n",
              "    0% {\n",
              "      border-color: transparent;\n",
              "      border-bottom-color: var(--fill-color);\n",
              "      border-left-color: var(--fill-color);\n",
              "    }\n",
              "    20% {\n",
              "      border-color: transparent;\n",
              "      border-left-color: var(--fill-color);\n",
              "      border-top-color: var(--fill-color);\n",
              "    }\n",
              "    30% {\n",
              "      border-color: transparent;\n",
              "      border-left-color: var(--fill-color);\n",
              "      border-top-color: var(--fill-color);\n",
              "      border-right-color: var(--fill-color);\n",
              "    }\n",
              "    40% {\n",
              "      border-color: transparent;\n",
              "      border-right-color: var(--fill-color);\n",
              "      border-top-color: var(--fill-color);\n",
              "    }\n",
              "    60% {\n",
              "      border-color: transparent;\n",
              "      border-right-color: var(--fill-color);\n",
              "    }\n",
              "    80% {\n",
              "      border-color: transparent;\n",
              "      border-right-color: var(--fill-color);\n",
              "      border-bottom-color: var(--fill-color);\n",
              "    }\n",
              "    90% {\n",
              "      border-color: transparent;\n",
              "      border-bottom-color: var(--fill-color);\n",
              "    }\n",
              "  }\n",
              "</style>\n",
              "\n",
              "      <script>\n",
              "        async function quickchart(key) {\n",
              "          const quickchartButtonEl =\n",
              "            document.querySelector('#' + key + ' button');\n",
              "          quickchartButtonEl.disabled = true;  // To prevent multiple clicks.\n",
              "          quickchartButtonEl.classList.add('colab-df-spinner');\n",
              "          try {\n",
              "            const charts = await google.colab.kernel.invokeFunction(\n",
              "                'suggestCharts', [key], {});\n",
              "          } catch (error) {\n",
              "            console.error('Error during call to suggestCharts:', error);\n",
              "          }\n",
              "          quickchartButtonEl.classList.remove('colab-df-spinner');\n",
              "          quickchartButtonEl.classList.add('colab-df-quickchart-complete');\n",
              "        }\n",
              "        (() => {\n",
              "          let quickchartButtonEl =\n",
              "            document.querySelector('#df-481cfaf9-c4c2-4f2c-b726-cce5b715ddfa button');\n",
              "          quickchartButtonEl.style.display =\n",
              "            google.colab.kernel.accessAllowed ? 'block' : 'none';\n",
              "        })();\n",
              "      </script>\n",
              "    </div>\n",
              "\n",
              "    </div>\n",
              "  </div>\n"
            ],
            "application/vnd.google.colaboratory.intrinsic+json": {
              "type": "dataframe",
              "variable_name": "df",
              "summary": "{\n  \"name\": \"df\",\n  \"rows\": 6433,\n  \"fields\": [\n    {\n      \"column\": \"pickup\",\n      \"properties\": {\n        \"dtype\": \"date\",\n        \"min\": \"2019-02-28 23:29:03\",\n        \"max\": \"2019-03-31 23:43:45\",\n        \"num_unique_values\": 6414,\n        \"samples\": [\n          \"2019-03-11 21:32:20\",\n          \"2019-03-01 11:36:49\",\n          \"2019-03-24 19:36:52\"\n        ],\n        \"semantic_type\": \"\",\n        \"description\": \"\"\n      }\n    },\n    {\n      \"column\": \"dropoff\",\n      \"properties\": {\n        \"dtype\": \"date\",\n        \"min\": \"2019-02-28 23:32:35\",\n        \"max\": \"2019-04-01 00:13:58\",\n        \"num_unique_values\": 6425,\n        \"samples\": [\n          \"2019-03-13 22:53:10\",\n          \"2019-03-12 23:25:20\",\n          \"2019-03-04 04:08:04\"\n        ],\n        \"semantic_type\": \"\",\n        \"description\": \"\"\n      }\n    },\n    {\n      \"column\": \"passengers\",\n      \"properties\": {\n        \"dtype\": \"number\",\n        \"std\": 1,\n        \"min\": 0,\n        \"max\": 6,\n        \"num_unique_values\": 7,\n        \"samples\": [\n          1,\n          3,\n          2\n        ],\n        \"semantic_type\": \"\",\n        \"description\": \"\"\n      }\n    },\n    {\n      \"column\": \"distance\",\n      \"properties\": {\n        \"dtype\": \"number\",\n        \"std\": 3.8278670010117537,\n        \"min\": 0.0,\n        \"max\": 36.7,\n        \"num_unique_values\": 1079,\n        \"samples\": [\n          2.08,\n          19.43,\n          16.65\n        ],\n        \"semantic_type\": \"\",\n        \"description\": \"\"\n      }\n    },\n    {\n      \"column\": \"fare\",\n      \"properties\": {\n        \"dtype\": \"number\",\n        \"std\": 11.55180426641491,\n        \"min\": 1.0,\n        \"max\": 150.0,\n        \"num_unique_values\": 220,\n        \"samples\": [\n          143.5,\n          16.39,\n          44.5\n        ],\n        \"semantic_type\": \"\",\n        \"description\": \"\"\n      }\n    },\n    {\n      \"column\": \"tip\",\n      \"properties\": {\n        \"dtype\": \"number\",\n        \"std\": 2.4485595916360454,\n        \"min\": 0.0,\n        \"max\": 33.2,\n        \"num_unique_values\": 489,\n        \"samples\": [\n          3.21,\n          7.31,\n          6.82\n        ],\n        \"semantic_type\": \"\",\n        \"description\": \"\"\n      }\n    },\n    {\n      \"column\": \"tolls\",\n      \"properties\": {\n        \"dtype\": \"number\",\n        \"std\": 1.4152673297904774,\n        \"min\": 0.0,\n        \"max\": 24.02,\n        \"num_unique_values\": 16,\n        \"samples\": [\n          0.0,\n          5.76,\n          17.28\n        ],\n        \"semantic_type\": \"\",\n        \"description\": \"\"\n      }\n    },\n    {\n      \"column\": \"total\",\n      \"properties\": {\n        \"dtype\": \"number\",\n        \"std\": 13.81557004106683,\n        \"min\": 1.3,\n        \"max\": 174.82,\n        \"num_unique_values\": 898,\n        \"samples\": [\n          4.8,\n          42.0,\n          50.76\n        ],\n        \"semantic_type\": \"\",\n        \"description\": \"\"\n      }\n    },\n    {\n      \"column\": \"color\",\n      \"properties\": {\n        \"dtype\": \"category\",\n        \"num_unique_values\": 2,\n        \"samples\": [\n          \"green\",\n          \"yellow\"\n        ],\n        \"semantic_type\": \"\",\n        \"description\": \"\"\n      }\n    },\n    {\n      \"column\": \"payment\",\n      \"properties\": {\n        \"dtype\": \"category\",\n        \"num_unique_values\": 2,\n        \"samples\": [\n          \"cash\",\n          \"credit card\"\n        ],\n        \"semantic_type\": \"\",\n        \"description\": \"\"\n      }\n    },\n    {\n      \"column\": \"pickup_zone\",\n      \"properties\": {\n        \"dtype\": \"category\",\n        \"num_unique_values\": 194,\n        \"samples\": [\n          \"University Heights/Morris Heights\",\n          \"Gramercy\"\n        ],\n        \"semantic_type\": \"\",\n        \"description\": \"\"\n      }\n    },\n    {\n      \"column\": \"dropoff_zone\",\n      \"properties\": {\n        \"dtype\": \"category\",\n        \"num_unique_values\": 203,\n        \"samples\": [\n          \"East Chelsea\",\n          \"Astoria\"\n        ],\n        \"semantic_type\": \"\",\n        \"description\": \"\"\n      }\n    },\n    {\n      \"column\": \"pickup_borough\",\n      \"properties\": {\n        \"dtype\": \"category\",\n        \"num_unique_values\": 4,\n        \"samples\": [\n          \"Queens\",\n          \"Brooklyn\"\n        ],\n        \"semantic_type\": \"\",\n        \"description\": \"\"\n      }\n    },\n    {\n      \"column\": \"dropoff_borough\",\n      \"properties\": {\n        \"dtype\": \"category\",\n        \"num_unique_values\": 5,\n        \"samples\": [\n          \"Queens\",\n          \"Staten Island\"\n        ],\n        \"semantic_type\": \"\",\n        \"description\": \"\"\n      }\n    }\n  ]\n}"
            }
          },
          "metadata": {},
          "execution_count": 21
        }
      ]
    },
    {
      "cell_type": "markdown",
      "source": [
        "### **Paso 1:** Descubre/Explora el conjunto de datos"
      ],
      "metadata": {
        "id": "5rqwyc7ywmHL"
      }
    },
    {
      "cell_type": "code",
      "source": [
        "#Resumen del dataset\n",
        "df.info()"
      ],
      "metadata": {
        "id": "2Gu_6B-VDpku",
        "colab": {
          "base_uri": "https://localhost:8080/"
        },
        "outputId": "f9d486b1-fc48-4085-e533-114730363376"
      },
      "execution_count": 9,
      "outputs": [
        {
          "output_type": "stream",
          "name": "stdout",
          "text": [
            "<class 'pandas.core.frame.DataFrame'>\n",
            "RangeIndex: 144 entries, 0 to 143\n",
            "Data columns (total 3 columns):\n",
            " #   Column      Non-Null Count  Dtype   \n",
            "---  ------      --------------  -----   \n",
            " 0   year        144 non-null    int64   \n",
            " 1   month       144 non-null    category\n",
            " 2   passengers  144 non-null    int64   \n",
            "dtypes: category(1), int64(2)\n",
            "memory usage: 2.9 KB\n"
          ]
        }
      ]
    },
    {
      "cell_type": "markdown",
      "source": [
        "### **Ejercicio 1:** Método gráfico de un dato categórico ✋\n",
        "\n",
        "Analiza de manera gráfica un dato categórico de tu dataset."
      ],
      "metadata": {
        "id": "PXJ2vn9U8UQc"
      }
    },
    {
      "cell_type": "code",
      "source": [
        "# Establecer estilo y tamaño de figura por defecto\n",
        "sns.set_theme(style=\"whitegrid\", rc={\"figure.figsize\": (8, 5)})\n",
        "\n",
        "\n",
        "# Gráfico de barras con countplot\n",
        "sns.countplot(data=df, x='payment', palette='pastel')\n"
      ],
      "metadata": {
        "id": "LUIdSD2S8ZHR",
        "colab": {
          "base_uri": "https://localhost:8080/",
          "height": 584
        },
        "outputId": "5d42f8a0-4761-4f8f-d832-20c7d65fe71b"
      },
      "execution_count": 22,
      "outputs": [
        {
          "output_type": "stream",
          "name": "stderr",
          "text": [
            "/tmp/ipython-input-22-1018379222.py:6: FutureWarning: \n",
            "\n",
            "Passing `palette` without assigning `hue` is deprecated and will be removed in v0.14.0. Assign the `x` variable to `hue` and set `legend=False` for the same effect.\n",
            "\n",
            "  sns.countplot(data=df, x='payment', palette='pastel')\n"
          ]
        },
        {
          "output_type": "execute_result",
          "data": {
            "text/plain": [
              "<Axes: xlabel='payment', ylabel='count'>"
            ]
          },
          "metadata": {},
          "execution_count": 22
        },
        {
          "output_type": "display_data",
          "data": {
            "text/plain": [
              "<Figure size 800x500 with 1 Axes>"
            ],
            "image/png": "[encoded data removed]"
          },
          "metadata": {}
        }
      ]
    },
    {
      "cell_type": "markdown",
      "source": [
        "**La interpretación de tu gráfico anterior: Del total de personas que utilizan el servicio de taxi, casi el 2/3 utiliza como medio de pago tarjeta de credito."
      ],
      "metadata": {
        "id": "_29Zb8MS8cLl"
      }
    },
    {
      "cell_type": "markdown",
      "source": [
        "### **Ejercicio 2:** Método gráfico de un dato cuantitativo ✋\n",
        "\n",
        "Analiza de manera gráfica un dato cuantitativo de tu dataset."
      ],
      "metadata": {
        "id": "tp7ayuwA7xOg"
      }
    },
    {
      "cell_type": "code",
      "source": [
        "sns.boxplot(data=df, x= 'distance')\n"
      ],
      "metadata": {
        "id": "E3CBQi908H15",
        "colab": {
          "base_uri": "https://localhost:8080/",
          "height": 491
        },
        "outputId": "ff56dbd1-3c22-40e7-b502-e7c2111cb3ff"
      },
      "execution_count": 27,
      "outputs": [
        {
          "output_type": "execute_result",
          "data": {
            "text/plain": [
              "<Axes: xlabel='distance'>"
            ]
          },
          "metadata": {},
          "execution_count": 27
        },
        {
          "output_type": "display_data",
          "data": {
            "text/plain": [
              "<Figure size 800x500 with 1 Axes>"
            ],
            "image/png": "[encoded data removed]"
          },
          "metadata": {}
        }
      ]
    },
    {
      "cell_type": "code",
      "source": [
        "sns.histplot(data=df, x= 'distance', legend=False)"
      ],
      "metadata": {
        "colab": {
          "base_uri": "https://localhost:8080/",
          "height": 491
        },
        "id": "SjZ6HU_wnvGm",
        "outputId": "388a0a31-b11f-4cf4-e7c7-842e30417cb7"
      },
      "execution_count": 28,
      "outputs": [
        {
          "output_type": "execute_result",
          "data": {
            "text/plain": [
              "<Axes: xlabel='distance', ylabel='Count'>"
            ]
          },
          "metadata": {},
          "execution_count": 28
        },
        {
          "output_type": "display_data",
          "data": {
            "text/plain": [
              "<Figure size 800x500 with 1 Axes>"
            ],
            "image/png": "[encoded data removed]"
          },
          "metadata": {}
        }
      ]
    },
    {
      "cell_type": "markdown",
      "source": [
        "**La interpretación de tu gráfico anterior:** La distancia que recorren los pasajeros en taxis esta concentrado entre 0-6km, lo cual son distancias cortas.\n",
        "\n",
        "\n"
      ],
      "metadata": {
        "id": "A7xzJszN8LWE"
      }
    },
    {
      "cell_type": "markdown",
      "source": [
        "### **Ejercicio 3**: Método gráfico multivariado para datos cuantitativos ✋\n"
      ],
      "metadata": {
        "id": "8cW7mkVenn45"
      }
    },
    {
      "cell_type": "code",
      "source": [
        "sns.set(style=\"whitegrid\", rc={\"figure.figsize\": (8, 5)})\n",
        "sns.scatterplot(data=df, x=\"distance\", y=\"tip\", color=\"skyblue\", edgecolor=\"gray\")\n"
      ],
      "metadata": {
        "id": "zADnpa_Znuf5",
        "colab": {
          "base_uri": "https://localhost:8080/",
          "height": 491
        },
        "outputId": "7c086f57-4f06-488c-e751-10b0333dc255"
      },
      "execution_count": 37,
      "outputs": [
        {
          "output_type": "execute_result",
          "data": {
            "text/plain": [
              "<Axes: xlabel='distance', ylabel='tip'>"
            ]
          },
          "metadata": {},
          "execution_count": 37
        },
        {
          "output_type": "display_data",
          "data": {
            "text/plain": [
              "<Figure size 800x500 with 1 Axes>"
            ],
            "image/png": "[encoded data removed]"
          },
          "metadata": {}
        }
      ]
    },
    {
      "cell_type": "markdown",
      "source": [
        "**La interpretación de tu gráfico anterior: Hay una correlacion positiva moderada (0.45) entre la distancia y la propina dada, mas distancia recorrida, mas es la propina dada, aunque hay datos donde la propina es cero.\n"
      ],
      "metadata": {
        "id": "7-A1IZTvnzmn"
      }
    },
    {
      "cell_type": "code",
      "source": [
        "# Calcular la correlación entre 'distance' y 'tip'\n",
        "correlacion = df['distance'].corr(df['tip'])\n",
        "\n",
        "# Mostrar resultado\n",
        "print(f\"Correlación entre distancia y propina: {correlacion:.2f}\")"
      ],
      "metadata": {
        "colab": {
          "base_uri": "https://localhost:8080/"
        },
        "id": "PA95ndgpqRGE",
        "outputId": "b3bd2bcb-a476-41a5-8381-64d76ac1e010"
      },
      "execution_count": 38,
      "outputs": [
        {
          "output_type": "stream",
          "name": "stdout",
          "text": [
            "Correlación entre distancia y propina: 0.45\n"
          ]
        }
      ]
    }
  ]
}