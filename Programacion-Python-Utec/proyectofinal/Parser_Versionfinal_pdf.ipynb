{
  "nbformat": 4,
  "nbformat_minor": 0,
  "metadata": {
    "colab": {
      "provenance": [],
      "include_colab_link": true
    },
    "kernelspec": {
      "name": "python3",
      "display_name": "Python 3"
    },
    "language_info": {
      "name": "python"
    }
  },
  "cells": [
    {
      "cell_type": "markdown",
      "metadata": {
        "id": "view-in-github",
        "colab_type": "text"
      },
      "source": [
        "<a href=\"https://colab.research.google.com/github/JorgePeje/test-python-utec/blob/main/Programacion-Python-Utec/proyectofinal/Parser_Versionfinal_pdf.ipynb\" target=\"_parent\"><img src=\"https://colab.research.google.com/assets/colab-badge.svg\" alt=\"Open In Colab\"/></a>"
      ]
    },
    {
      "cell_type": "code",
      "source": [
        "from google.colab import drive\n",
        "#Importa el módulo drive desde el entorno de Google Colab. Este módulo permite conectar tu Google Drive a la máquina virtual de Colab.\n",
        "\n",
        "drive.mount('/content/drive')\n",
        "\n",
        "'''Abre una ventana para que inicies sesión con tu cuenta de Google.\n",
        "\n",
        "Una vez autorizado, “monta” tu Google Drive en la ruta /content/drive.\n",
        "\n",
        "Eso quiere decir que puedes acceder a todos tus archivos como si fueran locales en Colab.'''"
      ],
      "metadata": {
        "colab": {
          "base_uri": "https://localhost:8080/",
          "height": 71
        },
        "id": "0lT1YxNeP7Nn",
        "outputId": "350b9688-8c32-48ef-9e12-7cba064c5ba5"
      },
      "execution_count": 12,
      "outputs": [
        {
          "output_type": "stream",
          "name": "stdout",
          "text": [
            "Drive already mounted at /content/drive; to attempt to forcibly remount, call drive.mount(\"/content/drive\", force_remount=True).\n"
          ]
        },
        {
          "output_type": "execute_result",
          "data": {
            "text/plain": [
              "'Abre una ventana para que inicies sesión con tu cuenta de Google.\\n\\nUna vez autorizado, “monta” tu Google Drive en la ruta /content/drive.\\n\\nEso quiere decir que puedes acceder a todos tus archivos como si fueran locales en Colab.'"
            ],
            "application/vnd.google.colaboratory.intrinsic+json": {
              "type": "string"
            }
          },
          "metadata": {},
          "execution_count": 12
        }
      ]
    },
    {
      "cell_type": "code",
      "source": [
        "!pip install langchain_community\n",
        "#Instala herramientas comunitarias de LangChain, como cargadores de PDF (PyPDFLoader), páginas web, carpetas, etc.\n",
        "#Sirve para leer documentos y conectarlos con un modelo de lenguaje.\n",
        "\n",
        "\n",
        "!pip install pypdf\n",
        "#Instala la librería pypdf, que permite leer y extraer texto de archivos PDF.\n",
        "#Es usada internamente por PyPDFLoader para abrir y leer los PDFs.\n",
        "\n",
        "#En conjunto, te permiten leer un PDF y usarlo con LangChain para que un modelo como LLaMA o GPT responda preguntas sobre su contenido."
      ],
      "metadata": {
        "colab": {
          "base_uri": "https://localhost:8080/"
        },
        "id": "M84MpAj5_ogA",
        "outputId": "064ef4fe-0357-4802-9959-9c7c164d6bed"
      },
      "execution_count": 4,
      "outputs": [
        {
          "output_type": "stream",
          "name": "stdout",
          "text": [
            "Requirement already satisfied: langchain_community in /usr/local/lib/python3.11/dist-packages (0.3.25)\n",
            "Requirement already satisfied: langchain-core<1.0.0,>=0.3.65 in /usr/local/lib/python3.11/dist-packages (from langchain_community) (0.3.65)\n",
            "Requirement already satisfied: langchain<1.0.0,>=0.3.25 in /usr/local/lib/python3.11/dist-packages (from langchain_community) (0.3.25)\n",
            "Requirement already satisfied: SQLAlchemy<3,>=1.4 in /usr/local/lib/python3.11/dist-packages (from langchain_community) (2.0.41)\n",
            "Requirement already satisfied: requests<3,>=2 in /usr/local/lib/python3.11/dist-packages (from langchain_community) (2.32.3)\n",
            "Requirement already satisfied: PyYAML>=5.3 in /usr/local/lib/python3.11/dist-packages (from langchain_community) (6.0.2)\n",
            "Requirement already satisfied: aiohttp<4.0.0,>=3.8.3 in /usr/local/lib/python3.11/dist-packages (from langchain_community) (3.11.15)\n",
            "Requirement already satisfied: tenacity!=8.4.0,<10,>=8.1.0 in /usr/local/lib/python3.11/dist-packages (from langchain_community) (9.1.2)\n",
            "Requirement already satisfied: dataclasses-json<0.7,>=0.5.7 in /usr/local/lib/python3.11/dist-packages (from langchain_community) (0.6.7)\n",
            "Requirement already satisfied: pydantic-settings<3.0.0,>=2.4.0 in /usr/local/lib/python3.11/dist-packages (from langchain_community) (2.9.1)\n",
            "Requirement already satisfied: langsmith<0.4,>=0.1.125 in /usr/local/lib/python3.11/dist-packages (from langchain_community) (0.3.45)\n",
            "Requirement already satisfied: httpx-sse<1.0.0,>=0.4.0 in /usr/local/lib/python3.11/dist-packages (from langchain_community) (0.4.0)\n",
            "Requirement already satisfied: numpy>=1.26.2 in /usr/local/lib/python3.11/dist-packages (from langchain_community) (2.0.2)\n",
            "Requirement already satisfied: aiohappyeyeballs>=2.3.0 in /usr/local/lib/python3.11/dist-packages (from aiohttp<4.0.0,>=3.8.3->langchain_community) (2.6.1)\n",
            "Requirement already satisfied: aiosignal>=1.1.2 in /usr/local/lib/python3.11/dist-packages (from aiohttp<4.0.0,>=3.8.3->langchain_community) (1.3.2)\n",
            "Requirement already satisfied: attrs>=17.3.0 in /usr/local/lib/python3.11/dist-packages (from aiohttp<4.0.0,>=3.8.3->langchain_community) (25.3.0)\n",
            "Requirement already satisfied: frozenlist>=1.1.1 in /usr/local/lib/python3.11/dist-packages (from aiohttp<4.0.0,>=3.8.3->langchain_community) (1.6.0)\n",
            "Requirement already satisfied: multidict<7.0,>=4.5 in /usr/local/lib/python3.11/dist-packages (from aiohttp<4.0.0,>=3.8.3->langchain_community) (6.4.4)\n",
            "Requirement already satisfied: propcache>=0.2.0 in /usr/local/lib/python3.11/dist-packages (from aiohttp<4.0.0,>=3.8.3->langchain_community) (0.3.1)\n",
            "Requirement already satisfied: yarl<2.0,>=1.17.0 in /usr/local/lib/python3.11/dist-packages (from aiohttp<4.0.0,>=3.8.3->langchain_community) (1.20.0)\n",
            "Requirement already satisfied: marshmallow<4.0.0,>=3.18.0 in /usr/local/lib/python3.11/dist-packages (from dataclasses-json<0.7,>=0.5.7->langchain_community) (3.26.1)\n",
            "Requirement already satisfied: typing-inspect<1,>=0.4.0 in /usr/local/lib/python3.11/dist-packages (from dataclasses-json<0.7,>=0.5.7->langchain_community) (0.9.0)\n",
            "Requirement already satisfied: langchain-text-splitters<1.0.0,>=0.3.8 in /usr/local/lib/python3.11/dist-packages (from langchain<1.0.0,>=0.3.25->langchain_community) (0.3.8)\n",
            "Requirement already satisfied: pydantic<3.0.0,>=2.7.4 in /usr/local/lib/python3.11/dist-packages (from langchain<1.0.0,>=0.3.25->langchain_community) (2.11.5)\n",
            "Requirement already satisfied: jsonpatch<2.0,>=1.33 in /usr/local/lib/python3.11/dist-packages (from langchain-core<1.0.0,>=0.3.65->langchain_community) (1.33)\n",
            "Requirement already satisfied: packaging<25,>=23.2 in /usr/local/lib/python3.11/dist-packages (from langchain-core<1.0.0,>=0.3.65->langchain_community) (24.2)\n",
            "Requirement already satisfied: typing-extensions>=4.7 in /usr/local/lib/python3.11/dist-packages (from langchain-core<1.0.0,>=0.3.65->langchain_community) (4.14.0)\n",
            "Requirement already satisfied: httpx<1,>=0.23.0 in /usr/local/lib/python3.11/dist-packages (from langsmith<0.4,>=0.1.125->langchain_community) (0.28.1)\n",
            "Requirement already satisfied: orjson<4.0.0,>=3.9.14 in /usr/local/lib/python3.11/dist-packages (from langsmith<0.4,>=0.1.125->langchain_community) (3.10.18)\n",
            "Requirement already satisfied: requests-toolbelt<2.0.0,>=1.0.0 in /usr/local/lib/python3.11/dist-packages (from langsmith<0.4,>=0.1.125->langchain_community) (1.0.0)\n",
            "Requirement already satisfied: zstandard<0.24.0,>=0.23.0 in /usr/local/lib/python3.11/dist-packages (from langsmith<0.4,>=0.1.125->langchain_community) (0.23.0)\n",
            "Requirement already satisfied: python-dotenv>=0.21.0 in /usr/local/lib/python3.11/dist-packages (from pydantic-settings<3.0.0,>=2.4.0->langchain_community) (1.1.0)\n",
            "Requirement already satisfied: typing-inspection>=0.4.0 in /usr/local/lib/python3.11/dist-packages (from pydantic-settings<3.0.0,>=2.4.0->langchain_community) (0.4.1)\n",
            "Requirement already satisfied: charset-normalizer<4,>=2 in /usr/local/lib/python3.11/dist-packages (from requests<3,>=2->langchain_community) (3.4.2)\n",
            "Requirement already satisfied: idna<4,>=2.5 in /usr/local/lib/python3.11/dist-packages (from requests<3,>=2->langchain_community) (3.10)\n",
            "Requirement already satisfied: urllib3<3,>=1.21.1 in /usr/local/lib/python3.11/dist-packages (from requests<3,>=2->langchain_community) (2.4.0)\n",
            "Requirement already satisfied: certifi>=2017.4.17 in /usr/local/lib/python3.11/dist-packages (from requests<3,>=2->langchain_community) (2025.4.26)\n",
            "Requirement already satisfied: greenlet>=1 in /usr/local/lib/python3.11/dist-packages (from SQLAlchemy<3,>=1.4->langchain_community) (3.2.2)\n",
            "Requirement already satisfied: anyio in /usr/local/lib/python3.11/dist-packages (from httpx<1,>=0.23.0->langsmith<0.4,>=0.1.125->langchain_community) (4.9.0)\n",
            "Requirement already satisfied: httpcore==1.* in /usr/local/lib/python3.11/dist-packages (from httpx<1,>=0.23.0->langsmith<0.4,>=0.1.125->langchain_community) (1.0.9)\n",
            "Requirement already satisfied: h11>=0.16 in /usr/local/lib/python3.11/dist-packages (from httpcore==1.*->httpx<1,>=0.23.0->langsmith<0.4,>=0.1.125->langchain_community) (0.16.0)\n",
            "Requirement already satisfied: jsonpointer>=1.9 in /usr/local/lib/python3.11/dist-packages (from jsonpatch<2.0,>=1.33->langchain-core<1.0.0,>=0.3.65->langchain_community) (3.0.0)\n",
            "Requirement already satisfied: annotated-types>=0.6.0 in /usr/local/lib/python3.11/dist-packages (from pydantic<3.0.0,>=2.7.4->langchain<1.0.0,>=0.3.25->langchain_community) (0.7.0)\n",
            "Requirement already satisfied: pydantic-core==2.33.2 in /usr/local/lib/python3.11/dist-packages (from pydantic<3.0.0,>=2.7.4->langchain<1.0.0,>=0.3.25->langchain_community) (2.33.2)\n",
            "Requirement already satisfied: mypy-extensions>=0.3.0 in /usr/local/lib/python3.11/dist-packages (from typing-inspect<1,>=0.4.0->dataclasses-json<0.7,>=0.5.7->langchain_community) (1.1.0)\n",
            "Requirement already satisfied: sniffio>=1.1 in /usr/local/lib/python3.11/dist-packages (from anyio->httpx<1,>=0.23.0->langsmith<0.4,>=0.1.125->langchain_community) (1.3.1)\n",
            "Requirement already satisfied: pypdf in /usr/local/lib/python3.11/dist-packages (5.6.0)\n"
          ]
        }
      ]
    },
    {
      "cell_type": "code",
      "source": [
        "file_path='/content/drive/MyDrive/SM 980E-5 SN A50003-A50051--A50054-A50136--A50141 & UP (CEBM033006) (1).pdf'\n",
        "\n",
        "\n",
        "#Ruta del dataset\n",
        "#Simplemente guarda la ruta completa de tu archivo PDF en una variable llamada file_path.\n",
        "#file_path es ahora una variable que contiene la dirección exacta del manual PDF que está en tu Google Drive.\n",
        "#Esta ruta será útil para pasarla a otras funciones que necesitan saber dónde está el archivo."
      ],
      "metadata": {
        "id": "rFWbxy7H_j2h"
      },
      "execution_count": 23,
      "outputs": []
    },
    {
      "cell_type": "code",
      "execution_count": 24,
      "metadata": {
        "id": "VI8jPxWZ_R2V"
      },
      "outputs": [],
      "source": [
        "#PyPDFLoader, es una clase, es un objeto que tiene atributos y metodos.\n",
        "#Se crea un objeto \"Loader\", esto permite cargar de forma asincrona.\n",
        "#Lazyload, metodo de Loader\n",
        "\n",
        "\n",
        "from langchain_community.document_loaders import PyPDFLoader # Importa la clase PyPDFLoader\n",
        "#Esta clase permite cargar y leer archivos PDF usando LangChain. Es parte del paquete langchain_community, que agrupa conectores y herramientas adicionales.\n",
        "\n",
        "loader = PyPDFLoader(file_path)\n",
        "#Crea un \"loader\" para tu archivo PDF\n",
        "#file_path es la ruta al archivo PDF en tu Google Drive o entorno local.\n",
        "#Este objeto loader ahora está listo para leer el contenido del PDF.\n",
        "\n",
        "pages = [] #Aquí se guardarán las páginas del PDF, una por una, como objetos Document de LangChain (cada uno contiene texto y metadatos como el número de página).\n",
        "async for page in loader.alazy_load():\n",
        "    pages.append(page)\n",
        "\n",
        "#Carga las páginas del PDF de forma asíncrona\n",
        "#loader.alazy_load() es una versión asíncrona de loader.load().\n",
        "#async for permite recorrer cada página sin bloquear el sistema, útil para archivos grandes.\n",
        "#Cada page es un objeto que contiene el texto y se guarda en la lista pages.\n",
        "\n",
        "# ¿Cuándo usar alazy_load()?\n",
        "#Usas alazy_load() si:\n",
        "#- Tienes un archivo PDF muy grande (ej. manuales de cientos de páginas)\n",
        "#- Estás trabajando en un entorno que soporta código asíncrono (como servidores, web apps, etc.)\n",
        "#-->n Colab, muchas veces no puedes usar async for directamente sin definir una función async def.\n"
      ]
    },
    {
      "cell_type": "code",
      "source": [
        "len(pages)"
      ],
      "metadata": {
        "colab": {
          "base_uri": "https://localhost:8080/"
        },
        "id": "ElgxOlQzB0Cg",
        "outputId": "874c15c2-9f79-46cd-e8d9-d3e92f1edf9d"
      },
      "execution_count": 15,
      "outputs": [
        {
          "output_type": "execute_result",
          "data": {
            "text/plain": [
              "1395"
            ]
          },
          "metadata": {},
          "execution_count": 15
        }
      ]
    },
    {
      "cell_type": "code",
      "source": [
        "pages[40]"
      ],
      "metadata": {
        "colab": {
          "base_uri": "https://localhost:8080/"
        },
        "id": "tZ9VfENPN-5f",
        "outputId": "b4d430fd-98b7-4cfe-dc75-48e4e2c43bf7"
      },
      "execution_count": 25,
      "outputs": [
        {
          "output_type": "execute_result",
          "data": {
            "text/plain": [
              "Document(metadata={'producer': 'Acrobat Distiller 22.0 (Windows)', 'creator': 'FrameMaker 2019.0.6', 'creationdate': '2022-04-01T09:14:53+00:00', 'author': 'KOMATSU AMERICA CORP', 'moddate': '2022-04-10T16:51:11-05:00', 'subject': 'Shop Manual', 'title': 'CEBM033006 980E-5 DUMP TRUCK', 'source': '/content/drive/MyDrive/SM 980E-5 SN A50003-A50051--A50054-A50136--A50141 & UP (CEBM033006) (1).pdf', 'total_pages': 1395, 'page': 40, 'page_label': '41'}, page_content='00 Index and foreword CEN00044-04\\n19\\nJack point locations\\nWhen a truck is being stored for any period of time or\\nbeing secured for maintenance work, portable jack\\nstands or permanent jack stands may be used.\\nThe jack stands must be adequately rated for the size\\nof the truck. Ensure that the jack stands are on a solid\\nand level surface.\\nProper jack point locations must be used. The jacks at\\nlocations (3, Figure 00-2) must be located on the\\nframe rails.\\nIf a tow bumper reinforcement group is installed, it is\\nacceptable to place jack stands under tow hooks at\\nlocations (4). However, do not position jacks outside of\\nthe tow hooks.\\nFIGURE 00-2. JACK POINT LOCATIONS \\n(Bottom View)\\n1. Under Rear Suspensions\\n2. Under Front Suspensions\\n3. Under Torque Tube\\n4. Under Tow Hooks \\n(if equipped)\\n22\\n4 4\\n3 3\\n1 1\\n85201')"
            ]
          },
          "metadata": {},
          "execution_count": 25
        }
      ]
    },
    {
      "cell_type": "code",
      "source": [
        "pages[40].page_content\n",
        "\n",
        "#pages[0] = página 1\n",
        "#pages[1] = página 2\n",
        "\n",
        "# pages es una lista de objetos Document (cada uno representa una página del PDF).\n",
        "# .page_content accede al texto extraído de esa página.\n",
        "\n",
        "#🧠 ¿Para qué se usa?\n",
        "#Esta línea es útil si deseas:\n",
        "#- Ver qué texto contiene una página específica del manual\n",
        "#- Revisar si el PDF fue correctamente cargado\n",
        "#- Hacer pruebas de búsqueda o consulta en una página puntual"
      ],
      "metadata": {
        "colab": {
          "base_uri": "https://localhost:8080/",
          "height": 123
        },
        "id": "ZqxV9LTDCEIn",
        "outputId": "6b766000-d479-4f90-f8d1-df348a35acb0"
      },
      "execution_count": 26,
      "outputs": [
        {
          "output_type": "execute_result",
          "data": {
            "text/plain": [
              "'00 Index and foreword CEN00044-04\\n19\\nJack point locations\\nWhen a truck is being stored for any period of time or\\nbeing secured for maintenance work, portable jack\\nstands or permanent jack stands may be used.\\nThe jack stands must be adequately rated for the size\\nof the truck. Ensure that the jack stands are on a solid\\nand level surface.\\nProper jack point locations must be used. The jacks at\\nlocations (3, Figure 00-2) must be located on the\\nframe rails.\\nIf a tow bumper reinforcement group is installed, it is\\nacceptable to place jack stands under tow hooks at\\nlocations (4). However, do not position jacks outside of\\nthe tow hooks.\\nFIGURE 00-2. JACK POINT LOCATIONS \\n(Bottom View)\\n1. Under Rear Suspensions\\n2. Under Front Suspensions\\n3. Under Torque Tube\\n4. Under Tow Hooks \\n(if equipped)\\n22\\n4 4\\n3 3\\n1 1\\n85201'"
            ],
            "application/vnd.google.colaboratory.intrinsic+json": {
              "type": "string"
            }
          },
          "metadata": {},
          "execution_count": 26
        }
      ]
    },
    {
      "cell_type": "code",
      "source": [
        "pages[102]"
      ],
      "metadata": {
        "colab": {
          "base_uri": "https://localhost:8080/"
        },
        "id": "ilpB7Y_IMEuI",
        "outputId": "48a6e40f-4c08-44d4-ce8e-23eecee83d34"
      },
      "execution_count": 27,
      "outputs": [
        {
          "output_type": "execute_result",
          "data": {
            "text/plain": [
              "Document(metadata={'producer': 'Acrobat Distiller 22.0 (Windows)', 'creator': 'FrameMaker 2019.0.6', 'creationdate': '2022-04-01T09:14:53+00:00', 'author': 'KOMATSU AMERICA CORP', 'moddate': '2022-04-10T16:51:11-05:00', 'subject': 'Shop Manual', 'title': 'CEBM033006 980E-5 DUMP TRUCK', 'source': '/content/drive/MyDrive/SM 980E-5 SN A50003-A50051--A50054-A50136--A50141 & UP (CEBM033006) (1).pdf', 'total_pages': 1395, 'page': 102, 'page_label': '103'}, page_content='10 Structure and functions CEN10062-02\\n15\\nSteering left\\nRefer to Figure 10-12.\\nWhen the operator turns the steering wheel to the left,\\nthe steering control unit is opened to allow oil coming\\nin port “P” to pass to the gerotor section of the control\\nunit to turn the rotor. Oil in the other side of the gerotor\\nflows through other passages in the control unit valve\\nand out steering control unit port “L”. This oil enters\\nport “L” of the flow amplifier and goes to a closed area\\n“B” in the directional valve.\\nAs pressure in area “B” builds, it also passes into the\\nspool through orifice “C” to the spring area on the end\\nof the directional valve. The pressure then moves the\\nspool compressing the springs on the opposite end.\\nThis movement allows the oil entering area “B” to pass\\nthrough the directional valve to area “D” of the\\namplifier valve, through holes in sleeve “E” to a\\npassage between sleeve “E” and valve “F”, and\\nthrough hole “G” in sleeve “E”, where it initially is\\nblocked by the valve body.\\nAs pressure builds up in th is area, oil also flows from\\narea “D”, around the outside of sleeve “E”, around pin\\n“H”, through orifice “J” to build pressure on the end of\\nthe amplifier valve, and opens hole “G” just enough to\\nallow the flow of oil coming from the steering control\\nunit to pass to the control area of the directional valve.\\nAt the same time, the movement of sleeve “E” opened\\nthe holes near the spring end to allow the oil from the\\npriority valve to flow into the center of sleeve “E”.\\nThis oil now inside sleeve “E” pushes valve “F” against\\nits spring to give the oil access to a series of holes “K”\\nthat are in the same plane as hole “G”. The passage of\\noil through holes “K” past the valve body is metered by\\nholes “K” being opened the same proportion as hole\\n“G”. The number of holes “K” (7) in sleeve “E”\\ndetermine the amount of additional oil that is added to\\nthe steering control unit oil passing through hole “G”.\\nThis combined oil going to the center area “Q” of the\\ndirectional valve passes out  port “CL” of the flow\\namplifier and travels to the steering cylinders to steer\\nthe front wheels to the left. As the cylinders move, oil is\\nforced to return out the opposite ends, enter port “CR”\\nof the flow amplifier, pass through the directional valve\\nto area “M”, pass through return check valve “N”, and\\nexit port “HT” to the hydraulic reservoir.\\nAt the steering control unit, when the operator turned\\nthe steering wheel, supply oil from port “P” was also\\ndelivered through the control unit valve to port “LS”.\\nThis oil enters the flow amplifier through its “LS” port\\nand builds pressure in the spring area of the priority\\nvalve. This additional forc e on the spring end of the\\npriority valve causes area “A” to open and allow the\\nnecessary flow and pressure to pass through the flow\\namplifier to operate the steering cylinders.\\nThe flow amplifier includes a relief valve in the priority\\nvalve spring area that is used to control maximum\\nsteering working pressure to 20 685 kPa (3,000 psi),\\neven though supply pressure coming in to port “HP” is\\nhigher. When 20 685 kPa (3,000 psi) is obtained, the\\nrelief valve prevents the “LS” pressure from\\nincreasing, thereby allowing the priority valve to\\ncompress the spring enough to close off area “A”.')"
            ]
          },
          "metadata": {},
          "execution_count": 27
        }
      ]
    },
    {
      "cell_type": "code",
      "source": [
        "print(pages[102].page_content)"
      ],
      "metadata": {
        "colab": {
          "base_uri": "https://localhost:8080/"
        },
        "id": "U43h_wB5B5iE",
        "outputId": "ffc5aab6-9219-4716-bbf2-c4647835a3fe"
      },
      "execution_count": 28,
      "outputs": [
        {
          "output_type": "stream",
          "name": "stdout",
          "text": [
            "10 Structure and functions CEN10062-02\n",
            "15\n",
            "Steering left\n",
            "Refer to Figure 10-12.\n",
            "When the operator turns the steering wheel to the left,\n",
            "the steering control unit is opened to allow oil coming\n",
            "in port “P” to pass to the gerotor section of the control\n",
            "unit to turn the rotor. Oil in the other side of the gerotor\n",
            "flows through other passages in the control unit valve\n",
            "and out steering control unit port “L”. This oil enters\n",
            "port “L” of the flow amplifier and goes to a closed area\n",
            "“B” in the directional valve.\n",
            "As pressure in area “B” builds, it also passes into the\n",
            "spool through orifice “C” to the spring area on the end\n",
            "of the directional valve. The pressure then moves the\n",
            "spool compressing the springs on the opposite end.\n",
            "This movement allows the oil entering area “B” to pass\n",
            "through the directional valve to area “D” of the\n",
            "amplifier valve, through holes in sleeve “E” to a\n",
            "passage between sleeve “E” and valve “F”, and\n",
            "through hole “G” in sleeve “E”, where it initially is\n",
            "blocked by the valve body.\n",
            "As pressure builds up in th is area, oil also flows from\n",
            "area “D”, around the outside of sleeve “E”, around pin\n",
            "“H”, through orifice “J” to build pressure on the end of\n",
            "the amplifier valve, and opens hole “G” just enough to\n",
            "allow the flow of oil coming from the steering control\n",
            "unit to pass to the control area of the directional valve.\n",
            "At the same time, the movement of sleeve “E” opened\n",
            "the holes near the spring end to allow the oil from the\n",
            "priority valve to flow into the center of sleeve “E”.\n",
            "This oil now inside sleeve “E” pushes valve “F” against\n",
            "its spring to give the oil access to a series of holes “K”\n",
            "that are in the same plane as hole “G”. The passage of\n",
            "oil through holes “K” past the valve body is metered by\n",
            "holes “K” being opened the same proportion as hole\n",
            "“G”. The number of holes “K” (7) in sleeve “E”\n",
            "determine the amount of additional oil that is added to\n",
            "the steering control unit oil passing through hole “G”.\n",
            "This combined oil going to the center area “Q” of the\n",
            "directional valve passes out  port “CL” of the flow\n",
            "amplifier and travels to the steering cylinders to steer\n",
            "the front wheels to the left. As the cylinders move, oil is\n",
            "forced to return out the opposite ends, enter port “CR”\n",
            "of the flow amplifier, pass through the directional valve\n",
            "to area “M”, pass through return check valve “N”, and\n",
            "exit port “HT” to the hydraulic reservoir.\n",
            "At the steering control unit, when the operator turned\n",
            "the steering wheel, supply oil from port “P” was also\n",
            "delivered through the control unit valve to port “LS”.\n",
            "This oil enters the flow amplifier through its “LS” port\n",
            "and builds pressure in the spring area of the priority\n",
            "valve. This additional forc e on the spring end of the\n",
            "priority valve causes area “A” to open and allow the\n",
            "necessary flow and pressure to pass through the flow\n",
            "amplifier to operate the steering cylinders.\n",
            "The flow amplifier includes a relief valve in the priority\n",
            "valve spring area that is used to control maximum\n",
            "steering working pressure to 20 685 kPa (3,000 psi),\n",
            "even though supply pressure coming in to port “HP” is\n",
            "higher. When 20 685 kPa (3,000 psi) is obtained, the\n",
            "relief valve prevents the “LS” pressure from\n",
            "increasing, thereby allowing the priority valve to\n",
            "compress the spring enough to close off area “A”.\n"
          ]
        }
      ]
    },
    {
      "cell_type": "code",
      "source": [
        "print(pages[60].page_content)"
      ],
      "metadata": {
        "colab": {
          "base_uri": "https://localhost:8080/"
        },
        "id": "ifpLfPMA_Yd6",
        "outputId": "6211e995-d724-4f7e-e07a-03183b769a15"
      },
      "execution_count": 29,
      "outputs": [
        {
          "output_type": "stream",
          "name": "stdout",
          "text": [
            "00 Index and foreword CEN00044-04\n",
            "39\n",
            "  • Heavy duty wire connector (DT 8-pole, 12-pole)\n",
            "a. For disconnection, press both sides of locks\n",
            "(a) and (b) while pulling out female connector\n",
            "(2).\n",
            "b. For connection, push in female connector (2)\n",
            "horizontally until the lock clicks.\n",
            "Since locks (a) and (b ) may not be set com-\n",
            "pletely, push in female connector (2) while mov-\n",
            "ing it up and down until the locks are set normally.\n",
            " • Right half of figure: Lock (a) is pulled down\n",
            "(not set completely) and lock (b) is set\n",
            "completely.\n",
            "  • Drying wiring harness\n",
            "If there is any oil or dirt on the wiring harness,\n",
            "wipe it off with a dry cloth. Avoid washing it in\n",
            "water or using steam. If  the connector must be\n",
            "washed in water, do not use high pressure water\n",
            "or steam directly on the wiring harness. If water\n",
            "gets directly on the connector, perform the follow-\n",
            "ing procedure.\n",
            "a. Disconnect the connector and wipe off the\n",
            "water with a dry cloth. If the connector is\n",
            "blown dry with compressed air, there is the\n",
            "risk that oil in the air may cause defective con-\n",
            "tact, so remove all oil and water from the com-\n",
            "pressed air before blowing with air.\n",
            "b. If water gets inside the connector, use a dryer\n",
            "to dry the inside of the connector. Hot air from\n",
            "the dryer can be used, but regulate the time\n",
            "that the hot air is used in order not to make the\n",
            "connector or related parts too hot, as this will\n",
            "cause deformation or damage to the connec-\n",
            "tor.\n",
            "c. After drying, leave the wiring harness discon-\n",
            "nected and carry out a continuity test to check\n",
            "for any short circuits between pins caused by\n",
            "water.\n",
            "d. After completely drying the connector, blow it\n",
            "with contact restorer and reassemble.\n",
            "1. Male connector\n",
            "2. Female connector\n",
            "a. Lock\n",
            "b. Lock\n"
          ]
        }
      ]
    },
    {
      "cell_type": "markdown",
      "source": [
        "# Tarea para casa:\n",
        "Leer la siguiente documentacion : https://python.langchain.com/docs/how_to/document_loader_pdf/"
      ],
      "metadata": {
        "id": "EfYC7vetDJIY"
      }
    },
    {
      "cell_type": "code",
      "source": [],
      "metadata": {
        "id": "KdrPdeZpDKtP"
      },
      "execution_count": null,
      "outputs": []
    }
  ]
}