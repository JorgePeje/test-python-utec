{
  "nbformat": 4,
  "nbformat_minor": 0,
  "metadata": {
    "colab": {
      "provenance": [],
      "include_colab_link": true
    },
    "kernelspec": {
      "name": "python3",
      "display_name": "Python 3"
    },
    "language_info": {
      "name": "python"
    }
  },
  "cells": [
    {
      "cell_type": "markdown",
      "metadata": {
        "id": "view-in-github",
        "colab_type": "text"
      },
      "source": [
        "<a href=\"https://colab.research.google.com/github/JorgePeje/test-python-utec/blob/main/Programacion-Python-Utec/modulo1_fundamentos/ejerciciosclase/Ejercicios23-04Monica.ipynb\" target=\"_parent\"><img src=\"https://colab.research.google.com/assets/colab-badge.svg\" alt=\"Open In Colab\"/></a>"
      ]
    },
    {
      "cell_type": "markdown",
      "source": [
        "# Listas"
      ],
      "metadata": {
        "id": "NC_iRWcEhNSv"
      }
    },
    {
      "cell_type": "markdown",
      "source": [
        "Ejercicio 1\n",
        "\n",
        "Crear una lista con los nombres de 5 bancos."
      ],
      "metadata": {
        "id": "IxkzijV9gnqx"
      }
    },
    {
      "cell_type": "code",
      "source": [
        "bancos=[\"BBVA\", \"BCP\", \"Interbank\", \"Pichincha\", \"Scotiabank\"]"
      ],
      "metadata": {
        "id": "E_gSMEwH2psB"
      },
      "execution_count": 1,
      "outputs": []
    },
    {
      "cell_type": "markdown",
      "source": [
        "Ejercicio 2\n",
        "\n",
        "Acceder al tercer banco de la lista."
      ],
      "metadata": {
        "id": "2d57HxBKgtdO"
      }
    },
    {
      "cell_type": "code",
      "source": [
        "bancos[2]"
      ],
      "metadata": {
        "id": "Lq3VJz1H3IHl",
        "outputId": "508e4b23-63b4-43f3-d9a5-0f5ab4607647",
        "colab": {
          "base_uri": "https://localhost:8080/",
          "height": 35
        }
      },
      "execution_count": 2,
      "outputs": [
        {
          "output_type": "execute_result",
          "data": {
            "text/plain": [
              "'Interbank'"
            ],
            "application/vnd.google.colaboratory.intrinsic+json": {
              "type": "string"
            }
          },
          "metadata": {},
          "execution_count": 2
        }
      ]
    },
    {
      "cell_type": "markdown",
      "source": [
        "Ejercicio 3\n",
        "\n",
        "Agregar un nuevo banco a la lista."
      ],
      "metadata": {
        "id": "r3av9R2Ygv2T"
      }
    },
    {
      "cell_type": "code",
      "source": [
        "bancos.append(\"Banbif\")"
      ],
      "metadata": {
        "id": "Fv6R8mos3Mwk"
      },
      "execution_count": 3,
      "outputs": []
    },
    {
      "cell_type": "markdown",
      "source": [
        "Ejercicio 4\n",
        "\n",
        "Eliminar el segundo banco."
      ],
      "metadata": {
        "id": "mCi9Qu0lhA7E"
      }
    },
    {
      "cell_type": "code",
      "source": [
        "bancos\n",
        "bancos.remove(\"BCP\")\n",
        "bancos"
      ],
      "metadata": {
        "id": "x4CcCXv13SA4",
        "outputId": "ffc275b2-a5dd-48d2-8ab9-2fca40be8454",
        "colab": {
          "base_uri": "https://localhost:8080/"
        }
      },
      "execution_count": 4,
      "outputs": [
        {
          "output_type": "execute_result",
          "data": {
            "text/plain": [
              "['BBVA', 'Interbank', 'Pichincha', 'Scotiabank', 'Banbif']"
            ]
          },
          "metadata": {},
          "execution_count": 4
        }
      ]
    },
    {
      "cell_type": "markdown",
      "source": [
        "Ejercicio 5\n",
        "\n",
        "Ordenar alfabéticamente los bancos."
      ],
      "metadata": {
        "id": "he1Ai2YahGpE"
      }
    },
    {
      "cell_type": "code",
      "source": [
        "bancos.sort()"
      ],
      "metadata": {
        "id": "smw7NMH13cGJ"
      },
      "execution_count": 5,
      "outputs": []
    },
    {
      "cell_type": "code",
      "source": [
        "bancos"
      ],
      "metadata": {
        "id": "YWrT6ACC3rDq",
        "outputId": "64c47642-b97b-4ce5-ef0b-b27ba663ca74",
        "colab": {
          "base_uri": "https://localhost:8080/"
        }
      },
      "execution_count": 6,
      "outputs": [
        {
          "output_type": "execute_result",
          "data": {
            "text/plain": [
              "['BBVA', 'Banbif', 'Interbank', 'Pichincha', 'Scotiabank']"
            ]
          },
          "metadata": {},
          "execution_count": 6
        }
      ]
    },
    {
      "cell_type": "markdown",
      "source": [
        "# Condicionales IF, ELIF, ELSE"
      ],
      "metadata": {
        "id": "VpT6gNZ2hj1O"
      }
    },
    {
      "cell_type": "markdown",
      "source": [
        "Ejercicio 1\n",
        "\n",
        "Verificar si un cliente tiene ingreso > 3000."
      ],
      "metadata": {
        "id": "kv91XOyphovd"
      }
    },
    {
      "cell_type": "code",
      "source": [
        "ingreso=float(input(\"Ingresar su ingreso: \"))\n",
        "if ingreso>3000:\n",
        "  print(\"El cliente tiene ingreso mayor a 3000\")"
      ],
      "metadata": {
        "id": "kIfr4Esy3tmX",
        "outputId": "67d96821-d1cc-4502-a04c-5df9e2c85b8d",
        "colab": {
          "base_uri": "https://localhost:8080/"
        }
      },
      "execution_count": 7,
      "outputs": [
        {
          "output_type": "stream",
          "name": "stdout",
          "text": [
            "Ingresar su ingreso: 3000.1\n",
            "El cliente tiene ingreso mayor a 3000\n"
          ]
        }
      ]
    },
    {
      "cell_type": "markdown",
      "source": [
        "Ejercicio 2\n",
        "\n",
        "Evaluar edad para otorgar tarjeta de crédito."
      ],
      "metadata": {
        "id": "n1X-A7oNhr4z"
      }
    },
    {
      "cell_type": "code",
      "source": [
        "edad=int(input(\"Ingresar su edad: \"))\n",
        "if edad>=18:\n",
        "  print(\"El cliente es mayor de edad\")\n",
        "else:\n",
        "  print(\"El cliente es menor de edad\")"
      ],
      "metadata": {
        "id": "F97ArqvX4CZW",
        "outputId": "80ec1ff3-9ed5-4ea8-c0e3-67978653d67a",
        "colab": {
          "base_uri": "https://localhost:8080/"
        }
      },
      "execution_count": 9,
      "outputs": [
        {
          "output_type": "stream",
          "name": "stdout",
          "text": [
            "Ingresar su edad: 19\n",
            "El cliente es mayor de edad\n"
          ]
        }
      ]
    },
    {
      "cell_type": "markdown",
      "source": [
        "Ejercicio 3\n",
        "\n",
        "Evaluar un score de crédito."
      ],
      "metadata": {
        "id": "PiDQUQ05htq2"
      }
    },
    {
      "cell_type": "code",
      "source": [
        "score=int(input(\"Por favor ingresar tu score crediticio\"))\n",
        "if score>=930 and score<=970:\n",
        "  print(\"Excelente score\")\n",
        "elif score>=900 and score<=929:\n",
        "  print(\"Score regular\")\n",
        "else:\n",
        "  print(\"Score bajo\")"
      ],
      "metadata": {
        "id": "hrwfm9H1EY9K",
        "outputId": "299c24d5-5052-4c2c-820d-547182fc603f",
        "colab": {
          "base_uri": "https://localhost:8080/"
        }
      },
      "execution_count": 11,
      "outputs": [
        {
          "output_type": "stream",
          "name": "stdout",
          "text": [
            "Por favor ingresar tu score crediticio930\n",
            "Excelente score\n"
          ]
        }
      ]
    },
    {
      "cell_type": "markdown",
      "source": [
        "Ejercicio 4\n",
        "\n",
        "Verificar si una cuenta tiene saldo negativo."
      ],
      "metadata": {
        "id": "xoT9xGBph1M_"
      }
    },
    {
      "cell_type": "code",
      "source": [
        "saldo=float(input(\"Ingresar su saldo: \"))\n",
        "if saldo<0:\n",
        "  print(\"El cliente tiene saldo negativo\")\n",
        "else:\n",
        "  print(\"El cliente no tiene saldo negativo\")"
      ],
      "metadata": {
        "id": "f1B6GWB6Gn2m",
        "outputId": "5f8c3470-ddbb-4d19-a787-73139a57c9c4",
        "colab": {
          "base_uri": "https://localhost:8080/"
        }
      },
      "execution_count": 12,
      "outputs": [
        {
          "output_type": "stream",
          "name": "stdout",
          "text": [
            "Ingresar su saldo: 500\n",
            "El cliente no tiene saldo negativo\n"
          ]
        }
      ]
    },
    {
      "cell_type": "markdown",
      "source": [
        "Ejercicio 5\n",
        "\n",
        "Comparar dos tasas de interés."
      ],
      "metadata": {
        "id": "hLB_ZRjth5cJ"
      }
    },
    {
      "cell_type": "code",
      "source": [
        "tasa_interes_1=float(input(\"Ingresar la tasa de interés 1: \"))\n",
        "tasa_interes_2=float(input(\"Ingresar la tasa de interés 2: \"))\n",
        "if tasa_interes_1>tasa_interes_2:\n",
        "  print(\"La tasa de interés 1 es mayor a la tasa de interés 2\")\n",
        "else:\n",
        "  print(\"La tasa de interés 2 es mayor a la tasa de interés 1\")"
      ],
      "metadata": {
        "id": "YZVhL6H9GwwM",
        "outputId": "2478275f-cdec-4200-cbea-086eeeca825c",
        "colab": {
          "base_uri": "https://localhost:8080/"
        }
      },
      "execution_count": 13,
      "outputs": [
        {
          "output_type": "stream",
          "name": "stdout",
          "text": [
            "Ingresar la tasa de interés 1: 2.30\n",
            "Ingresar la tasa de interés 2: 2.35\n",
            "La tasa de interés 2 es mayor a la tasa de interés 1\n"
          ]
        }
      ]
    },
    {
      "cell_type": "markdown",
      "source": [
        "Ejercicio 6\n",
        "\n",
        "Evaluar si un cliente tiene más de 3 productos financieros."
      ],
      "metadata": {
        "id": "ORVVt26mh8dt"
      }
    },
    {
      "cell_type": "code",
      "source": [
        "productos=[\"prod1\",\"prod2\",\"prod3\",\"prod4\"]\n",
        "if len(productos)>3:\n",
        "  print(\"El cliente tiene más de 3 productos\")\n",
        "else:\n",
        "  print(\"El cliente no tiene más de 3 productos\")"
      ],
      "metadata": {
        "id": "j7EoA1AcHT0A",
        "outputId": "d5c4b8cd-9b0f-4b3a-a0f5-3307fd115750",
        "colab": {
          "base_uri": "https://localhost:8080/"
        }
      },
      "execution_count": 14,
      "outputs": [
        {
          "output_type": "stream",
          "name": "stdout",
          "text": [
            "El cliente tiene más de 3 productos\n"
          ]
        }
      ]
    },
    {
      "cell_type": "markdown",
      "source": [
        "Ejercicio 7\n",
        "\n",
        "Determinar si un monto depositado supera los 10,000."
      ],
      "metadata": {
        "id": "naW4x0QLh_SV"
      }
    },
    {
      "cell_type": "code",
      "source": [
        "monto_depositado=float(input(\"Ingresar el monto depositado: \"))\n",
        "if monto_depositado>10000:\n",
        "  print(\"El monto depositado supera los 10,000\")\n",
        "else:\n",
        "  print(\"El monto depositado no supera los 10,000\")"
      ],
      "metadata": {
        "id": "Rg2OCJTOJoSK",
        "outputId": "fa29c035-4ddc-4fa2-9a61-af36dc0d4e7d",
        "colab": {
          "base_uri": "https://localhost:8080/"
        }
      },
      "execution_count": 16,
      "outputs": [
        {
          "output_type": "stream",
          "name": "stdout",
          "text": [
            "Ingresar el monto depositado: 10000\n",
            "El monto depositado no supera los 10,000\n"
          ]
        }
      ]
    },
    {
      "cell_type": "markdown",
      "source": [
        "# **Diccionarios**"
      ],
      "metadata": {
        "id": "V7WW7fIGioVg"
      }
    },
    {
      "cell_type": "markdown",
      "source": [
        "Ejercicio 1\n",
        "\n",
        "Crear un diccionario con datos de un cliente."
      ],
      "metadata": {
        "id": "CHwNqNtNisgi"
      }
    },
    {
      "cell_type": "code",
      "source": [
        "cliente ={\n",
        "    \"Nombre\": \"Jorge\",\n",
        "    \"Apellido\": \"Peje\",\n",
        "    \"Edad\": 29,\n",
        "    \"Saldo cliente\": 980\n",
        "    }"
      ],
      "metadata": {
        "id": "xvEq05UrKBjg"
      },
      "execution_count": 17,
      "outputs": []
    },
    {
      "cell_type": "markdown",
      "source": [
        "Ejercicio 2\n",
        "\n",
        "Acceder al saldo del cliente."
      ],
      "metadata": {
        "id": "y79prRhxivr3"
      }
    },
    {
      "cell_type": "code",
      "source": [
        "cliente[\"Saldo cliente\"]"
      ],
      "metadata": {
        "id": "jlJO0MtFK8Do",
        "outputId": "901006c6-4b87-4f70-e1bb-107065d5c9a7",
        "colab": {
          "base_uri": "https://localhost:8080/"
        }
      },
      "execution_count": 19,
      "outputs": [
        {
          "output_type": "execute_result",
          "data": {
            "text/plain": [
              "980"
            ]
          },
          "metadata": {},
          "execution_count": 19
        }
      ]
    },
    {
      "cell_type": "markdown",
      "source": [
        "Ejercicio 3\n",
        "\n",
        "Modificar el saldo."
      ],
      "metadata": {
        "id": "WPMXW--eiy7n"
      }
    },
    {
      "cell_type": "code",
      "source": [
        "cliente[\"Saldo cliente\"]=4080\n",
        "cliente"
      ],
      "metadata": {
        "id": "R_ikgNfzLI9F",
        "outputId": "1b3fa5d5-2b73-418d-a426-ca69385f2da9",
        "colab": {
          "base_uri": "https://localhost:8080/"
        }
      },
      "execution_count": 21,
      "outputs": [
        {
          "output_type": "execute_result",
          "data": {
            "text/plain": [
              "{'Nombre': 'Jorge', 'Apellido': 'Peje', 'Edad': 29, 'Saldo cliente': 4080}"
            ]
          },
          "metadata": {},
          "execution_count": 21
        }
      ]
    },
    {
      "cell_type": "markdown",
      "source": [
        "Ejercicio 4\n",
        "\n",
        "Agregar una nueva llave 'tarjeta_credito'."
      ],
      "metadata": {
        "id": "xN7U259_i0SD"
      }
    },
    {
      "cell_type": "code",
      "source": [
        "cliente[\"tarjeta_credito\"]=\"BBVA\"\n",
        "cliente"
      ],
      "metadata": {
        "id": "3iJNUr8ZLivE",
        "outputId": "795cfb83-cd15-49e2-f923-055166f85494",
        "colab": {
          "base_uri": "https://localhost:8080/"
        }
      },
      "execution_count": 22,
      "outputs": [
        {
          "output_type": "execute_result",
          "data": {
            "text/plain": [
              "{'Nombre': 'Jorge',\n",
              " 'Apellido': 'Peje',\n",
              " 'Edad': 29,\n",
              " 'Saldo cliente': 4080,\n",
              " 'tarjeta_credito': 'BBVA'}"
            ]
          },
          "metadata": {},
          "execution_count": 22
        }
      ]
    },
    {
      "cell_type": "markdown",
      "source": [
        "Ejercicio 5\n",
        "\n",
        "Eliminar el nombre del cliente."
      ],
      "metadata": {
        "id": "EhsIdR2wi2MR"
      }
    },
    {
      "cell_type": "code",
      "source": [
        "del cliente[\"Nombre\"]\n",
        "cliente"
      ],
      "metadata": {
        "id": "H25Mn5pGLzz8",
        "outputId": "21f96697-bee7-461a-d50e-ef552fa54d84",
        "colab": {
          "base_uri": "https://localhost:8080/"
        }
      },
      "execution_count": 23,
      "outputs": [
        {
          "output_type": "execute_result",
          "data": {
            "text/plain": [
              "{'Apellido': 'Peje',\n",
              " 'Edad': 29,\n",
              " 'Saldo cliente': 4080,\n",
              " 'tarjeta_credito': 'BBVA'}"
            ]
          },
          "metadata": {},
          "execution_count": 23
        }
      ]
    },
    {
      "cell_type": "markdown",
      "source": [
        "# FOR"
      ],
      "metadata": {
        "id": "SEZ-ENCGi45b"
      }
    },
    {
      "cell_type": "markdown",
      "source": [
        "Ejercicio 1\n",
        "\n",
        "Recorrer una lista de tasas de interés."
      ],
      "metadata": {
        "id": "UIibjV-Ti8kG"
      }
    },
    {
      "cell_type": "code",
      "source": [
        "tasas_interes=[0.03, 0.04, 0.05, 0.06]\n",
        "for tasa in tasas_interes:\n",
        "  print(tasa)"
      ],
      "metadata": {
        "id": "HRHUJXcCMLq5",
        "outputId": "08ef2efa-acad-4773-a145-67f522313c93",
        "colab": {
          "base_uri": "https://localhost:8080/"
        }
      },
      "execution_count": 24,
      "outputs": [
        {
          "output_type": "stream",
          "name": "stdout",
          "text": [
            "0.03\n",
            "0.04\n",
            "0.05\n",
            "0.06\n"
          ]
        }
      ]
    },
    {
      "cell_type": "markdown",
      "source": [
        "Ejercicio 2\n",
        "\n",
        "Sumar todos los saldos de una lista."
      ],
      "metadata": {
        "id": "xJcFuGJ-i_OZ"
      }
    },
    {
      "cell_type": "code",
      "source": [
        "saldos=[1000, 2000, 3000, 4000]\n",
        "suma=0\n",
        "for saldo in saldos:\n",
        "  suma=suma+saldo\n",
        "print(suma)"
      ],
      "metadata": {
        "id": "hJ_S9ncKMU8q",
        "outputId": "8b3e5a77-4e34-400e-93b7-c23a50da9ae8",
        "colab": {
          "base_uri": "https://localhost:8080/"
        }
      },
      "execution_count": 25,
      "outputs": [
        {
          "output_type": "stream",
          "name": "stdout",
          "text": [
            "10000\n"
          ]
        }
      ]
    },
    {
      "cell_type": "markdown",
      "source": [
        "Ejercicio 3\n",
        "\n",
        "Recorrer una lista de precios de productos ecommerce y aplicar descuento de 10%."
      ],
      "metadata": {
        "id": "VrNKApKTjBYl"
      }
    },
    {
      "cell_type": "code",
      "source": [
        "productos=[100, 200, 300, 400]\n",
        "for producto in productos:\n",
        "  print(producto*0.9)"
      ],
      "metadata": {
        "id": "3XSwmJVeNAB6",
        "outputId": "72438ebc-ca27-42e7-c046-16d8a194af8b",
        "colab": {
          "base_uri": "https://localhost:8080/"
        }
      },
      "execution_count": 26,
      "outputs": [
        {
          "output_type": "stream",
          "name": "stdout",
          "text": [
            "90.0\n",
            "180.0\n",
            "270.0\n",
            "360.0\n"
          ]
        }
      ]
    },
    {
      "cell_type": "markdown",
      "source": [
        "Ejercicio 4\n",
        "\n",
        "Contar cuántos productos tienen un precio mayor a 100."
      ],
      "metadata": {
        "id": "LLFjbn2KjDvf"
      }
    },
    {
      "cell_type": "code",
      "source": [
        "productos=[50, 70, 100, 120, 200]\n",
        "contador=0\n",
        "\n",
        "for producto in productos:\n",
        " if producto>100:\n",
        "  contador=contador+1\n",
        "print(contador)"
      ],
      "metadata": {
        "id": "MYnOK8fpNIWe",
        "outputId": "b08e27eb-83f1-41d7-ee3f-b753c33fcd05",
        "colab": {
          "base_uri": "https://localhost:8080/"
        }
      },
      "execution_count": 27,
      "outputs": [
        {
          "output_type": "stream",
          "name": "stdout",
          "text": [
            "2\n"
          ]
        }
      ]
    },
    {
      "cell_type": "markdown",
      "source": [
        "Ejercicio 5\n",
        "\n",
        "Recorrer campañas de marketing y mostrar su nombre."
      ],
      "metadata": {
        "id": "Sx866gLnjGL3"
      }
    },
    {
      "cell_type": "code",
      "source": [
        "campaña=[\"camp1\", \"camp2\", \"camp3\", \"camp4\"]\n",
        "for camp in campaña:\n",
        "  print(camp)"
      ],
      "metadata": {
        "id": "jbu3SfR8OIpI",
        "outputId": "c6196d3b-b2f9-4f45-e95b-093a9e66a424",
        "colab": {
          "base_uri": "https://localhost:8080/"
        }
      },
      "execution_count": 28,
      "outputs": [
        {
          "output_type": "stream",
          "name": "stdout",
          "text": [
            "camp1\n",
            "camp2\n",
            "camp3\n",
            "camp4\n"
          ]
        }
      ]
    },
    {
      "cell_type": "markdown",
      "source": [
        "Ejercicio 6\n",
        "\n",
        "Recorrer un diccionario de clientes con saldo y mostrar solo los que tengan saldo > 2000."
      ],
      "metadata": {
        "id": "QahT6s0IjIOv"
      }
    },
    {
      "cell_type": "code",
      "source": [
        "saldo_clientes = {\n",
        "    \"cliente1\": 1000,\n",
        "    \"cliente2\": 2000,\n",
        "    \"cliente3\": 3000,\n",
        "    \"cliente4\": 4000\n",
        "}\n",
        "\n",
        "for saldo in saldo_clientes.values():\n",
        "    if saldo > 2000:\n",
        "        print(\"Cliente\", saldo, \"Saldo:\", saldo_clientes[saldo])"
      ],
      "metadata": {
        "id": "ebiM_GlBOaQj",
        "outputId": "f2f68254-f37e-42b8-f83b-3c4a32c919ea",
        "colab": {
          "base_uri": "https://localhost:8080/",
          "height": 176
        }
      },
      "execution_count": 2,
      "outputs": [
        {
          "output_type": "error",
          "ename": "KeyError",
          "evalue": "3000",
          "traceback": [
            "\u001b[0;31m---------------------------------------------------------------------------\u001b[0m",
            "\u001b[0;31mKeyError\u001b[0m                                  Traceback (most recent call last)",
            "\u001b[0;32m<ipython-input-2-13b0c945c122>\u001b[0m in \u001b[0;36m<cell line: 0>\u001b[0;34m()\u001b[0m\n\u001b[1;32m      8\u001b[0m \u001b[0;32mfor\u001b[0m \u001b[0msaldo\u001b[0m \u001b[0;32min\u001b[0m \u001b[0msaldo_clientes\u001b[0m\u001b[0;34m.\u001b[0m\u001b[0mvalues\u001b[0m\u001b[0;34m(\u001b[0m\u001b[0;34m)\u001b[0m\u001b[0;34m:\u001b[0m\u001b[0;34m\u001b[0m\u001b[0;34m\u001b[0m\u001b[0m\n\u001b[1;32m      9\u001b[0m     \u001b[0;32mif\u001b[0m \u001b[0msaldo\u001b[0m \u001b[0;34m>\u001b[0m \u001b[0;36m2000\u001b[0m\u001b[0;34m:\u001b[0m\u001b[0;34m\u001b[0m\u001b[0;34m\u001b[0m\u001b[0m\n\u001b[0;32m---> 10\u001b[0;31m         \u001b[0mprint\u001b[0m\u001b[0;34m(\u001b[0m\u001b[0;34m\"Cliente\"\u001b[0m\u001b[0;34m,\u001b[0m \u001b[0msaldo\u001b[0m\u001b[0;34m,\u001b[0m \u001b[0;34m\"Saldo:\"\u001b[0m\u001b[0;34m,\u001b[0m \u001b[0msaldo_clientes\u001b[0m\u001b[0;34m[\u001b[0m\u001b[0msaldo\u001b[0m\u001b[0;34m]\u001b[0m\u001b[0;34m)\u001b[0m\u001b[0;34m\u001b[0m\u001b[0;34m\u001b[0m\u001b[0m\n\u001b[0m",
            "\u001b[0;31mKeyError\u001b[0m: 3000"
          ]
        }
      ]
    },
    {
      "cell_type": "markdown",
      "source": [
        "Ejercicio 7\n",
        "\n",
        "Recorrer una lista de emails de clientes y contar los que terminan en \"@gmail.com\"."
      ],
      "metadata": {
        "id": "2rTlLwQ_jL5s"
      }
    },
    {
      "cell_type": "markdown",
      "source": [
        "# Mini Proyecto\n",
        "\n",
        "\"Evaluador de Clientes Hipotecarios\""
      ],
      "metadata": {
        "id": "FMUBc06ojTaq"
      }
    },
    {
      "cell_type": "markdown",
      "source": [
        "Contexto:\n",
        "Un banco quiere evaluar a sus clientes para ofrecerles un nuevo crédito hipotecario.\n",
        "Cada cliente tiene datos como: nombre, ingreso mensual, deudas actuales y número de productos contratados.\n",
        "\n",
        "Objetivo:\n",
        "1. Crear la base de datos de clientes usando un diccionario.\n",
        "2. Usar for para recorrer todos los clientes.\n",
        "3. Aplicar condicionales para clasificar:\n",
        "   - \"Elegible\" si su ingreso anual es mayor a 36,000 soles, sus deudas son menores a 15,000 soles y tiene al menos 2 productos contratados.\n",
        "   - \"Requiere Evaluación\" si cumple solo algunas condiciones.\n",
        "   - \"No Elegible\" si no cumple ninguna condición.\n",
        "4. Mostrar el resultado bien formateado por cliente."
      ],
      "metadata": {
        "id": "UawN6JC7jXAE"
      }
    },
    {
      "cell_type": "markdown",
      "source": [
        "Instrucciones\n",
        "\n",
        "1. Crea un diccionario llamado clientes con al menos 5 clientes.\n",
        "2. Cada cliente tendrá:\n",
        "   - Nombre (str)\n",
        "   - Ingreso mensual (float)\n",
        "   - Deudas (float)\n",
        "   - Número de productos contratados (int)\n",
        "3. Calcula el ingreso anual (ingreso mensual × 12).\n",
        "4. Usa un for para recorrer cada cliente.\n",
        "5. Usa if, elif, else para clasificarlo en una de las tres categorías.\n",
        "6. Muestra en pantalla: Cliente: {nombre} - Resultado: {clasificación}"
      ],
      "metadata": {
        "id": "cO8ajcixjnWX"
      }
    },
    {
      "cell_type": "markdown",
      "source": [
        "# 🔥 Nivel extra:\n",
        "\n",
        "1. Ingresa manualmente los clientes (input).\n",
        "2. Calcula la diferencia absoluta (abs) entre ingreso anual y deudas.\n",
        "3. Redondea (round) el ingreso anual al número entero más cercano."
      ],
      "metadata": {
        "id": "5ZCQkJxkkDGj"
      }
    }
  ]
}