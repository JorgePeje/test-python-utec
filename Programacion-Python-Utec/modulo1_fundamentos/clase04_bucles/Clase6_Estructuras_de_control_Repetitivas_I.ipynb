{
  "nbformat": 4,
  "nbformat_minor": 0,
  "metadata": {
    "colab": {
      "provenance": [],
      "include_colab_link": true
    },
    "kernelspec": {
      "name": "python3",
      "display_name": "Python 3"
    },
    "language_info": {
      "name": "python"
    }
  },
  "cells": [
    {
      "cell_type": "markdown",
      "metadata": {
        "id": "view-in-github",
        "colab_type": "text"
      },
      "source": [
        "<a href=\"https://colab.research.google.com/github/JorgePeje/test-python-utec/blob/main/Programacion-Python-Utec/modulo1_fundamentos/clase04_bucles/Clase6_Estructuras_de_control_Repetitivas_I.ipynb\" target=\"_parent\"><img src=\"https://colab.research.google.com/assets/colab-badge.svg\" alt=\"Open In Colab\"/></a>"
      ]
    },
    {
      "cell_type": "markdown",
      "source": [
        "# 1. Introducción a Diccionarios"
      ],
      "metadata": {
        "id": "ZXZB5T0_yOyz"
      }
    },
    {
      "cell_type": "markdown",
      "source": [
        "**¿Qué es un diccionario?**\n",
        "\n",
        "Es una colección de datos en formato clave: valor.\n",
        "\n",
        "Permite acceder a la información mediante claves, no por posición como las listas.\n",
        "\n"
      ],
      "metadata": {
        "id": "IYQZoyHT2EIY"
      }
    },
    {
      "cell_type": "markdown",
      "source": [
        "**¿Para qué sirve?**\n",
        "\n",
        "Ideal para representar objetos del mundo real.\n",
        "\n",
        "Muy útil en el sector financiero para almacenar datos de clientes, productos financieros, tasas, etc."
      ],
      "metadata": {
        "id": "RtUMR-2i2NoZ"
      }
    },
    {
      "cell_type": "markdown",
      "source": [
        "Ejemplo:"
      ],
      "metadata": {
        "id": "f7P8f-Xp2Vxd"
      }
    },
    {
      "cell_type": "code",
      "source": [
        "cliente = {\n",
        "    \"nombre\": \"Ana\",\n",
        "    \"edad\": 35,\n",
        "    \"ingreso\": 4500,\n",
        "    \"morosidades\": 0\n",
        "}\n",
        "print(cliente[\"ingreso\"])  # Acceder al ingreso del cliente"
      ],
      "metadata": {
        "id": "XoMaweyb2JzS",
        "colab": {
          "base_uri": "https://localhost:8080/"
        },
        "outputId": "2915a73f-6510-4700-f1fc-ef6b54a3435f"
      },
      "execution_count": 1,
      "outputs": [
        {
          "output_type": "stream",
          "name": "stdout",
          "text": [
            "4500\n"
          ]
        }
      ]
    },
    {
      "cell_type": "code",
      "source": [
        "nombres = {\n",
        "    \"nombre\": \"Jorge\",\n",
        "    \"edad\": 29,\n",
        "    \"DNI\": 73030076\n",
        "}\n",
        "print(nombres[\"DNI\"])"
      ],
      "metadata": {
        "id": "uzFjjm__uT32",
        "outputId": "88e28ea8-4e59-44fc-ffed-06e846f58b40",
        "colab": {
          "base_uri": "https://localhost:8080/"
        }
      },
      "execution_count": 3,
      "outputs": [
        {
          "output_type": "stream",
          "name": "stdout",
          "text": [
            "73030076\n"
          ]
        }
      ]
    },
    {
      "cell_type": "code",
      "source": [
        "nuevo_cliente = {}\n",
        "nuevo_cliente[\"nombre\"] = \"Luis\"\n",
        "nuevo_cliente[\"ingreso\"] = 3000"
      ],
      "metadata": {
        "id": "c2pSZDxqVdUL"
      },
      "execution_count": 4,
      "outputs": []
    },
    {
      "cell_type": "code",
      "source": [
        "nuevo_cliente"
      ],
      "metadata": {
        "colab": {
          "base_uri": "https://localhost:8080/"
        },
        "id": "dm0pWqnNTO8n",
        "outputId": "dd655d8f-e93b-4aab-dfb1-904882681ba2"
      },
      "execution_count": 8,
      "outputs": [
        {
          "output_type": "execute_result",
          "data": {
            "text/plain": [
              "{'nombre': 'Luis', 'ingreso': 3000}"
            ]
          },
          "metadata": {},
          "execution_count": 8
        }
      ]
    },
    {
      "cell_type": "markdown",
      "source": [
        "**Cómo acceder a valores:**\n",
        "\n",
        "Usando la clave: diccionario[\"clave\"]"
      ],
      "metadata": {
        "id": "w4ylLTfU2aeH"
      }
    },
    {
      "cell_type": "markdown",
      "source": [
        "**Añadir nuevo par clave-valor:**"
      ],
      "metadata": {
        "id": "jmS8eewO2fFC"
      }
    },
    {
      "cell_type": "code",
      "execution_count": 6,
      "metadata": {
        "id": "uUEYtzY9x5Gm"
      },
      "outputs": [],
      "source": [
        "cliente[\"tipo_credito\"] = \"Hipotecario\""
      ]
    },
    {
      "cell_type": "code",
      "source": [
        "cliente"
      ],
      "metadata": {
        "colab": {
          "base_uri": "https://localhost:8080/"
        },
        "id": "uOPTNHXcTWHg",
        "outputId": "a634eca5-6b23-4747-ea55-4eb2b40b6a13"
      },
      "execution_count": 7,
      "outputs": [
        {
          "output_type": "execute_result",
          "data": {
            "text/plain": [
              "{'nombre': 'Ana',\n",
              " 'edad': 35,\n",
              " 'ingreso': 4500,\n",
              " 'morosidades': 0,\n",
              " 'tipo_credito': 'Hipotecario'}"
            ]
          },
          "metadata": {},
          "execution_count": 7
        }
      ]
    },
    {
      "cell_type": "code",
      "source": [
        "nombres[\"profesion\"] = \"Ingeniero Mecanico\"\n",
        "nombres"
      ],
      "metadata": {
        "id": "y5t8iQmty2KQ",
        "outputId": "80001771-c92a-4edc-a433-9419a59eecde",
        "colab": {
          "base_uri": "https://localhost:8080/"
        }
      },
      "execution_count": 10,
      "outputs": [
        {
          "output_type": "execute_result",
          "data": {
            "text/plain": [
              "{'nombre': 'Jorge',\n",
              " 'edad': 29,\n",
              " 'DNI': 73030076,\n",
              " 'profesion': 'Ingeniero Mecanico'}"
            ]
          },
          "metadata": {},
          "execution_count": 10
        }
      ]
    },
    {
      "cell_type": "markdown",
      "source": [
        "**Empezar con un diccionario vacío:**"
      ],
      "metadata": {
        "id": "51g4lCo92lwQ"
      }
    },
    {
      "cell_type": "code",
      "source": [
        "nuevo_cliente = {}"
      ],
      "metadata": {
        "id": "j7ByM54CUXZ6"
      },
      "execution_count": null,
      "outputs": []
    },
    {
      "cell_type": "code",
      "source": [
        "nuevo_cliente = {}\n",
        "nuevo_cliente[\"nombre\"] = \"Luis\"\n",
        "nuevo_cliente[\"ingreso\"] = 3000"
      ],
      "metadata": {
        "id": "tpK5NSue2mx3"
      },
      "execution_count": null,
      "outputs": []
    },
    {
      "cell_type": "code",
      "source": [
        "new_names = {}\n",
        "new_names[\"nombre\"]=\"Jorge\"\n",
        "new_names[\"DNI\"]=\"73030076\"\n",
        "print(new_names)\n",
        "new_names[\"DNI\"]=\"07976021\"\n",
        "print(new_names)"
      ],
      "metadata": {
        "id": "otFJa2TNzifq",
        "outputId": "d433329b-cbb3-4724-ccbf-93afb5d0ddd2",
        "colab": {
          "base_uri": "https://localhost:8080/"
        }
      },
      "execution_count": 16,
      "outputs": [
        {
          "output_type": "stream",
          "name": "stdout",
          "text": [
            "{'nombre': 'Jorge', 'DNI': '73030076'}\n",
            "{'nombre': 'Jorge', 'DNI': '07976021'}\n"
          ]
        }
      ]
    },
    {
      "cell_type": "markdown",
      "source": [
        "**Modificar valores:**"
      ],
      "metadata": {
        "id": "_sa6x1ct2rOy"
      }
    },
    {
      "cell_type": "code",
      "source": [
        "cliente[\"ingreso\"] = 5000\n",
        "cliente"
      ],
      "metadata": {
        "id": "6pQI6-vr2vpI",
        "outputId": "ee64f685-3ef8-4c83-c9dc-25c8ef7d8544",
        "colab": {
          "base_uri": "https://localhost:8080/"
        }
      },
      "execution_count": 13,
      "outputs": [
        {
          "output_type": "execute_result",
          "data": {
            "text/plain": [
              "{'nombre': 'Ana',\n",
              " 'edad': 35,\n",
              " 'ingreso': 5000,\n",
              " 'morosidades': 0,\n",
              " 'tipo_credito': 'Hipotecario'}"
            ]
          },
          "metadata": {},
          "execution_count": 13
        }
      ]
    },
    {
      "cell_type": "markdown",
      "source": [
        "**Eliminar pares clave-valor:**"
      ],
      "metadata": {
        "id": "DUHgSOL22xrI"
      }
    },
    {
      "cell_type": "code",
      "source": [
        "clientes = {\n",
        "    \"001\": {\"nombre\": \"Ana\", \"ingreso\": 4000},\n",
        "    \"002\": {\"nombre\": \"Luis\", \"ingreso\": 3000}\n",
        "}"
      ],
      "metadata": {
        "id": "Aq7-4wBo205G"
      },
      "execution_count": 2,
      "outputs": []
    },
    {
      "cell_type": "code",
      "source": [
        "animales = {\n",
        "  \"001\": {\"nombre\": \"Elefante\", \"patas\": 4},\n",
        "  \"002\": {\"nombre\": \"Buitre\", \"patas\": 2},\n",
        "  \"003\": {\"nombre\": \"Cocodrilo\", \"patas\": 4}}"
      ],
      "metadata": {
        "id": "2cq67o4TXklZ"
      },
      "execution_count": 14,
      "outputs": []
    },
    {
      "cell_type": "code",
      "source": [
        "familia = {\n",
        "    \"001\": {\"nombre\": \"Jorge\",\"edad\":29},\n",
        "    \"002\": {\"nombre\": \"Bridgette\", \"edad\":30},\n",
        "    \"003\": {\"nombres\": \"Herly\", \"edad\":54}\n",
        "}\n",
        "print(familia)\n",
        "familia ['004']= {\"nombre\":\"Victoria\",\"edad\":\"2\"}\n",
        "print(familia)"
      ],
      "metadata": {
        "id": "pfcZ6ziI1Ywo",
        "outputId": "febb14f8-35a6-48c2-c7b8-4d5fa292b0e5",
        "colab": {
          "base_uri": "https://localhost:8080/"
        }
      },
      "execution_count": 63,
      "outputs": [
        {
          "output_type": "stream",
          "name": "stdout",
          "text": [
            "{'001': {'nombre': 'Jorge', 'edad': 29}, '002': {'nombre': 'Bridgette', 'edad': 30}, '003': {'nombres': 'Herly', 'edad': 54}}\n",
            "{'001': {'nombre': 'Jorge', 'edad': 29}, '002': {'nombre': 'Bridgette', 'edad': 30}, '003': {'nombres': 'Herly', 'edad': 54}, '004': {'nombre': 'Victoria', 'edad': '2'}}\n"
          ]
        }
      ]
    },
    {
      "cell_type": "code",
      "source": [
        "del familia['002']\n",
        "familia"
      ],
      "metadata": {
        "id": "51bLx6pKFTsQ",
        "outputId": "6f3b27b9-82fa-4e14-9519-f488ba5cba5f",
        "colab": {
          "base_uri": "https://localhost:8080/"
        }
      },
      "execution_count": 64,
      "outputs": [
        {
          "output_type": "execute_result",
          "data": {
            "text/plain": [
              "{'001': {'nombre': 'Jorge', 'edad': 29},\n",
              " '003': {'nombres': 'Herly', 'edad': 54},\n",
              " '004': {'nombre': 'Victoria', 'edad': '2'}}"
            ]
          },
          "metadata": {},
          "execution_count": 64
        }
      ]
    },
    {
      "cell_type": "code",
      "source": [
        "print(familia)\n",
        "familia['002']= {'nombre': 'Bridgette', 'edad':30}\n",
        "print(familia)"
      ],
      "metadata": {
        "id": "9KciUibhFe5_",
        "outputId": "5434e075-69e2-4d34-e571-e3e0585791c2",
        "colab": {
          "base_uri": "https://localhost:8080/"
        }
      },
      "execution_count": 66,
      "outputs": [
        {
          "output_type": "stream",
          "name": "stdout",
          "text": [
            "{'001': {'nombre': 'Jorge', 'edad': 29}, '003': {'nombres': 'Herly', 'edad': 54}, '004': {'nombre': 'Victoria', 'edad': '2'}}\n",
            "{'001': {'nombre': 'Jorge', 'edad': 29}, '003': {'nombres': 'Herly', 'edad': 54}, '004': {'nombre': 'Victoria', 'edad': '2'}, '002': {'nombre': 'Bridgette', 'edad': 30}}\n"
          ]
        }
      ]
    },
    {
      "cell_type": "code",
      "source": [
        "dicFamiliar1={}\n",
        "dicFamiliar1[\"nombre\"]=\"Renato\"\n",
        "dicFamiliar1[\"edad\"]=33\n",
        "dicFamiliar1[\"genero\"]=\"M\"\n",
        "dicFamiliar2={}\n",
        "dicFamiliar2[\"nombre\"]=\"Malu\"\n",
        "dicFamiliar2[\"edad\"]=35\n",
        "dicFamiliar2[\"genero\"]=\"F\"\n",
        "dicFamiliares={\n",
        "    \"1\":dicFamiliar1,\n",
        "    \"2\":dicFamiliar2\n",
        "}\n",
        "print(dicFamiliares)"
      ],
      "metadata": {
        "colab": {
          "base_uri": "https://localhost:8080/"
        },
        "id": "b6BSFpMGY29g",
        "outputId": "481c5935-b900-4fbf-f3bb-c3dd93be59b7"
      },
      "execution_count": 45,
      "outputs": [
        {
          "output_type": "stream",
          "name": "stdout",
          "text": [
            "{'1': {'nombre': 'Renato', 'edad': 33, 'genero': 'M'}, '2': {'nombre': 'Malu', 'edad': 35, 'genero': 'F'}}\n"
          ]
        }
      ]
    },
    {
      "cell_type": "code",
      "source": [
        "dicFamiliares['1']['edad']= 30"
      ],
      "metadata": {
        "id": "IsaZP5OVZCtg"
      },
      "execution_count": 46,
      "outputs": []
    },
    {
      "cell_type": "code",
      "source": [
        "dicFamiliares['2']['ingreso']= 2400\n",
        "dicFamiliares"
      ],
      "metadata": {
        "colab": {
          "base_uri": "https://localhost:8080/"
        },
        "id": "-tDQ01T3aasV",
        "outputId": "8de52792-722f-4382-eda6-285d2ff7c533"
      },
      "execution_count": 47,
      "outputs": [
        {
          "output_type": "execute_result",
          "data": {
            "text/plain": [
              "{'1': {'nombre': 'Renato', 'edad': 30, 'genero': 'M'},\n",
              " '2': {'nombre': 'Malu', 'edad': 35, 'genero': 'F', 'ingreso': 2400}}"
            ]
          },
          "metadata": {},
          "execution_count": 47
        }
      ]
    },
    {
      "cell_type": "code",
      "source": [
        "dicFamiliares"
      ],
      "metadata": {
        "colab": {
          "base_uri": "https://localhost:8080/"
        },
        "id": "cJk_SQLgZkyH",
        "outputId": "876a4882-0af7-49f7-fcb9-f6f7810f041a"
      },
      "execution_count": 48,
      "outputs": [
        {
          "output_type": "execute_result",
          "data": {
            "text/plain": [
              "{'1': {'nombre': 'Renato', 'edad': 30, 'genero': 'M'},\n",
              " '2': {'nombre': 'Malu', 'edad': 35, 'genero': 'F', 'ingreso': 2400}}"
            ]
          },
          "metadata": {},
          "execution_count": 48
        }
      ]
    },
    {
      "cell_type": "code",
      "source": [
        "del dicFamiliares['1']\n",
        "dicFamiliares"
      ],
      "metadata": {
        "id": "N1D4rbUdbDHZ",
        "outputId": "68d1e553-9530-44a7-ad07-c76b88f01138",
        "colab": {
          "base_uri": "https://localhost:8080/"
        }
      },
      "execution_count": 49,
      "outputs": [
        {
          "output_type": "execute_result",
          "data": {
            "text/plain": [
              "{'2': {'nombre': 'Malu', 'edad': 35, 'genero': 'F', 'ingreso': 2400}}"
            ]
          },
          "metadata": {},
          "execution_count": 49
        }
      ]
    },
    {
      "cell_type": "code",
      "source": [
        "clientes"
      ],
      "metadata": {
        "colab": {
          "base_uri": "https://localhost:8080/"
        },
        "id": "pG2RXxw_WTD2",
        "outputId": "6acebb10-9f43-4b3c-ee81-4359245cc75e"
      },
      "execution_count": 15,
      "outputs": [
        {
          "output_type": "execute_result",
          "data": {
            "text/plain": [
              "{'001': {'nombre': 'Ana', 'ingreso': 4000},\n",
              " '002': {'nombre': 'Luis', 'ingreso': 3000}}"
            ]
          },
          "metadata": {},
          "execution_count": 15
        }
      ]
    },
    {
      "cell_type": "markdown",
      "source": [
        "**Ejercicio 1:**\n",
        "\n",
        "Crea un diccionario para un producto financiero con claves como nombre, tasa de interés y tipo. Luego accede a la tasa de interés y modifícala.\n",
        "\n",
        "\n",
        "\n"
      ],
      "metadata": {
        "id": "83NKUBXf23zf"
      }
    },
    {
      "cell_type": "markdown",
      "source": [
        "**Ejercicio 2:**\n",
        "\n",
        "Crea un diccionario de 3 clientes con su nombre e ingresos. Agrega un nuevo cliente. Luego, elimina uno de los existentes."
      ],
      "metadata": {
        "id": "Czi-iYwt27Lr"
      }
    },
    {
      "cell_type": "markdown",
      "source": [
        "# 2. For en Python"
      ],
      "metadata": {
        "id": "w2oBkGm-3IZi"
      }
    },
    {
      "cell_type": "markdown",
      "source": [
        "**¿Qué es for?**\n",
        "\n",
        "Una estructura de control repetitiva.\n",
        "\n",
        "Se usa para recorrer elementos de una lista, string o diccionario."
      ],
      "metadata": {
        "id": "vqkAmEE33Ov0"
      }
    },
    {
      "cell_type": "markdown",
      "source": [
        "**¿Para qué sirve?**\n",
        "\n",
        "Automatizar procesos repetitivos, como revisar múltiples clientes o productos financieros."
      ],
      "metadata": {
        "id": "6NnHm2Zw3RFo"
      }
    },
    {
      "cell_type": "markdown",
      "source": [
        "**Sintaxis básica:**\n"
      ],
      "metadata": {
        "id": "tJGAMI9Q3TwI"
      }
    },
    {
      "cell_type": "code",
      "source": [
        "lista_clientes = [\"Ana\", \"Luis\", \"Sofía\"]\n",
        "lista_clientes"
      ],
      "metadata": {
        "colab": {
          "base_uri": "https://localhost:8080/"
        },
        "id": "bhySobixlvf3",
        "outputId": "cd92c253-7d28-41ec-ecca-2739bd689513"
      },
      "execution_count": null,
      "outputs": [
        {
          "output_type": "execute_result",
          "data": {
            "text/plain": [
              "['Ana', 'Luis', 'Sofía']"
            ]
          },
          "metadata": {},
          "execution_count": 14
        }
      ]
    },
    {
      "cell_type": "code",
      "source": [
        "for y in lista_clientes:\n",
        "    print(y)"
      ],
      "metadata": {
        "id": "lGd8GFjZ26u5",
        "colab": {
          "base_uri": "https://localhost:8080/"
        },
        "outputId": "f0818676-881f-48ab-bf65-beef90cc3236"
      },
      "execution_count": null,
      "outputs": [
        {
          "output_type": "stream",
          "name": "stdout",
          "text": [
            "Ana\n",
            "Luis\n",
            "Sofía\n"
          ]
        }
      ]
    },
    {
      "cell_type": "code",
      "source": [
        "y"
      ],
      "metadata": {
        "colab": {
          "base_uri": "https://localhost:8080/",
          "height": 35
        },
        "id": "3pDdZxr4nqal",
        "outputId": "fb534c71-883f-45c4-d35f-1da4b6bbd7c2"
      },
      "execution_count": null,
      "outputs": [
        {
          "output_type": "execute_result",
          "data": {
            "text/plain": [
              "'Sofía'"
            ],
            "application/vnd.google.colaboratory.intrinsic+json": {
              "type": "string"
            }
          },
          "metadata": {},
          "execution_count": 21
        }
      ]
    },
    {
      "cell_type": "code",
      "source": [
        "lista_clientes[0]"
      ],
      "metadata": {
        "colab": {
          "base_uri": "https://localhost:8080/",
          "height": 35
        },
        "id": "aJLHWYWumvfN",
        "outputId": "06e04634-d442-4e81-bfa8-c5b913f5bd0f"
      },
      "execution_count": null,
      "outputs": [
        {
          "output_type": "execute_result",
          "data": {
            "text/plain": [
              "'Ana'"
            ],
            "application/vnd.google.colaboratory.intrinsic+json": {
              "type": "string"
            }
          },
          "metadata": {},
          "execution_count": 16
        }
      ]
    },
    {
      "cell_type": "markdown",
      "source": [
        "**¿Por qué es repetitiva?**\n",
        "\n",
        "Porque ejecuta el mismo bloque de código por cada elemento en la secuencia."
      ],
      "metadata": {
        "id": "zbzptSdD3cZ6"
      }
    },
    {
      "cell_type": "code",
      "source": [
        "ingresos = [1000, 2000, 3000, 2000, 1500, 2300, 2345]\n",
        "for ingreso in ingresos:\n",
        "    print(\"Ingreso anual:\", ingreso * 12)"
      ],
      "metadata": {
        "id": "ddfuukXf3a-T",
        "colab": {
          "base_uri": "https://localhost:8080/"
        },
        "outputId": "3078d6b5-2e6b-4a08-bd6e-c3f8d2ac8418"
      },
      "execution_count": 68,
      "outputs": [
        {
          "output_type": "stream",
          "name": "stdout",
          "text": [
            "Ingreso anual: 12000\n",
            "Ingreso anual: 24000\n",
            "Ingreso anual: 36000\n",
            "Ingreso anual: 24000\n",
            "Ingreso anual: 18000\n",
            "Ingreso anual: 27600\n",
            "Ingreso anual: 28140\n"
          ]
        }
      ]
    },
    {
      "cell_type": "markdown",
      "source": [
        "Usar la estructura FOR para calcular el ingreso anual (ingreso *12) sin mostrar el cálculo, finalmente mostrar la lista completa"
      ],
      "metadata": {
        "id": "6UOcbN-eqcbK"
      }
    },
    {
      "cell_type": "code",
      "source": [
        "ingresos"
      ],
      "metadata": {
        "colab": {
          "base_uri": "https://localhost:8080/"
        },
        "id": "zXac6g4SqbWb",
        "outputId": "4967586b-fb28-4f72-dfcf-0a967f42f06e"
      },
      "execution_count": 69,
      "outputs": [
        {
          "output_type": "execute_result",
          "data": {
            "text/plain": [
              "[1000, 2000, 3000, 2000, 1500, 2300, 2345]"
            ]
          },
          "metadata": {},
          "execution_count": 69
        }
      ]
    },
    {
      "cell_type": "code",
      "source": [
        "for ingreso in ingresos:\n",
        "    ingreso_anual = ingreso * 12\n",
        "\n",
        "ingresos"
      ],
      "metadata": {
        "colab": {
          "base_uri": "https://localhost:8080/"
        },
        "id": "3qfiLQC5qxOS",
        "outputId": "0ec3bae8-bf57-4701-f053-cd3948d705c6"
      },
      "execution_count": null,
      "outputs": [
        {
          "output_type": "execute_result",
          "data": {
            "text/plain": [
              "[1000, 2000, 3000, 2000, 1500, 2300, 2345]"
            ]
          },
          "metadata": {},
          "execution_count": 25
        }
      ]
    },
    {
      "cell_type": "code",
      "source": [
        "for ingreso in ingresos:\n",
        "    ingreso * 12\n",
        "    print(ingreso)"
      ],
      "metadata": {
        "colab": {
          "base_uri": "https://localhost:8080/"
        },
        "id": "qzUnQPoeszHA",
        "outputId": "67bdd5b3-01bd-430d-b54c-231f6bb33ce6"
      },
      "execution_count": null,
      "outputs": [
        {
          "output_type": "stream",
          "name": "stdout",
          "text": [
            "1000\n",
            "2000\n",
            "3000\n",
            "2000\n",
            "1500\n",
            "2300\n",
            "2345\n"
          ]
        }
      ]
    },
    {
      "cell_type": "code",
      "source": [
        "for ingreso in ingresos:\n",
        "    ingresos[0] = ingreso * 12\n",
        "\n",
        "ingresos"
      ],
      "metadata": {
        "colab": {
          "base_uri": "https://localhost:8080/"
        },
        "id": "qOoyDbS1ujmE",
        "outputId": "42d2e5cc-3821-4a73-d1b0-b04bcd2e5e94"
      },
      "execution_count": 74,
      "outputs": [
        {
          "output_type": "execute_result",
          "data": {
            "text/plain": [
              "[28140, 2000, 3000, 2000, 1500, 2300, 2345]"
            ]
          },
          "metadata": {},
          "execution_count": 74
        }
      ]
    },
    {
      "cell_type": "code",
      "source": [
        "ingresos[0] = ingreso * 12"
      ],
      "metadata": {
        "id": "EE1A746Gt2vo"
      },
      "execution_count": null,
      "outputs": []
    },
    {
      "cell_type": "code",
      "source": [
        "ingresos"
      ],
      "metadata": {
        "colab": {
          "base_uri": "https://localhost:8080/"
        },
        "id": "HDVR5maDuFKI",
        "outputId": "72420c5b-c114-439b-b5ed-2f0a22c14021"
      },
      "execution_count": null,
      "outputs": [
        {
          "output_type": "execute_result",
          "data": {
            "text/plain": [
              "[28140, 2000, 3000, 2000, 1500, 2300, 2345]"
            ]
          },
          "metadata": {},
          "execution_count": 29
        }
      ]
    },
    {
      "cell_type": "code",
      "source": [
        "ingreso_anual"
      ],
      "metadata": {
        "colab": {
          "base_uri": "https://localhost:8080/"
        },
        "id": "yRovcptHroqZ",
        "outputId": "29c9f501-61c9-4366-9dac-e0ff6b60ba8f"
      },
      "execution_count": null,
      "outputs": [
        {
          "output_type": "execute_result",
          "data": {
            "text/plain": [
              "28140"
            ]
          },
          "metadata": {},
          "execution_count": 26
        }
      ]
    },
    {
      "cell_type": "code",
      "source": [
        "ingresos*12"
      ],
      "metadata": {
        "colab": {
          "base_uri": "https://localhost:8080/"
        },
        "id": "c-L4iZN7oqlC",
        "outputId": "c736cf44-c3d7-446b-ada6-f904ee6205b2"
      },
      "execution_count": null,
      "outputs": [
        {
          "output_type": "execute_result",
          "data": {
            "text/plain": [
              "[1000,\n",
              " 2000,\n",
              " 3000,\n",
              " 2000,\n",
              " 1500,\n",
              " 2300,\n",
              " 2345,\n",
              " 1000,\n",
              " 2000,\n",
              " 3000,\n",
              " 2000,\n",
              " 1500,\n",
              " 2300,\n",
              " 2345,\n",
              " 1000,\n",
              " 2000,\n",
              " 3000,\n",
              " 2000,\n",
              " 1500,\n",
              " 2300,\n",
              " 2345,\n",
              " 1000,\n",
              " 2000,\n",
              " 3000,\n",
              " 2000,\n",
              " 1500,\n",
              " 2300,\n",
              " 2345,\n",
              " 1000,\n",
              " 2000,\n",
              " 3000,\n",
              " 2000,\n",
              " 1500,\n",
              " 2300,\n",
              " 2345,\n",
              " 1000,\n",
              " 2000,\n",
              " 3000,\n",
              " 2000,\n",
              " 1500,\n",
              " 2300,\n",
              " 2345,\n",
              " 1000,\n",
              " 2000,\n",
              " 3000,\n",
              " 2000,\n",
              " 1500,\n",
              " 2300,\n",
              " 2345,\n",
              " 1000,\n",
              " 2000,\n",
              " 3000,\n",
              " 2000,\n",
              " 1500,\n",
              " 2300,\n",
              " 2345,\n",
              " 1000,\n",
              " 2000,\n",
              " 3000,\n",
              " 2000,\n",
              " 1500,\n",
              " 2300,\n",
              " 2345,\n",
              " 1000,\n",
              " 2000,\n",
              " 3000,\n",
              " 2000,\n",
              " 1500,\n",
              " 2300,\n",
              " 2345,\n",
              " 1000,\n",
              " 2000,\n",
              " 3000,\n",
              " 2000,\n",
              " 1500,\n",
              " 2300,\n",
              " 2345,\n",
              " 1000,\n",
              " 2000,\n",
              " 3000,\n",
              " 2000,\n",
              " 1500,\n",
              " 2300,\n",
              " 2345]"
            ]
          },
          "metadata": {},
          "execution_count": 23
        }
      ]
    },
    {
      "cell_type": "markdown",
      "source": [
        "Ejemplo 2: Recorrer un diccionario de clientes"
      ],
      "metadata": {
        "id": "yTflWWvp3hI1"
      }
    },
    {
      "cell_type": "code",
      "source": [
        "for id_cliente in clientes:\n",
        "    print(\"ID:\", id_cliente, \"Ingreso:\", clientes[id_cliente][\"ingreso\"])\n",
        "\n",
        "print(clientes)"
      ],
      "metadata": {
        "id": "1jReTnvu3kG0",
        "outputId": "611f8e9a-de2b-4854-c143-2cacc5e04ae0",
        "colab": {
          "base_uri": "https://localhost:8080/"
        }
      },
      "execution_count": 3,
      "outputs": [
        {
          "output_type": "stream",
          "name": "stdout",
          "text": [
            "ID: 001 Ingreso: 4000\n",
            "ID: 002 Ingreso: 3000\n",
            "{'001': {'nombre': 'Ana', 'ingreso': 4000}, '002': {'nombre': 'Luis', 'ingreso': 3000}}\n"
          ]
        }
      ]
    },
    {
      "cell_type": "markdown",
      "source": [
        "Ejemplo 3: Contar cuántos clientes tienen ingreso > 3000"
      ],
      "metadata": {
        "id": "wQeoR3Lz3mpd"
      }
    },
    {
      "cell_type": "code",
      "source": [
        "contador = 0\n",
        "for cliente in clientes.values():\n",
        "    if cliente[\"ingreso\"] > 3000:\n",
        "        contador += 1\n",
        "print(\"Clientes con alto ingreso:\", contador)\n",
        "\n",
        "for value in clientes.values():\n",
        "  print(value)"
      ],
      "metadata": {
        "id": "BO6QccEn3pvU",
        "outputId": "ef86eb7d-a73f-4525-cd82-99482265ae3b",
        "colab": {
          "base_uri": "https://localhost:8080/"
        }
      },
      "execution_count": 9,
      "outputs": [
        {
          "output_type": "stream",
          "name": "stdout",
          "text": [
            "Clientes con alto ingreso: 1\n",
            "{'nombre': 'Ana', 'ingreso': 4000}\n",
            "{'nombre': 'Luis', 'ingreso': 3000}\n"
          ]
        }
      ]
    },
    {
      "cell_type": "code",
      "source": [
        "d = {'A': 'Python', 'B': 'Java', 'C': 'C++'}\n",
        "\n",
        "# using values() to iterate over dictionary values\n",
        "for value in d.values():\n",
        "    print(value)\n",
        "\n",
        "\n",
        "for x in d:\n",
        "  print(x)\n",
        "for x in d:\n",
        "  print(d[x])"
      ],
      "metadata": {
        "id": "S7owmpHfUFIj",
        "outputId": "e733d660-2b18-4afb-c284-15b6862a8ea9",
        "colab": {
          "base_uri": "https://localhost:8080/"
        }
      },
      "execution_count": 14,
      "outputs": [
        {
          "output_type": "stream",
          "name": "stdout",
          "text": [
            "Python\n",
            "Java\n",
            "C++\n",
            "A\n",
            "B\n",
            "C\n",
            "Python\n",
            "Java\n",
            "C++\n"
          ]
        }
      ]
    },
    {
      "cell_type": "markdown",
      "source": [
        "Ejemplo 4: Crear una lista con tasas ajustadas"
      ],
      "metadata": {
        "id": "Z1DZYAfj3sRL"
      }
    },
    {
      "cell_type": "code",
      "source": [
        "tasas = [0.05, 0.07, 0.08]\n",
        "tasas_ajustadas = []\n",
        "for tasa in tasas:\n",
        "    tasas_ajustadas.append(tasa + 0.01)\n",
        "print(tasas_ajustadas)"
      ],
      "metadata": {
        "id": "jerZ3Pbp3v_-"
      },
      "execution_count": null,
      "outputs": []
    },
    {
      "cell_type": "markdown",
      "source": [
        "Ejemplo 5: Reporte de evaluación"
      ],
      "metadata": {
        "id": "vDmAijzk30aP"
      }
    },
    {
      "cell_type": "code",
      "source": [
        "clientes = [\"Ana\", \"Luis\", \"Sofía\"]\n",
        "for nombre in clientes:\n",
        "    print(f\"Evaluación enviada a {nombre}\")"
      ],
      "metadata": {
        "id": "b4ah9HGJ32bn"
      },
      "execution_count": null,
      "outputs": []
    },
    {
      "cell_type": "markdown",
      "source": [],
      "metadata": {
        "id": "3J9EUJLG3oos"
      }
    }
  ]
}