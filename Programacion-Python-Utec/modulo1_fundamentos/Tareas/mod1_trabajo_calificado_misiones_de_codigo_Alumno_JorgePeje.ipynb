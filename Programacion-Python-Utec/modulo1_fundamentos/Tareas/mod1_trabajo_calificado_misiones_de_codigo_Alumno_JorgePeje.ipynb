{
  "nbformat": 4,
  "nbformat_minor": 0,
  "metadata": {
    "colab": {
      "provenance": [],
      "include_colab_link": true
    },
    "kernelspec": {
      "name": "python3",
      "display_name": "Python 3"
    },
    "language_info": {
      "name": "python"
    }
  },
  "cells": [
    {
      "cell_type": "markdown",
      "metadata": {
        "id": "view-in-github",
        "colab_type": "text"
      },
      "source": [
        "<a href=\"https://colab.research.google.com/github/JorgePeje/test-python-utec/blob/main/Programacion-Python-Utec/modulo1_fundamentos/Tareas/mod1_trabajo_calificado_misiones_de_codigo_Alumno_JorgePeje.ipynb\" target=\"_parent\"><img src=\"https://colab.research.google.com/assets/colab-badge.svg\" alt=\"Open In Colab\"/></a>"
      ]
    },
    {
      "cell_type": "markdown",
      "source": [
        "<img src=\"https://posgrado.utec.edu.pe/sites/default/files/2023-08/Testimonial-home-2.jpg\" alt=\"HTML5 Icon\" width=\"900\" height=\"250\" >\n"
      ],
      "metadata": {
        "id": "dYz-CyepUcRS"
      }
    },
    {
      "cell_type": "markdown",
      "source": [
        "# **Trabajo Calificado: Misiones de Código**"
      ],
      "metadata": {
        "id": "tYd6BiWgUfLo"
      }
    },
    {
      "cell_type": "markdown",
      "source": [
        "**Contexto:**\n",
        "\n",
        "Eres desarrollador de un Simulador de Aventuras llamado Pythonia, un entorno virtual de entrenamiento diseñado para mejorar tus habilidades de programación. En este simulador, enfrentarás una serie de desafíos basados en situaciones de videojuegos y escenarios de aventura, donde deberás aplicar estructuras lógicas, condicionales, bucles y funciones para resolver problemas.\n",
        "\n"
      ],
      "metadata": {
        "id": "GtjjVTFRU6W1"
      }
    },
    {
      "cell_type": "markdown",
      "source": [
        "Cada ejercicio representa un reto independiente que simula eventos comunes en el desarrollo de videojuegos, sistemas de simulación y lógica de juegos interactivos."
      ],
      "metadata": {
        "id": "Ggayz2SXVXjt"
      }
    },
    {
      "cell_type": "markdown",
      "source": [
        "**Recomendaciones:**\n",
        "\n",
        "Utilizar buenas prácticas: comentarios, entradas y salidas limpias.\n",
        "\n",
        "Uso de funciones donde sea necesario."
      ],
      "metadata": {
        "id": "eAL1_dscUjd_"
      }
    },
    {
      "cell_type": "markdown",
      "source": [
        "**Ejercicio 1: Elige tu personaje (Variables y Entrada/Salida)**\n",
        "\n",
        "Crea un programa que permita al jugador elegir su personaje entre Mago, Guerrero o Arquero. Según la elección, muestra un mensaje personalizado con las estadísticas iniciales (vida, poder, defensa)."
      ],
      "metadata": {
        "id": "YpxJc_PoVc4c"
      }
    },
    {
      "cell_type": "code",
      "source": [
        "## INICIO DE CÓDIGO\n",
        "eleccion = input('Elige tu personaje (Mago, Guerrero o Arquero) para ver sus poderes: ')\n",
        "\n",
        "personajes = { 'Mago': {'vida': 100, 'poder': 70, 'defensa': 70},\n",
        "              'Guerrero': {'vida': 90, 'poder': 60, 'defensa': 50},\n",
        "              'Arquero': {'vida': 50, 'poder': 60, 'defensa': 70}}\n",
        "if eleccion == 'Mago':\n",
        "  print(\"Has elegido al Mago, sus caracteristicas son:\", personajes['Mago'])\n",
        "elif eleccion == 'Guerrero':\n",
        "  print(\"Has elegido al Guerrero, sus caracteristicas son:\", personajes['Guerrero'])\n",
        "else:\n",
        "  print(\"Has elegido al Arquero, sus caracteristicas son:\", personajes['Arquero'])\n",
        "\n",
        "## FIN DE CÓDIGO"
      ],
      "metadata": {
        "id": "GZrzl-7wVfkW",
        "outputId": "137ab527-23d0-48b3-d8b7-d3ecd4c0ab9c",
        "colab": {
          "base_uri": "https://localhost:8080/"
        }
      },
      "execution_count": null,
      "outputs": [
        {
          "output_type": "stream",
          "name": "stdout",
          "text": [
            "Elige tu personaje (Mago, Guerrero o Arquero) para ver sus poderes: Mago\n",
            "Has elegido al Mago, sus caracteristicas son: {'vida': 100, 'poder': 70, 'defensa': 70}\n"
          ]
        }
      ]
    },
    {
      "cell_type": "markdown",
      "source": [
        "**Ejercicio 2: La prueba del sabio (Condicionales)**\n",
        "\n",
        "El sabio te hace una pregunta: si traes menos de 50 monedas de oro, te expulsará; si llevas entre 50 y 100, te permitirá pasar; si llevas más de 100, te dará una poción.\n",
        "Crea el programa que lea las monedas y muestre el resultado."
      ],
      "metadata": {
        "id": "kvoGwX-QVgPr"
      }
    },
    {
      "cell_type": "code",
      "execution_count": null,
      "metadata": {
        "id": "3tg6KSK-UbUw",
        "colab": {
          "base_uri": "https://localhost:8080/"
        },
        "outputId": "f0f9cd9b-68a9-4da7-8ec2-e4061c5b464b"
      },
      "outputs": [
        {
          "output_type": "stream",
          "name": "stdout",
          "text": [
            "Soy el sabio, dime cuantas monedas tienes...\n",
            "De acuerdo a una cantidad de monedas te dire hacer: 56\n",
            "Traes entre 50 y 100 monedas, puedes pasar\n"
          ]
        }
      ],
      "source": [
        "## INICIO DE CÓDIGO\n",
        "prompt = \"Soy el sabio, dime cuantas monedas tienes...\"\n",
        "prompt += \"\\nDe acuerdo a una cantidad de monedas te dire hacer: \"\n",
        "\n",
        "monedas = int(input(prompt))\n",
        "\n",
        "if monedas<50:\n",
        "  print(f'Traes menos de 50 monedas, seras expulsado')\n",
        "elif monedas>=50 and monedas<=100:\n",
        "  print(f'Traes entre 50 y 100 monedas, puedes pasar')\n",
        "else:\n",
        "  print(f'Traes mas de 100 monedas, puedes tomar una pocion')\n",
        "\n",
        "## FIN DE CÓDIGO"
      ]
    },
    {
      "cell_type": "code",
      "source": [],
      "metadata": {
        "id": "uYa8-RY8KnPj"
      },
      "execution_count": null,
      "outputs": []
    },
    {
      "cell_type": "markdown",
      "source": [
        "**Ejercicio 3: El puente infinito (Bucles While)**\n",
        "\n",
        "Diseña un programa que simule el cruce de un puente que cambia su estructura aleatoriamente. El jugador debe adivinar si el siguiente paso será seguro ('s') o peligroso ('p').\n",
        "El juego termina si el jugador elige 'salir' o si falla 3 veces."
      ],
      "metadata": {
        "id": "g7B02fWhVj4M"
      }
    },
    {
      "cell_type": "code",
      "source": [
        "## INICIO DE CÓDIGO\n",
        "import random\n",
        "\n",
        "print(\"Bienvenido al Puente Infinito\")\n",
        "print(\"Debes adivinar si el siguiente paso será seguro ('s') o peligroso ('p').\")\n",
        "print(\"Si fallas 3 veces, el juego termina.\")\n",
        "print(\"Escribe 'salir' para terminar el juego en cualquier momento.\\n\")\n",
        "\n",
        "fallos = 0\n",
        "opciones = ['s', 'p']\n",
        "\n",
        "\n",
        "while True:\n",
        "\n",
        "    if fallos >= 3:\n",
        "        print(\"Has fallado 3 veces. El juego ha terminado.\")\n",
        "        break\n",
        "\n",
        "    eleccion = input(\"¿Tu predicción (s/p)? \").lower()\n",
        "    estado_real = random.choice(opciones)\n",
        "\n",
        "    if eleccion == 'salir':\n",
        "        print(\"¡Gracias por jugar!\")\n",
        "        break\n",
        "\n",
        "    if eleccion not in opciones:\n",
        "        print(\"Entrada inválida. Escribe solo 's' o 'p'.\\n\")\n",
        "        continue\n",
        "\n",
        "    if eleccion == estado_real:\n",
        "        print(\"¡Correcto! El paso fue seguro. ✅\\n\")\n",
        "        continue\n",
        "    else:\n",
        "        fallos += 1\n",
        "        print(f\"¡Oh no! Era {'seguro' if estado_real == 's' else 'peligroso'}. Has fallado {fallos} vez/veces\\n\")\n",
        "\n",
        "## FIN DE CÓDIGO"
      ],
      "metadata": {
        "id": "9DRMWhDBVn71",
        "colab": {
          "base_uri": "https://localhost:8080/"
        },
        "outputId": "02175383-6e04-4ca9-b913-c2a8d8ad2096"
      },
      "execution_count": null,
      "outputs": [
        {
          "output_type": "stream",
          "name": "stdout",
          "text": [
            "Bienvenido al Puente Infinito\n",
            "Debes adivinar si el siguiente paso será seguro ('s') o peligroso ('p').\n",
            "Si fallas 3 veces, el juego termina.\n",
            "Escribe 'salir' para terminar el juego en cualquier momento.\n",
            "\n",
            "¿Tu predicción (s/p)? s\n",
            "¡Correcto! El paso fue seguro. ✅\n",
            "\n",
            "¿Tu predicción (s/p)? p\n",
            "¡Correcto! El paso fue seguro. ✅\n",
            "\n",
            "¿Tu predicción (s/p)? p\n",
            "¡Oh no! Era seguro. Has fallado 1 vez/veces\n",
            "\n",
            "¿Tu predicción (s/p)? p\n",
            "¡Oh no! Era seguro. Has fallado 2 vez/veces\n",
            "\n",
            "¿Tu predicción (s/p)? p\n",
            "¡Oh no! Era seguro. Has fallado 3 vez/veces\n",
            "\n",
            "Has fallado 3 veces. El juego ha terminado.\n"
          ]
        }
      ]
    },
    {
      "cell_type": "markdown",
      "source": [
        "**Ejercicio 4: El laberinto secreto (Bucle For y Range)**\n",
        "\n",
        "Crea un programa que muestre una cuenta regresiva desde 10 hasta 1 al estilo nivel de escape del laberinto. Cada número debe ir acompañado de un mensaje tipo \"Quedan X segundos para escapar\"."
      ],
      "metadata": {
        "id": "66qKXQwTVoZG"
      }
    },
    {
      "cell_type": "code",
      "source": [
        "## INICIO DE CÓDIGO\n",
        "for cuenta in range(10,-1,-1):\n",
        " print (f'Quedan {cuenta} segundos para escapar')\n",
        "\n",
        "\n",
        "## FIN DE CÓDIGO"
      ],
      "metadata": {
        "id": "i1S9WPmhVsEj",
        "colab": {
          "base_uri": "https://localhost:8080/"
        },
        "outputId": "1df5b670-a651-4447-f726-2684f9e3d1d4"
      },
      "execution_count": null,
      "outputs": [
        {
          "output_type": "stream",
          "name": "stdout",
          "text": [
            "Quedan 10 segundos para escapar\n",
            "Quedan 9 segundos para escapar\n",
            "Quedan 8 segundos para escapar\n",
            "Quedan 7 segundos para escapar\n",
            "Quedan 6 segundos para escapar\n",
            "Quedan 5 segundos para escapar\n",
            "Quedan 4 segundos para escapar\n",
            "Quedan 3 segundos para escapar\n",
            "Quedan 2 segundos para escapar\n",
            "Quedan 1 segundos para escapar\n",
            "Quedan 0 segundos para escapar\n"
          ]
        }
      ]
    },
    {
      "cell_type": "markdown",
      "source": [
        "**Ejercicio 5: Cofres encantados (Break y Continue)**\n",
        "\n",
        "Simula 10 cofres cerrados, pero uno de ellos es una trampa explosiva (elige aleatoriamente una posición).\n",
        "El jugador abre cofres uno por uno:\n",
        "\n",
        "* Si encuentra la trampa, termina el juego (break).\n",
        "\n",
        "* Si encuentra cofres vacíos, continúa (continue).\n",
        "\n",
        "* Si abre todos sin explotar, gana."
      ],
      "metadata": {
        "id": "5dL6C-x1VsYf"
      }
    },
    {
      "cell_type": "code",
      "source": [
        "## INICIO DE CÓDIGO\n",
        "\n",
        "import random\n",
        "trampa = random.randint(1,10)\n",
        "intento = 0\n",
        "print(trampa)\n",
        "while True:\n",
        "  eleccion = int(input(\"Escoge tu numero de cofre, son 10 cofres: \"))\n",
        "  intento+=1\n",
        "  if eleccion == trampa:\n",
        "    print(\"Has explotado, has perdido\")\n",
        "    break\n",
        "  if intento == 9:\n",
        "    print(\"Has ganado\")\n",
        "    break\n",
        "  if eleccion != trampa:\n",
        "    print(f'El cofre {eleccion} no tiene la trampa, vamos, sigue abriendo mas cofres')\n",
        "    continue\n",
        "\n",
        "## FIN DE CÓDIGO"
      ],
      "metadata": {
        "id": "d0hcbl0_V2BI",
        "colab": {
          "base_uri": "https://localhost:8080/"
        },
        "outputId": "57a27113-0592-406e-db74-bbbca0e0726d"
      },
      "execution_count": null,
      "outputs": [
        {
          "output_type": "stream",
          "name": "stdout",
          "text": [
            "8\n",
            "Escoge tu numero de cofre, son 10 cofres: 1\n",
            "El cofre 1 no tiene la trampa, vamos, sigue abriendo mas cofres\n",
            "Escoge tu numero de cofre, son 10 cofres: 2\n",
            "El cofre 2 no tiene la trampa, vamos, sigue abriendo mas cofres\n",
            "Escoge tu numero de cofre, son 10 cofres: 3\n",
            "El cofre 3 no tiene la trampa, vamos, sigue abriendo mas cofres\n",
            "Escoge tu numero de cofre, son 10 cofres: 4\n",
            "El cofre 4 no tiene la trampa, vamos, sigue abriendo mas cofres\n",
            "Escoge tu numero de cofre, son 10 cofres: 5\n",
            "El cofre 5 no tiene la trampa, vamos, sigue abriendo mas cofres\n",
            "Escoge tu numero de cofre, son 10 cofres: 6\n",
            "El cofre 6 no tiene la trampa, vamos, sigue abriendo mas cofres\n",
            "Escoge tu numero de cofre, son 10 cofres: 7\n",
            "El cofre 7 no tiene la trampa, vamos, sigue abriendo mas cofres\n",
            "Escoge tu numero de cofre, son 10 cofres: 9\n",
            "El cofre 9 no tiene la trampa, vamos, sigue abriendo mas cofres\n",
            "Escoge tu numero de cofre, son 10 cofres: 10\n",
            "Has ganado\n"
          ]
        }
      ]
    },
    {
      "cell_type": "markdown",
      "source": [
        "**Ejercicio 6: Pociones mágicas (Funciones básicas)**\n",
        "\n",
        "Crea una función usar_pocion(tipo) que permita al jugador elegir entre 'vida', 'fuerza' o 'velocidad', y retorne el efecto de la poción.\n",
        "Luego, pide al usuario que elija una poción y muestra el resultado llamando a la función."
      ],
      "metadata": {
        "id": "94yOz-rKV2gp"
      }
    },
    {
      "cell_type": "code",
      "source": [
        "## INICIO DE CÓDIGO\n",
        "\n",
        "def usar_pocion(tipo):\n",
        "    if tipo == 'vida':\n",
        "        return \"Has recuperado 50 puntos de vida\"\n",
        "    elif tipo == 'fuerza':\n",
        "        return \"Tu fuerza ha aumentado por 5 minutos\"\n",
        "    elif tipo == 'velocidad':\n",
        "        return \"Te mueves el doble de rápido por 10 minutos\"\n",
        "    else:\n",
        "        return \"Poción desconocida, intentar de nuevo\"\n",
        "\n",
        "# Interacción con el jugador\n",
        "print(\"Bienvenido a la tienda de pociones mágicas\")\n",
        "print(\"Puedes elegir entre: vida, fuerza, velocidad\")\n",
        "\n",
        "eleccion = input(\"\\n¿Qué poción deseas usar? \").lower()\n",
        "resultado = usar_pocion(eleccion)\n",
        "print(resultado)\n",
        "## FIN DE CÓDIGO"
      ],
      "metadata": {
        "id": "NQKm0w5iV4Zz",
        "colab": {
          "base_uri": "https://localhost:8080/"
        },
        "outputId": "982e54a9-3b12-4917-df51-9546e07e95e2"
      },
      "execution_count": null,
      "outputs": [
        {
          "output_type": "stream",
          "name": "stdout",
          "text": [
            "Bienvenido a la tienda de pociones mágicas\n",
            "Puedes elegir entre: vida, fuerza, velocidad\n",
            "\n",
            "¿Qué poción deseas usar? fuerza\n",
            "Tu fuerza ha aumentado por 5 minutos\n"
          ]
        }
      ]
    },
    {
      "cell_type": "markdown",
      "source": [
        "**Ejercicio 7: Calculadora de daño crítico (Funciones con parámetros)**\n",
        "\n",
        "Crea una función calcular_danio(base, critico) que reciba el daño base y un porcentaje de crítico, devolviendo el daño total.\n",
        "El usuario ingresará el daño base y el porcentaje crítico."
      ],
      "metadata": {
        "id": "Qdnbnm4nV44h"
      }
    },
    {
      "cell_type": "code",
      "source": [
        "## INICIO DE CÓDIGO\n",
        "def calcular_danio(base, critico):\n",
        "  \"\"\"Calcula el daño total con crítico.\"\"\"\n",
        "  return base * (1 + (critico / 100))\n",
        "\n",
        "## FIN DE CÓDIGO"
      ],
      "metadata": {
        "id": "leaLQJWrV8Tx"
      },
      "execution_count": null,
      "outputs": []
    },
    {
      "cell_type": "code",
      "source": [
        "print(f'El daño total es {calcular_danio(100, 20)}')\n"
      ],
      "metadata": {
        "colab": {
          "base_uri": "https://localhost:8080/"
        },
        "id": "yrhAzHz9ds5o",
        "outputId": "b3ec9df0-0cf9-481a-b4b1-6b2a48c9400c"
      },
      "execution_count": null,
      "outputs": [
        {
          "output_type": "stream",
          "name": "stdout",
          "text": [
            "El daño total es 120.0\n"
          ]
        }
      ]
    },
    {
      "cell_type": "markdown",
      "source": [
        "**Ejercicio 8: El desafío del dragón (Condicionales + funciones + bucles)**\n",
        "\n",
        "Diseña una función enfrentar_dragon(vida, fuerza) que simule el combate:\n",
        "\n",
        "* El jugador ataca al dragón y el dragón contraataca restando vida.\n",
        "\n",
        "* Si la vida llega a 0, el jugador pierde.\n",
        "\n",
        "* Si el jugador realiza 3 ataques consecutivos sin morir, gana.\n",
        "Usa un bucle while interno para el combate."
      ],
      "metadata": {
        "id": "d4j1ckE2V9ag"
      }
    },
    {
      "cell_type": "code",
      "source": [
        "## INICIO DE CÓDIGO\n",
        "\n",
        "def enfrentar_dragon(vida, fuerza):\n",
        "    ataques_realizados = 0\n",
        "    print(\"\\n🐉 ¡El combate con el dragón ha comenzado!\\n\")\n",
        "\n",
        "    while vida > 0 and ataques_realizados < 3:\n",
        "        print(f\"Ataque #{ataques_realizados + 1}\")\n",
        "        print(f\"Atacas al dragón con {fuerza} de fuerza.\")\n",
        "\n",
        "        # Simulamos contraataque del dragón\n",
        "        dano_dragón = 30\n",
        "        vida -= dano_dragón\n",
        "        print(f\"El dragón contraataca y te quita {dano_dragón} de vida.\")\n",
        "\n",
        "        if vida <= 0:\n",
        "            print(\"\\n Has sido derrotado por el dragón. Fin del juego.\")\n",
        "            return\n",
        "        else:\n",
        "            print(f\"Vida restante: {vida}\\n\")\n",
        "            ataques_realizados += 1\n",
        "\n",
        "    if ataques_realizados == 3:\n",
        "        print(\"¡Has derrotado al dragón con 3 ataques exitosos!\")\n",
        "    else:\n",
        "        print(\"No lograste completar los ataques necesarios.\")\n",
        "\n",
        "# Interacción con el jugador\n",
        "print(\"⚔️ Desafío del Dragón ⚔️\")\n",
        "vida_inicial = int(input(\"Ingresa tu vida inicial (ej. 100): \"))\n",
        "fuerza_jugador = int(input(\"Ingresa tu fuerza de ataque (ej. 40): \"))\n",
        "\n",
        "enfrentar_dragon(vida_inicial, fuerza_jugador)\n",
        "\n",
        "\n",
        "## FIN DE CÓDIGO"
      ],
      "metadata": {
        "id": "_CGyWwuaWByi",
        "colab": {
          "base_uri": "https://localhost:8080/"
        },
        "outputId": "23c2fc3d-33ea-4e9d-86a9-e63d9c279547"
      },
      "execution_count": null,
      "outputs": [
        {
          "output_type": "stream",
          "name": "stdout",
          "text": [
            "⚔️ Desafío del Dragón ⚔️\n",
            "Ingresa tu vida inicial (ej. 100): 100\n",
            "Ingresa tu fuerza de ataque (ej. 40): 50\n",
            "\n",
            "🐉 ¡El combate con el dragón ha comenzado!\n",
            "\n",
            "Ataque #1\n",
            "Atacas al dragón con 50 de fuerza.\n",
            "El dragón contraataca y te quita 30 de vida.\n",
            "Vida restante: 70\n",
            "\n",
            "Ataque #2\n",
            "Atacas al dragón con 50 de fuerza.\n",
            "El dragón contraataca y te quita 30 de vida.\n",
            "Vida restante: 40\n",
            "\n",
            "Ataque #3\n",
            "Atacas al dragón con 50 de fuerza.\n",
            "El dragón contraataca y te quita 30 de vida.\n",
            "Vida restante: 10\n",
            "\n",
            "¡Has derrotado al dragón con 3 ataques exitosos!\n"
          ]
        }
      ]
    },
    {
      "cell_type": "markdown",
      "source": [
        "**Ejercicio 9: El camino del héroe (Recursividad sencilla)**\n",
        "\n",
        "Crea una función recursiva que simule el camino de un héroe cruzando N obstáculos, mostrando mensajes como:\n",
        "\n",
        "\"Obstáculo 3: saltando...\"\n",
        "\n",
        "Termina cuando N llegue a 0."
      ],
      "metadata": {
        "id": "8X5Y08fQWCFU"
      }
    },
    {
      "cell_type": "code",
      "source": [
        "## INICIO DE CÓDIGO\n",
        "## INICIO DE CÓDIGO\n",
        "\n",
        "def camino_heroe(n):\n",
        "    if n == 0:\n",
        "        print(\"¡El héroe ha cruzado todos los obstáculos!\")\n",
        "    else:\n",
        "        print(f\"Obstáculo {n}: saltando...\")\n",
        "        camino_heroe(n - 1)\n",
        "\n",
        "# Interacción con el usuario\n",
        "print(\"El camino del héroe comienza...\")\n",
        "num_obstaculos = int(input(\"¿Cuántos obstáculos debe superar el héroe? \"))\n",
        "\n",
        "camino_heroe(num_obstaculos)\n",
        "\n",
        "## FIN DE CÓDIGO\n",
        "## FIN DE CÓDIGO"
      ],
      "metadata": {
        "id": "vVDjZHSVWJdQ",
        "colab": {
          "base_uri": "https://localhost:8080/"
        },
        "outputId": "8d126199-1b5c-4526-e5b8-435c141a4919"
      },
      "execution_count": null,
      "outputs": [
        {
          "output_type": "stream",
          "name": "stdout",
          "text": [
            "El camino del héroe comienza...\n",
            "¿Cuántos obstáculos debe superar el héroe? 4\n",
            "Obstáculo 4: saltando...\n",
            "Obstáculo 3: saltando...\n",
            "Obstáculo 2: saltando...\n",
            "Obstáculo 1: saltando...\n",
            "¡El héroe ha cruzado todos los obstáculos!\n"
          ]
        }
      ]
    },
    {
      "cell_type": "markdown",
      "source": [
        "**Ejercicio 10: Torre de los hechizos (Reto Integrador Final)**\n",
        "\n",
        "Crea un programa completo que combine:\n",
        "\n",
        "* Elección de personaje.\n",
        "\n",
        "* Simulación de un combate contra un enemigo con vida y defensa.\n",
        "\n",
        "* Uso de funciones para calcular el daño.\n",
        "\n",
        "* Bucles para turnos de combate.\n",
        "\n",
        "* Uso de una función recursiva que simule las rondas como niveles (nivel 1, 2, 3 hasta ganar).\n",
        "\n"
      ],
      "metadata": {
        "id": "Behbpl_8WJzR"
      }
    },
    {
      "cell_type": "code",
      "source": [
        "## INICIO DE CÓDIGO\n",
        "\n",
        "import random\n",
        "\n",
        "# Diccionario de personajes\n",
        "personajes = {\n",
        "    \"mago\": {\"fuerza\": 40},\n",
        "    \"guerrero\": {\"fuerza\": 50},\n",
        "    \"arquero\": {\"fuerza\": 45}\n",
        "}\n",
        "\n",
        "def calcular_danio(fuerza, defensa_enemigo):\n",
        "    \"\"\"Calcula daño considerando la defensa del enemigo.\"\"\"\n",
        "    danio = fuerza - defensa_enemigo\n",
        "    return danio if danio > 0 else 0\n",
        "\n",
        "def combatir_enemigo(vida_enemigo, defensa, fuerza_jugador):\n",
        "    \"\"\"Simula el combate en un nivel contra un enemigo.\"\"\"\n",
        "    while vida_enemigo > 0:\n",
        "        print(f\"\\n Turno de ataque...\")\n",
        "        danio = calcular_danio(fuerza_jugador, defensa)\n",
        "        vida_enemigo -= danio\n",
        "        print(f\" Hiciste {danio} de daño. Vida del enemigo restante: {vida_enemigo if vida_enemigo > 0 else 0}\")\n",
        "    print(\" ¡Has vencido al enemigo!\")\n",
        "\n",
        "def torre_hechizos(nivel, nivel_maximo, fuerza_jugador):\n",
        "    \"\"\"Función recursiva que simula la torre de los hechizos.\"\"\"\n",
        "    if nivel > nivel_maximo:\n",
        "        print(\"\\n ¡Felicidades, has conquistado la Torre de los Hechizos!\")\n",
        "        return\n",
        "    else:\n",
        "        print(f\"\\n Nivel {nivel} de la torre...\")\n",
        "        vida_enemigo = random.randint(80, 120)\n",
        "        defensa_enemigo = random.randint(5, 15)\n",
        "        print(f\" Enemigo con {vida_enemigo} de vida y {defensa_enemigo} de defensa.\")\n",
        "        combatir_enemigo(vida_enemigo, defensa_enemigo, fuerza_jugador)\n",
        "        torre_hechizos(nivel + 1, nivel_maximo, fuerza_jugador)\n",
        "\n",
        "# --- INICIO DEL JUEGO ---\n",
        "print(\"Bienvenido a la Torre de los Hechizos\")\n",
        "\n",
        "# Elegir personaje\n",
        "print(\"Elige tu personaje:\")\n",
        "for p in personajes:\n",
        "    print(f\"- {p.title()} (fuerza: {personajes[p]['fuerza']})\")\n",
        "\n",
        "eleccion = input(\"¿Quién quieres ser? (mago/guerrero/arquero): \").lower()\n",
        "while eleccion not in personajes:\n",
        "    eleccion = input(\"Personaje inválido. Elige entre: mago, guerrero o arquero: \").lower()\n",
        "\n",
        "fuerza_jugador = personajes[eleccion][\"fuerza\"]\n",
        "print(f\"\\nHas elegido ser un {eleccion.title()} con {fuerza_jugador} de fuerza. ¡Buena suerte!\\n\")\n",
        "\n",
        "# Iniciar la torre (por ejemplo, con 3 niveles)\n",
        "torre_hechizos(nivel=1, nivel_maximo=3, fuerza_jugador=fuerza_jugador)\n",
        "\n",
        "## FIN DE CÓDIGO"
      ],
      "metadata": {
        "id": "smtLq1SDWTJd",
        "colab": {
          "base_uri": "https://localhost:8080/"
        },
        "outputId": "10af4382-f613-4d2c-f9ea-3e8526f0a405"
      },
      "execution_count": null,
      "outputs": [
        {
          "output_type": "stream",
          "name": "stdout",
          "text": [
            "Bienvenido a la Torre de los Hechizos\n",
            "Elige tu personaje:\n",
            "- Mago (fuerza: 40)\n",
            "- Guerrero (fuerza: 50)\n",
            "- Arquero (fuerza: 45)\n",
            "¿Quién quieres ser? (mago/guerrero/arquero): guerrero\n",
            "\n",
            "Has elegido ser un Guerrero con 50 de fuerza. ¡Buena suerte!\n",
            "\n",
            "\n",
            " Nivel 1 de la torre...\n",
            " Enemigo con 107 de vida y 5 de defensa.\n",
            "\n",
            " Turno de ataque...\n",
            " Hiciste 45 de daño. Vida del enemigo restante: 62\n",
            "\n",
            " Turno de ataque...\n",
            " Hiciste 45 de daño. Vida del enemigo restante: 17\n",
            "\n",
            " Turno de ataque...\n",
            " Hiciste 45 de daño. Vida del enemigo restante: 0\n",
            " ¡Has vencido al enemigo!\n",
            "\n",
            " Nivel 2 de la torre...\n",
            " Enemigo con 101 de vida y 14 de defensa.\n",
            "\n",
            " Turno de ataque...\n",
            " Hiciste 36 de daño. Vida del enemigo restante: 65\n",
            "\n",
            " Turno de ataque...\n",
            " Hiciste 36 de daño. Vida del enemigo restante: 29\n",
            "\n",
            " Turno de ataque...\n",
            " Hiciste 36 de daño. Vida del enemigo restante: 0\n",
            " ¡Has vencido al enemigo!\n",
            "\n",
            " Nivel 3 de la torre...\n",
            " Enemigo con 84 de vida y 8 de defensa.\n",
            "\n",
            " Turno de ataque...\n",
            " Hiciste 42 de daño. Vida del enemigo restante: 42\n",
            "\n",
            " Turno de ataque...\n",
            " Hiciste 42 de daño. Vida del enemigo restante: 0\n",
            " ¡Has vencido al enemigo!\n",
            "\n",
            " ¡Felicidades, has conquistado la Torre de los Hechizos!\n"
          ]
        }
      ]
    },
    {
      "cell_type": "markdown",
      "source": [
        "---\n",
        "\n",
        "# Gracias por completar este laboratorio!\n",
        "\n",
        "---\n"
      ],
      "metadata": {
        "id": "EONqoa25Wlx3"
      }
    }
  ]
}