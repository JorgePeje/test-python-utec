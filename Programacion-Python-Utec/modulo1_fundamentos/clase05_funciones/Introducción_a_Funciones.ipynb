{
  "nbformat": 4,
  "nbformat_minor": 0,
  "metadata": {
    "colab": {
      "provenance": [],
      "include_colab_link": true
    },
    "kernelspec": {
      "name": "python3",
      "display_name": "Python 3"
    },
    "language_info": {
      "name": "python"
    }
  },
  "cells": [
    {
      "cell_type": "markdown",
      "metadata": {
        "id": "view-in-github",
        "colab_type": "text"
      },
      "source": [
        "<a href=\"https://colab.research.google.com/github/JorgePeje/test-python-utec/blob/main/Programacion-Python-Utec/modulo1_fundamentos/clase05_funciones/Introducci%C3%B3n_a_Funciones.ipynb\" target=\"_parent\"><img src=\"https://colab.research.google.com/assets/colab-badge.svg\" alt=\"Open In Colab\"/></a>"
      ]
    },
    {
      "cell_type": "markdown",
      "source": [
        "<img src=\"https://www.ctic.uni.edu.pe/wp-content/uploads/2022/04/588px-x-348px-web-1.png\" alt=\"HTML5 Icon\" width=\"900\" height=\"350\" >"
      ],
      "metadata": {
        "id": "1kz6dp8bVM4b"
      }
    },
    {
      "cell_type": "markdown",
      "source": [
        "# **Introducción a Funciones**\n",
        "\n",
        "---"
      ],
      "metadata": {
        "id": "8KzYn4KdVFQe"
      }
    },
    {
      "cell_type": "markdown",
      "source": [
        "**Objetivo:** Al finalizar el laboratorio, los estudiantes tendrás  conocimiento sobre la creación y uso de funciones en Python, incluyendo parámetros, valores de retorno, alcance de variables, funciones lambda, recursión, manejo de excepciones y documentación de funciones."
      ],
      "metadata": {
        "id": "2-XS1YRPV52V"
      }
    },
    {
      "cell_type": "markdown",
      "source": [
        "## Tabla de Contenidos\n",
        "\n",
        "<div class=\"alert alert-block alert-info\" style=\"margin-top: 20px\">\n",
        "\n",
        "<font size = 3>\n",
        "\n",
        "1. <a href=\"#item31\">Introducción a las Funciones</a>\n",
        "2. <a href=\"#item31\">Parámetros y Argumentos</a>\n",
        "3. <a href=\"#item31\">Valores de Retorno</a>\n",
        "4. <a href=\"#item31\">Alcance de Variables (Scope)</a>\n",
        "5. <a href=\"#item31\">Funciones Lambda</a>\n",
        "6. <a href=\"#item31\">Recursión</a>\n",
        "7. <a href=\"#item31\">Manejo de Excepciones en Funciones</a>\n",
        "8. <a href=\"#item31\">Documentación de Funciones</a>\n",
        "\n",
        "\n",
        "</font>\n",
        "</div>\n",
        "\n",
        "---"
      ],
      "metadata": {
        "id": "RljRC2mkVS48"
      }
    },
    {
      "cell_type": "markdown",
      "source": [
        "## 1. Introducción a las Funciones\n",
        "\n",
        "### Descripción:\n",
        "\n"
      ],
      "metadata": {
        "id": "CBXRP0fNWEjc"
      }
    },
    {
      "cell_type": "markdown",
      "source": [
        "**Definición y sintaxis básica:**\n",
        "\n",
        "Una función es un bloque de código reutilizable que realiza una tarea específica.\n"
      ],
      "metadata": {
        "id": "gmDRKV6GWlAn"
      }
    },
    {
      "cell_type": "markdown",
      "source": [
        "Sintaxis básica:"
      ],
      "metadata": {
        "id": "r60aiZ6sWmYQ"
      }
    },
    {
      "cell_type": "code",
      "execution_count": null,
      "metadata": {
        "id": "f8G98BQMVA0S"
      },
      "outputs": [],
      "source": [
        "def nombre_funcion(parámetros):\n",
        "    \"\"\"Docstring opcional.\"\"\"\n",
        "    # Cuerpo de la función\n",
        "    return valor_de_retorno\n"
      ]
    },
    {
      "cell_type": "code",
      "source": [
        "def greetings():\n",
        "  '''Esta funcion genera un saludo para los\n",
        "  estudiantes'''\n",
        "  print(\"Hola bienvenidos al curso de python\")"
      ],
      "metadata": {
        "id": "f_kqEDxPPil1"
      },
      "execution_count": null,
      "outputs": []
    },
    {
      "cell_type": "code",
      "source": [
        "greetings"
      ],
      "metadata": {
        "id": "Sa1FmlnHPlmy",
        "outputId": "70abe6a7-0c03-4e71-ac41-c3390ba3a2e1",
        "colab": {
          "base_uri": "https://localhost:8080/",
          "height": 122
        }
      },
      "execution_count": null,
      "outputs": [
        {
          "output_type": "execute_result",
          "data": {
            "text/plain": [
              "<function __main__.greetings()>"
            ],
            "text/html": [
              "<div style=\"max-width:800px; border: 1px solid var(--colab-border-color);\"><style>\n",
              "      pre.function-repr-contents {\n",
              "        overflow-x: auto;\n",
              "        padding: 8px 12px;\n",
              "        max-height: 500px;\n",
              "      }\n",
              "\n",
              "      pre.function-repr-contents.function-repr-contents-collapsed {\n",
              "        cursor: pointer;\n",
              "        max-height: 100px;\n",
              "      }\n",
              "    </style>\n",
              "    <pre style=\"white-space: initial; background:\n",
              "         var(--colab-secondary-surface-color); padding: 8px 12px;\n",
              "         border-bottom: 1px solid var(--colab-border-color);\"><b>greetings</b><br/>def greetings()</pre><pre class=\"function-repr-contents function-repr-contents-collapsed\" style=\"\"><a class=\"filepath\" style=\"display:none\" href=\"#\">/content/&lt;ipython-input-1-2caacb76983a&gt;</a>Esta funcion genera un saludo para los \n",
              "estudiantes</pre></div>"
            ]
          },
          "metadata": {},
          "execution_count": 2
        }
      ]
    },
    {
      "cell_type": "code",
      "source": [
        "greetings()"
      ],
      "metadata": {
        "id": "wkzKjwR5Pnz2",
        "outputId": "84daeb43-9487-4e01-f9a0-eda4865eb81f",
        "colab": {
          "base_uri": "https://localhost:8080/"
        }
      },
      "execution_count": null,
      "outputs": [
        {
          "output_type": "stream",
          "name": "stdout",
          "text": [
            "Hola bienvenidos al curso de python\n"
          ]
        }
      ]
    },
    {
      "cell_type": "code",
      "source": [
        "def greetings(name, course='Estadistica'):\n",
        "  '''Esta funcion genera un saludo para los\n",
        "  estudiantes\n",
        "  ---parametros---\n",
        "  name: el nombre de la persona a saludar\n",
        "  course: nombre del curso del estudiante'''\n",
        "  print(f\"Hola {name} bienvenidos al curso de {course}\")"
      ],
      "metadata": {
        "id": "4nQH6Im_P5Ir"
      },
      "execution_count": null,
      "outputs": []
    },
    {
      "cell_type": "code",
      "source": [
        "greetings(name = 'John')"
      ],
      "metadata": {
        "id": "suSEEOi5SuNT",
        "outputId": "fd36620b-be3f-417b-c963-88b62ee00be3",
        "colab": {
          "base_uri": "https://localhost:8080/"
        }
      },
      "execution_count": null,
      "outputs": [
        {
          "output_type": "stream",
          "name": "stdout",
          "text": [
            "Hola John bienvenidos al curso de Estadistica\n"
          ]
        }
      ]
    },
    {
      "cell_type": "code",
      "source": [
        "greetings(name='Jorge', course= 'Python')"
      ],
      "metadata": {
        "id": "6iYYyGjUQaR3",
        "outputId": "f815f5d2-e0a4-4336-b661-0f3a9a1444db",
        "colab": {
          "base_uri": "https://localhost:8080/"
        }
      },
      "execution_count": null,
      "outputs": [
        {
          "output_type": "stream",
          "name": "stdout",
          "text": [
            "Hola Jorge bienvenidos al curso de Python\n"
          ]
        }
      ]
    },
    {
      "cell_type": "code",
      "source": [
        "greetings('Jorge','Programacion')"
      ],
      "metadata": {
        "id": "Y4FPgobHQqkV",
        "outputId": "1d9cc261-7804-4090-e1d1-ebd744d5bc21",
        "colab": {
          "base_uri": "https://localhost:8080/"
        }
      },
      "execution_count": null,
      "outputs": [
        {
          "output_type": "stream",
          "name": "stdout",
          "text": [
            "Hola Jorge bienvenidos al curso de Programacion\n"
          ]
        }
      ]
    },
    {
      "cell_type": "code",
      "source": [
        "greetings(course= 'Python', name='Jorge')"
      ],
      "metadata": {
        "id": "27WPtSQORs42",
        "outputId": "10dcd46a-9812-4486-ce11-8901fcf799c8",
        "colab": {
          "base_uri": "https://localhost:8080/"
        }
      },
      "execution_count": null,
      "outputs": [
        {
          "output_type": "stream",
          "name": "stdout",
          "text": [
            "Hola Jorge bienvenidos al curso de Python\n"
          ]
        }
      ]
    },
    {
      "cell_type": "code",
      "source": [
        "import numpy as np\n",
        "def sigmoid(x):\n",
        "  '''esta funcion genera una transformacion sigmoide del input x'''\n",
        "  return 1/(1+np.exp(-x))"
      ],
      "metadata": {
        "id": "6nefs72nSkTE"
      },
      "execution_count": null,
      "outputs": []
    },
    {
      "cell_type": "code",
      "source": [
        "sigmoid(2)*2-1"
      ],
      "metadata": {
        "id": "WyXXyBVOTyuF",
        "outputId": "d4e64e8b-9bfe-46e0-d731-d5237f149f90",
        "colab": {
          "base_uri": "https://localhost:8080/"
        }
      },
      "execution_count": null,
      "outputs": [
        {
          "output_type": "execute_result",
          "data": {
            "text/plain": [
              "np.float64(0.7615941559557646)"
            ]
          },
          "metadata": {},
          "execution_count": 25
        }
      ]
    },
    {
      "cell_type": "code",
      "source": [
        "from math import exp\n",
        "\n",
        "def mixture_functions(p, x):\n",
        "  '''Esta funcion posee 02 returns'''\n",
        "  if p > 0.5 :\n",
        "    return 2*x\n",
        "  else:\n",
        "    return x/2"
      ],
      "metadata": {
        "id": "i8TL736XWrVI"
      },
      "execution_count": null,
      "outputs": []
    },
    {
      "cell_type": "code",
      "source": [
        "mixture_functions(0.3, 10)\n"
      ],
      "metadata": {
        "id": "gd0E_qtVXRUC",
        "outputId": "ccdc6d99-9bfb-4791-bf61-fe60e1d5c09a",
        "colab": {
          "base_uri": "https://localhost:8080/"
        }
      },
      "execution_count": null,
      "outputs": [
        {
          "output_type": "execute_result",
          "data": {
            "text/plain": [
              "5.0"
            ]
          },
          "metadata": {},
          "execution_count": 28
        }
      ]
    },
    {
      "cell_type": "markdown",
      "source": [
        "**Ventajas de usar funciones:**\n",
        "\n",
        "- Reutilización de código.\n",
        "- Modularidad y organización.\n",
        "- Facilita el mantenimiento y la lectura del código."
      ],
      "metadata": {
        "id": "4UAV5-njWrv9"
      }
    },
    {
      "cell_type": "markdown",
      "source": [
        "###Ejemplos:\n",
        "\n"
      ],
      "metadata": {
        "id": "LqcLEo2TW1_P"
      }
    },
    {
      "cell_type": "markdown",
      "source": [
        "**Ejemplo 1.1:** Función sin parámetros:\n"
      ],
      "metadata": {
        "id": "tJqTA5wjXIim"
      }
    },
    {
      "cell_type": "code",
      "source": [
        "def saludo():\n",
        "    \"\"\"Función que imprime un saludo.\"\"\"\n",
        "    print(\"¡Hola, bienvenidos al curso de Python!\")\n",
        "\n",
        "saludo()  # Llamada a la función\n"
      ],
      "metadata": {
        "id": "v5roj9PzW1rE"
      },
      "execution_count": null,
      "outputs": []
    },
    {
      "cell_type": "markdown",
      "source": [
        "**Ejemplo 1.2:** Función con parámetros:"
      ],
      "metadata": {
        "id": "_9ZWKYznXMhx"
      }
    },
    {
      "cell_type": "code",
      "source": [
        "def saludo_personalizado(nombre):\n",
        "    \"\"\"Función que saluda a una persona específica.\"\"\"\n",
        "    print(f\"¡Hola, {nombre}! Bienvenido al curso de Python.\")\n",
        "\n",
        "saludo_personalizado(\"Carlos\")\n"
      ],
      "metadata": {
        "id": "T7GcvplWXOsn"
      },
      "execution_count": null,
      "outputs": []
    },
    {
      "cell_type": "markdown",
      "source": [
        "**Ejemplo 1.3:** Función que calcula el área de un círculo:"
      ],
      "metadata": {
        "id": "CtK-gjU4Xgu-"
      }
    },
    {
      "cell_type": "code",
      "source": [
        "import math\n",
        "\n",
        "def area_circulo(radio):\n",
        "    \"\"\"Calcula el área de un círculo dado su radio.\"\"\"\n",
        "    return math.pi * radio ** 2\n",
        "\n",
        "print(area_circulo(5))  # Imprime el área del círculo con radio 5\n"
      ],
      "metadata": {
        "id": "aVhIq8PzXjlv"
      },
      "execution_count": null,
      "outputs": []
    },
    {
      "cell_type": "markdown",
      "source": [
        "**Ejemplo 1.4:** Función que determina si un número es par o impar:"
      ],
      "metadata": {
        "id": "U-Z0WhClXlfY"
      }
    },
    {
      "cell_type": "code",
      "source": [
        "def es_par(n):\n",
        "    \"\"\"Verifica si un número es par o impar.\"\"\"\n",
        "    if n % 2 == 0:\n",
        "        return True\n",
        "    else:\n",
        "        return False\n",
        "\n",
        "print(es_par(10))  # Imprime True\n",
        "print(es_par(7))   # Imprime False\n"
      ],
      "metadata": {
        "id": "Eu6_s_XPXyIh"
      },
      "execution_count": null,
      "outputs": []
    },
    {
      "cell_type": "markdown",
      "source": [
        "**Ejemplo 1.5** Función que genera una lista de números aleatorios:\n"
      ],
      "metadata": {
        "id": "-_FxDky2Xyq5"
      }
    },
    {
      "cell_type": "code",
      "source": [
        "import random\n",
        "\n",
        "def generar_numeros_aleatorios(cantidad, inicio, fin):\n",
        "    \"\"\"Genera una lista de números aleatorios.\"\"\"\n",
        "    numeros = []\n",
        "    for _ in range(cantidad):\n",
        "        numeros.append(random.randint(inicio, fin))\n",
        "    return numeros\n",
        "\n",
        "print(generar_numeros_aleatorios(5, 1, 100))\n"
      ],
      "metadata": {
        "id": "_GIe8-I_X7ZY"
      },
      "execution_count": null,
      "outputs": []
    },
    {
      "cell_type": "markdown",
      "source": [
        "### Ejercicios:"
      ],
      "metadata": {
        "id": "6d5gKDDfYAry"
      }
    },
    {
      "cell_type": "markdown",
      "source": [
        "\n",
        "**Ejercicio 1.1.**\n",
        "\n",
        "Cálculo de distancia euclidiana:\n",
        "\n",
        "Crea una función distancia_euclidiana(punto1, punto2) que calcule la distancia entre dos puntos en un plano 2D.\n",
        "Tip: Los puntos pueden representarse como tuplas (x, y).\n",
        "\n"
      ],
      "metadata": {
        "id": "6yf0XzjlYEyw"
      }
    },
    {
      "cell_type": "code",
      "source": [
        "punto1 =\n",
        "punto2 = (3,4)\n",
        "#indexado de listas\n",
        "punto1[0]\n",
        "punto1[1]\n",
        "\n",
        "punto2[0]\n",
        "punto2[1]"
      ],
      "metadata": {
        "id": "M08dwqpTYLCk"
      },
      "execution_count": null,
      "outputs": []
    },
    {
      "cell_type": "code",
      "source": [
        "def distancia_euclidiana(punto1, punto2):\n",
        "  '''Calcula la distancia euclidiana entre dos puntos'''\n",
        "  distancia=((punto1[0]-punto2[0])**2+(punto1[1]-punto2[1])**2)**0.5\n",
        "  return distancia #Frases en return no recomendable\n"
      ],
      "metadata": {
        "id": "Z9f6ipFBYn26"
      },
      "execution_count": null,
      "outputs": []
    },
    {
      "cell_type": "code",
      "source": [
        "distancia_euclidiana([1,2],[2,3])"
      ],
      "metadata": {
        "id": "JHGjJBf9aBLh",
        "outputId": "d4b6648f-7954-41a8-8e19-c0ce698d3011",
        "colab": {
          "base_uri": "https://localhost:8080/"
        }
      },
      "execution_count": null,
      "outputs": [
        {
          "output_type": "execute_result",
          "data": {
            "text/plain": [
              "1.4142135623730951"
            ]
          },
          "metadata": {},
          "execution_count": 33
        }
      ]
    },
    {
      "cell_type": "markdown",
      "source": [
        "**Ejercicio 1.2.**\n",
        "\n",
        "Conversión de números romanos:\n",
        "\n",
        "Escribe una función romano_a_entero(romano) que convierta un número romano a un entero.\n"
      ],
      "metadata": {
        "id": "yLDf77BMYLXN"
      }
    },
    {
      "cell_type": "code",
      "source": [],
      "metadata": {
        "id": "FkYoXQEWYYtS"
      },
      "execution_count": null,
      "outputs": []
    },
    {
      "cell_type": "markdown",
      "source": [
        "**Ejercicio 1.3**\n",
        "\n",
        "Generador de contraseñas seguras:\n",
        "\n",
        "Define una función generar_contraseña(longitud) que genere una contraseña aleatoria que incluya letras, números y símbolos.\n",
        "Tip: Usa el módulo random y la biblioteca string."
      ],
      "metadata": {
        "id": "bprM7QYfYZCx"
      }
    },
    {
      "cell_type": "code",
      "source": [
        "from random import choice\n",
        "import string\n",
        "\n",
        "\n",
        "def generar_contraseña(longitud):\n",
        "  '''Genera una contraseña aleatoria'''\n",
        "  caracteres= string.ascii_letters + string.digits + string.punctuation\n",
        "  contraseña = ''\n",
        "  while len(contraseña) < longitud:\n",
        "    contraseña = contraseña + choice(caracteres)\n",
        "  return contraseña\n"
      ],
      "metadata": {
        "id": "dXoay-6LbtIy"
      },
      "execution_count": null,
      "outputs": []
    },
    {
      "cell_type": "code",
      "source": [
        "generar_contraseña(8)"
      ],
      "metadata": {
        "id": "OdjT1g2iigw4",
        "outputId": "953e433d-3ede-4b10-cae9-66d83523276d",
        "colab": {
          "base_uri": "https://localhost:8080/",
          "height": 35
        }
      },
      "execution_count": null,
      "outputs": [
        {
          "output_type": "execute_result",
          "data": {
            "text/plain": [
              "'n\"U8W/Xr'"
            ],
            "application/vnd.google.colaboratory.intrinsic+json": {
              "type": "string"
            }
          },
          "metadata": {},
          "execution_count": 52
        }
      ]
    },
    {
      "cell_type": "code",
      "source": [
        "choice(string.ascii_letters)"
      ],
      "metadata": {
        "id": "c6Q4T5OnYdHi",
        "outputId": "c592fa4d-e551-49ab-88c8-a07bcfeb4626",
        "colab": {
          "base_uri": "https://localhost:8080/",
          "height": 35
        }
      },
      "execution_count": null,
      "outputs": [
        {
          "output_type": "execute_result",
          "data": {
            "text/plain": [
              "'m'"
            ],
            "application/vnd.google.colaboratory.intrinsic+json": {
              "type": "string"
            }
          },
          "metadata": {},
          "execution_count": 36
        }
      ]
    },
    {
      "cell_type": "code",
      "source": [
        "import auxfunctions as af\n",
        "af.generar_contraseña(8)"
      ],
      "metadata": {
        "id": "yyXK5uY5keet",
        "outputId": "7ec37f5e-d9fc-4991-fb83-7fb7bf300c68",
        "colab": {
          "base_uri": "https://localhost:8080/",
          "height": 331
        }
      },
      "execution_count": null,
      "outputs": [
        {
          "output_type": "error",
          "ename": "ModuleNotFoundError",
          "evalue": "No module named 'auxfunctions'",
          "traceback": [
            "\u001b[0;31m---------------------------------------------------------------------------\u001b[0m",
            "\u001b[0;31mModuleNotFoundError\u001b[0m                       Traceback (most recent call last)",
            "\u001b[0;32m<ipython-input-55-ebc42ba4134d>\u001b[0m in \u001b[0;36m<cell line: 0>\u001b[0;34m()\u001b[0m\n\u001b[0;32m----> 1\u001b[0;31m \u001b[0;32mimport\u001b[0m \u001b[0mauxfunctions\u001b[0m \u001b[0;32mas\u001b[0m \u001b[0maf\u001b[0m\u001b[0;34m\u001b[0m\u001b[0;34m\u001b[0m\u001b[0m\n\u001b[0m\u001b[1;32m      2\u001b[0m \u001b[0maf\u001b[0m\u001b[0;34m.\u001b[0m\u001b[0mgenerar_contraseña\u001b[0m\u001b[0;34m(\u001b[0m\u001b[0;36m8\u001b[0m\u001b[0;34m)\u001b[0m\u001b[0;34m\u001b[0m\u001b[0;34m\u001b[0m\u001b[0m\n",
            "\u001b[0;31mModuleNotFoundError\u001b[0m: No module named 'auxfunctions'",
            "",
            "\u001b[0;31m---------------------------------------------------------------------------\u001b[0;32m\nNOTE: If your import is failing due to a missing package, you can\nmanually install dependencies using either !pip or !apt.\n\nTo view examples of installing some common dependencies, click the\n\"Open Examples\" button below.\n\u001b[0;31m---------------------------------------------------------------------------\u001b[0m\n"
          ],
          "errorDetails": {
            "actions": [
              {
                "action": "open_url",
                "actionText": "Open Examples",
                "url": "/notebooks/snippets/importing_libraries.ipynb"
              }
            ]
          }
        }
      ]
    },
    {
      "cell_type": "markdown",
      "source": [
        "**Ejercicio 1.4**\n",
        "\n",
        "Verificación de palíndromos:\n",
        "\n",
        "Crea una función es_palindromo(cadena) que verifique si una cadena es un palíndromo (se lee igual al derecho y al revés).\n",
        "Desafío: Ignora espacios y considera mayúsculas y minúsculas."
      ],
      "metadata": {
        "id": "htiQw6-iYoN9"
      }
    },
    {
      "cell_type": "code",
      "source": [],
      "metadata": {
        "id": "2JLDBZpCYr8p"
      },
      "execution_count": null,
      "outputs": []
    },
    {
      "cell_type": "markdown",
      "source": [
        "**Ejercicio 1.5**\n",
        "\n",
        "Análisis de frecuencia de palabras:\n",
        "\n",
        "Escribe una función frecuencia_palabras(texto) que reciba un texto y devuelva un diccionario con la frecuencia de cada palabra.\n",
        "Tip: Usa el método split() y considera eliminar puntuación.\n"
      ],
      "metadata": {
        "id": "gVAG_pn_YstI"
      }
    },
    {
      "cell_type": "markdown",
      "source": [],
      "metadata": {
        "id": "PkIzdUfxYzF5"
      }
    },
    {
      "cell_type": "code",
      "source": [],
      "metadata": {
        "id": "1Rq0GR0MY2cH"
      },
      "execution_count": null,
      "outputs": []
    },
    {
      "cell_type": "markdown",
      "source": [
        "**Ejercicio 1.6**\n",
        "\n",
        "Conversión de unidades de temperatura:\n",
        "\n",
        "Define una función convertir_temperatura(valor, origen, destino) que convierta temperaturas entre Celsius, Fahrenheit y Kelvin.\n",
        "Desafío: Maneja casos inválidos y verifica las unidades de entrada.\n"
      ],
      "metadata": {
        "id": "sro1FnLfY70L"
      }
    },
    {
      "cell_type": "code",
      "source": [],
      "metadata": {
        "id": "RmlvreaWZCe8"
      },
      "execution_count": null,
      "outputs": []
    },
    {
      "cell_type": "markdown",
      "source": [
        "**Ejercicio 1.7**\n",
        "\n",
        "Calculadora de propinas:\n",
        "\n",
        "Crea una función calcular_propina(total, porcentaje=10) que calcule la propina a partir del total de una cuenta.\n",
        "Tip: El parámetro porcentaje debe ser opcional."
      ],
      "metadata": {
        "id": "Y68FL_jPZCzm"
      }
    },
    {
      "cell_type": "code",
      "source": [],
      "metadata": {
        "id": "VErbZ-hkZHtR"
      },
      "execution_count": null,
      "outputs": []
    },
    {
      "cell_type": "markdown",
      "source": [
        "\n",
        "**Ejercicio 1.8**\n",
        "\n",
        "Determinación de años bisiestos:\n",
        "\n",
        "Escribe una función es_bisiesto(año) que determine si un año es bisiesto.\n",
        "Desafío: Considera las reglas de los años divisibles por 100 y 400.\n"
      ],
      "metadata": {
        "id": "CknEoI5HZIAt"
      }
    },
    {
      "cell_type": "code",
      "source": [],
      "metadata": {
        "id": "UmssWGfxZQtA"
      },
      "execution_count": null,
      "outputs": []
    },
    {
      "cell_type": "markdown",
      "source": [
        "**Ejercicio 1.9**\n",
        "\n",
        "Generador de números Fibonacci:\n",
        "\n",
        "\n",
        "Define una función generar_fibonacci(n) que retorne una lista con los primeros n números de la serie de Fibonacci.\n",
        "Tip: Usa un bucle para generar la serie."
      ],
      "metadata": {
        "id": "t9bUone7ZRK1"
      }
    },
    {
      "cell_type": "code",
      "source": [],
      "metadata": {
        "id": "T5gKjlBRZWc_"
      },
      "execution_count": null,
      "outputs": []
    },
    {
      "cell_type": "markdown",
      "source": [
        "\n",
        "\n",
        "\n",
        "\n",
        "**Ejercicio 1.10**\n",
        "\n",
        "Calculadora de índice de masa corporal (IMC):\n",
        "\n",
        "Crea una función calcular_imc(peso, altura) que calcule el IMC y retorne una categoría (bajo peso, normal, sobrepeso, obesidad).\n",
        "Desafío: Usa las categorías estándar de la OMS."
      ],
      "metadata": {
        "id": "bY6YSYtyX_Rk"
      }
    },
    {
      "cell_type": "code",
      "source": [],
      "metadata": {
        "id": "k3ml8dyxZaHC"
      },
      "execution_count": null,
      "outputs": []
    },
    {
      "cell_type": "markdown",
      "source": [
        "**Ejercicio 1.11**\n",
        "\n",
        "Juego de adivinanza:\n",
        "\n",
        "Escribe una función adivinar_numero() que genere un número aleatorio y permita al usuario adivinarlo, indicando si el número ingresado es mayor o menor hasta que acierte."
      ],
      "metadata": {
        "id": "D2QSLlghbKiT"
      }
    },
    {
      "cell_type": "code",
      "source": [],
      "metadata": {
        "id": "acPqyrfpbQoq"
      },
      "execution_count": null,
      "outputs": []
    },
    {
      "cell_type": "markdown",
      "source": [
        "## 2. Parámetros y Argumentos"
      ],
      "metadata": {
        "id": "MyFm7h9CZlCN"
      }
    },
    {
      "cell_type": "markdown",
      "source": [
        "**Descripción:**\n",
        "\n",
        "**Parámetros posicionales y argumentos:**\n",
        "\n",
        "Los parámetros se definen en la declaración de la función y los argumentos se pasan al llamar a la función.\n",
        "\n",
        "**Parámetros con valores por defecto:**\n",
        "\n",
        "- Permiten que ciertos parámetros sean opcionales.\n",
        "- Argumentos nombrados (keyword arguments):\n",
        "- Especificar argumentos por nombre, independientemente del orden.\n",
        "\n",
        "**Argumentos arbitrarios:**\n",
        "\n",
        "- *args: Permite pasar un número variable de argumentos posicionales.\n",
        "\n",
        "- **kwargs: Permite pasar un número variable de argumentos nombrados."
      ],
      "metadata": {
        "id": "_kimTVJjZq9r"
      }
    },
    {
      "cell_type": "markdown",
      "source": [
        "### Ejemplos:\n"
      ],
      "metadata": {
        "id": "qQaeV-U-aBxq"
      }
    },
    {
      "cell_type": "markdown",
      "source": [
        "**Ejemplo 2.1.:** Función con parámetros por defecto y argumentos nombrados:\n"
      ],
      "metadata": {
        "id": "HbgKJrNMaD3m"
      }
    },
    {
      "cell_type": "code",
      "source": [
        "def enviar_email(destinatario, asunto=\"Sin asunto\", mensaje=\"\"):\n",
        "    \"\"\"Envía un email simulado con los detalles proporcionados.\"\"\"\n",
        "    print(f\"Enviando email a: {destinatario}\")\n",
        "    print(f\"Asunto: {asunto}\")\n",
        "    print(f\"Mensaje: {mensaje}\")\n",
        "\n",
        "enviar_email(\"usuario@example.com\", mensaje=\"Hola, este es un mensaje de prueba.\")\n"
      ],
      "metadata": {
        "id": "K8QRuKsmaLRV"
      },
      "execution_count": null,
      "outputs": []
    },
    {
      "cell_type": "markdown",
      "source": [
        "**Ejemplo 2.2.:** Uso de *args para sumar números:"
      ],
      "metadata": {
        "id": "ikNqiWj1aMdO"
      }
    },
    {
      "cell_type": "code",
      "source": [
        "def sumar_numeros(*numeros):\n",
        "    \"\"\"Suma una cantidad variable de números.\"\"\"\n",
        "    total = sum(numeros)\n",
        "    print(f\"La suma de {numeros} es {total}\")\n",
        "\n",
        "sumar_numeros(1, 2, 3)\n",
        "sumar_numeros(4, 5, 6, 7)\n"
      ],
      "metadata": {
        "id": "8NFgI8veaSQb"
      },
      "execution_count": null,
      "outputs": []
    },
    {
      "cell_type": "markdown",
      "source": [
        "**Ejercicio 2.3:** Uso de **kwargs para crear un perfil de usuario:\n"
      ],
      "metadata": {
        "id": "P2PfeB5baUWJ"
      }
    },
    {
      "cell_type": "code",
      "source": [
        "def crear_perfil(**informacion):\n",
        "    \"\"\"Crea un perfil de usuario con la información proporcionada.\"\"\"\n",
        "    print(\"Perfil de usuario:\")\n",
        "    for clave, valor in informacion.items():\n",
        "        print(f\"{clave.capitalize()}: {valor}\")\n",
        "\n",
        "crear_perfil(nombre=\"Laura\", edad=28, ciudad=\"Barcelona\", profesion=\"Ingeniera\")\n"
      ],
      "metadata": {
        "id": "ovfbF1bcaYxU"
      },
      "execution_count": null,
      "outputs": []
    },
    {
      "cell_type": "markdown",
      "source": [
        "### Ejercicios:"
      ],
      "metadata": {
        "id": "soFcgT0_bpfG"
      }
    },
    {
      "cell_type": "markdown",
      "source": [
        "**Ejercicio 2.1.**\n",
        "\n",
        "Función de envío de notificaciones:\n",
        "\n",
        "Escribe una función enviar_notificacion(mensaje, *usuarios) que envíe un mensaje a múltiples usuarios."
      ],
      "metadata": {
        "id": "hiwNZzXAcJfK"
      }
    },
    {
      "cell_type": "code",
      "source": [],
      "metadata": {
        "id": "rvba96VLcJ6C"
      },
      "execution_count": null,
      "outputs": []
    },
    {
      "cell_type": "markdown",
      "source": [
        "\n",
        "**Ejercicio 2.2.**\n",
        "\n",
        "Gestor de pedidos:\n",
        "\n",
        "Crea una función procesar_pedido(cliente, **articulos) que procese un pedido con diferentes artículos y sus cantidades."
      ],
      "metadata": {
        "id": "qSvmS5_FcKYN"
      }
    },
    {
      "cell_type": "code",
      "source": [],
      "metadata": {
        "id": "TYej053QcMD9"
      },
      "execution_count": null,
      "outputs": []
    },
    {
      "cell_type": "markdown",
      "source": [
        "**Ejercicio 2.3.**\n",
        "\n",
        "Calculadora de estadísticas:\n",
        "\n",
        "Define una función calcular_estadisticas(*datos) que devuelva la media, mediana y moda de una serie de números."
      ],
      "metadata": {
        "id": "7NHehjhlcMkJ"
      }
    },
    {
      "cell_type": "code",
      "source": [],
      "metadata": {
        "id": "tJ-cI6eccOBS"
      },
      "execution_count": null,
      "outputs": []
    },
    {
      "cell_type": "markdown",
      "source": [
        "\n",
        "\n",
        "\n",
        "**Ejercicio 2.4.**\n",
        "\n",
        "Generador de informes:\n",
        "\n",
        "Escribe una función generar_informe(titulo, *secciones, **detalles) que genere un informe estructurado.\n"
      ],
      "metadata": {
        "id": "v3PT9rcOcPQw"
      }
    },
    {
      "cell_type": "code",
      "source": [],
      "metadata": {
        "id": "CnBYqSpIcPwr"
      },
      "execution_count": null,
      "outputs": []
    },
    {
      "cell_type": "markdown",
      "source": [
        "\n",
        "**Ejercicio 2.5.**\n",
        "\n",
        "Simulador de votación:\n",
        "\n",
        "Crea una función votar(opcion, **votantes) que registre los votos de diferentes personas."
      ],
      "metadata": {
        "id": "L0rvSBf4cQzN"
      }
    },
    {
      "cell_type": "code",
      "source": [],
      "metadata": {
        "id": "M7xKS2wOcRRa"
      },
      "execution_count": null,
      "outputs": []
    },
    {
      "cell_type": "markdown",
      "source": [
        "\n",
        "**Ejercicio 2.6.**\n",
        "\n",
        "Función de traducción:\n",
        "\n",
        "Define una función traducir(texto, idioma_destino=\"inglés\") que traduzca el texto al idioma especificado (simulado)."
      ],
      "metadata": {
        "id": "AYdypQQrcSWj"
      }
    },
    {
      "cell_type": "code",
      "source": [],
      "metadata": {
        "id": "7WL9H4QlcS8d"
      },
      "execution_count": null,
      "outputs": []
    },
    {
      "cell_type": "markdown",
      "source": [
        "\n",
        "\n",
        "\n",
        "**Ejercicio 2.7.**\n",
        "\n",
        "Personalizador de saludos:\n",
        "\n",
        "Escribe una función saludar_personalizado(nombre, mensaje=\"Hola\", **estilos) que salude aplicando diferentes estilos de texto (por ejemplo, mayúsculas, subrayado)."
      ],
      "metadata": {
        "id": "_D-iO_TjcUA1"
      }
    },
    {
      "cell_type": "code",
      "source": [],
      "metadata": {
        "id": "3fRzz4u1cUl2"
      },
      "execution_count": null,
      "outputs": []
    },
    {
      "cell_type": "markdown",
      "source": [
        "**Ejercicio 2.8.**\n",
        "\n",
        "Creador de menús dinámicos:\n",
        "\n",
        " Crea una función crear_menu(titulo, **opciones) que genere un menú interactivo en consola."
      ],
      "metadata": {
        "id": "rbS3E7CNcVvi"
      }
    },
    {
      "cell_type": "code",
      "source": [],
      "metadata": {
        "id": "LohSXKp0cWG-"
      },
      "execution_count": null,
      "outputs": []
    },
    {
      "cell_type": "markdown",
      "source": [
        "\n",
        "\n",
        "**Ejercicio 2.9.**\n",
        "\n",
        "Analizador de parámetros:\n",
        "\n",
        " Define una función analizar_parametros(*args, **kwargs) que imprima los tipos y valores de los argumentos recibidos."
      ],
      "metadata": {
        "id": "LKxXzvx9cXOi"
      }
    },
    {
      "cell_type": "code",
      "source": [],
      "metadata": {
        "id": "1jidSAC1cXqT"
      },
      "execution_count": null,
      "outputs": []
    },
    {
      "cell_type": "markdown",
      "source": [
        "\n",
        "\n",
        "\n",
        "\n",
        "\n",
        "\n",
        "\n",
        "\n",
        "\n",
        "**Ejercicio 2.10.**\n",
        "\n",
        "Función matemática genérica:\n",
        "\n",
        " Escribe una función operar_numeros(operacion, *numeros) que aplique una operación matemática (suma, multiplicación) a una serie de números."
      ],
      "metadata": {
        "id": "m-HwBFqSbsyN"
      }
    },
    {
      "cell_type": "code",
      "source": [],
      "metadata": {
        "id": "55ASXgrDcYJi"
      },
      "execution_count": null,
      "outputs": []
    },
    {
      "cell_type": "markdown",
      "source": [
        "## 3. Valores de Retorno\n"
      ],
      "metadata": {
        "id": "_syQYm27cnhy"
      }
    },
    {
      "cell_type": "markdown",
      "source": [
        "**Descripción:**\n",
        "\n",
        "**Uso de la palabra clave return:**\n",
        "- Termina la ejecución de la función y opcionalmente devuelve un valor.\n",
        "\n",
        "**Retorno de múltiples valores:**\n",
        "- Las funciones pueden devolver múltiples valores utilizando tuplas.\n",
        "\n",
        "**Retorno de funciones y objetos:**\n",
        "- Las funciones pueden devolver otras funciones u objetos complejos."
      ],
      "metadata": {
        "id": "Jj_yY7rDcqLZ"
      }
    },
    {
      "cell_type": "markdown",
      "source": [
        "### Ejemplos:"
      ],
      "metadata": {
        "id": "AsNLIvHac12j"
      }
    },
    {
      "cell_type": "markdown",
      "source": [
        "**Ejemplo 3.1.** Función que devuelve un diccionario:\n"
      ],
      "metadata": {
        "id": "YS5OJfxvc7mE"
      }
    },
    {
      "cell_type": "code",
      "source": [
        "def analizar_cadena(cadena):\n",
        "    \"\"\"Devuelve un diccionario con la longitud y número de vocales de la cadena.\"\"\"\n",
        "    vocales = 'aeiouAEIOU'\n",
        "    num_vocales = sum(1 for letra in cadena if letra in vocales)\n",
        "    resultado = {\n",
        "        'longitud': len(cadena),\n",
        "        'vocales': num_vocales\n",
        "    }\n",
        "    return resultado\n",
        "\n",
        "info = analizar_cadena(\"Hola Mundo\")\n",
        "print(info)\n"
      ],
      "metadata": {
        "id": "Oa-NX30OdAn_"
      },
      "execution_count": null,
      "outputs": []
    },
    {
      "cell_type": "markdown",
      "source": [
        "**Ejemplo 3.2** Función que retorna una función personalizada:"
      ],
      "metadata": {
        "id": "PYyP-T8DdC-K"
      }
    },
    {
      "cell_type": "code",
      "source": [
        "def crear_funcion_operador(operador):\n",
        "    \"\"\"Crea una función que aplica el operador dado.\"\"\"\n",
        "    if operador == 'suma':\n",
        "        def suma(a, b):\n",
        "            return a + b\n",
        "        return suma\n",
        "    elif operador == 'resta':\n",
        "        def resta(a, b):\n",
        "            return a - b\n",
        "        return resta\n",
        "    else:\n",
        "        return None\n",
        "\n",
        "operacion_suma = crear_funcion_operador('suma')\n",
        "resultado = operacion_suma(5, 3)\n",
        "print(f\"El resultado de la suma es {resultado}\")\n"
      ],
      "metadata": {
        "id": "36LkTnPAdQFX"
      },
      "execution_count": null,
      "outputs": []
    },
    {
      "cell_type": "markdown",
      "source": [
        "**Ejemplo 3.3** Función generador:\n"
      ],
      "metadata": {
        "id": "eQoPVISIdjkI"
      }
    },
    {
      "cell_type": "code",
      "source": [
        "def generador_pares(limite):\n",
        "    \"\"\"Genera números pares hasta el límite especificado.\"\"\"\n",
        "    numero = 0\n",
        "    while numero <= limite:\n",
        "        print(numero)\n",
        "        numero += 2\n",
        "\n",
        "generador_pares(10)"
      ],
      "metadata": {
        "collapsed": true,
        "id": "oHiQTtMbdj1-"
      },
      "execution_count": null,
      "outputs": []
    },
    {
      "cell_type": "markdown",
      "source": [
        "### Ejercicios:"
      ],
      "metadata": {
        "id": "k-c3O52FeJVj"
      }
    },
    {
      "cell_type": "markdown",
      "source": [
        "**Ejercicio 3.1:** Desglosador de billetes: Crea una función desglosar_cantidad(cantidad) que devuelva el número mínimo de billetes y monedas necesarios para una cantidad dada.\n"
      ],
      "metadata": {
        "id": "PxaEnReKeS0g"
      }
    },
    {
      "cell_type": "code",
      "source": [],
      "metadata": {
        "id": "O5-kEisSeTSZ"
      },
      "execution_count": null,
      "outputs": []
    },
    {
      "cell_type": "markdown",
      "source": [
        "**Ejercicio 3.2:**\n",
        "Analizador de URLs: Escribe una función analizar_url(url) que retorne el protocolo, dominio y ruta de una URL."
      ],
      "metadata": {
        "id": "DDgkT09keUSi"
      }
    },
    {
      "cell_type": "code",
      "source": [],
      "metadata": {
        "id": "30yhzEbueUoz"
      },
      "execution_count": null,
      "outputs": []
    },
    {
      "cell_type": "markdown",
      "source": [
        "**Ejercicio 3.3:**\n",
        "Calculadora de estadísticas de texto: Define una función estadisticas_texto(texto) que devuelva el número de oraciones, palabras y caracteres."
      ],
      "metadata": {
        "id": "hmj4a57zeWLB"
      }
    },
    {
      "cell_type": "code",
      "source": [],
      "metadata": {
        "id": "Cc0PLkmGeWup"
      },
      "execution_count": null,
      "outputs": []
    },
    {
      "cell_type": "markdown",
      "source": [
        "**Ejercicio 3.4:**\n",
        "Gestor de inventario: Crea una función actualizar_inventario(producto, cantidad, inventario) que actualice un diccionario de inventario y lo retorne.\n"
      ],
      "metadata": {
        "id": "Ss3REMhxeYGq"
      }
    },
    {
      "cell_type": "code",
      "source": [],
      "metadata": {
        "id": "spbOEybyeYhX"
      },
      "execution_count": null,
      "outputs": []
    },
    {
      "cell_type": "markdown",
      "source": [
        "**Ejercicio 3.5:** Generador de números primos: Escribe una función generador_primos() que retorne una función que genere números primos consecutivos cada vez que se llame."
      ],
      "metadata": {
        "id": "5xgc9ra7eZVG"
      }
    },
    {
      "cell_type": "code",
      "source": [],
      "metadata": {
        "id": "NQwZ3MYceZo3"
      },
      "execution_count": null,
      "outputs": []
    },
    {
      "cell_type": "markdown",
      "source": [
        "**Ejercicio 3.6:**\n",
        "Conversor de moneda con tasas variables: Define una función convertir_moneda(cantidad, moneda_origen, moneda_destino, tasas_cambio) que utilice un diccionario de tasas de cambio."
      ],
      "metadata": {
        "id": "EYCpmwRmeaoj"
      }
    },
    {
      "cell_type": "code",
      "source": [],
      "metadata": {
        "id": "-hnTB2GWebDt"
      },
      "execution_count": null,
      "outputs": []
    },
    {
      "cell_type": "markdown",
      "source": [
        "**Ejercicio 3.7:**\n",
        "Calculador de ruta más corta: Crea una función ruta_mas_corta(grafo, inicio, fin) que devuelva la ruta más corta entre dos nodos (puedes simular el grafo como un diccionario).\n"
      ],
      "metadata": {
        "id": "afHiPlRpecrT"
      }
    },
    {
      "cell_type": "code",
      "source": [],
      "metadata": {
        "id": "NCTdspz5ecVU"
      },
      "execution_count": null,
      "outputs": []
    },
    {
      "cell_type": "markdown",
      "source": [
        "**Ejercicio 3.8:**\n",
        "Simulador de máquina expendedora: Escribe una función seleccionar_producto(producto, **inventario) que devuelva el precio y actualice el inventario.\n"
      ],
      "metadata": {
        "id": "653kosgYeeAJ"
      }
    },
    {
      "cell_type": "code",
      "source": [],
      "metadata": {
        "id": "TDhcNQAOeeU4"
      },
      "execution_count": null,
      "outputs": []
    },
    {
      "cell_type": "markdown",
      "source": [
        "**Ejercicio 3.9:**\n",
        " Sistema de recomendaciones: Define una función recomendar(producto, **productos_relacionados) que devuelva una lista de productos recomendados."
      ],
      "metadata": {
        "id": "8ZCgnE32ef0a"
      }
    },
    {
      "cell_type": "code",
      "source": [],
      "metadata": {
        "id": "GAqXydsMegRT"
      },
      "execution_count": null,
      "outputs": []
    },
    {
      "cell_type": "markdown",
      "source": [
        "**Ejercicio 3.10:**\n",
        "Análisis de sentimientos: Crea una función analizar_sentimiento(texto) que devuelva una puntuación de sentimiento (puedes simular el análisis)."
      ],
      "metadata": {
        "id": "B_IdY9hjeB1S"
      }
    },
    {
      "cell_type": "code",
      "source": [],
      "metadata": {
        "id": "z4GGRBPMDMmh"
      },
      "execution_count": null,
      "outputs": []
    },
    {
      "cell_type": "markdown",
      "source": [
        "## 4. Manejo de Excepciones en Funciones\n"
      ],
      "metadata": {
        "id": "19qfAkp_ek5f"
      }
    },
    {
      "cell_type": "markdown",
      "source": [
        "**Descripción:**\n",
        "\n",
        "**Uso de try, except, finally:**\n",
        "\n",
        "- Manejo de errores y excepciones para evitar que el programa se detenga abruptamente.\n",
        "\n",
        "\n",
        "**Propagación de excepciones:**\n",
        "\n",
        "- Las excepciones pueden propagarse hacia arriba en la pila de llamadas si no son manejadas.\n",
        "\n",
        "**Creación de excepciones personalizadas:**\n",
        "\n",
        "- Definir excepciones propias para casos específicos."
      ],
      "metadata": {
        "id": "IXbKc4XEesJD"
      }
    },
    {
      "cell_type": "markdown",
      "source": [
        "### Ejemplos:"
      ],
      "metadata": {
        "id": "RQr-Pkhge448"
      }
    },
    {
      "cell_type": "markdown",
      "source": [
        "**Ejemplo 4.1.** Manejo de excepciones al convertir tipos:"
      ],
      "metadata": {
        "id": "8GgvgY4de7rA"
      }
    },
    {
      "cell_type": "code",
      "source": [
        "def convertir_a_entero(valor):\n",
        "    \"\"\"Convierte un valor a entero si es posible.\"\"\"\n",
        "    try:\n",
        "        return int(valor)\n",
        "    except (ValueError, TypeError):\n",
        "        print(\"No se puede convertir el valor a entero.\")\n",
        "        return None\n",
        "\n",
        "numero = convertir_a_entero(\"abc\")\n"
      ],
      "metadata": {
        "id": "wFCp0W4zfCiz"
      },
      "execution_count": null,
      "outputs": []
    },
    {
      "cell_type": "markdown",
      "source": [
        "**Ejemplo 4.2.** Propagación de excepciones:"
      ],
      "metadata": {
        "id": "N2Nnfb-DfEHW"
      }
    },
    {
      "cell_type": "code",
      "source": [
        "def funcion_interna():\n",
        "    raise ValueError(\"Ocurrió un error en la función interna.\")\n",
        "\n",
        "def funcion_externa():\n",
        "    try:\n",
        "        funcion_interna()\n",
        "    except ValueError as e:\n",
        "        print(f\"Excepción capturada en función externa: {e}\")\n",
        "\n",
        "funcion_externa()\n"
      ],
      "metadata": {
        "id": "kwEeTryXfOD7"
      },
      "execution_count": null,
      "outputs": []
    },
    {
      "cell_type": "markdown",
      "source": [
        "**Ejemplo 4.3.** Excepción personalizada para validación:"
      ],
      "metadata": {
        "id": "LjtoYz07fQPy"
      }
    },
    {
      "cell_type": "code",
      "source": [
        "def verificar_edad(edad):\n",
        "    if edad < 0:\n",
        "        raise ValueError(\"La edad no puede ser negativa.\")\n",
        "    else:\n",
        "        print(f\"La edad es {edad}\")\n",
        "\n",
        "try:\n",
        "    verificar_edad(-5)\n",
        "except ValueError as e:\n",
        "    print(e)\n"
      ],
      "metadata": {
        "id": "2HaVvW5SfXeA"
      },
      "execution_count": null,
      "outputs": []
    },
    {
      "cell_type": "markdown",
      "source": [
        "\n",
        "La función raise en Python se usa para lanzar o \"levantar\" una excepción de manera explícita en el flujo de un programa. Esto es útil para manejar errores o situaciones específicas que requieran interrumpir la ejecución y notificar de un problema."
      ],
      "metadata": {
        "id": "NONS4sMLAOUB"
      }
    },
    {
      "cell_type": "code",
      "source": [
        "def verificar_positivo(x):\n",
        "    if x <= 0:\n",
        "        raise ValueError(\"El valor debe ser positivo\")\n",
        "    return x\n",
        "\n",
        "try:\n",
        "    verificar_positivo(-4)\n",
        "except ValueError as e:\n",
        "    print(e)\n"
      ],
      "metadata": {
        "id": "AR4uaIowATXT"
      },
      "execution_count": null,
      "outputs": []
    },
    {
      "cell_type": "code",
      "source": [
        "try:\n",
        "    # Intentar algo que podría causar un error\n",
        "    resultado = 10 / 0\n",
        "except ZeroDivisionError as e:\n",
        "    print(\"Se ha capturado una división por cero\")\n"
      ],
      "metadata": {
        "id": "d73Lfy5hA0JR",
        "outputId": "61913ac1-9316-42ed-fb87-08323425aae2",
        "colab": {
          "base_uri": "https://localhost:8080/"
        }
      },
      "execution_count": null,
      "outputs": [
        {
          "output_type": "stream",
          "name": "stdout",
          "text": [
            "Se ha capturado una división por cero\n"
          ]
        }
      ]
    },
    {
      "cell_type": "markdown",
      "source": [
        "- FileNotFoundError: Común al trabajar con archivos, cuando intentas abrir uno que no existe.\n",
        "\n",
        "- ZeroDivisionError: Ocurre cuando intentas dividir un número por cero, algo frecuente en cálculos matemáticos.\n",
        "\n",
        "- ValueError: Se lanza cuando un valor tiene el tipo correcto pero no el contenido adecuado (por ejemplo, al intentar convertir int(\"texto\")).\n",
        "\n",
        "- TypeError: Común cuando realizas operaciones en tipos incompatibles, como sumar una cadena y un número (\"texto\" + 5).\n",
        "\n",
        "- IndexError: Sucede al intentar acceder a un índice fuera del rango en una lista o secuencia (lista[10] en una lista de solo 5 elementos).\n",
        "\n",
        "- KeyError: Frecuente al trabajar con diccionarios cuando intentas acceder a una clave que no existe (mi_diccionario[\"clave_inexistente\"]).\n",
        "\n",
        "- AttributeError: Aparece al intentar acceder a un atributo o método que no existe en un objeto (cadena.inexistente() si cadena es un string sin ese método).\n",
        "\n",
        "- NameError: Común si intentas usar una variable o función que no ha sido definida (por ejemplo, un error tipográfico en el nombre de una variable).\n",
        "\n",
        "- ImportError / ModuleNotFoundError: Aparece al importar módulos que no existen o no están instalados.\n",
        "\n",
        "- SyntaxError: Ocurre cuando hay errores de sintaxis en el código, como faltas de paréntesis o dos puntos en estructuras condicionales o bucles.\n",
        "\n",
        "- IndentationError: Común en Python, donde la indentación es crucial; aparece cuando la indentación es incorrecta en el código."
      ],
      "metadata": {
        "id": "siEYMamuCbgw"
      }
    },
    {
      "cell_type": "markdown",
      "source": [
        "**Finally**\n",
        "\n",
        "El bloque finally en Python se usa junto con try y except para asegurar que un conjunto específico de instrucciones se ejecute siempre, sin importar si se lanzó una excepción o no. Es particularmente útil para liberar recursos, cerrar archivos, o realizar cualquier acción que deba ejecutarse sin falta, incluso si ocurre un error.\n",
        "\n",
        "**Estructura básica**"
      ],
      "metadata": {
        "id": "RNpukgfdB9pP"
      }
    },
    {
      "cell_type": "code",
      "source": [
        "try:\n",
        "    # Código que podría lanzar una excepción\n",
        "    x = 10 / 0\n",
        "except ZeroDivisionError:\n",
        "    print(\"Se ha capturado una división por cero\")\n",
        "finally:\n",
        "    print(\"Este bloque se ejecuta siempre, ocurra o no una excepción.\")\n"
      ],
      "metadata": {
        "id": "fVcaTIdpCAwp"
      },
      "execution_count": null,
      "outputs": []
    },
    {
      "cell_type": "code",
      "source": [
        "try:\n",
        "    file = open(\"archivo.txt\", \"r\")\n",
        "    # Código para leer el archivo\n",
        "except FileNotFoundError:\n",
        "    print(\"El archivo no se encontró.\")\n",
        "finally:\n",
        "    file.close()  # Se ejecuta siempre, asegurando que el archivo se cierre\n",
        "    print(\"Archivo cerrado.\")\n"
      ],
      "metadata": {
        "id": "JmVWYMN7CENZ"
      },
      "execution_count": null,
      "outputs": []
    },
    {
      "cell_type": "markdown",
      "source": [
        "### Ejercicios:"
      ],
      "metadata": {
        "id": "nq51Nw_IfbCf"
      }
    },
    {
      "cell_type": "markdown",
      "source": [
        "**Ejercicio 4.1:** Validador de entradas de usuario: Escribe una función que solicite un número al usuario y maneje excepciones por entradas inválidas.\n"
      ],
      "metadata": {
        "id": "353UcRsZfc2t"
      }
    },
    {
      "cell_type": "code",
      "source": [],
      "metadata": {
        "id": "RWi7jP8HfdQq"
      },
      "execution_count": null,
      "outputs": []
    },
    {
      "cell_type": "markdown",
      "source": [
        "**Ejercicio 4.2:** Lectura de archivos con manejo de errores: Crea una función que abra y lea un archivo, manejando posibles excepciones.\n"
      ],
      "metadata": {
        "id": "DYiNXieVfemQ"
      }
    },
    {
      "cell_type": "code",
      "source": [],
      "metadata": {
        "id": "mp5HOcB7ffCM"
      },
      "execution_count": null,
      "outputs": []
    },
    {
      "cell_type": "markdown",
      "source": [
        "**Ejercicio 4.3:**  Sistema de autenticación: Implementa una función que valide credenciales de usuario y lance excepciones personalizadas en caso de errores."
      ],
      "metadata": {
        "id": "7nixmIYefgNd"
      }
    },
    {
      "cell_type": "code",
      "source": [],
      "metadata": {
        "id": "O9d_JD-Efglp"
      },
      "execution_count": null,
      "outputs": []
    },
    {
      "cell_type": "markdown",
      "source": [
        "**Ejercicio 4.4:** Cálculo con validación de datos: Escribe una función que realice operaciones matemáticas y maneje excepciones por divisiones entre cero o tipos de datos incorrectos."
      ],
      "metadata": {
        "id": "98FptMoCfhl8"
      }
    },
    {
      "cell_type": "code",
      "source": [],
      "metadata": {
        "id": "1KFzM2Vwfh_T"
      },
      "execution_count": null,
      "outputs": []
    },
    {
      "cell_type": "markdown",
      "source": [
        "**Ejercicio 4.5:**\n",
        "Registro de errores en un sistema: Define una función que registre los errores ocurridos en un archivo de log."
      ],
      "metadata": {
        "id": "S_5FUrIefjDL"
      }
    },
    {
      "cell_type": "code",
      "source": [],
      "metadata": {
        "id": "kQo5LSyyfje8"
      },
      "execution_count": null,
      "outputs": []
    },
    {
      "cell_type": "markdown",
      "source": [
        "**Ejercicio 4.6:**\n",
        "Reintento automático después de una excepción: Crea una función que reintente una operación un número determinado de veces en caso de fallo."
      ],
      "metadata": {
        "id": "wbGIf-u5fk_w"
      }
    },
    {
      "cell_type": "code",
      "source": [],
      "metadata": {
        "id": "KR6aISnwflbl"
      },
      "execution_count": null,
      "outputs": []
    },
    {
      "cell_type": "markdown",
      "source": [
        "**Ejercicio 4.7:**\n",
        "Manejo de múltiples excepciones en funciones anidadas: Escribe funciones anidadas que manejen y propaguen diferentes excepciones."
      ],
      "metadata": {
        "id": "GbaQSdBafmgG"
      }
    },
    {
      "cell_type": "code",
      "source": [],
      "metadata": {
        "id": "x0H8Nhc1fm52"
      },
      "execution_count": null,
      "outputs": []
    },
    {
      "cell_type": "markdown",
      "source": [
        "**Ejercicio 4.8:**\n",
        "Validación de formularios: Implementa una función que valide datos de un formulario y maneje excepciones por campos faltantes o inválidos.\n"
      ],
      "metadata": {
        "id": "fZciX00Yfn_0"
      }
    },
    {
      "cell_type": "code",
      "source": [],
      "metadata": {
        "id": "hdF5KlhSfoeu"
      },
      "execution_count": null,
      "outputs": []
    },
    {
      "cell_type": "markdown",
      "source": [
        "**Ejercicio 4.9:**\n",
        "Operaciones con recursos externos: Escribe una función que maneje excepciones al conectar con una base de datos simulada."
      ],
      "metadata": {
        "id": "ZuPWfla0fpg5"
      }
    },
    {
      "cell_type": "code",
      "source": [],
      "metadata": {
        "id": "zfcNiYctfp8_"
      },
      "execution_count": null,
      "outputs": []
    },
    {
      "cell_type": "markdown",
      "source": [
        "---\n",
        "\n",
        "# Gracias por completar este laboratorio!\n",
        "\n",
        "---\n"
      ],
      "metadata": {
        "id": "ceKA4zkxfvlF"
      }
    }
  ]
}