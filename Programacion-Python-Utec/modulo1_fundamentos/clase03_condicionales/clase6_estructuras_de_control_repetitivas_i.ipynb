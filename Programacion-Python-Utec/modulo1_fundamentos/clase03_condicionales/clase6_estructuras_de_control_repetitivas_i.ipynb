{
  "nbformat": 4,
  "nbformat_minor": 0,
  "metadata": {
    "colab": {
      "provenance": [],
      "include_colab_link": true
    },
    "kernelspec": {
      "name": "python3",
      "display_name": "Python 3"
    },
    "language_info": {
      "name": "python"
    }
  },
  "cells": [
    {
      "cell_type": "markdown",
      "metadata": {
        "id": "view-in-github",
        "colab_type": "text"
      },
      "source": [
        "<a href=\"https://colab.research.google.com/github/JorgePeje/test-python-utec/blob/main/Programacion-Python-Utec/modulo1_fundamentos/clase03_condicionales/clase6_estructuras_de_control_repetitivas_i.ipynb\" target=\"_parent\"><img src=\"https://colab.research.google.com/assets/colab-badge.svg\" alt=\"Open In Colab\"/></a>"
      ]
    },
    {
      "cell_type": "markdown",
      "source": [
        "# 1. Introducción a Diccionarios"
      ],
      "metadata": {
        "id": "ZXZB5T0_yOyz"
      }
    },
    {
      "cell_type": "markdown",
      "source": [
        "**¿Qué es un diccionario?**\n",
        "\n",
        "Es una colección de datos en formato clave: valor.\n",
        "\n",
        "Permite acceder a la información mediante claves, no por posición como las listas.\n",
        "\n"
      ],
      "metadata": {
        "id": "IYQZoyHT2EIY"
      }
    },
    {
      "cell_type": "markdown",
      "source": [
        "**¿Para qué sirve?**\n",
        "\n",
        "Ideal para representar objetos del mundo real.\n",
        "\n",
        "Muy útil en el sector financiero para almacenar datos de clientes, productos financieros, tasas, etc."
      ],
      "metadata": {
        "id": "RtUMR-2i2NoZ"
      }
    },
    {
      "cell_type": "markdown",
      "source": [
        "Ejemplo:"
      ],
      "metadata": {
        "id": "f7P8f-Xp2Vxd"
      }
    },
    {
      "cell_type": "code",
      "source": [
        "cliente = {\n",
        "    \"nombre\": \"Ana\",\n",
        "    \"edad\": 35,\n",
        "    \"ingreso\": 4500,\n",
        "    \"morosidades\": 0\n",
        "}\n",
        "print(cliente[\"ingreso\"])  # Acceder al ingreso del cliente"
      ],
      "metadata": {
        "id": "XoMaweyb2JzS",
        "colab": {
          "base_uri": "https://localhost:8080/"
        },
        "outputId": "4694b12a-c088-4d08-9abd-198510c48b61"
      },
      "execution_count": null,
      "outputs": [
        {
          "output_type": "stream",
          "name": "stdout",
          "text": [
            "4500\n"
          ]
        }
      ]
    },
    {
      "cell_type": "code",
      "source": [
        "print(cliente[\"edad\"])"
      ],
      "metadata": {
        "colab": {
          "base_uri": "https://localhost:8080/"
        },
        "id": "vVQWCH98Q5EO",
        "outputId": "6a07959b-62f1-4d43-921c-e3ed7207b565"
      },
      "execution_count": null,
      "outputs": [
        {
          "output_type": "stream",
          "name": "stdout",
          "text": [
            "35\n"
          ]
        }
      ]
    },
    {
      "cell_type": "markdown",
      "source": [
        "**Cómo acceder a valores:**\n",
        "\n",
        "Usando la clave: diccionario[\"clave\"]"
      ],
      "metadata": {
        "id": "w4ylLTfU2aeH"
      }
    },
    {
      "cell_type": "markdown",
      "source": [
        "**Añadir nuevo par clave-valor:**"
      ],
      "metadata": {
        "id": "jmS8eewO2fFC"
      }
    },
    {
      "cell_type": "code",
      "execution_count": null,
      "metadata": {
        "id": "uUEYtzY9x5Gm"
      },
      "outputs": [],
      "source": [
        "cliente[\"tipo_credito\"] = \"Hipotecario\""
      ]
    },
    {
      "cell_type": "code",
      "source": [
        "print(cliente[\"tipo_credito\"])"
      ],
      "metadata": {
        "colab": {
          "base_uri": "https://localhost:8080/"
        },
        "id": "VpKSLtCRT02g",
        "outputId": "b0228ddd-2467-49a3-97b6-42f45450c993"
      },
      "execution_count": null,
      "outputs": [
        {
          "output_type": "stream",
          "name": "stdout",
          "text": [
            "Hipotecario\n"
          ]
        }
      ]
    },
    {
      "cell_type": "code",
      "source": [
        "cliente"
      ],
      "metadata": {
        "colab": {
          "base_uri": "https://localhost:8080/"
        },
        "id": "CuZtucnYUZny",
        "outputId": "b21055d3-6c92-4486-ae67-f5755cb5e367"
      },
      "execution_count": null,
      "outputs": [
        {
          "output_type": "execute_result",
          "data": {
            "text/plain": [
              "{'nombre': 'Ana',\n",
              " 'edad': 35,\n",
              " 'ingreso': 4500,\n",
              " 'morosidades': 0,\n",
              " 'tipo_credito': 'Hipotecario'}"
            ]
          },
          "metadata": {},
          "execution_count": 7
        }
      ]
    },
    {
      "cell_type": "markdown",
      "source": [
        "**Empezar con un diccionario vacío:**"
      ],
      "metadata": {
        "id": "51g4lCo92lwQ"
      }
    },
    {
      "cell_type": "code",
      "source": [
        "nuevo_cliente = {}\n",
        "nuevo_cliente[\"nombre\"] = \"Luis\"\n",
        "nuevo_cliente[\"ingreso\"] = 3000"
      ],
      "metadata": {
        "id": "tpK5NSue2mx3"
      },
      "execution_count": null,
      "outputs": []
    },
    {
      "cell_type": "code",
      "source": [
        "nuevo_cliente"
      ],
      "metadata": {
        "colab": {
          "base_uri": "https://localhost:8080/"
        },
        "id": "ztrbT9COUfqk",
        "outputId": "ae9cf36c-6144-40c2-8166-07901cc2c9d6"
      },
      "execution_count": null,
      "outputs": [
        {
          "output_type": "execute_result",
          "data": {
            "text/plain": [
              "{'nombre': 'Luis', 'ingreso': 3000}"
            ]
          },
          "metadata": {},
          "execution_count": 9
        }
      ]
    },
    {
      "cell_type": "code",
      "source": [
        "new_datos={}\n",
        "new_datos[\"Nombre\"]=\"Jorge Peje\"\n",
        "new_datos[\"DNI\"]= \"73030076\"\n",
        "new_datos[\"Edad\"]= 29"
      ],
      "metadata": {
        "id": "FzBSq11AUog7"
      },
      "execution_count": null,
      "outputs": []
    },
    {
      "cell_type": "code",
      "source": [
        "new_datos2={}\n",
        "new_datos2[\"Nombre\"]=\"Bridgette Cordova\"\n",
        "new_datos2[\"DNI\"]= \"73007258\"\n",
        "new_datos2[\"Edad\"]= 30"
      ],
      "metadata": {
        "id": "2zib8XQcW6qJ"
      },
      "execution_count": null,
      "outputs": []
    },
    {
      "cell_type": "code",
      "source": [
        "new_datos3={}\n",
        "new_datos3[\"Nombre\"]=\"Herlinda Gonzales\"\n",
        "new_datos3[\"DNI\"]= \"07976021\"\n",
        "new_datos3[\"Edad\"]= 54"
      ],
      "metadata": {
        "id": "GyMS2mr3XlWi"
      },
      "execution_count": null,
      "outputs": []
    },
    {
      "cell_type": "code",
      "source": [
        "datos={\n",
        "    \"1\":new_datos,\n",
        "    \"2\":new_datos2,\n",
        "    \"3\":new_datos3,\n",
        "}"
      ],
      "metadata": {
        "id": "3TIuTt5qZMCC"
      },
      "execution_count": null,
      "outputs": []
    },
    {
      "cell_type": "code",
      "source": [
        "print(datos)\n",
        "datos['1']['Edad']=21\n",
        "print(datos)"
      ],
      "metadata": {
        "colab": {
          "base_uri": "https://localhost:8080/"
        },
        "id": "yYnrpS5Iab2C",
        "outputId": "8dbf0dee-ba6f-43ba-d903-e7843ebfe2e2"
      },
      "execution_count": null,
      "outputs": [
        {
          "output_type": "stream",
          "name": "stdout",
          "text": [
            "{'1': {'Nombre': 'Jorge Peje', 'DNI': '73030076', 'Edad': 29}, '2': {'Nombre': 'Bridgette Cordova', 'DNI': '73007258', 'Edad': 30}, '3': {'Nombre': 'Herlinda Gonzales', 'DNI': '07976021', 'Edad': 54}}\n",
            "{'1': {'Nombre': 'Jorge Peje', 'DNI': '73030076', 'Edad': 21}, '2': {'Nombre': 'Bridgette Cordova', 'DNI': '73007258', 'Edad': 30}, '3': {'Nombre': 'Herlinda Gonzales', 'DNI': '07976021', 'Edad': 54}}\n"
          ]
        }
      ]
    },
    {
      "cell_type": "code",
      "source": [
        "print(datos)\n",
        "datos['2']['Sexo']=\"Femenino\"\n",
        "print(datos)"
      ],
      "metadata": {
        "colab": {
          "base_uri": "https://localhost:8080/"
        },
        "id": "KmP1W8bsbPVS",
        "outputId": "2daa28be-79e7-475d-a686-d32b181d4662"
      },
      "execution_count": null,
      "outputs": [
        {
          "output_type": "stream",
          "name": "stdout",
          "text": [
            "{'1': {'Nombre': 'Jorge Peje', 'DNI': '73030076', 'Edad': 21}, '2': {'Nombre': 'Bridgette Cordova', 'DNI': '73007258', 'Edad': 30}, '3': {'Nombre': 'Herlinda Gonzales', 'DNI': '07976021', 'Edad': 54}}\n",
            "{'1': {'Nombre': 'Jorge Peje', 'DNI': '73030076', 'Edad': 21}, '2': {'Nombre': 'Bridgette Cordova', 'DNI': '73007258', 'Edad': 30, 'Sexo': 'Femenino'}, '3': {'Nombre': 'Herlinda Gonzales', 'DNI': '07976021', 'Edad': 54}}\n"
          ]
        }
      ]
    },
    {
      "cell_type": "code",
      "source": [
        "print(datos)\n",
        "del datos['1']\n",
        "print(datos)"
      ],
      "metadata": {
        "colab": {
          "base_uri": "https://localhost:8080/"
        },
        "id": "FK4IscvJbh2m",
        "outputId": "423b2a55-c50d-45fd-8fa1-0087e0f9b6de"
      },
      "execution_count": null,
      "outputs": [
        {
          "output_type": "stream",
          "name": "stdout",
          "text": [
            "{'1': {'Nombre': 'Jorge Peje', 'DNI': '73030076', 'Edad': 21}, '2': {'Nombre': 'Bridgette Cordova', 'DNI': '73007258', 'Edad': 30, 'Sexo': 'Femenino'}, '3': {'Nombre': 'Herlinda Gonzales', 'DNI': '07976021', 'Edad': 54}}\n",
            "{'2': {'Nombre': 'Bridgette Cordova', 'DNI': '73007258', 'Edad': 30, 'Sexo': 'Femenino'}, '3': {'Nombre': 'Herlinda Gonzales', 'DNI': '07976021', 'Edad': 54}}\n"
          ]
        }
      ]
    },
    {
      "cell_type": "code",
      "source": [],
      "metadata": {
        "id": "Kuwf849jc8Lw"
      },
      "execution_count": null,
      "outputs": []
    },
    {
      "cell_type": "code",
      "source": [],
      "metadata": {
        "id": "0FrJuoIBbfP_"
      },
      "execution_count": null,
      "outputs": []
    },
    {
      "cell_type": "markdown",
      "source": [
        "**Modificar valores:**"
      ],
      "metadata": {
        "id": "_sa6x1ct2rOy"
      }
    },
    {
      "cell_type": "code",
      "source": [
        "cliente[\"ingreso\"] = 5000"
      ],
      "metadata": {
        "id": "6pQI6-vr2vpI"
      },
      "execution_count": null,
      "outputs": []
    },
    {
      "cell_type": "markdown",
      "source": [
        "**Eliminar pares clave-valor:**"
      ],
      "metadata": {
        "id": "DUHgSOL22xrI"
      }
    },
    {
      "cell_type": "code",
      "source": [
        "clientes = {\n",
        "    \"001\": {\"nombre\": \"Ana\", \"ingreso\": 4000},\n",
        "    \"002\": {\"nombre\": \"Luis\", \"ingreso\": 3000}\n",
        "}"
      ],
      "metadata": {
        "id": "Aq7-4wBo205G"
      },
      "execution_count": null,
      "outputs": []
    },
    {
      "cell_type": "code",
      "source": [
        "print(clientes)"
      ],
      "metadata": {
        "colab": {
          "base_uri": "https://localhost:8080/"
        },
        "id": "GBxJtSNlYovZ",
        "outputId": "30419070-85e4-4af9-b550-720f4b130670"
      },
      "execution_count": null,
      "outputs": [
        {
          "output_type": "stream",
          "name": "stdout",
          "text": [
            "{'001': {'nombre': 'Ana', 'ingreso': 4000}, '002': {'nombre': 'Luis', 'ingreso': 3000}}\n"
          ]
        }
      ]
    },
    {
      "cell_type": "markdown",
      "source": [
        "**Ejercicio 1:**\n",
        "\n",
        "Crea un diccionario para un producto financiero con claves como nombre, tasa de interés y tipo. Luego accede a la tasa de interés y modifícala.\n",
        "\n",
        "\n",
        "\n"
      ],
      "metadata": {
        "id": "83NKUBXf23zf"
      }
    },
    {
      "cell_type": "markdown",
      "source": [
        "**Ejercicio 2:**\n",
        "\n",
        "Crea un diccionario de 3 clientes con su nombre e ingresos. Agrega un nuevo cliente. Luego, elimina uno de los existentes."
      ],
      "metadata": {
        "id": "Czi-iYwt27Lr"
      }
    },
    {
      "cell_type": "code",
      "source": [
        "\n",
        "c1={\n",
        "    \"nombre\":\"Jorge\",\n",
        "    \"ingreso\":1500\n",
        "}\n",
        "c2={\n",
        "    \"nombre\":\"Diego\",\n",
        "    \"ingreso\":2000\n",
        "}\n",
        "c3={\n",
        "    \"nombre\":\"Bridgette\",\n",
        "    \"ingreso\":900\n",
        "}\n",
        "clientes={\n",
        "    \"01\": c1,\n",
        "    \"02\": c2,\n",
        "    \"03\": c3\n",
        "}\n",
        "print(clientes) # Se creo el diccionario con 03 clientes\n",
        "clientes[\"04\"]={\n",
        "    \"nombre\": \"Victoria\",\n",
        "    \"ingreso\": 2000\n",
        "}\n",
        "print(clientes) # Se agrega 01 cliente\n",
        "\n",
        "del clientes[\"04\"]\n",
        "print(clientes)"
      ],
      "metadata": {
        "colab": {
          "base_uri": "https://localhost:8080/"
        },
        "id": "EBx9NvdVfHH5",
        "outputId": "2f0e2784-0bf5-44e4-e69b-2130f2d14067"
      },
      "execution_count": null,
      "outputs": [
        {
          "output_type": "stream",
          "name": "stdout",
          "text": [
            "{'01': {'nombre': 'Jorge', 'ingreso': 1500}, '02': {'nombre': 'Diego', 'ingreso': 2000}, '03': {'nombre': 'Bridgette', 'ingreso': 900}}\n",
            "{'01': {'nombre': 'Jorge', 'ingreso': 1500}, '02': {'nombre': 'Diego', 'ingreso': 2000}, '03': {'nombre': 'Bridgette', 'ingreso': 900}, '04': {'nombre': 'Victoria', 'ingreso': 2000}}\n",
            "{'01': {'nombre': 'Jorge', 'ingreso': 1500}, '02': {'nombre': 'Diego', 'ingreso': 2000}, '03': {'nombre': 'Bridgette', 'ingreso': 900}}\n"
          ]
        }
      ]
    },
    {
      "cell_type": "markdown",
      "source": [
        "# 2. For en Python"
      ],
      "metadata": {
        "id": "w2oBkGm-3IZi"
      }
    },
    {
      "cell_type": "markdown",
      "source": [
        "**¿Qué es for?**\n",
        "\n",
        "Una estructura de control repetitiva.\n",
        "\n",
        "Se usa para recorrer elementos de una lista, string o diccionario."
      ],
      "metadata": {
        "id": "vqkAmEE33Ov0"
      }
    },
    {
      "cell_type": "markdown",
      "source": [
        "**¿Para qué sirve?**\n",
        "\n",
        "Automatizar procesos repetitivos, como revisar múltiples clientes o productos financieros."
      ],
      "metadata": {
        "id": "6NnHm2Zw3RFo"
      }
    },
    {
      "cell_type": "markdown",
      "source": [
        "**Sintaxis básica:**\n"
      ],
      "metadata": {
        "id": "tJGAMI9Q3TwI"
      }
    },
    {
      "cell_type": "code",
      "source": [
        "lista_clientes = [\"Ana\",\"Luis\",\"Sofia\"]\n",
        "lista_clientes"
      ],
      "metadata": {
        "colab": {
          "base_uri": "https://localhost:8080/"
        },
        "id": "bXrjNSM7l4Sr",
        "outputId": "111c1bb9-b15b-4a25-bfd8-ea45ed703b4c"
      },
      "execution_count": 1,
      "outputs": [
        {
          "output_type": "execute_result",
          "data": {
            "text/plain": [
              "['Ana', 'Luis', 'Sofia']"
            ]
          },
          "metadata": {},
          "execution_count": 1
        }
      ]
    },
    {
      "cell_type": "code",
      "source": [
        "for cliente in lista_clientes:\n",
        "    print(cliente)\n",
        "lista_clientes [0]"
      ],
      "metadata": {
        "id": "lGd8GFjZ26u5",
        "colab": {
          "base_uri": "https://localhost:8080/",
          "height": 91
        },
        "outputId": "c36eda55-859d-4dee-d4f6-6ffc31993782"
      },
      "execution_count": 3,
      "outputs": [
        {
          "output_type": "stream",
          "name": "stdout",
          "text": [
            "Ana\n",
            "Luis\n",
            "Sofia\n"
          ]
        },
        {
          "output_type": "execute_result",
          "data": {
            "text/plain": [
              "'Ana'"
            ],
            "application/vnd.google.colaboratory.intrinsic+json": {
              "type": "string"
            }
          },
          "metadata": {},
          "execution_count": 3
        }
      ]
    },
    {
      "cell_type": "markdown",
      "source": [
        "**¿Por qué es repetitiva?**\n",
        "\n",
        "Porque ejecuta el mismo bloque de código por cada elemento en la secuencia."
      ],
      "metadata": {
        "id": "zbzptSdD3cZ6"
      }
    },
    {
      "cell_type": "code",
      "source": [
        "ingresos = [1000, 2000, 3000, 2000, 1500, 2300, 2345]\n",
        "i=0\n",
        "for x in ingresos:\n",
        "    ingresos[i]=x*12\n",
        "    i=i+1\n",
        "    print(i,ingresos)"
      ],
      "metadata": {
        "id": "ddfuukXf3a-T",
        "colab": {
          "base_uri": "https://localhost:8080/"
        },
        "outputId": "f94dafd4-7bdb-449b-df87-f6d3c5e0e25f"
      },
      "execution_count": 12,
      "outputs": [
        {
          "output_type": "stream",
          "name": "stdout",
          "text": [
            "1 [12000, 2000, 3000, 2000, 1500, 2300, 2345]\n",
            "2 [12000, 24000, 3000, 2000, 1500, 2300, 2345]\n",
            "3 [12000, 24000, 36000, 2000, 1500, 2300, 2345]\n",
            "4 [12000, 24000, 36000, 24000, 1500, 2300, 2345]\n",
            "5 [12000, 24000, 36000, 24000, 18000, 2300, 2345]\n",
            "6 [12000, 24000, 36000, 24000, 18000, 27600, 2345]\n",
            "7 [12000, 24000, 36000, 24000, 18000, 27600, 28140]\n"
          ]
        }
      ]
    },
    {
      "cell_type": "code",
      "source": [
        "ingresos = [1000, 2000, 3000]\n",
        "ingresos_anuales=[]\n",
        "for ingreso in ingresos:\n",
        "  ingresos_anuales.append(ingreso*12)\n",
        "print(ingresos_anuales)"
      ],
      "metadata": {
        "colab": {
          "base_uri": "https://localhost:8080/"
        },
        "id": "spdholz1pDGP",
        "outputId": "068978ec-95e1-45ea-89e3-dd8150d99990"
      },
      "execution_count": 10,
      "outputs": [
        {
          "output_type": "stream",
          "name": "stdout",
          "text": [
            "[12000, 24000, 36000]\n"
          ]
        }
      ]
    },
    {
      "cell_type": "markdown",
      "source": [
        "Ejemplo 2: Recorrer un diccionario de clientes"
      ],
      "metadata": {
        "id": "yTflWWvp3hI1"
      }
    },
    {
      "cell_type": "code",
      "source": [
        "for id_cliente in clientes:\n",
        "    print(\"ID:\", id_cliente, \"Ingreso:\", clientes[id_cliente][\"ingreso\"])"
      ],
      "metadata": {
        "id": "1jReTnvu3kG0"
      },
      "execution_count": null,
      "outputs": []
    },
    {
      "cell_type": "markdown",
      "source": [
        "Ejemplo 3: Contar cuántos clientes tienen ingreso > 3000"
      ],
      "metadata": {
        "id": "wQeoR3Lz3mpd"
      }
    },
    {
      "cell_type": "code",
      "source": [
        "contador = 0\n",
        "for cliente in clientes.values():\n",
        "    if cliente[\"ingreso\"] > 3000:\n",
        "        contador += 1\n",
        "print(\"Clientes con alto ingreso:\", contador)"
      ],
      "metadata": {
        "id": "BO6QccEn3pvU"
      },
      "execution_count": null,
      "outputs": []
    },
    {
      "cell_type": "markdown",
      "source": [
        "Ejemplo 4: Crear una lista con tasas ajustadas"
      ],
      "metadata": {
        "id": "Z1DZYAfj3sRL"
      }
    },
    {
      "cell_type": "code",
      "source": [
        "tasas = [0.05, 0.07, 0.08]\n",
        "tasas_ajustadas = []\n",
        "for tasa in tasas:\n",
        "    tasas_ajustadas.append(tasa + 0.01)\n",
        "print(tasas_ajustadas)"
      ],
      "metadata": {
        "id": "jerZ3Pbp3v_-"
      },
      "execution_count": null,
      "outputs": []
    },
    {
      "cell_type": "markdown",
      "source": [
        "Ejemplo 5: Reporte de evaluación"
      ],
      "metadata": {
        "id": "vDmAijzk30aP"
      }
    },
    {
      "cell_type": "code",
      "source": [
        "clientes = [\"Ana\", \"Luis\", \"Sofía\"]\n",
        "for nombre in clientes:\n",
        "    print(f\"Evaluación enviada a {nombre}\")"
      ],
      "metadata": {
        "id": "b4ah9HGJ32bn"
      },
      "execution_count": null,
      "outputs": []
    },
    {
      "cell_type": "markdown",
      "source": [],
      "metadata": {
        "id": "3J9EUJLG3oos"
      }
    }
  ]
}