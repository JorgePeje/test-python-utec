{
  "nbformat": 4,
  "nbformat_minor": 0,
  "metadata": {
    "colab": {
      "provenance": [],
      "include_colab_link": true
    },
    "kernelspec": {
      "name": "python3",
      "display_name": "Python 3"
    },
    "language_info": {
      "name": "python"
    }
  },
  "cells": [
    {
      "cell_type": "markdown",
      "metadata": {
        "id": "view-in-github",
        "colab_type": "text"
      },
      "source": [
        "<a href=\"https://colab.research.google.com/github/JorgePeje/test-python-utec/blob/main/Programacion-Python-Utec/ProyectoFinalParse_pdf.ipynb\" target=\"_parent\"><img src=\"https://colab.research.google.com/assets/colab-badge.svg\" alt=\"Open In Colab\"/></a>"
      ]
    },
    {
      "cell_type": "code",
      "source": [
        "from google.colab import drive\n",
        "drive.mount('/content/drive')"
      ],
      "metadata": {
        "colab": {
          "base_uri": "https://localhost:8080/"
        },
        "id": "0lT1YxNeP7Nn",
        "outputId": "76b37090-d05c-4744-fde6-0f3cc9c347a4"
      },
      "execution_count": null,
      "outputs": [
        {
          "output_type": "stream",
          "name": "stdout",
          "text": [
            "Mounted at /content/drive\n"
          ]
        }
      ]
    },
    {
      "cell_type": "code",
      "source": [
        "!pip install langchain_community\n",
        "!pip install pypdf"
      ],
      "metadata": {
        "colab": {
          "base_uri": "https://localhost:8080/"
        },
        "id": "M84MpAj5_ogA",
        "outputId": "9f5ffde6-0bd7-4095-8d39-11727c67f780"
      },
      "execution_count": null,
      "outputs": [
        {
          "output_type": "stream",
          "name": "stdout",
          "text": [
            "Collecting langchain_community\n",
            "  Downloading langchain_community-0.3.24-py3-none-any.whl.metadata (2.5 kB)\n",
            "Requirement already satisfied: langchain-core<1.0.0,>=0.3.59 in /usr/local/lib/python3.11/dist-packages (from langchain_community) (0.3.59)\n",
            "Requirement already satisfied: langchain<1.0.0,>=0.3.25 in /usr/local/lib/python3.11/dist-packages (from langchain_community) (0.3.25)\n",
            "Requirement already satisfied: SQLAlchemy<3,>=1.4 in /usr/local/lib/python3.11/dist-packages (from langchain_community) (2.0.40)\n",
            "Requirement already satisfied: requests<3,>=2 in /usr/local/lib/python3.11/dist-packages (from langchain_community) (2.32.3)\n",
            "Requirement already satisfied: PyYAML>=5.3 in /usr/local/lib/python3.11/dist-packages (from langchain_community) (6.0.2)\n",
            "Requirement already satisfied: aiohttp<4.0.0,>=3.8.3 in /usr/local/lib/python3.11/dist-packages (from langchain_community) (3.11.15)\n",
            "Requirement already satisfied: tenacity!=8.4.0,<10,>=8.1.0 in /usr/local/lib/python3.11/dist-packages (from langchain_community) (9.1.2)\n",
            "Collecting dataclasses-json<0.7,>=0.5.7 (from langchain_community)\n",
            "  Downloading dataclasses_json-0.6.7-py3-none-any.whl.metadata (25 kB)\n",
            "Collecting pydantic-settings<3.0.0,>=2.4.0 (from langchain_community)\n",
            "  Downloading pydantic_settings-2.9.1-py3-none-any.whl.metadata (3.8 kB)\n",
            "Requirement already satisfied: langsmith<0.4,>=0.1.125 in /usr/local/lib/python3.11/dist-packages (from langchain_community) (0.3.42)\n",
            "Collecting httpx-sse<1.0.0,>=0.4.0 (from langchain_community)\n",
            "  Downloading httpx_sse-0.4.0-py3-none-any.whl.metadata (9.0 kB)\n",
            "Requirement already satisfied: numpy>=1.26.2 in /usr/local/lib/python3.11/dist-packages (from langchain_community) (2.0.2)\n",
            "Requirement already satisfied: aiohappyeyeballs>=2.3.0 in /usr/local/lib/python3.11/dist-packages (from aiohttp<4.0.0,>=3.8.3->langchain_community) (2.6.1)\n",
            "Requirement already satisfied: aiosignal>=1.1.2 in /usr/local/lib/python3.11/dist-packages (from aiohttp<4.0.0,>=3.8.3->langchain_community) (1.3.2)\n",
            "Requirement already satisfied: attrs>=17.3.0 in /usr/local/lib/python3.11/dist-packages (from aiohttp<4.0.0,>=3.8.3->langchain_community) (25.3.0)\n",
            "Requirement already satisfied: frozenlist>=1.1.1 in /usr/local/lib/python3.11/dist-packages (from aiohttp<4.0.0,>=3.8.3->langchain_community) (1.6.0)\n",
            "Requirement already satisfied: multidict<7.0,>=4.5 in /usr/local/lib/python3.11/dist-packages (from aiohttp<4.0.0,>=3.8.3->langchain_community) (6.4.3)\n",
            "Requirement already satisfied: propcache>=0.2.0 in /usr/local/lib/python3.11/dist-packages (from aiohttp<4.0.0,>=3.8.3->langchain_community) (0.3.1)\n",
            "Requirement already satisfied: yarl<2.0,>=1.17.0 in /usr/local/lib/python3.11/dist-packages (from aiohttp<4.0.0,>=3.8.3->langchain_community) (1.20.0)\n",
            "Collecting marshmallow<4.0.0,>=3.18.0 (from dataclasses-json<0.7,>=0.5.7->langchain_community)\n",
            "  Downloading marshmallow-3.26.1-py3-none-any.whl.metadata (7.3 kB)\n",
            "Collecting typing-inspect<1,>=0.4.0 (from dataclasses-json<0.7,>=0.5.7->langchain_community)\n",
            "  Downloading typing_inspect-0.9.0-py3-none-any.whl.metadata (1.5 kB)\n",
            "Requirement already satisfied: langchain-text-splitters<1.0.0,>=0.3.8 in /usr/local/lib/python3.11/dist-packages (from langchain<1.0.0,>=0.3.25->langchain_community) (0.3.8)\n",
            "Requirement already satisfied: pydantic<3.0.0,>=2.7.4 in /usr/local/lib/python3.11/dist-packages (from langchain<1.0.0,>=0.3.25->langchain_community) (2.11.4)\n",
            "Requirement already satisfied: jsonpatch<2.0,>=1.33 in /usr/local/lib/python3.11/dist-packages (from langchain-core<1.0.0,>=0.3.59->langchain_community) (1.33)\n",
            "Requirement already satisfied: packaging<25,>=23.2 in /usr/local/lib/python3.11/dist-packages (from langchain-core<1.0.0,>=0.3.59->langchain_community) (24.2)\n",
            "Requirement already satisfied: typing-extensions>=4.7 in /usr/local/lib/python3.11/dist-packages (from langchain-core<1.0.0,>=0.3.59->langchain_community) (4.13.2)\n",
            "Requirement already satisfied: httpx<1,>=0.23.0 in /usr/local/lib/python3.11/dist-packages (from langsmith<0.4,>=0.1.125->langchain_community) (0.28.1)\n",
            "Requirement already satisfied: orjson<4.0.0,>=3.9.14 in /usr/local/lib/python3.11/dist-packages (from langsmith<0.4,>=0.1.125->langchain_community) (3.10.18)\n",
            "Requirement already satisfied: requests-toolbelt<2.0.0,>=1.0.0 in /usr/local/lib/python3.11/dist-packages (from langsmith<0.4,>=0.1.125->langchain_community) (1.0.0)\n",
            "Requirement already satisfied: zstandard<0.24.0,>=0.23.0 in /usr/local/lib/python3.11/dist-packages (from langsmith<0.4,>=0.1.125->langchain_community) (0.23.0)\n",
            "Collecting python-dotenv>=0.21.0 (from pydantic-settings<3.0.0,>=2.4.0->langchain_community)\n",
            "  Downloading python_dotenv-1.1.0-py3-none-any.whl.metadata (24 kB)\n",
            "Requirement already satisfied: typing-inspection>=0.4.0 in /usr/local/lib/python3.11/dist-packages (from pydantic-settings<3.0.0,>=2.4.0->langchain_community) (0.4.0)\n",
            "Requirement already satisfied: charset-normalizer<4,>=2 in /usr/local/lib/python3.11/dist-packages (from requests<3,>=2->langchain_community) (3.4.2)\n",
            "Requirement already satisfied: idna<4,>=2.5 in /usr/local/lib/python3.11/dist-packages (from requests<3,>=2->langchain_community) (3.10)\n",
            "Requirement already satisfied: urllib3<3,>=1.21.1 in /usr/local/lib/python3.11/dist-packages (from requests<3,>=2->langchain_community) (2.4.0)\n",
            "Requirement already satisfied: certifi>=2017.4.17 in /usr/local/lib/python3.11/dist-packages (from requests<3,>=2->langchain_community) (2025.4.26)\n",
            "Requirement already satisfied: greenlet>=1 in /usr/local/lib/python3.11/dist-packages (from SQLAlchemy<3,>=1.4->langchain_community) (3.2.2)\n",
            "Requirement already satisfied: anyio in /usr/local/lib/python3.11/dist-packages (from httpx<1,>=0.23.0->langsmith<0.4,>=0.1.125->langchain_community) (4.9.0)\n",
            "Requirement already satisfied: httpcore==1.* in /usr/local/lib/python3.11/dist-packages (from httpx<1,>=0.23.0->langsmith<0.4,>=0.1.125->langchain_community) (1.0.9)\n",
            "Requirement already satisfied: h11>=0.16 in /usr/local/lib/python3.11/dist-packages (from httpcore==1.*->httpx<1,>=0.23.0->langsmith<0.4,>=0.1.125->langchain_community) (0.16.0)\n",
            "Requirement already satisfied: jsonpointer>=1.9 in /usr/local/lib/python3.11/dist-packages (from jsonpatch<2.0,>=1.33->langchain-core<1.0.0,>=0.3.59->langchain_community) (3.0.0)\n",
            "Requirement already satisfied: annotated-types>=0.6.0 in /usr/local/lib/python3.11/dist-packages (from pydantic<3.0.0,>=2.7.4->langchain<1.0.0,>=0.3.25->langchain_community) (0.7.0)\n",
            "Requirement already satisfied: pydantic-core==2.33.2 in /usr/local/lib/python3.11/dist-packages (from pydantic<3.0.0,>=2.7.4->langchain<1.0.0,>=0.3.25->langchain_community) (2.33.2)\n",
            "Collecting mypy-extensions>=0.3.0 (from typing-inspect<1,>=0.4.0->dataclasses-json<0.7,>=0.5.7->langchain_community)\n",
            "  Downloading mypy_extensions-1.1.0-py3-none-any.whl.metadata (1.1 kB)\n",
            "Requirement already satisfied: sniffio>=1.1 in /usr/local/lib/python3.11/dist-packages (from anyio->httpx<1,>=0.23.0->langsmith<0.4,>=0.1.125->langchain_community) (1.3.1)\n",
            "Downloading langchain_community-0.3.24-py3-none-any.whl (2.5 MB)\n",
            "\u001b[2K   \u001b[90m━━━━━━━━━━━━━━━━━━━━━━━━━━━━━━━━━━━━━━━━\u001b[0m \u001b[32m2.5/2.5 MB\u001b[0m \u001b[31m28.7 MB/s\u001b[0m eta \u001b[36m0:00:00\u001b[0m\n",
            "\u001b[?25hDownloading dataclasses_json-0.6.7-py3-none-any.whl (28 kB)\n",
            "Downloading httpx_sse-0.4.0-py3-none-any.whl (7.8 kB)\n",
            "Downloading pydantic_settings-2.9.1-py3-none-any.whl (44 kB)\n",
            "\u001b[2K   \u001b[90m━━━━━━━━━━━━━━━━━━━━━━━━━━━━━━━━━━━━━━━━\u001b[0m \u001b[32m44.4/44.4 kB\u001b[0m \u001b[31m2.8 MB/s\u001b[0m eta \u001b[36m0:00:00\u001b[0m\n",
            "\u001b[?25hDownloading marshmallow-3.26.1-py3-none-any.whl (50 kB)\n",
            "\u001b[2K   \u001b[90m━━━━━━━━━━━━━━━━━━━━━━━━━━━━━━━━━━━━━━━━\u001b[0m \u001b[32m50.9/50.9 kB\u001b[0m \u001b[31m3.3 MB/s\u001b[0m eta \u001b[36m0:00:00\u001b[0m\n",
            "\u001b[?25hDownloading python_dotenv-1.1.0-py3-none-any.whl (20 kB)\n",
            "Downloading typing_inspect-0.9.0-py3-none-any.whl (8.8 kB)\n",
            "Downloading mypy_extensions-1.1.0-py3-none-any.whl (5.0 kB)\n",
            "Installing collected packages: python-dotenv, mypy-extensions, marshmallow, httpx-sse, typing-inspect, pydantic-settings, dataclasses-json, langchain_community\n",
            "Successfully installed dataclasses-json-0.6.7 httpx-sse-0.4.0 langchain_community-0.3.24 marshmallow-3.26.1 mypy-extensions-1.1.0 pydantic-settings-2.9.1 python-dotenv-1.1.0 typing-inspect-0.9.0\n",
            "Collecting pypdf\n",
            "  Downloading pypdf-5.5.0-py3-none-any.whl.metadata (7.2 kB)\n",
            "Downloading pypdf-5.5.0-py3-none-any.whl (303 kB)\n",
            "\u001b[2K   \u001b[90m━━━━━━━━━━━━━━━━━━━━━━━━━━━━━━━━━━━━━━━━\u001b[0m \u001b[32m303.4/303.4 kB\u001b[0m \u001b[31m5.4 MB/s\u001b[0m eta \u001b[36m0:00:00\u001b[0m\n",
            "\u001b[?25hInstalling collected packages: pypdf\n",
            "Successfully installed pypdf-5.5.0\n"
          ]
        }
      ]
    },
    {
      "cell_type": "code",
      "source": [
        "file_path='/content/drive/MyDrive/UTEC/Grupo 6/Manual Camion/SM 980E-5 SN A50003-A50051--A50054-A50136--A50141 & UP (CEBM033006).pdf'"
      ],
      "metadata": {
        "id": "rFWbxy7H_j2h"
      },
      "execution_count": null,
      "outputs": []
    },
    {
      "cell_type": "code",
      "execution_count": null,
      "metadata": {
        "id": "VI8jPxWZ_R2V"
      },
      "outputs": [],
      "source": [
        "from langchain_community.document_loaders import PyPDFLoader\n",
        "\n",
        "loader = PyPDFLoader(file_path)\n",
        "pages = []\n",
        "async for page in loader.alazy_load():\n",
        "    pages.append(page)"
      ]
    },
    {
      "cell_type": "code",
      "source": [
        "len(pages)"
      ],
      "metadata": {
        "colab": {
          "base_uri": "https://localhost:8080/"
        },
        "id": "ElgxOlQzB0Cg",
        "outputId": "7cbfd1eb-773b-48ad-d682-995bc1484ce9"
      },
      "execution_count": null,
      "outputs": [
        {
          "output_type": "execute_result",
          "data": {
            "text/plain": [
              "1395"
            ]
          },
          "metadata": {},
          "execution_count": 5
        }
      ]
    },
    {
      "cell_type": "code",
      "source": [
        "pages[0].page_content"
      ],
      "metadata": {
        "colab": {
          "base_uri": "https://localhost:8080/",
          "height": 105
        },
        "id": "ZqxV9LTDCEIn",
        "outputId": "4786d389-a4af-449d-8c09-b14fde5f1898"
      },
      "execution_count": null,
      "outputs": [
        {
          "output_type": "execute_result",
          "data": {
            "text/plain": [
              "'CEBM033006 \\n \\nShop \\nManual \\n \\n \\n \\n \\n \\n \\n \\n \\n980E-5 \\nDUMP TRUCK \\n \\n \\n \\n \\nSERIAL NUMBERS     980E-5   A50003 – A50051 \\n        A 50054 – A50136 \\n        A 50141 and up \\n \\nENGINE   18V170 \\n \\n \\nThis material is proprietary to Komatsu America Corp. and is not to be reproduced, used, or disclosed except in \\naccordance with written authorization from Komatsu America Corp. \\n \\nIt is our policy to improve our products whenever it is possible and practical to do so. We reserve the right to \\nmake changes or improvements at any time without incurring any obligation to install such changes on products \\nsold previously. \\n \\nDue to this continuous program of research and development, revisions may be made to this publication. It is \\nrecommended that customers contact their distributor for information on the latest revision. \\n \\n \\n               \\nCopyright April 2022 \\nPrinted in U.S.A. \\nKomatsu America Corp.'"
            ],
            "application/vnd.google.colaboratory.intrinsic+json": {
              "type": "string"
            }
          },
          "metadata": {},
          "execution_count": 11
        }
      ]
    },
    {
      "cell_type": "code",
      "source": [
        "print(pages[102].page_content)"
      ],
      "metadata": {
        "colab": {
          "base_uri": "https://localhost:8080/"
        },
        "id": "U43h_wB5B5iE",
        "outputId": "d6e24f76-ebd8-4272-9ba1-5cbda0ccb70b"
      },
      "execution_count": null,
      "outputs": [
        {
          "output_type": "stream",
          "name": "stdout",
          "text": [
            "10 Structure and functions CEN10062-02\n",
            "15\n",
            "Steering left\n",
            "Refer to Figure 10-12.\n",
            "When the operator turns the steering wheel to the left,\n",
            "the steering control unit is opened to allow oil coming\n",
            "in port “P” to pass to the gerotor section of the control\n",
            "unit to turn the rotor. Oil in the other side of the gerotor\n",
            "flows through other passages in the control unit valve\n",
            "and out steering control unit port “L”. This oil enters\n",
            "port “L” of the flow amplifier and goes to a closed area\n",
            "“B” in the directional valve.\n",
            "As pressure in area “B” builds, it also passes into the\n",
            "spool through orifice “C” to the spring area on the end\n",
            "of the directional valve. The pressure then moves the\n",
            "spool compressing the springs on the opposite end.\n",
            "This movement allows the oil entering area “B” to pass\n",
            "through the directional valve to area “D” of the\n",
            "amplifier valve, through holes in sleeve “E” to a\n",
            "passage between sleeve “E” and valve “F”, and\n",
            "through hole “G” in sleeve “E”, where it initially is\n",
            "blocked by the valve body.\n",
            "As pressure builds up in th is area, oil also flows from\n",
            "area “D”, around the outside of sleeve “E”, around pin\n",
            "“H”, through orifice “J” to build pressure on the end of\n",
            "the amplifier valve, and opens hole “G” just enough to\n",
            "allow the flow of oil coming from the steering control\n",
            "unit to pass to the control area of the directional valve.\n",
            "At the same time, the movement of sleeve “E” opened\n",
            "the holes near the spring end to allow the oil from the\n",
            "priority valve to flow into the center of sleeve “E”.\n",
            "This oil now inside sleeve “E” pushes valve “F” against\n",
            "its spring to give the oil access to a series of holes “K”\n",
            "that are in the same plane as hole “G”. The passage of\n",
            "oil through holes “K” past the valve body is metered by\n",
            "holes “K” being opened the same proportion as hole\n",
            "“G”. The number of holes “K” (7) in sleeve “E”\n",
            "determine the amount of additional oil that is added to\n",
            "the steering control unit oil passing through hole “G”.\n",
            "This combined oil going to the center area “Q” of the\n",
            "directional valve passes out  port “CL” of the flow\n",
            "amplifier and travels to the steering cylinders to steer\n",
            "the front wheels to the left. As the cylinders move, oil is\n",
            "forced to return out the opposite ends, enter port “CR”\n",
            "of the flow amplifier, pass through the directional valve\n",
            "to area “M”, pass through return check valve “N”, and\n",
            "exit port “HT” to the hydraulic reservoir.\n",
            "At the steering control unit, when the operator turned\n",
            "the steering wheel, supply oil from port “P” was also\n",
            "delivered through the control unit valve to port “LS”.\n",
            "This oil enters the flow amplifier through its “LS” port\n",
            "and builds pressure in the spring area of the priority\n",
            "valve. This additional forc e on the spring end of the\n",
            "priority valve causes area “A” to open and allow the\n",
            "necessary flow and pressure to pass through the flow\n",
            "amplifier to operate the steering cylinders.\n",
            "The flow amplifier includes a relief valve in the priority\n",
            "valve spring area that is used to control maximum\n",
            "steering working pressure to 20 685 kPa (3,000 psi),\n",
            "even though supply pressure coming in to port “HP” is\n",
            "higher. When 20 685 kPa (3,000 psi) is obtained, the\n",
            "relief valve prevents the “LS” pressure from\n",
            "increasing, thereby allowing the priority valve to\n",
            "compress the spring enough to close off area “A”.\n"
          ]
        }
      ]
    },
    {
      "cell_type": "code",
      "source": [
        "print(pages[60].page_content)"
      ],
      "metadata": {
        "colab": {
          "base_uri": "https://localhost:8080/"
        },
        "id": "ifpLfPMA_Yd6",
        "outputId": "4913e291-2001-4bc4-eb63-5937877684db"
      },
      "execution_count": null,
      "outputs": [
        {
          "output_type": "stream",
          "name": "stdout",
          "text": [
            "00 Index and foreword CEN00044-04\n",
            "39\n",
            "  • Heavy duty wire connector (DT 8-pole, 12-pole)\n",
            "a. For disconnection, press both sides of locks\n",
            "(a) and (b) while pulling out female connector\n",
            "(2).\n",
            "b. For connection, push in female connector (2)\n",
            "horizontally until the lock clicks.\n",
            "Since locks (a) and (b ) may not be set com-\n",
            "pletely, push in female connector (2) while mov-\n",
            "ing it up and down until the locks are set normally.\n",
            " • Right half of figure: Lock (a) is pulled down\n",
            "(not set completely) and lock (b) is set\n",
            "completely.\n",
            "  • Drying wiring harness\n",
            "If there is any oil or dirt on the wiring harness,\n",
            "wipe it off with a dry cloth. Avoid washing it in\n",
            "water or using steam. If  the connector must be\n",
            "washed in water, do not use high pressure water\n",
            "or steam directly on the wiring harness. If water\n",
            "gets directly on the connector, perform the follow-\n",
            "ing procedure.\n",
            "a. Disconnect the connector and wipe off the\n",
            "water with a dry cloth. If the connector is\n",
            "blown dry with compressed air, there is the\n",
            "risk that oil in the air may cause defective con-\n",
            "tact, so remove all oil and water from the com-\n",
            "pressed air before blowing with air.\n",
            "b. If water gets inside the connector, use a dryer\n",
            "to dry the inside of the connector. Hot air from\n",
            "the dryer can be used, but regulate the time\n",
            "that the hot air is used in order not to make the\n",
            "connector or related parts too hot, as this will\n",
            "cause deformation or damage to the connec-\n",
            "tor.\n",
            "c. After drying, leave the wiring harness discon-\n",
            "nected and carry out a continuity test to check\n",
            "for any short circuits between pins caused by\n",
            "water.\n",
            "d. After completely drying the connector, blow it\n",
            "with contact restorer and reassemble.\n",
            "1. Male connector\n",
            "2. Female connector\n",
            "a. Lock\n",
            "b. Lock\n"
          ]
        }
      ]
    },
    {
      "cell_type": "markdown",
      "source": [
        "# Tarea para casa:\n",
        "Leer la siguiente documentacion : https://python.langchain.com/docs/how_to/document_loader_pdf/"
      ],
      "metadata": {
        "id": "EfYC7vetDJIY"
      }
    },
    {
      "cell_type": "code",
      "source": [],
      "metadata": {
        "id": "KdrPdeZpDKtP"
      },
      "execution_count": null,
      "outputs": []
    }
  ]
}