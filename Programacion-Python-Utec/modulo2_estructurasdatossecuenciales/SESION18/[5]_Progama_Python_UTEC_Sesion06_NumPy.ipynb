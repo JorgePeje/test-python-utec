{
  "nbformat": 4,
  "nbformat_minor": 0,
  "metadata": {
    "colab": {
      "provenance": [],
      "include_colab_link": true
    },
    "kernelspec": {
      "name": "python3",
      "display_name": "Python 3"
    },
    "language_info": {
      "name": "python"
    }
  },
  "cells": [
    {
      "cell_type": "markdown",
      "metadata": {
        "id": "view-in-github",
        "colab_type": "text"
      },
      "source": [
        "<a href=\"https://colab.research.google.com/github/JorgePeje/test-python-utec/blob/main/Programacion-Python-Utec/modulo2_estructurasdatossecuenciales/SESION18/%5B5%5D_Progama_Python_UTEC_Sesion06_NumPy.ipynb\" target=\"_parent\"><img src=\"https://colab.research.google.com/assets/colab-badge.svg\" alt=\"Open In Colab\"/></a>"
      ]
    },
    {
      "cell_type": "markdown",
      "source": [
        "## NumPy"
      ],
      "metadata": {
        "id": "M7ax-NH9Qw82"
      }
    },
    {
      "cell_type": "markdown",
      "source": [
        "### [1] Crear un arreglo NumPy"
      ],
      "metadata": {
        "id": "DFN-vU8MSO6d"
      }
    },
    {
      "cell_type": "code",
      "execution_count": 2,
      "metadata": {
        "id": "g6evhYb4QrvL"
      },
      "outputs": [],
      "source": [
        "# Llamar a la librería\n",
        "import numpy as np"
      ]
    },
    {
      "cell_type": "code",
      "source": [
        "# Crear un arreglo en numpy\n",
        "arr_1 = np.array([2,4,6])"
      ],
      "metadata": {
        "id": "wNH_N_ZFRHTI"
      },
      "execution_count": null,
      "outputs": []
    },
    {
      "cell_type": "code",
      "source": [
        "# Visualizar el arreglo\n",
        "print(f\"El arreglo en numpy es \\n{arr_1}\")\n",
        "type(arr_1)"
      ],
      "metadata": {
        "id": "Q2LXArvJRaxe",
        "colab": {
          "base_uri": "https://localhost:8080/"
        },
        "outputId": "b1563e5c-dbff-4265-ff9f-96ea9a7ee0c3"
      },
      "execution_count": null,
      "outputs": [
        {
          "output_type": "stream",
          "name": "stdout",
          "text": [
            "El arreglo en numpy es \n",
            "[2 4 6]\n"
          ]
        },
        {
          "output_type": "execute_result",
          "data": {
            "text/plain": [
              "numpy.ndarray"
            ]
          },
          "metadata": {},
          "execution_count": 7
        }
      ]
    },
    {
      "cell_type": "code",
      "source": [
        "lista_0= [2,4,6]\n",
        "print(f\"La lista es \\n{lista_0}\")"
      ],
      "metadata": {
        "id": "RnOzH-ALjxQ_",
        "outputId": "bdc5ed00-f72a-46eb-916d-f897eb2235cf",
        "colab": {
          "base_uri": "https://localhost:8080/"
        }
      },
      "execution_count": null,
      "outputs": [
        {
          "output_type": "stream",
          "name": "stdout",
          "text": [
            "La lista es \n",
            "[2, 4, 6]\n"
          ]
        }
      ]
    },
    {
      "cell_type": "code",
      "source": [
        "# lista de listas\n",
        "lista_1 = [[0, 1, 2, 3],[4, 5, 6, 7],[8, 9, 10, 11]]\n",
        "print(f'La Lista de listas es \\n{lista_1}')"
      ],
      "metadata": {
        "id": "_RMEStVnk3XR",
        "outputId": "bcabdda5-4a58-463e-e8cd-f79e032b01b9",
        "colab": {
          "base_uri": "https://localhost:8080/"
        }
      },
      "execution_count": null,
      "outputs": [
        {
          "output_type": "stream",
          "name": "stdout",
          "text": [
            "La Lista de listas es \n",
            "[[0, 1, 2, 3], [4, 5, 6, 7], [8, 9, 10, 11]]\n"
          ]
        }
      ]
    },
    {
      "cell_type": "code",
      "source": [
        "arreglo_1 = np.array([[0, 1, 2, 3],[4, 5, 6, 7],[8, 9, 10, 11]])\n",
        "print(f\"El arreglo es \\n{arreglo_1}\")\n",
        "print(f\"\\nEl tipo de dato es {type(arreglo_1)}\")"
      ],
      "metadata": {
        "colab": {
          "base_uri": "https://localhost:8080/"
        },
        "id": "ykj0D5pO78Am",
        "outputId": "0210506d-bbb1-4fc3-82d0-5e922d68c2ae"
      },
      "execution_count": null,
      "outputs": [
        {
          "output_type": "stream",
          "name": "stdout",
          "text": [
            "El arreglo es \n",
            "[[ 0  1  2  3]\n",
            " [ 4  5  6  7]\n",
            " [ 8  9 10 11]]\n",
            "\n",
            "El tipo de dato es <class 'numpy.ndarray'>\n"
          ]
        }
      ]
    },
    {
      "cell_type": "code",
      "source": [
        "# Crear una lista\n",
        "lista_2 = [2,4,6]\n",
        "print(f\"La lista es \\n{lista_2}\")"
      ],
      "metadata": {
        "id": "3XsqVLskRk2j",
        "colab": {
          "base_uri": "https://localhost:8080/"
        },
        "outputId": "2cff6eb4-1649-4112-cf22-5232eed6c31c"
      },
      "execution_count": null,
      "outputs": [
        {
          "output_type": "stream",
          "name": "stdout",
          "text": [
            "La lista es \n",
            "[2, 4, 6]\n"
          ]
        }
      ]
    },
    {
      "cell_type": "code",
      "source": [
        "print(f\"El objeto arr_1 es del tipo \\n{type(arr_1)}\")\n",
        "print(f\"\\nEl objeto lista_1 es del tipo \\n{type(lista_2)}\")"
      ],
      "metadata": {
        "id": "IKOZVtQdRwgx",
        "colab": {
          "base_uri": "https://localhost:8080/"
        },
        "outputId": "0df8b597-646c-406d-cf85-8dcc81cde001"
      },
      "execution_count": null,
      "outputs": [
        {
          "output_type": "stream",
          "name": "stdout",
          "text": [
            "El objeto arr_1 es del tipo \n",
            "<class 'numpy.ndarray'>\n",
            "\n",
            "El objeto lista_1 es del tipo \n",
            "<class 'list'>\n"
          ]
        }
      ]
    },
    {
      "cell_type": "code",
      "source": [
        "# Operaciones listas\n",
        "print(f\"El valor mínimo de la lista \\n{lista_1} es {min(lista_2)}\")\n",
        "print(f\"\\nEl valor máximo de la lista \\n{lista_1} es {max(lista_2)}\")\n",
        "print(f\"\\nLa suma total de la lista \\n{lista_1} es {sum(lista_2)}\")\n",
        "print(f'\\nEl promedio de la lista \\n{lista_1} es {sum(lista_2)/len(lista_2)}')"
      ],
      "metadata": {
        "id": "JLk0F3VoSGC5",
        "colab": {
          "base_uri": "https://localhost:8080/"
        },
        "outputId": "0160e4fa-bdd2-47df-b713-049a47940f39"
      },
      "execution_count": null,
      "outputs": [
        {
          "output_type": "stream",
          "name": "stdout",
          "text": [
            "El valor mínimo de la lista \n",
            "[2, 4, 6] es 2\n",
            "\n",
            "El valor máximo de la lista \n",
            "[2, 4, 6] es 6\n",
            "\n",
            "La suma total de la lista \n",
            "[2, 4, 6] es 12\n",
            "\n",
            "El promedio de la lista \n",
            "[2, 4, 6] es 4.0\n"
          ]
        }
      ]
    },
    {
      "cell_type": "code",
      "source": [
        "%whos"
      ],
      "metadata": {
        "id": "rEc5sXsYmPDh",
        "outputId": "ca26e945-1ff9-4e07-edaf-61862de12557",
        "colab": {
          "base_uri": "https://localhost:8080/"
        }
      },
      "execution_count": null,
      "outputs": [
        {
          "output_type": "stream",
          "name": "stdout",
          "text": [
            "Variable   Type       Data/Info\n",
            "-------------------------------\n",
            "arr_1      ndarray    3: 3 elems, type `int64`, 24 bytes\n",
            "lista_0    list       n=3\n",
            "lista_1    list       n=3\n",
            "lista_2    list       n=3\n",
            "np         module     <module 'numpy' from '/us<...>kages/numpy/__init__.py'>\n"
          ]
        }
      ]
    },
    {
      "cell_type": "code",
      "source": [
        "# El símbolo \"+\" permite concatenar listas\n",
        "lista_1 + [5]"
      ],
      "metadata": {
        "id": "syypEvzBSvnE",
        "colab": {
          "base_uri": "https://localhost:8080/"
        },
        "outputId": "d7ddd371-6a9e-4744-cd29-2fe83d9c705f"
      },
      "execution_count": null,
      "outputs": [
        {
          "output_type": "execute_result",
          "data": {
            "text/plain": [
              "[2, 4, 6, 5]"
            ]
          },
          "metadata": {},
          "execution_count": 17
        }
      ]
    },
    {
      "cell_type": "code",
      "source": [
        "print(f\"El arreglo en numpy es \\n{arr_1}\")\n",
        "print(f\"Suma del arreglo en numpy con 5 es \\n{arr_1 + 5}\")"
      ],
      "metadata": {
        "id": "EIXdc1GPTYLg",
        "colab": {
          "base_uri": "https://localhost:8080/"
        },
        "outputId": "db73f132-e504-4f90-d117-b7d0ec52a61f"
      },
      "execution_count": null,
      "outputs": [
        {
          "output_type": "stream",
          "name": "stdout",
          "text": [
            "El arreglo en numpy es \n",
            "[2 4 6]\n",
            "Suma del arreglo en numpy con 5 es \n",
            "[ 7  9 11]\n"
          ]
        }
      ]
    },
    {
      "cell_type": "code",
      "source": [
        "print(lista_0)\n",
        "print(arr_1)"
      ],
      "metadata": {
        "id": "c8rtM-OHnh4v",
        "outputId": "79786d43-b3ee-4ffb-e4f4-21c0fb858673",
        "colab": {
          "base_uri": "https://localhost:8080/"
        }
      },
      "execution_count": null,
      "outputs": [
        {
          "output_type": "stream",
          "name": "stdout",
          "text": [
            "[2, 4, 6]\n",
            "[2 4 6]\n"
          ]
        }
      ]
    },
    {
      "cell_type": "code",
      "source": [
        "res_ = lista_0 + arr_1\n",
        "print(f'El resultado es \\n{res_}')\n",
        "print(f'El tipo de dato es \\n{type(res_)}')\n"
      ],
      "metadata": {
        "id": "Ab5phTqynpXO",
        "outputId": "c59e665b-d609-4f24-c9e9-f9e69c8295e7",
        "colab": {
          "base_uri": "https://localhost:8080/"
        }
      },
      "execution_count": null,
      "outputs": [
        {
          "output_type": "stream",
          "name": "stdout",
          "text": [
            "El resultado es \n",
            "[ 4  8 12]\n",
            "El tipo de dato es \n",
            "<class 'numpy.ndarray'>\n"
          ]
        }
      ]
    },
    {
      "cell_type": "code",
      "source": [
        "res_ = np.array(lista_0) + arr_1\n",
        "print(f'El resultado es \\n{res_}')\n",
        "print(f'El tipo de dato es \\n{type(res_)}')"
      ],
      "metadata": {
        "id": "ZbJ7fjQ9oKgN",
        "outputId": "09c0053b-f487-4d6f-d96a-8013dfedccc3",
        "colab": {
          "base_uri": "https://localhost:8080/"
        }
      },
      "execution_count": null,
      "outputs": [
        {
          "output_type": "stream",
          "name": "stdout",
          "text": [
            "El resultado es \n",
            "[ 4  8 12]\n",
            "El tipo de dato es \n",
            "<class 'numpy.ndarray'>\n"
          ]
        }
      ]
    },
    {
      "cell_type": "code",
      "source": [
        "# Crear arreglos de numpy\n",
        "\n",
        "a1 = np.array([1,2,3])\n",
        "a2 = np.array([4,5,6])\n",
        "\n",
        "print(f\"El arreglo a1 es \\n{a1}\")\n",
        "print(f\"\\nEl arreglo a2 es \\n{a2}\")"
      ],
      "metadata": {
        "id": "_MYwIeGhT6xV",
        "outputId": "59aaf03d-85ce-4516-8a20-09e8f59a53bb",
        "colab": {
          "base_uri": "https://localhost:8080/"
        }
      },
      "execution_count": null,
      "outputs": [
        {
          "output_type": "stream",
          "name": "stdout",
          "text": [
            "El arreglo a1 es \n",
            "[1 2 3]\n",
            "\n",
            "El arreglo a2 es \n",
            "[4 5 6]\n"
          ]
        }
      ]
    },
    {
      "cell_type": "code",
      "source": [
        "print(f\"El arreglo a1 es del tipo \\n{type(a1)}\")\n",
        "print(f\"\\nEl arreglo a2 es del tipo \\n{type(a2)}\")"
      ],
      "metadata": {
        "id": "B7N437r5Up_A",
        "outputId": "b0f349ef-4192-490f-ba06-6826a31135c3",
        "colab": {
          "base_uri": "https://localhost:8080/"
        }
      },
      "execution_count": null,
      "outputs": [
        {
          "output_type": "stream",
          "name": "stdout",
          "text": [
            "El arreglo a1 es del tipo \n",
            "<class 'numpy.ndarray'>\n",
            "\n",
            "El arreglo a2 es del tipo \n",
            "<class 'numpy.ndarray'>\n"
          ]
        }
      ]
    },
    {
      "cell_type": "markdown",
      "source": [
        "### Actividad N034"
      ],
      "metadata": {
        "id": "HKmjSqdxS8Fw"
      }
    },
    {
      "cell_type": "markdown",
      "source": [
        "Crear un arreglo en NumPy a partir de la información de la siguiente tabla y nombrarlo como data_array"
      ],
      "metadata": {
        "id": "kx3YcpVKTFbO"
      }
    },
    {
      "cell_type": "code",
      "source": [
        "from google.colab import files\n",
        "\n",
        "# Subir archivo desde tu máquina local\n",
        "uploaded = files.upload()"
      ],
      "metadata": {
        "id": "DC1TlVMxTiiZ",
        "outputId": "7fe8441e-4339-4f7a-87fc-8a24aa364e5d",
        "colab": {
          "base_uri": "https://localhost:8080/",
          "height": 72
        }
      },
      "execution_count": null,
      "outputs": [
        {
          "output_type": "display_data",
          "data": {
            "text/plain": [
              "<IPython.core.display.HTML object>"
            ],
            "text/html": [
              "\n",
              "     <input type=\"file\" id=\"files-07a0e074-6b52-4e67-a869-ac2d861454ed\" name=\"files[]\" multiple disabled\n",
              "        style=\"border:none\" />\n",
              "     <output id=\"result-07a0e074-6b52-4e67-a869-ac2d861454ed\">\n",
              "      Upload widget is only available when the cell has been executed in the\n",
              "      current browser session. Please rerun this cell to enable.\n",
              "      </output>\n",
              "      <script>// Copyright 2017 Google LLC\n",
              "//\n",
              "// Licensed under the Apache License, Version 2.0 (the \"License\");\n",
              "// you may not use this file except in compliance with the License.\n",
              "// You may obtain a copy of the License at\n",
              "//\n",
              "//      http://www.apache.org/licenses/LICENSE-2.0\n",
              "//\n",
              "// Unless required by applicable law or agreed to in writing, software\n",
              "// distributed under the License is distributed on an \"AS IS\" BASIS,\n",
              "// WITHOUT WARRANTIES OR CONDITIONS OF ANY KIND, either express or implied.\n",
              "// See the License for the specific language governing permissions and\n",
              "// limitations under the License.\n",
              "\n",
              "/**\n",
              " * @fileoverview Helpers for google.colab Python module.\n",
              " */\n",
              "(function(scope) {\n",
              "function span(text, styleAttributes = {}) {\n",
              "  const element = document.createElement('span');\n",
              "  element.textContent = text;\n",
              "  for (const key of Object.keys(styleAttributes)) {\n",
              "    element.style[key] = styleAttributes[key];\n",
              "  }\n",
              "  return element;\n",
              "}\n",
              "\n",
              "// Max number of bytes which will be uploaded at a time.\n",
              "const MAX_PAYLOAD_SIZE = 100 * 1024;\n",
              "\n",
              "function _uploadFiles(inputId, outputId) {\n",
              "  const steps = uploadFilesStep(inputId, outputId);\n",
              "  const outputElement = document.getElementById(outputId);\n",
              "  // Cache steps on the outputElement to make it available for the next call\n",
              "  // to uploadFilesContinue from Python.\n",
              "  outputElement.steps = steps;\n",
              "\n",
              "  return _uploadFilesContinue(outputId);\n",
              "}\n",
              "\n",
              "// This is roughly an async generator (not supported in the browser yet),\n",
              "// where there are multiple asynchronous steps and the Python side is going\n",
              "// to poll for completion of each step.\n",
              "// This uses a Promise to block the python side on completion of each step,\n",
              "// then passes the result of the previous step as the input to the next step.\n",
              "function _uploadFilesContinue(outputId) {\n",
              "  const outputElement = document.getElementById(outputId);\n",
              "  const steps = outputElement.steps;\n",
              "\n",
              "  const next = steps.next(outputElement.lastPromiseValue);\n",
              "  return Promise.resolve(next.value.promise).then((value) => {\n",
              "    // Cache the last promise value to make it available to the next\n",
              "    // step of the generator.\n",
              "    outputElement.lastPromiseValue = value;\n",
              "    return next.value.response;\n",
              "  });\n",
              "}\n",
              "\n",
              "/**\n",
              " * Generator function which is called between each async step of the upload\n",
              " * process.\n",
              " * @param {string} inputId Element ID of the input file picker element.\n",
              " * @param {string} outputId Element ID of the output display.\n",
              " * @return {!Iterable<!Object>} Iterable of next steps.\n",
              " */\n",
              "function* uploadFilesStep(inputId, outputId) {\n",
              "  const inputElement = document.getElementById(inputId);\n",
              "  inputElement.disabled = false;\n",
              "\n",
              "  const outputElement = document.getElementById(outputId);\n",
              "  outputElement.innerHTML = '';\n",
              "\n",
              "  const pickedPromise = new Promise((resolve) => {\n",
              "    inputElement.addEventListener('change', (e) => {\n",
              "      resolve(e.target.files);\n",
              "    });\n",
              "  });\n",
              "\n",
              "  const cancel = document.createElement('button');\n",
              "  inputElement.parentElement.appendChild(cancel);\n",
              "  cancel.textContent = 'Cancel upload';\n",
              "  const cancelPromise = new Promise((resolve) => {\n",
              "    cancel.onclick = () => {\n",
              "      resolve(null);\n",
              "    };\n",
              "  });\n",
              "\n",
              "  // Wait for the user to pick the files.\n",
              "  const files = yield {\n",
              "    promise: Promise.race([pickedPromise, cancelPromise]),\n",
              "    response: {\n",
              "      action: 'starting',\n",
              "    }\n",
              "  };\n",
              "\n",
              "  cancel.remove();\n",
              "\n",
              "  // Disable the input element since further picks are not allowed.\n",
              "  inputElement.disabled = true;\n",
              "\n",
              "  if (!files) {\n",
              "    return {\n",
              "      response: {\n",
              "        action: 'complete',\n",
              "      }\n",
              "    };\n",
              "  }\n",
              "\n",
              "  for (const file of files) {\n",
              "    const li = document.createElement('li');\n",
              "    li.append(span(file.name, {fontWeight: 'bold'}));\n",
              "    li.append(span(\n",
              "        `(${file.type || 'n/a'}) - ${file.size} bytes, ` +\n",
              "        `last modified: ${\n",
              "            file.lastModifiedDate ? file.lastModifiedDate.toLocaleDateString() :\n",
              "                                    'n/a'} - `));\n",
              "    const percent = span('0% done');\n",
              "    li.appendChild(percent);\n",
              "\n",
              "    outputElement.appendChild(li);\n",
              "\n",
              "    const fileDataPromise = new Promise((resolve) => {\n",
              "      const reader = new FileReader();\n",
              "      reader.onload = (e) => {\n",
              "        resolve(e.target.result);\n",
              "      };\n",
              "      reader.readAsArrayBuffer(file);\n",
              "    });\n",
              "    // Wait for the data to be ready.\n",
              "    let fileData = yield {\n",
              "      promise: fileDataPromise,\n",
              "      response: {\n",
              "        action: 'continue',\n",
              "      }\n",
              "    };\n",
              "\n",
              "    // Use a chunked sending to avoid message size limits. See b/62115660.\n",
              "    let position = 0;\n",
              "    do {\n",
              "      const length = Math.min(fileData.byteLength - position, MAX_PAYLOAD_SIZE);\n",
              "      const chunk = new Uint8Array(fileData, position, length);\n",
              "      position += length;\n",
              "\n",
              "      const base64 = btoa(String.fromCharCode.apply(null, chunk));\n",
              "      yield {\n",
              "        response: {\n",
              "          action: 'append',\n",
              "          file: file.name,\n",
              "          data: base64,\n",
              "        },\n",
              "      };\n",
              "\n",
              "      let percentDone = fileData.byteLength === 0 ?\n",
              "          100 :\n",
              "          Math.round((position / fileData.byteLength) * 100);\n",
              "      percent.textContent = `${percentDone}% done`;\n",
              "\n",
              "    } while (position < fileData.byteLength);\n",
              "  }\n",
              "\n",
              "  // All done.\n",
              "  yield {\n",
              "    response: {\n",
              "      action: 'complete',\n",
              "    }\n",
              "  };\n",
              "}\n",
              "\n",
              "scope.google = scope.google || {};\n",
              "scope.google.colab = scope.google.colab || {};\n",
              "scope.google.colab._files = {\n",
              "  _uploadFiles,\n",
              "  _uploadFilesContinue,\n",
              "};\n",
              "})(self);\n",
              "</script> "
            ]
          },
          "metadata": {}
        },
        {
          "output_type": "stream",
          "name": "stdout",
          "text": [
            "Saving data_arreglo.png to data_arreglo.png\n"
          ]
        }
      ]
    },
    {
      "cell_type": "code",
      "source": [
        "from IPython.display import Image, display\n",
        "\n",
        "# Mostrar la imagen en Colab\n",
        "display(Image(filename='data_arreglo.png'))"
      ],
      "metadata": {
        "id": "5dFQd7L_Tjr7",
        "outputId": "fe49b82e-0bb5-4fca-a56d-8efdc770229b",
        "colab": {
          "base_uri": "https://localhost:8080/",
          "height": 321
        }
      },
      "execution_count": 88,
      "outputs": [
        {
          "output_type": "error",
          "ename": "FileNotFoundError",
          "evalue": "[Errno 2] No such file or directory: 'data_arreglo.png'",
          "traceback": [
            "\u001b[0;31m---------------------------------------------------------------------------\u001b[0m",
            "\u001b[0;31mFileNotFoundError\u001b[0m                         Traceback (most recent call last)",
            "\u001b[0;32m<ipython-input-88-57211d7bf47c>\u001b[0m in \u001b[0;36m<cell line: 0>\u001b[0;34m()\u001b[0m\n\u001b[1;32m      2\u001b[0m \u001b[0;34m\u001b[0m\u001b[0m\n\u001b[1;32m      3\u001b[0m \u001b[0;31m# Mostrar la imagen en Colab\u001b[0m\u001b[0;34m\u001b[0m\u001b[0;34m\u001b[0m\u001b[0m\n\u001b[0;32m----> 4\u001b[0;31m \u001b[0mdisplay\u001b[0m\u001b[0;34m(\u001b[0m\u001b[0mImage\u001b[0m\u001b[0;34m(\u001b[0m\u001b[0mfilename\u001b[0m\u001b[0;34m=\u001b[0m\u001b[0;34m'data_arreglo.png'\u001b[0m\u001b[0;34m)\u001b[0m\u001b[0;34m)\u001b[0m\u001b[0;34m\u001b[0m\u001b[0;34m\u001b[0m\u001b[0m\n\u001b[0m",
            "\u001b[0;32m/usr/local/lib/python3.11/dist-packages/IPython/core/display.py\u001b[0m in \u001b[0;36m__init__\u001b[0;34m(self, data, url, filename, format, embed, width, height, retina, unconfined, metadata)\u001b[0m\n\u001b[1;32m   1229\u001b[0m         \u001b[0mself\u001b[0m\u001b[0;34m.\u001b[0m\u001b[0mretina\u001b[0m \u001b[0;34m=\u001b[0m \u001b[0mretina\u001b[0m\u001b[0;34m\u001b[0m\u001b[0;34m\u001b[0m\u001b[0m\n\u001b[1;32m   1230\u001b[0m         \u001b[0mself\u001b[0m\u001b[0;34m.\u001b[0m\u001b[0munconfined\u001b[0m \u001b[0;34m=\u001b[0m \u001b[0munconfined\u001b[0m\u001b[0;34m\u001b[0m\u001b[0;34m\u001b[0m\u001b[0m\n\u001b[0;32m-> 1231\u001b[0;31m         super(Image, self).__init__(data=data, url=url, filename=filename, \n\u001b[0m\u001b[1;32m   1232\u001b[0m                 metadata=metadata)\n\u001b[1;32m   1233\u001b[0m \u001b[0;34m\u001b[0m\u001b[0m\n",
            "\u001b[0;32m/usr/local/lib/python3.11/dist-packages/IPython/core/display.py\u001b[0m in \u001b[0;36m__init__\u001b[0;34m(self, data, url, filename, metadata)\u001b[0m\n\u001b[1;32m    635\u001b[0m             \u001b[0mself\u001b[0m\u001b[0;34m.\u001b[0m\u001b[0mmetadata\u001b[0m \u001b[0;34m=\u001b[0m \u001b[0;34m{\u001b[0m\u001b[0;34m}\u001b[0m\u001b[0;34m\u001b[0m\u001b[0;34m\u001b[0m\u001b[0m\n\u001b[1;32m    636\u001b[0m \u001b[0;34m\u001b[0m\u001b[0m\n\u001b[0;32m--> 637\u001b[0;31m         \u001b[0mself\u001b[0m\u001b[0;34m.\u001b[0m\u001b[0mreload\u001b[0m\u001b[0;34m(\u001b[0m\u001b[0;34m)\u001b[0m\u001b[0;34m\u001b[0m\u001b[0;34m\u001b[0m\u001b[0m\n\u001b[0m\u001b[1;32m    638\u001b[0m         \u001b[0mself\u001b[0m\u001b[0;34m.\u001b[0m\u001b[0m_check_data\u001b[0m\u001b[0;34m(\u001b[0m\u001b[0;34m)\u001b[0m\u001b[0;34m\u001b[0m\u001b[0;34m\u001b[0m\u001b[0m\n\u001b[1;32m    639\u001b[0m \u001b[0;34m\u001b[0m\u001b[0m\n",
            "\u001b[0;32m/usr/local/lib/python3.11/dist-packages/IPython/core/display.py\u001b[0m in \u001b[0;36mreload\u001b[0;34m(self)\u001b[0m\n\u001b[1;32m   1261\u001b[0m         \u001b[0;34m\"\"\"Reload the raw data from file or URL.\"\"\"\u001b[0m\u001b[0;34m\u001b[0m\u001b[0;34m\u001b[0m\u001b[0m\n\u001b[1;32m   1262\u001b[0m         \u001b[0;32mif\u001b[0m \u001b[0mself\u001b[0m\u001b[0;34m.\u001b[0m\u001b[0membed\u001b[0m\u001b[0;34m:\u001b[0m\u001b[0;34m\u001b[0m\u001b[0;34m\u001b[0m\u001b[0m\n\u001b[0;32m-> 1263\u001b[0;31m             \u001b[0msuper\u001b[0m\u001b[0;34m(\u001b[0m\u001b[0mImage\u001b[0m\u001b[0;34m,\u001b[0m\u001b[0mself\u001b[0m\u001b[0;34m)\u001b[0m\u001b[0;34m.\u001b[0m\u001b[0mreload\u001b[0m\u001b[0;34m(\u001b[0m\u001b[0;34m)\u001b[0m\u001b[0;34m\u001b[0m\u001b[0;34m\u001b[0m\u001b[0m\n\u001b[0m\u001b[1;32m   1264\u001b[0m             \u001b[0;32mif\u001b[0m \u001b[0mself\u001b[0m\u001b[0;34m.\u001b[0m\u001b[0mretina\u001b[0m\u001b[0;34m:\u001b[0m\u001b[0;34m\u001b[0m\u001b[0;34m\u001b[0m\u001b[0m\n\u001b[1;32m   1265\u001b[0m                 \u001b[0mself\u001b[0m\u001b[0;34m.\u001b[0m\u001b[0m_retina_shape\u001b[0m\u001b[0;34m(\u001b[0m\u001b[0;34m)\u001b[0m\u001b[0;34m\u001b[0m\u001b[0;34m\u001b[0m\u001b[0m\n",
            "\u001b[0;32m/usr/local/lib/python3.11/dist-packages/IPython/core/display.py\u001b[0m in \u001b[0;36mreload\u001b[0;34m(self)\u001b[0m\n\u001b[1;32m    660\u001b[0m         \u001b[0;34m\"\"\"Reload the raw data from file or URL.\"\"\"\u001b[0m\u001b[0;34m\u001b[0m\u001b[0;34m\u001b[0m\u001b[0m\n\u001b[1;32m    661\u001b[0m         \u001b[0;32mif\u001b[0m \u001b[0mself\u001b[0m\u001b[0;34m.\u001b[0m\u001b[0mfilename\u001b[0m \u001b[0;32mis\u001b[0m \u001b[0;32mnot\u001b[0m \u001b[0;32mNone\u001b[0m\u001b[0;34m:\u001b[0m\u001b[0;34m\u001b[0m\u001b[0;34m\u001b[0m\u001b[0m\n\u001b[0;32m--> 662\u001b[0;31m             \u001b[0;32mwith\u001b[0m \u001b[0mopen\u001b[0m\u001b[0;34m(\u001b[0m\u001b[0mself\u001b[0m\u001b[0;34m.\u001b[0m\u001b[0mfilename\u001b[0m\u001b[0;34m,\u001b[0m \u001b[0mself\u001b[0m\u001b[0;34m.\u001b[0m\u001b[0m_read_flags\u001b[0m\u001b[0;34m)\u001b[0m \u001b[0;32mas\u001b[0m \u001b[0mf\u001b[0m\u001b[0;34m:\u001b[0m\u001b[0;34m\u001b[0m\u001b[0;34m\u001b[0m\u001b[0m\n\u001b[0m\u001b[1;32m    663\u001b[0m                 \u001b[0mself\u001b[0m\u001b[0;34m.\u001b[0m\u001b[0mdata\u001b[0m \u001b[0;34m=\u001b[0m \u001b[0mf\u001b[0m\u001b[0;34m.\u001b[0m\u001b[0mread\u001b[0m\u001b[0;34m(\u001b[0m\u001b[0;34m)\u001b[0m\u001b[0;34m\u001b[0m\u001b[0;34m\u001b[0m\u001b[0m\n\u001b[1;32m    664\u001b[0m         \u001b[0;32melif\u001b[0m \u001b[0mself\u001b[0m\u001b[0;34m.\u001b[0m\u001b[0murl\u001b[0m \u001b[0;32mis\u001b[0m \u001b[0;32mnot\u001b[0m \u001b[0;32mNone\u001b[0m\u001b[0;34m:\u001b[0m\u001b[0;34m\u001b[0m\u001b[0;34m\u001b[0m\u001b[0m\n",
            "\u001b[0;31mFileNotFoundError\u001b[0m: [Errno 2] No such file or directory: 'data_arreglo.png'"
          ]
        }
      ]
    },
    {
      "cell_type": "code",
      "source": [
        "data_array = np.array([\n",
        "    [35, 10, 1, 3500, 12000],\n",
        "    [50, 25, 3, 6000, 30000],\n",
        "    [23, 2, 0, 50, 1500],\n",
        "    [42, 15, 2, 1000, 2800]])\n",
        "print(f'El arreglo de las siguientes personas es \\n{data_array}')"
      ],
      "metadata": {
        "id": "Yt8I7zPZT81c",
        "outputId": "d32ee313-26d0-43f7-8bb4-ce05125cd5d6",
        "colab": {
          "base_uri": "https://localhost:8080/"
        }
      },
      "execution_count": 89,
      "outputs": [
        {
          "output_type": "stream",
          "name": "stdout",
          "text": [
            "El arreglo de las siguientes personas es \n",
            "[[   35    10     1  3500 12000]\n",
            " [   50    25     3  6000 30000]\n",
            " [   23     2     0    50  1500]\n",
            " [   42    15     2  1000  2800]]\n"
          ]
        }
      ]
    },
    {
      "cell_type": "markdown",
      "source": [
        "### [2] Características de un arreglo"
      ],
      "metadata": {
        "id": "r7-m_bzyUMZS"
      }
    },
    {
      "cell_type": "code",
      "source": [
        "arreglo_1 = np.array([[0, 1, 2, 3],[4, 5, 6, 7],[8, 9, 10, 11]])\n",
        "print(arreglo_1)"
      ],
      "metadata": {
        "id": "-_AubxSmUSuJ",
        "outputId": "45ad7a1b-4cda-4c78-bca4-439a0254faa1",
        "colab": {
          "base_uri": "https://localhost:8080/"
        }
      },
      "execution_count": null,
      "outputs": [
        {
          "output_type": "stream",
          "name": "stdout",
          "text": [
            "[[ 0  1  2  3]\n",
            " [ 4  5  6  7]\n",
            " [ 8  9 10 11]]\n"
          ]
        }
      ]
    },
    {
      "cell_type": "code",
      "source": [
        "type(arreglo_1)"
      ],
      "metadata": {
        "id": "rO0UnqSVrbLc",
        "outputId": "352aeb89-f1f1-437c-f3da-f00ac823ab51",
        "colab": {
          "base_uri": "https://localhost:8080/"
        }
      },
      "execution_count": null,
      "outputs": [
        {
          "output_type": "execute_result",
          "data": {
            "text/plain": [
              "numpy.ndarray"
            ]
          },
          "metadata": {},
          "execution_count": 35
        }
      ]
    },
    {
      "cell_type": "code",
      "source": [
        "arreglo_1.ndim"
      ],
      "metadata": {
        "id": "QKHJ1b60UZ_d",
        "outputId": "4ffd193e-24a7-470e-ca4f-d4b69f888d93",
        "colab": {
          "base_uri": "https://localhost:8080/"
        }
      },
      "execution_count": null,
      "outputs": [
        {
          "output_type": "execute_result",
          "data": {
            "text/plain": [
              "2"
            ]
          },
          "metadata": {},
          "execution_count": 37
        }
      ]
    },
    {
      "cell_type": "code",
      "source": [
        "arreglo_1.shape"
      ],
      "metadata": {
        "id": "sckRTGENUeXm",
        "outputId": "5c4e9eab-baf2-4e62-b9c3-9af0da736e2e",
        "colab": {
          "base_uri": "https://localhost:8080/"
        }
      },
      "execution_count": null,
      "outputs": [
        {
          "output_type": "execute_result",
          "data": {
            "text/plain": [
              "(3, 4)"
            ]
          },
          "metadata": {},
          "execution_count": 38
        }
      ]
    },
    {
      "cell_type": "code",
      "source": [
        "arreglo_1.size"
      ],
      "metadata": {
        "id": "_PDqakPpUhLx",
        "outputId": "bf110496-a754-44ad-da87-917ab5b21219",
        "colab": {
          "base_uri": "https://localhost:8080/"
        }
      },
      "execution_count": null,
      "outputs": [
        {
          "output_type": "execute_result",
          "data": {
            "text/plain": [
              "12"
            ]
          },
          "metadata": {},
          "execution_count": 40
        }
      ]
    },
    {
      "cell_type": "code",
      "source": [
        "arreglo_1.dtype.name"
      ],
      "metadata": {
        "id": "uBsa3bH9UjmD",
        "outputId": "0641bd3c-efa1-4213-e86c-fbb30ca28481",
        "colab": {
          "base_uri": "https://localhost:8080/",
          "height": 36
        }
      },
      "execution_count": null,
      "outputs": [
        {
          "output_type": "execute_result",
          "data": {
            "text/plain": [
              "'int64'"
            ],
            "application/vnd.google.colaboratory.intrinsic+json": {
              "type": "string"
            }
          },
          "metadata": {},
          "execution_count": 41
        }
      ]
    },
    {
      "cell_type": "markdown",
      "source": [
        "### Actividad N035"
      ],
      "metadata": {
        "id": "VuPreCZLUsn9"
      }
    },
    {
      "cell_type": "markdown",
      "source": [
        "Obtenga las siguientes características del arreglo NumPy data_array: el número de dimensiones, tamaño de cada dimensión, el número de elementos."
      ],
      "metadata": {
        "id": "Q9SnUAUjUwx5"
      }
    },
    {
      "cell_type": "code",
      "source": [
        "print(f'El numero de  dimesiones del arreglo es \\n{data_array.ndim}')\n",
        "print(f'El tamaño de cada de cada dimesiones del arreglo es \\n{data_array.shape}')\n",
        "print(f'La cantidad de elementos del arreglo es \\n{data_array.size}')"
      ],
      "metadata": {
        "id": "0B6qwiAAU0q9",
        "outputId": "5d4a13b4-80e5-4f2b-99e0-54060058595f",
        "colab": {
          "base_uri": "https://localhost:8080/"
        }
      },
      "execution_count": null,
      "outputs": [
        {
          "output_type": "stream",
          "name": "stdout",
          "text": [
            "El numero de  dimesiones del arreglo es \n",
            "2\n",
            "El tamaño de cada de cada dimesiones del arreglo es \n",
            "(4, 5)\n",
            "La cantidad de elementos del arreglo es \n",
            "20\n"
          ]
        }
      ]
    },
    {
      "cell_type": "code",
      "source": [
        "data_array.dtype.name"
      ],
      "metadata": {
        "id": "V7-hw3AhtH38",
        "outputId": "6aadb90c-9003-419a-fdd0-0cd800ec6958",
        "colab": {
          "base_uri": "https://localhost:8080/",
          "height": 36
        }
      },
      "execution_count": null,
      "outputs": [
        {
          "output_type": "execute_result",
          "data": {
            "text/plain": [
              "'int64'"
            ],
            "application/vnd.google.colaboratory.intrinsic+json": {
              "type": "string"
            }
          },
          "metadata": {},
          "execution_count": 49
        }
      ]
    },
    {
      "cell_type": "markdown",
      "source": [
        "### [3] Operaciones matemáticas con arreglos NumPy"
      ],
      "metadata": {
        "id": "WcN1zyxaU3vT"
      }
    },
    {
      "cell_type": "code",
      "source": [
        "arreglo_2 = np.array( [11, 12, 13, 14])\n",
        "arreglo_3 = np.array( [ 1, 2, 3, 4])"
      ],
      "metadata": {
        "id": "bM-cNQMgVKed"
      },
      "execution_count": null,
      "outputs": []
    },
    {
      "cell_type": "code",
      "source": [
        "# Suma de arreglos\n",
        "arreglo_4 = arreglo_2 + arreglo_3\n",
        "print(f\"EL arreglo resultante es \\n{arreglo_4}\")"
      ],
      "metadata": {
        "id": "iP_admGHVNO4",
        "outputId": "87d3d1fa-4f19-47d7-83da-a452768ee8e2",
        "colab": {
          "base_uri": "https://localhost:8080/"
        }
      },
      "execution_count": null,
      "outputs": [
        {
          "output_type": "stream",
          "name": "stdout",
          "text": [
            "EL arreglo resultante es \n",
            "[12 14 16 18]\n"
          ]
        }
      ]
    },
    {
      "cell_type": "code",
      "source": [
        "arreglo_2 = np.array( [11, 12, 13, 14])\n",
        "arreglo_3_ = np.array( [ 1, 2, 3, 4, 5])\n",
        "# Suma de arreglos con diferente forma\n",
        "arreglo_4 = arreglo_2 + arreglo_3_\n",
        "print(f\"EL arreglo resultante es \\n{arreglo_4}\")"
      ],
      "metadata": {
        "id": "A3SgKTa3udOY",
        "outputId": "3c64e81a-3241-47b3-f11f-c725153181d7",
        "colab": {
          "base_uri": "https://localhost:8080/",
          "height": 193
        }
      },
      "execution_count": null,
      "outputs": [
        {
          "output_type": "error",
          "ename": "ValueError",
          "evalue": "operands could not be broadcast together with shapes (4,) (5,) ",
          "traceback": [
            "\u001b[0;31m---------------------------------------------------------------------------\u001b[0m",
            "\u001b[0;31mValueError\u001b[0m                                Traceback (most recent call last)",
            "\u001b[0;32m<ipython-input-53-5dc4334c365e>\u001b[0m in \u001b[0;36m<cell line: 0>\u001b[0;34m()\u001b[0m\n\u001b[1;32m      2\u001b[0m \u001b[0marreglo_3_\u001b[0m \u001b[0;34m=\u001b[0m \u001b[0mnp\u001b[0m\u001b[0;34m.\u001b[0m\u001b[0marray\u001b[0m\u001b[0;34m(\u001b[0m \u001b[0;34m[\u001b[0m \u001b[0;36m1\u001b[0m\u001b[0;34m,\u001b[0m \u001b[0;36m2\u001b[0m\u001b[0;34m,\u001b[0m \u001b[0;36m3\u001b[0m\u001b[0;34m,\u001b[0m \u001b[0;36m4\u001b[0m\u001b[0;34m,\u001b[0m \u001b[0;36m5\u001b[0m\u001b[0;34m]\u001b[0m\u001b[0;34m)\u001b[0m\u001b[0;34m\u001b[0m\u001b[0;34m\u001b[0m\u001b[0m\n\u001b[1;32m      3\u001b[0m \u001b[0;31m# Suma de arreglos con diferente forma\u001b[0m\u001b[0;34m\u001b[0m\u001b[0;34m\u001b[0m\u001b[0m\n\u001b[0;32m----> 4\u001b[0;31m \u001b[0marreglo_4\u001b[0m \u001b[0;34m=\u001b[0m \u001b[0marreglo_2\u001b[0m \u001b[0;34m+\u001b[0m \u001b[0marreglo_3_\u001b[0m\u001b[0;34m\u001b[0m\u001b[0;34m\u001b[0m\u001b[0m\n\u001b[0m\u001b[1;32m      5\u001b[0m \u001b[0mprint\u001b[0m\u001b[0;34m(\u001b[0m\u001b[0;34mf\"EL arreglo resultante es \\n{arreglo_4}\"\u001b[0m\u001b[0;34m)\u001b[0m\u001b[0;34m\u001b[0m\u001b[0;34m\u001b[0m\u001b[0m\n",
            "\u001b[0;31mValueError\u001b[0m: operands could not be broadcast together with shapes (4,) (5,) "
          ]
        }
      ]
    },
    {
      "cell_type": "code",
      "source": [
        "# Resta de arreglos\n",
        "arreglo_5 = arreglo_2 - arreglo_3\n",
        "print(f\"EL arreglo resultante es \\n{arreglo_5}\")"
      ],
      "metadata": {
        "id": "idpDjiIGVRk2",
        "outputId": "6240cf65-47b0-4674-cfd1-77e73497c4d2",
        "colab": {
          "base_uri": "https://localhost:8080/"
        }
      },
      "execution_count": null,
      "outputs": [
        {
          "output_type": "stream",
          "name": "stdout",
          "text": [
            "EL arreglo resultante es \n",
            "[10 10 10 10]\n"
          ]
        }
      ]
    },
    {
      "cell_type": "code",
      "source": [
        "# Potencia de arreglos\n",
        "print(f\"El arreglo_3 es {arreglo_3}\")\n",
        "arreglo_3**2"
      ],
      "metadata": {
        "id": "b-sGyJKYVbT3",
        "outputId": "3bcb8eca-f675-499b-d20a-3997c402bc57",
        "colab": {
          "base_uri": "https://localhost:8080/"
        }
      },
      "execution_count": null,
      "outputs": [
        {
          "output_type": "stream",
          "name": "stdout",
          "text": [
            "El arreglo_3 es [1 2 3 4]\n"
          ]
        },
        {
          "output_type": "execute_result",
          "data": {
            "text/plain": [
              "array([ 1,  4,  9, 16])"
            ]
          },
          "metadata": {},
          "execution_count": 57
        }
      ]
    },
    {
      "cell_type": "code",
      "source": [
        "# Transformación de un arreglo\n",
        "np.cos(arreglo_3)"
      ],
      "metadata": {
        "id": "iRgBq4tTVgdZ",
        "outputId": "9b982388-2bf7-4bf5-c806-9b4fe1a31e34",
        "colab": {
          "base_uri": "https://localhost:8080/"
        }
      },
      "execution_count": null,
      "outputs": [
        {
          "output_type": "execute_result",
          "data": {
            "text/plain": [
              "array([ 0.54030231, -0.41614684, -0.9899925 , -0.65364362])"
            ]
          },
          "metadata": {},
          "execution_count": 58
        }
      ]
    },
    {
      "cell_type": "code",
      "source": [
        "# Multiplicación de matrices\n",
        "\n",
        "A1 = np.array([[1, 1],[0, 1]])\n",
        "A2 = np.array([[2, 0],[3, 4]])"
      ],
      "metadata": {
        "id": "Qu6uMOVnVl34"
      },
      "execution_count": null,
      "outputs": []
    },
    {
      "cell_type": "code",
      "source": [
        "A1.shape[1] == A2.shape[0]"
      ],
      "metadata": {
        "id": "hu85oQ1OySNA",
        "outputId": "23e33cbc-d3a0-4994-a6aa-5c032b939a87",
        "colab": {
          "base_uri": "https://localhost:8080/"
        }
      },
      "execution_count": null,
      "outputs": [
        {
          "output_type": "execute_result",
          "data": {
            "text/plain": [
              "True"
            ]
          },
          "metadata": {},
          "execution_count": 64
        }
      ]
    },
    {
      "cell_type": "code",
      "source": [
        "np.dot(A1,A2)"
      ],
      "metadata": {
        "id": "u4S9UdHEVl6U",
        "outputId": "af8a3e3a-05e5-42ec-ae1b-707f6e4c20d9",
        "colab": {
          "base_uri": "https://localhost:8080/"
        }
      },
      "execution_count": null,
      "outputs": [
        {
          "output_type": "execute_result",
          "data": {
            "text/plain": [
              "array([[5, 4],\n",
              "       [3, 4]])"
            ]
          },
          "metadata": {},
          "execution_count": 61
        }
      ]
    },
    {
      "cell_type": "code",
      "source": [
        "# Operaciones matemáticas con los arreglos de numpy\n",
        "arr_sum = a1 + a2\n",
        "arr_prod = a1 * a2\n",
        "print(a1)\n",
        "print(a2)\n",
        "print(f\"La suma de los arreglos es \\n{arr_sum}\")\n",
        "print(f\"\\nLa multiplicación de los arreglos es \\n{arr_prod}\")"
      ],
      "metadata": {
        "id": "Oep_gqWsU4g8",
        "outputId": "1cd13f8a-072f-4183-8472-5a48d0fc51b3",
        "colab": {
          "base_uri": "https://localhost:8080/"
        }
      },
      "execution_count": null,
      "outputs": [
        {
          "output_type": "stream",
          "name": "stdout",
          "text": [
            "[1 2 3]\n",
            "[4 5 6]\n",
            "La suma de los arreglos es \n",
            "[5 7 9]\n",
            "\n",
            "La multiplicación de los arreglos es \n",
            "[ 4 10 18]\n"
          ]
        }
      ]
    },
    {
      "cell_type": "code",
      "source": [
        "#Actividad 36\n",
        "matriz_A = np.array([[1,2,3], [3,2,1]])\n",
        "matriz_B = np.array([[0,2], [1,-1], [0,1]])\n",
        "print(f\"La matriz A es \\n{matriz_A} y su forma es \\n{matriz_A.shape}\")\n",
        "print(f\"\\nLa matriz B es \\n{matriz_B} y su forma es \\n{matriz_B.shape}\")\n",
        "print(f\"\\nLa multiplicación de las matrices 'A.B' es \\n{np.dot(matriz_A,matriz_B)}\")\n",
        "print(f\"\\nLa multiplicación de las matrices 'B.A' es \\n{np.dot(matriz_B,matriz_A)}\")"
      ],
      "metadata": {
        "id": "6PuooVmJ3bwz",
        "outputId": "3685855e-c3f0-458f-c8a3-ccca81137b48",
        "colab": {
          "base_uri": "https://localhost:8080/"
        }
      },
      "execution_count": null,
      "outputs": [
        {
          "output_type": "stream",
          "name": "stdout",
          "text": [
            "La matriz A es \n",
            "[[1 2 3]\n",
            " [3 2 1]] y su forma es \n",
            "(2, 3)\n",
            "\n",
            "La matriz B es \n",
            "[[ 0  2]\n",
            " [ 1 -1]\n",
            " [ 0  1]] y su forma es \n",
            "(3, 2)\n",
            "\n",
            "La multiplicación de las matrices 'A.B' es \n",
            "[[2 3]\n",
            " [2 5]]\n",
            "\n",
            "La multiplicación de las matrices 'B.A' es \n",
            "[[ 6  4  2]\n",
            " [-2  0  2]\n",
            " [ 3  2  1]]\n"
          ]
        }
      ]
    },
    {
      "cell_type": "code",
      "source": [
        "# Matrices de 2D\n",
        "mat_4 = np.array([[1,2,3],[4,5,6]])\n",
        "print(f\"La matriz de 2D es \\n{mat_4}\")"
      ],
      "metadata": {
        "id": "g1gxfd7fVjc1",
        "outputId": "92756e9c-d3e8-4155-dccb-4586f668ef83",
        "colab": {
          "base_uri": "https://localhost:8080/"
        }
      },
      "execution_count": null,
      "outputs": [
        {
          "output_type": "stream",
          "name": "stdout",
          "text": [
            "La matriz de 2D es \n",
            "[[1 2 3]\n",
            " [4 5 6]]\n"
          ]
        }
      ]
    },
    {
      "cell_type": "code",
      "source": [
        "# Crear una lista de listas\n",
        "ll_1 = [[10,20,30],[10,10,10]]\n",
        "print(f\"La lista de listas es \\n{ll_1}\")\n",
        "print(f\"\\nEl objeto ll_1 es del tipo \\n{type(ll_1)}\")"
      ],
      "metadata": {
        "id": "hDeFOdGYW02Q",
        "outputId": "337089d6-1283-4bb5-d703-dae6735c3e66",
        "colab": {
          "base_uri": "https://localhost:8080/"
        }
      },
      "execution_count": null,
      "outputs": [
        {
          "output_type": "stream",
          "name": "stdout",
          "text": [
            "La lista de listas es \n",
            "[[10, 20, 30], [10, 10, 10]]\n",
            "\n",
            "El objeto ll_1 es del tipo \n",
            "<class 'list'>\n"
          ]
        }
      ]
    },
    {
      "cell_type": "code",
      "source": [
        "# Crear una matriz en numpy a partir de una lista\n",
        "\n",
        "mat_6 = np.array(ll_1)\n",
        "print(f\"La matriz de 2D es \\n{mat_6}\")\n",
        "print(f\"\\nEl objeto mat_6 es del tipo \\n{type(mat_6)}\")"
      ],
      "metadata": {
        "id": "9VYr7KCjXjoW",
        "outputId": "8779aff6-10a1-4100-c08c-8522bee040a6",
        "colab": {
          "base_uri": "https://localhost:8080/"
        }
      },
      "execution_count": null,
      "outputs": [
        {
          "output_type": "stream",
          "name": "stdout",
          "text": [
            "La matriz de 2D es \n",
            "[[10 20 30]\n",
            " [10 10 10]]\n",
            "\n",
            "El objeto mat_6 es del tipo \n",
            "<class 'numpy.ndarray'>\n"
          ]
        }
      ]
    },
    {
      "cell_type": "code",
      "source": [
        "# Creamos una matriz 1D a parit de arange\n",
        "mat_7 = np.arange(15)\n",
        "print(f\"La matriz 1D de numpy es \\n{mat_7}\")\n",
        "print(f\"\\nEl objeto mat_7 es del tipo \\n{type(mat_7)}\")"
      ],
      "metadata": {
        "id": "xVpociN9YCzM",
        "outputId": "cd531cf4-a6c7-4a35-ea6e-40872f310f91",
        "colab": {
          "base_uri": "https://localhost:8080/"
        }
      },
      "execution_count": 3,
      "outputs": [
        {
          "output_type": "stream",
          "name": "stdout",
          "text": [
            "La matriz 1D de numpy es \n",
            "[ 0  1  2  3  4  5  6  7  8  9 10 11 12 13 14]\n",
            "\n",
            "El objeto mat_7 es del tipo \n",
            "<class 'numpy.ndarray'>\n"
          ]
        }
      ]
    },
    {
      "cell_type": "code",
      "source": [
        "# Crear una matriz 2D en numpy a partir de una matriz 1D\n",
        "mat_8 = mat_7.reshape(3,5) #3 filas, 5 columnas\n",
        "print(f\"La matriz 2D de numpy es \\n{mat_8}\")\n",
        "print(f\"\\nEl objeto mat_8 es del tipo \\n{type(mat_8)}\")"
      ],
      "metadata": {
        "id": "zBCQkxowYszN",
        "colab": {
          "base_uri": "https://localhost:8080/"
        },
        "outputId": "bea05c79-c7d2-4ac3-cfa7-c1b6182adab0"
      },
      "execution_count": 4,
      "outputs": [
        {
          "output_type": "stream",
          "name": "stdout",
          "text": [
            "La matriz 2D de numpy es \n",
            "[[ 0  1  2  3  4]\n",
            " [ 5  6  7  8  9]\n",
            " [10 11 12 13 14]]\n",
            "\n",
            "El objeto mat_8 es del tipo \n",
            "<class 'numpy.ndarray'>\n"
          ]
        }
      ]
    },
    {
      "cell_type": "code",
      "source": [
        "print(f\"El número de dimensiones del objeto mat_8 es {mat_8.ndim}\")\n",
        "print(f\"\\nEl tamaño de las dimensiones del objeto mat_8 es {mat_8.shape}\")\n",
        "print(f\"\\nEl número de elementos del objeto mat_8 es {mat_8.size}\")"
      ],
      "metadata": {
        "id": "uL28s-jdZfRI",
        "colab": {
          "base_uri": "https://localhost:8080/"
        },
        "outputId": "0573ed17-fd7f-43c9-abf5-2dd83dba665f"
      },
      "execution_count": 5,
      "outputs": [
        {
          "output_type": "stream",
          "name": "stdout",
          "text": [
            "El número de dimensiones del objeto mat_8 es 2\n",
            "\n",
            "El tamaño de las dimensiones del objeto mat_8 es (3, 5)\n",
            "\n",
            "El número de elementos del objeto mat_8 es 15\n"
          ]
        }
      ]
    },
    {
      "cell_type": "code",
      "source": [
        "# Crear una matriz de ceros con determinadas dimensiones\n",
        "#4filas y 3columnas\n",
        "mat_9 = np.zeros((4,3))"
      ],
      "metadata": {
        "id": "lZJSIKI-aTZV"
      },
      "execution_count": 8,
      "outputs": []
    },
    {
      "cell_type": "code",
      "source": [
        "# Las características de la matriz\n",
        "print(f\"La matriz mat_9 es \\n{mat_9}\")\n",
        "print(f\"\\nEl objeto mat_9 es del tipo \\n{type(mat_9)}\")\n",
        "print(f\"\\nEl número de dimensiones de la matriz mat_9 es {mat_9.ndim}\")\n",
        "print(f\"\\nEl tamaño de las dimensiones de la matriz mat_9 es {mat_9.shape}\")\n",
        "print(f\"\\nEl número de elementos de la matriz mat_9 es {mat_9.size}\")"
      ],
      "metadata": {
        "id": "4bvzOoLMeVOe",
        "colab": {
          "base_uri": "https://localhost:8080/"
        },
        "outputId": "937e4eaa-2f5f-4d83-d6e3-b175181f2da3"
      },
      "execution_count": 9,
      "outputs": [
        {
          "output_type": "stream",
          "name": "stdout",
          "text": [
            "La matriz mat_9 es \n",
            "[[0. 0. 0.]\n",
            " [0. 0. 0.]\n",
            " [0. 0. 0.]\n",
            " [0. 0. 0.]]\n",
            "\n",
            "El objeto mat_9 es del tipo \n",
            "<class 'numpy.ndarray'>\n",
            "\n",
            "El número de dimensiones de la matriz mat_9 es 2\n",
            "\n",
            "El tamaño de las dimensiones de la matriz mat_9 es (4, 3)\n",
            "\n",
            "El número de elementos de la matriz mat_9 es 12\n"
          ]
        }
      ]
    },
    {
      "cell_type": "code",
      "source": [
        "prueba1 = np.zeros((2,3,4))\n",
        "print(prueba1)"
      ],
      "metadata": {
        "colab": {
          "base_uri": "https://localhost:8080/"
        },
        "id": "CDE0v3HWKJM9",
        "outputId": "11d8cf8e-1dc8-4fb8-c7ce-b1016d29c9c1"
      },
      "execution_count": 19,
      "outputs": [
        {
          "output_type": "stream",
          "name": "stdout",
          "text": [
            "[[[0. 0. 0. 0.]\n",
            "  [0. 0. 0. 0.]\n",
            "  [0. 0. 0. 0.]]\n",
            "\n",
            " [[0. 0. 0. 0.]\n",
            "  [0. 0. 0. 0.]\n",
            "  [0. 0. 0. 0.]]]\n"
          ]
        }
      ]
    },
    {
      "cell_type": "code",
      "source": [
        "# Crear una matriz de valores espaciados en un intervalo\n",
        "mat_10 = np.linspace(50,60,20)\n",
        "# Las características de la matriz\n",
        "# 50 : Valor inicial\n",
        "# 60: valor final\n",
        "# 20 : total de elementos\n",
        "print(f\"La matriz mat_10 es \\n{mat_10}\")\n",
        "print(f\"\\nEl objeto mat_10 es del tipo \\n{type(mat_10)}\")\n",
        "print(f\"\\nEl número de dimensiones de la matriz mat_10 es {mat_10.ndim}\")\n",
        "print(f\"\\nEl tamaño de las dimensiones de la matriz mat_10 es {mat_10.shape}\")\n",
        "print(f\"\\nEl número de elementos de la matriz mat_10 es {mat_10.size}\")"
      ],
      "metadata": {
        "id": "AHxgSSv6fDzC",
        "colab": {
          "base_uri": "https://localhost:8080/"
        },
        "outputId": "d5e1f893-1814-4245-c5c6-577d5def71b9"
      },
      "execution_count": 10,
      "outputs": [
        {
          "output_type": "stream",
          "name": "stdout",
          "text": [
            "La matriz mat_10 es \n",
            "[50.         50.52631579 51.05263158 51.57894737 52.10526316 52.63157895\n",
            " 53.15789474 53.68421053 54.21052632 54.73684211 55.26315789 55.78947368\n",
            " 56.31578947 56.84210526 57.36842105 57.89473684 58.42105263 58.94736842\n",
            " 59.47368421 60.        ]\n",
            "\n",
            "El objeto mat_10 es del tipo \n",
            "<class 'numpy.ndarray'>\n",
            "\n",
            "El número de dimensiones de la matriz mat_10 es 1\n",
            "\n",
            "El tamaño de las dimensiones de la matriz mat_10 es (20,)\n",
            "\n",
            "El número de elementos de la matriz mat_10 es 20\n"
          ]
        }
      ]
    },
    {
      "cell_type": "code",
      "source": [
        "l_0 = [30,32,40,50,65]\n",
        "print(f\"El objeto l_0 es {l_0}\")\n",
        "print(f\"El objeto l_0 es del tipo {type(l_0)}\")"
      ],
      "metadata": {
        "id": "I6qfHJdvfp4B",
        "colab": {
          "base_uri": "https://localhost:8080/"
        },
        "outputId": "790dbca3-a245-45f6-c113-b434d6dd46f7"
      },
      "execution_count": 11,
      "outputs": [
        {
          "output_type": "stream",
          "name": "stdout",
          "text": [
            "El objeto l_0 es [30, 32, 40, 50, 65]\n",
            "El objeto l_0 es del tipo <class 'list'>\n"
          ]
        }
      ]
    },
    {
      "cell_type": "code",
      "source": [
        "mat_11 = np.array(l_0) # Convertir una lista en un arreglo numpy\n",
        "print(f\"El objeto mat_11 es {mat_11}\")\n",
        "print(f\"El objeto mat_11 es del tipo {type(mat_11)}\")"
      ],
      "metadata": {
        "id": "BPLlnuJHhLeY",
        "colab": {
          "base_uri": "https://localhost:8080/"
        },
        "outputId": "0fcfd210-93a7-4514-8088-d20dca00d701"
      },
      "execution_count": 13,
      "outputs": [
        {
          "output_type": "stream",
          "name": "stdout",
          "text": [
            "El objeto mat_11 es [30 32 40 50 65]\n",
            "El objeto mat_11 es del tipo <class 'numpy.ndarray'>\n"
          ]
        }
      ]
    },
    {
      "cell_type": "code",
      "source": [
        "# Las características de la matriz\n",
        "print(f\"La matriz mat_11 es \\n{mat_11}\")\n",
        "print(f\"\\nEl objeto mat_11 es del tipo \\n{type(mat_11)}\")\n",
        "print(f\"\\nEl número de dimensiones de la matriz mat_11 es {mat_11.ndim}\")\n",
        "print(f\"\\nEl tamaño de las dimensiones de la matriz mat_11 es {mat_11.shape}\")\n",
        "print(f\"\\nEl número de elementos de la matriz mat_11 es {mat_11.size}\")"
      ],
      "metadata": {
        "id": "uN22MonEhLrv",
        "colab": {
          "base_uri": "https://localhost:8080/"
        },
        "outputId": "0f79ca75-fc85-4ac4-cd0e-3e5c785852e4"
      },
      "execution_count": 14,
      "outputs": [
        {
          "output_type": "stream",
          "name": "stdout",
          "text": [
            "La matriz mat_11 es \n",
            "[30 32 40 50 65]\n",
            "\n",
            "El objeto mat_11 es del tipo \n",
            "<class 'numpy.ndarray'>\n",
            "\n",
            "El número de dimensiones de la matriz mat_11 es 1\n",
            "\n",
            "El tamaño de las dimensiones de la matriz mat_11 es (5,)\n",
            "\n",
            "El número de elementos de la matriz mat_11 es 5\n"
          ]
        }
      ]
    },
    {
      "cell_type": "code",
      "source": [
        "import numpy as np\n",
        "mat_12 = np.arange(24).reshape(2,4,3)\n",
        "# Las características de la matriz\n",
        "print(f\"La matriz mat_12 es \\n{mat_12}\")\n",
        "print(f\"\\nEl objeto mat_12 es del tipo \\n{type(mat_12)}\")\n",
        "print(f\"\\nEl número de dimensiones de la matriz mat_12 es {mat_12.ndim}\")\n",
        "print(f\"\\nEl tamaño de las dimensiones de la matriz mat_12 es {mat_12.shape}\")\n",
        "print(f\"\\nEl número de elementos de la matriz mat_12 es {mat_12.size}\")"
      ],
      "metadata": {
        "id": "_CPKGXr0hL3T",
        "colab": {
          "base_uri": "https://localhost:8080/"
        },
        "outputId": "32e0536e-4b97-4d21-8b0d-a5b5e267acfb"
      },
      "execution_count": 15,
      "outputs": [
        {
          "output_type": "stream",
          "name": "stdout",
          "text": [
            "La matriz mat_12 es \n",
            "[[[ 0  1  2]\n",
            "  [ 3  4  5]\n",
            "  [ 6  7  8]\n",
            "  [ 9 10 11]]\n",
            "\n",
            " [[12 13 14]\n",
            "  [15 16 17]\n",
            "  [18 19 20]\n",
            "  [21 22 23]]]\n",
            "\n",
            "El objeto mat_12 es del tipo \n",
            "<class 'numpy.ndarray'>\n",
            "\n",
            "El número de dimensiones de la matriz mat_12 es 3\n",
            "\n",
            "El tamaño de las dimensiones de la matriz mat_12 es (2, 4, 3)\n",
            "\n",
            "El número de elementos de la matriz mat_12 es 24\n"
          ]
        }
      ]
    },
    {
      "cell_type": "code",
      "source": [
        "print(f\"\\nEl número de dimensiones de la matriz mat_12 es {mat_12.ndim}\") # Matriz de 3D\n",
        "# .ravel() ,e permite convertir una matriz de N dimensiones a unidimensional\n",
        "print(f\"\\nLa matriz mat_12 se convierte con la función ravel en \\n{mat_12.ravel()}\")\n",
        "mat_12 = mat_12.ravel() #esta linea si modifica el codigo"
      ],
      "metadata": {
        "id": "G1Z1pK-hhMCc",
        "colab": {
          "base_uri": "https://localhost:8080/"
        },
        "outputId": "b53aeeb4-5389-40b7-fa4b-4cc31546f15d"
      },
      "execution_count": 16,
      "outputs": [
        {
          "output_type": "stream",
          "name": "stdout",
          "text": [
            "\n",
            "El número de dimensiones de la matriz mat_12 es 3\n",
            "\n",
            "La matriz mat_12 se convierte con la función ravel en \n",
            "[ 0  1  2  3  4  5  6  7  8  9 10 11 12 13 14 15 16 17 18 19 20 21 22 23]\n"
          ]
        }
      ]
    },
    {
      "cell_type": "code",
      "source": [
        "print(f\"\\nEl número de dimensiones de la matriz mat_12 es {mat_12.ndim}\")"
      ],
      "metadata": {
        "id": "uVGF2oqMNS8n",
        "colab": {
          "base_uri": "https://localhost:8080/"
        },
        "outputId": "00b4fb89-c3e2-435e-fdda-7a2a48d48fe0"
      },
      "execution_count": 17,
      "outputs": [
        {
          "output_type": "stream",
          "name": "stdout",
          "text": [
            "\n",
            "El número de dimensiones de la matriz mat_12 es 1\n"
          ]
        }
      ]
    },
    {
      "cell_type": "code",
      "source": [],
      "metadata": {
        "id": "Lt6piKX9KE_w"
      },
      "execution_count": null,
      "outputs": []
    },
    {
      "cell_type": "code",
      "source": [
        "# np.array(objeto) => objeto se convierte en numpy array\n",
        "ll_x = [[57,21,48,0],[71,27,60,0],[111,51,96,0]]\n",
        "print(f\"La lista de listas es \\n{ll_x}\")"
      ],
      "metadata": {
        "id": "KCofsUZpQFW_",
        "colab": {
          "base_uri": "https://localhost:8080/"
        },
        "outputId": "05a47728-14f1-458c-808f-2f89359d6be1"
      },
      "execution_count": 20,
      "outputs": [
        {
          "output_type": "stream",
          "name": "stdout",
          "text": [
            "La lista de listas es \n",
            "[[57, 21, 48, 0], [71, 27, 60, 0], [111, 51, 96, 0]]\n"
          ]
        }
      ]
    },
    {
      "cell_type": "code",
      "source": [
        "mat_13 = np.array(ll_x)\n",
        "print(f\"La matriz mat_13 es \\n{mat_13}\")"
      ],
      "metadata": {
        "id": "s47KbA5oSmBa",
        "colab": {
          "base_uri": "https://localhost:8080/"
        },
        "outputId": "d01f450d-b384-46d2-fd76-487e3b589680"
      },
      "execution_count": 23,
      "outputs": [
        {
          "output_type": "stream",
          "name": "stdout",
          "text": [
            "La matriz mat_13 es \n",
            "[[ 57  21  48   0]\n",
            " [ 71  27  60   0]\n",
            " [111  51  96   0]]\n"
          ]
        }
      ]
    },
    {
      "cell_type": "code",
      "source": [
        "mat_13 = np.array([\n",
        "    [  # Primera matriz\n",
        "        [57, 21, 48, 0],\n",
        "        [71, 27, 60, 0],\n",
        "        [111, 51, 96, 0]\n",
        "    ],\n",
        "    [  # Segunda matriz\n",
        "        [66, 16, 36, 18],\n",
        "        [95, 22, 58, 29],\n",
        "        [83, 20, 46, 23]\n",
        "    ],\n",
        "    [  # Tercera matriz\n",
        "        [44, 34, 72, 44],\n",
        "        [34, 32, 72, 34],\n",
        "        [13, 25, 64, 13]\n",
        "    ]\n",
        "])"
      ],
      "metadata": {
        "id": "-rgDuAncS1Mg"
      },
      "execution_count": 24,
      "outputs": []
    },
    {
      "cell_type": "code",
      "source": [
        "# Las características de la matriz\n",
        "print(f\"La matriz mat_13 es \\n{mat_13}\")\n",
        "print(f\"\\nEl objeto mat_13 es del tipo \\n{type(mat_13)}\")\n",
        "print(f\"\\nEl número de dimensiones de la matriz mat_13 es {mat_13.ndim}\")\n",
        "print(f\"\\nEl tamaño de las dimensiones de la matriz mat_13 es {mat_13.shape}\")\n",
        "print(f\"\\nEl número de elementos de la matriz mat_13 es {mat_13.size}\")"
      ],
      "metadata": {
        "id": "Jt1CXWeEVHps",
        "colab": {
          "base_uri": "https://localhost:8080/"
        },
        "outputId": "46818c7f-3f36-4822-f72e-54dc3aa38c77"
      },
      "execution_count": 25,
      "outputs": [
        {
          "output_type": "stream",
          "name": "stdout",
          "text": [
            "La matriz mat_13 es \n",
            "[[[ 57  21  48   0]\n",
            "  [ 71  27  60   0]\n",
            "  [111  51  96   0]]\n",
            "\n",
            " [[ 66  16  36  18]\n",
            "  [ 95  22  58  29]\n",
            "  [ 83  20  46  23]]\n",
            "\n",
            " [[ 44  34  72  44]\n",
            "  [ 34  32  72  34]\n",
            "  [ 13  25  64  13]]]\n",
            "\n",
            "El objeto mat_13 es del tipo \n",
            "<class 'numpy.ndarray'>\n",
            "\n",
            "El número de dimensiones de la matriz mat_13 es 3\n",
            "\n",
            "El tamaño de las dimensiones de la matriz mat_13 es (3, 3, 4)\n",
            "\n",
            "El número de elementos de la matriz mat_13 es 36\n"
          ]
        }
      ]
    },
    {
      "cell_type": "code",
      "source": [
        "# Crear una matriz con la ayuda de numpy de 3D que tenga 6 matrices de 2 filas x 2 columnas\n",
        "# Podemos usar la función arange() para generar los elementos de la matriz\n",
        "mat_14 = np.arange(24).reshape(6,2,2)\n",
        "# Las características de la matriz\n",
        "print(f\"La matriz mat_14 es \\n{mat_14}\")\n",
        "print(f\"\\nEl objeto mat_14 es del tipo \\n{type(mat_14)}\")\n",
        "print(f\"\\nEl número de dimensiones de la matriz mat_14 es {mat_14.ndim}\")\n",
        "print(f\"\\nEl tamaño de las dimensiones de la matriz mat_14 es {mat_14.shape}\")\n",
        "print(f\"\\nEl número de elementos de la matriz mat_14 es {mat_14.size}\")"
      ],
      "metadata": {
        "id": "eBAQbi50VtR0",
        "colab": {
          "base_uri": "https://localhost:8080/"
        },
        "outputId": "66aeb87f-a618-4bb8-b532-70b0986f5157"
      },
      "execution_count": 26,
      "outputs": [
        {
          "output_type": "stream",
          "name": "stdout",
          "text": [
            "La matriz mat_14 es \n",
            "[[[ 0  1]\n",
            "  [ 2  3]]\n",
            "\n",
            " [[ 4  5]\n",
            "  [ 6  7]]\n",
            "\n",
            " [[ 8  9]\n",
            "  [10 11]]\n",
            "\n",
            " [[12 13]\n",
            "  [14 15]]\n",
            "\n",
            " [[16 17]\n",
            "  [18 19]]\n",
            "\n",
            " [[20 21]\n",
            "  [22 23]]]\n",
            "\n",
            "El objeto mat_14 es del tipo \n",
            "<class 'numpy.ndarray'>\n",
            "\n",
            "El número de dimensiones de la matriz mat_14 es 3\n",
            "\n",
            "El tamaño de las dimensiones de la matriz mat_14 es (6, 2, 2)\n",
            "\n",
            "El número de elementos de la matriz mat_14 es 24\n"
          ]
        }
      ]
    },
    {
      "cell_type": "code",
      "source": [
        "# Acceder a los elementos de una matriz 3D\n",
        "print(mat_13)\n",
        "print(f\"\\nLos elementos de la primera matriz mat_13 son \\n{mat_13[0]}\")\n",
        "print(f\"\\nLos elementos de la segunda matriz mat_13 son \\n{mat_13[1]}\")\n",
        "print(f\"\\nLos elementos de la tercera matriz mat_13 son \\n{mat_13[2]}\")"
      ],
      "metadata": {
        "id": "xPuvd7s0W2X5",
        "colab": {
          "base_uri": "https://localhost:8080/"
        },
        "outputId": "29a6cc12-95d4-41ca-a7a0-dbe605f35573"
      },
      "execution_count": 30,
      "outputs": [
        {
          "output_type": "stream",
          "name": "stdout",
          "text": [
            "[[[ 57  21  48   0]\n",
            "  [ 71  27  60   0]\n",
            "  [111  51  96   0]]\n",
            "\n",
            " [[ 66  16  36  18]\n",
            "  [ 95  22  58  29]\n",
            "  [ 83  20  46  23]]\n",
            "\n",
            " [[ 44  34  72  44]\n",
            "  [ 34  32  72  34]\n",
            "  [ 13  25  64  13]]]\n",
            "\n",
            "Los elementos de la primera matriz mat_13 son \n",
            "[[ 57  21  48   0]\n",
            " [ 71  27  60   0]\n",
            " [111  51  96   0]]\n",
            "\n",
            "Los elementos de la segunda matriz mat_13 son \n",
            "[[66 16 36 18]\n",
            " [95 22 58 29]\n",
            " [83 20 46 23]]\n",
            "\n",
            "Los elementos de la tercera matriz mat_13 son \n",
            "[[44 34 72 44]\n",
            " [34 32 72 34]\n",
            " [13 25 64 13]]\n"
          ]
        }
      ]
    },
    {
      "cell_type": "code",
      "source": [
        "print(f\"Los elementos de la primera fila y la primera matriz mat_13 son \\n{mat_13[0][0]}\")"
      ],
      "metadata": {
        "id": "3jc7JJlZYavj",
        "colab": {
          "base_uri": "https://localhost:8080/"
        },
        "outputId": "89cb7e36-0135-406b-ac84-0b0ec450bc3f"
      },
      "execution_count": 29,
      "outputs": [
        {
          "output_type": "stream",
          "name": "stdout",
          "text": [
            "Los elementos de la primera fila y la primera matriz mat_13 son \n",
            "[57 21 48  0]\n"
          ]
        }
      ]
    },
    {
      "cell_type": "code",
      "source": [
        "print(f\"Los elementos de la tercera fila de la segunda matriz mat_13 son \\n{mat_13[1][2]}\")"
      ],
      "metadata": {
        "id": "X9ZA8pWQXkLj",
        "colab": {
          "base_uri": "https://localhost:8080/"
        },
        "outputId": "4ed8ab83-5dbc-450c-d32a-7fe6942734d3"
      },
      "execution_count": 31,
      "outputs": [
        {
          "output_type": "stream",
          "name": "stdout",
          "text": [
            "Los elementos de la tercera fila de la segunda matriz mat_13 son \n",
            "[83 20 46 23]\n"
          ]
        }
      ]
    },
    {
      "cell_type": "code",
      "source": [
        "print(f\"El primer elemento de la tercera fila de la segunda matriz mat_13 son \\n{mat_13[1][2][0]}\")"
      ],
      "metadata": {
        "id": "Pu43ZhW-ZaZU",
        "colab": {
          "base_uri": "https://localhost:8080/"
        },
        "outputId": "f1267386-98f0-4bbb-ba9c-c15c2aaaa548"
      },
      "execution_count": 34,
      "outputs": [
        {
          "output_type": "stream",
          "name": "stdout",
          "text": [
            "El primer elemento de la tercera fila de la segunda matriz mat_13 son \n",
            "83\n"
          ]
        }
      ]
    },
    {
      "cell_type": "code",
      "source": [
        "print(f\"El valor mínimo de la matriz mat_13 es {mat_13.min()}\")\n",
        "print(f\"El valor máximo de la matriz mat_13 es {mat_13.max()}\")\n",
        "print(f\"La suma de los elementos de la matriz mat_13 es {mat_13[2].sum()}\")"
      ],
      "metadata": {
        "id": "RQ-slN8GZgGi",
        "colab": {
          "base_uri": "https://localhost:8080/"
        },
        "outputId": "d125e0a1-d77c-4f7a-b889-02d4c1b0645a"
      },
      "execution_count": 43,
      "outputs": [
        {
          "output_type": "stream",
          "name": "stdout",
          "text": [
            "El valor mínimo de la matriz mat_13 es 0\n",
            "El valor máximo de la matriz mat_13 es 111\n",
            "La suma de los elementos de la matriz mat_13 es 481\n"
          ]
        }
      ]
    },
    {
      "cell_type": "code",
      "source": [
        "matriz_jorge = np.array ([\n",
        "      [[1,2,3],\n",
        "      [4,5,6],\n",
        "      [7,8,9]],\n",
        "\n",
        "      [[10, 11, 12],\n",
        "       [13, 14, 15],\n",
        "       [16, 17, 18]]\n",
        "])\n",
        "print(matriz_jorge)\n",
        "print(matriz_jorge.sum())\n",
        "print(f\"El valor de la tercera fila de la segunda matriz es: {matriz_jorge[1][2]}\")"
      ],
      "metadata": {
        "colab": {
          "base_uri": "https://localhost:8080/"
        },
        "id": "H5nBISWGNORB",
        "outputId": "60ab4de9-807f-40fb-ec9b-884fcd88c5e8"
      },
      "execution_count": 46,
      "outputs": [
        {
          "output_type": "stream",
          "name": "stdout",
          "text": [
            "[[[ 1  2  3]\n",
            "  [ 4  5  6]\n",
            "  [ 7  8  9]]\n",
            "\n",
            " [[10 11 12]\n",
            "  [13 14 15]\n",
            "  [16 17 18]]]\n",
            "171\n",
            "El valor de la tercera fila de la segunda matriz es: [16 17 18]\n"
          ]
        }
      ]
    },
    {
      "cell_type": "markdown",
      "source": [
        "### Actividad N036"
      ],
      "metadata": {
        "id": "8rQicFvjWTd3"
      }
    },
    {
      "cell_type": "markdown",
      "source": [
        "Crear los arreglos A y B, realice el cálculo de multiplicación de matrices (A.B) y de (B.A)"
      ],
      "metadata": {
        "id": "SzKkR5a0WWIK"
      }
    },
    {
      "cell_type": "code",
      "source": [
        "from google.colab import files\n",
        "\n",
        "# Subir archivo desde tu máquina local\n",
        "uploaded = files.upload()"
      ],
      "metadata": {
        "id": "FqYwItr9WqkT"
      },
      "execution_count": null,
      "outputs": []
    },
    {
      "cell_type": "code",
      "source": [
        "from IPython.display import Image, display\n",
        "\n",
        "# Mostrar la imagen en Colab\n",
        "display(Image(filename='actividad36.png'))"
      ],
      "metadata": {
        "id": "_CiiDyEZWrOC"
      },
      "execution_count": null,
      "outputs": []
    },
    {
      "cell_type": "code",
      "source": [],
      "metadata": {
        "id": "vrAV34UKWrqa"
      },
      "execution_count": null,
      "outputs": []
    },
    {
      "cell_type": "markdown",
      "source": [
        "### [4] Operaciones con arreglos"
      ],
      "metadata": {
        "id": "0hrw-5IkbXqW"
      }
    },
    {
      "cell_type": "code",
      "source": [
        "mat_15 = np.array([[3,1],[2,7]])\n",
        "# Las características de la matriz mat_15\n",
        "print(f\"La matriz es \\n{mat_15}\")\n",
        "print(f\"\\nEl objeto es del tipo \\n{type(mat_15)}\")\n",
        "print(f\"\\nEl número de dimensiones de la matriz es {mat_15.ndim}\")\n",
        "print(f\"\\nEl tamaño de las dimensiones de la matriz es {mat_15.shape}\")\n",
        "print(f\"\\nEl número de elementos de la matriz es {mat_15.size}\")"
      ],
      "metadata": {
        "id": "g_mN9lsJZ_-w",
        "colab": {
          "base_uri": "https://localhost:8080/"
        },
        "outputId": "c7255971-3cfb-4ae3-b215-eaf1fdea2b4f"
      },
      "execution_count": 47,
      "outputs": [
        {
          "output_type": "stream",
          "name": "stdout",
          "text": [
            "La matriz es \n",
            "[[3 1]\n",
            " [2 7]]\n",
            "\n",
            "El objeto es del tipo \n",
            "<class 'numpy.ndarray'>\n",
            "\n",
            "El número de dimensiones de la matriz es 2\n",
            "\n",
            "El tamaño de las dimensiones de la matriz es (2, 2)\n",
            "\n",
            "El número de elementos de la matriz es 4\n"
          ]
        }
      ]
    },
    {
      "cell_type": "code",
      "source": [
        "mat_16 = np.array([[4,2],[5,7]])\n",
        "# Las características de la matriz mat_16\n",
        "print(f\"La matriz es \\n{mat_16}\")\n",
        "print(f\"\\nEl objeto es del tipo \\n{type(mat_16)}\")\n",
        "print(f\"\\nEl número de dimensiones de la matriz es {mat_16.ndim}\")\n",
        "print(f\"\\nEl tamaño de las dimensiones de la matriz es {mat_16.shape}\")\n",
        "print(f\"\\nEl número de elementos de la matriz es {mat_16.size}\")"
      ],
      "metadata": {
        "id": "6LA5B_1rb07_",
        "colab": {
          "base_uri": "https://localhost:8080/"
        },
        "outputId": "a1238b7a-cf09-4675-ef99-9afe0690f54b"
      },
      "execution_count": 48,
      "outputs": [
        {
          "output_type": "stream",
          "name": "stdout",
          "text": [
            "La matriz es \n",
            "[[4 2]\n",
            " [5 7]]\n",
            "\n",
            "El objeto es del tipo \n",
            "<class 'numpy.ndarray'>\n",
            "\n",
            "El número de dimensiones de la matriz es 2\n",
            "\n",
            "El tamaño de las dimensiones de la matriz es (2, 2)\n",
            "\n",
            "El número de elementos de la matriz es 4\n"
          ]
        }
      ]
    },
    {
      "cell_type": "code",
      "source": [
        "print(f\"La primera matriz es \\n{mat_15}\")\n",
        "print(f\"\\nLa segunda matriz es \\n{mat_16}\")\n",
        "# Suma de matrices por método directo\n",
        "mat_17 = mat_15 + mat_16\n",
        "# Las características de la matriz mat_17\n",
        "print(f\"La matriz es \\n{mat_17}\")\n",
        "print(f\"\\nEl objeto es del tipo \\n{type(mat_17)}\")\n",
        "print(f\"\\nEl número de dimensiones de la matriz es {mat_17.ndim}\")\n",
        "print(f\"\\nEl tamaño de las dimensiones de la matriz es {mat_17.shape}\")\n",
        "print(f\"\\nEl número de elementos de la matriz es {mat_17.size}\")"
      ],
      "metadata": {
        "id": "ffzonjJXcFi4",
        "colab": {
          "base_uri": "https://localhost:8080/"
        },
        "outputId": "907eae85-59cd-4f6c-e136-4d3e6382da0c"
      },
      "execution_count": 52,
      "outputs": [
        {
          "output_type": "stream",
          "name": "stdout",
          "text": [
            "La primera matriz es \n",
            "[[3 1]\n",
            " [2 7]]\n",
            "\n",
            "La segunda matriz es \n",
            "[[4 2]\n",
            " [5 7]]\n",
            "La matriz es \n",
            "[[ 7  3]\n",
            " [ 7 14]]\n",
            "\n",
            "El objeto es del tipo \n",
            "<class 'numpy.ndarray'>\n",
            "\n",
            "El número de dimensiones de la matriz es 2\n",
            "\n",
            "El tamaño de las dimensiones de la matriz es (2, 2)\n",
            "\n",
            "El número de elementos de la matriz es 4\n"
          ]
        }
      ]
    },
    {
      "cell_type": "code",
      "source": [],
      "metadata": {
        "id": "wmQX23VxTNtY"
      },
      "execution_count": null,
      "outputs": []
    },
    {
      "cell_type": "code",
      "source": [
        "# Suma de matrices por método add\n",
        "print(f\"La primera matriz es \\n{mat_15}\")\n",
        "print(f\"\\nLa segunda matriz es \\n{mat_16}\")\n",
        "print(f\"\\nLa matriz resultado de la suma es \\n{np.add(mat_15,mat_16)}\")"
      ],
      "metadata": {
        "id": "j0V4g4dQccUT",
        "colab": {
          "base_uri": "https://localhost:8080/"
        },
        "outputId": "0709f974-0334-455d-8e7b-6bfc0ac20f87"
      },
      "execution_count": 53,
      "outputs": [
        {
          "output_type": "stream",
          "name": "stdout",
          "text": [
            "La primera matriz es \n",
            "[[3 1]\n",
            " [2 7]]\n",
            "\n",
            "La segunda matriz es \n",
            "[[4 2]\n",
            " [5 7]]\n",
            "\n",
            "La matriz resultado de la suma es \n",
            "[[ 7  3]\n",
            " [ 7 14]]\n"
          ]
        }
      ]
    },
    {
      "cell_type": "code",
      "source": [
        "# Resta de matrices\n",
        "print(f\"La primera matriz es \\n{mat_15}\")\n",
        "print(f\"\\nLa segunda matriz es \\n{mat_16}\")\n",
        "print(f\"\\nLa matriz resultado de la resta es \\n{mat_15-mat_16}\")"
      ],
      "metadata": {
        "id": "wsGMQi9mc_RK",
        "colab": {
          "base_uri": "https://localhost:8080/"
        },
        "outputId": "9f551a38-f4df-461f-e3ff-b0b66f0f1ca8"
      },
      "execution_count": 54,
      "outputs": [
        {
          "output_type": "stream",
          "name": "stdout",
          "text": [
            "La primera matriz es \n",
            "[[3 1]\n",
            " [2 7]]\n",
            "\n",
            "La segunda matriz es \n",
            "[[4 2]\n",
            " [5 7]]\n",
            "\n",
            "La matriz resultado de la resta es \n",
            "[[-1 -1]\n",
            " [-3  0]]\n"
          ]
        }
      ]
    },
    {
      "cell_type": "code",
      "source": [
        "# Resta de matrices con método subtract\n",
        "print(f\"La primera matriz es \\n{mat_15}\")\n",
        "print(f\"\\nLa segunda matriz es \\n{mat_16}\")\n",
        "print(f\"\\nLa matriz resultado de la resta es \\n{np.subtract(mat_15,mat_16)}\")"
      ],
      "metadata": {
        "id": "XVIA_CNthvCE",
        "colab": {
          "base_uri": "https://localhost:8080/"
        },
        "outputId": "a4ca5833-b0f8-4266-b3d0-36f63ad983ad"
      },
      "execution_count": 55,
      "outputs": [
        {
          "output_type": "stream",
          "name": "stdout",
          "text": [
            "La primera matriz es \n",
            "[[3 1]\n",
            " [2 7]]\n",
            "\n",
            "La segunda matriz es \n",
            "[[4 2]\n",
            " [5 7]]\n",
            "\n",
            "La matriz resultado de la resta es \n",
            "[[-1 -1]\n",
            " [-3  0]]\n"
          ]
        }
      ]
    },
    {
      "cell_type": "code",
      "source": [
        "# Multiplicar matrices (a nivel de posiciones)\n",
        "#np.multiply es una multiplicacion de posiciones\n",
        "print(f\"La primera matriz es \\n{mat_15}\")\n",
        "print(f\"\\nLa segunda matriz es \\n{mat_16}\")\n",
        "print(f\"\\nLa matriz resultado de la multiplicación es \\n{np.multiply(mat_15,mat_16)}\")"
      ],
      "metadata": {
        "id": "K0LlpL6ziW2z",
        "colab": {
          "base_uri": "https://localhost:8080/"
        },
        "outputId": "8007a2e4-d9da-458a-b3d7-845b366f0c7c"
      },
      "execution_count": 56,
      "outputs": [
        {
          "output_type": "stream",
          "name": "stdout",
          "text": [
            "La primera matriz es \n",
            "[[3 1]\n",
            " [2 7]]\n",
            "\n",
            "La segunda matriz es \n",
            "[[4 2]\n",
            " [5 7]]\n",
            "\n",
            "La matriz resultado de la multiplicación es \n",
            "[[12  2]\n",
            " [10 49]]\n"
          ]
        }
      ]
    },
    {
      "cell_type": "code",
      "source": [
        "# Multiplicar matrices\n",
        "print(f\"La primera matriz es \\n{mat_15}\")\n",
        "print(f\"\\nLa segunda matriz es \\n{mat_16}\")\n",
        "print(f\"\\nLa matriz resultado de la multiplicación es \\n{mat_15.dot(mat_16)}\")"
      ],
      "metadata": {
        "id": "MjLn1oSukXx3",
        "colab": {
          "base_uri": "https://localhost:8080/"
        },
        "outputId": "5a030ef2-f360-44dc-bfb6-d9e80b5d0f20"
      },
      "execution_count": 57,
      "outputs": [
        {
          "output_type": "stream",
          "name": "stdout",
          "text": [
            "La primera matriz es \n",
            "[[3 1]\n",
            " [2 7]]\n",
            "\n",
            "La segunda matriz es \n",
            "[[4 2]\n",
            " [5 7]]\n",
            "\n",
            "La matriz resultado de la multiplicación es \n",
            "[[17 13]\n",
            " [43 53]]\n"
          ]
        }
      ]
    },
    {
      "cell_type": "code",
      "source": [
        "mat_18 = np.array([[1,2],[3,4],[5,6]])\n",
        "mat_19 = np.array([[1,2,3],[3,4,5]])\n",
        "\n",
        "print(f\"La matriz mat_18 es \\n{mat_18}\")\n",
        "print(f\"\\nEl número de dimensiones de la matriz mat_18 es {mat_18.ndim}\")\n",
        "print(f\"\\nEl tamaño de las dimensiones de la matriz mat_18 es {mat_18.shape}\")\n",
        "\n",
        "print(f\"\\nLa matriz mat_19 es \\n{mat_19}\")\n",
        "print(f\"\\nEl número de dimensiones de la matriz mat_19 es {mat_19.ndim}\")\n",
        "print(f\"\\nEl tamaño de las dimensiones de la matriz mat_19 es {mat_19.shape}\")\n"
      ],
      "metadata": {
        "id": "VZ_1YOuQnE-G",
        "colab": {
          "base_uri": "https://localhost:8080/"
        },
        "outputId": "8cd19765-48a0-4c30-92f2-278cc9b74f89"
      },
      "execution_count": 59,
      "outputs": [
        {
          "output_type": "stream",
          "name": "stdout",
          "text": [
            "La matriz mat_18 es \n",
            "[[1 2]\n",
            " [3 4]\n",
            " [5 6]]\n",
            "\n",
            "El número de dimensiones de la matriz mat_18 es 2\n",
            "\n",
            "El tamaño de las dimensiones de la matriz mat_18 es (3, 2)\n",
            "\n",
            "La matriz mat_19 es \n",
            "[[1 2 3]\n",
            " [3 4 5]]\n",
            "\n",
            "El número de dimensiones de la matriz mat_19 es 2\n",
            "\n",
            "El tamaño de las dimensiones de la matriz mat_19 es (2, 3)\n"
          ]
        }
      ]
    },
    {
      "cell_type": "code",
      "source": [
        "# Multiplicar matrices\n",
        "print(f\"La primera matriz es \\n{mat_18}\")\n",
        "print(f\"\\nLa segunda matriz es \\n{mat_19}\")\n",
        "print(f\"\\nLa matriz resultado de la multiplicación es \\n{mat_18.dot(mat_19)}\")\n",
        "print(f\"\\nLa matriz resultado de la multiplicación es \\n{mat_19.dot(mat_18)}\")"
      ],
      "metadata": {
        "id": "tKBorDbloUFs",
        "colab": {
          "base_uri": "https://localhost:8080/"
        },
        "outputId": "ac2f3433-6905-44e1-a396-633f8c7d3be2"
      },
      "execution_count": 60,
      "outputs": [
        {
          "output_type": "stream",
          "name": "stdout",
          "text": [
            "La primera matriz es \n",
            "[[1 2]\n",
            " [3 4]\n",
            " [5 6]]\n",
            "\n",
            "La segunda matriz es \n",
            "[[1 2 3]\n",
            " [3 4 5]]\n",
            "\n",
            "La matriz resultado de la multiplicación es \n",
            "[[ 7 10 13]\n",
            " [15 22 29]\n",
            " [23 34 45]]\n",
            "\n",
            "La matriz resultado de la multiplicación es \n",
            "[[22 28]\n",
            " [40 52]]\n"
          ]
        }
      ]
    },
    {
      "cell_type": "code",
      "source": [
        "print(f\"La primera matriz es \\n{mat_18}\")\n",
        "print(f\"\\nLa segunda matriz es \\n{mat_19}\")\n",
        "print(f\"\\nLa matriz resultado de la multiplicación es \\n{mat_18+mat_19}\")"
      ],
      "metadata": {
        "id": "riHOiqlXo-uE",
        "colab": {
          "base_uri": "https://localhost:8080/",
          "height": 315
        },
        "outputId": "dab278f8-5d55-41db-c8e1-07e5bc9323b7"
      },
      "execution_count": 61,
      "outputs": [
        {
          "output_type": "stream",
          "name": "stdout",
          "text": [
            "La primera matriz es \n",
            "[[1 2]\n",
            " [3 4]\n",
            " [5 6]]\n",
            "\n",
            "La segunda matriz es \n",
            "[[1 2 3]\n",
            " [3 4 5]]\n"
          ]
        },
        {
          "output_type": "error",
          "ename": "ValueError",
          "evalue": "operands could not be broadcast together with shapes (3,2) (2,3) ",
          "traceback": [
            "\u001b[0;31m---------------------------------------------------------------------------\u001b[0m",
            "\u001b[0;31mValueError\u001b[0m                                Traceback (most recent call last)",
            "\u001b[0;32m<ipython-input-61-9431da3814c9>\u001b[0m in \u001b[0;36m<cell line: 0>\u001b[0;34m()\u001b[0m\n\u001b[1;32m      1\u001b[0m \u001b[0mprint\u001b[0m\u001b[0;34m(\u001b[0m\u001b[0;34mf\"La primera matriz es \\n{mat_18}\"\u001b[0m\u001b[0;34m)\u001b[0m\u001b[0;34m\u001b[0m\u001b[0;34m\u001b[0m\u001b[0m\n\u001b[1;32m      2\u001b[0m \u001b[0mprint\u001b[0m\u001b[0;34m(\u001b[0m\u001b[0;34mf\"\\nLa segunda matriz es \\n{mat_19}\"\u001b[0m\u001b[0;34m)\u001b[0m\u001b[0;34m\u001b[0m\u001b[0;34m\u001b[0m\u001b[0m\n\u001b[0;32m----> 3\u001b[0;31m \u001b[0mprint\u001b[0m\u001b[0;34m(\u001b[0m\u001b[0;34mf\"\\nLa matriz resultado de la multiplicación es \\n{mat_18+mat_19}\"\u001b[0m\u001b[0;34m)\u001b[0m\u001b[0;34m\u001b[0m\u001b[0;34m\u001b[0m\u001b[0m\n\u001b[0m",
            "\u001b[0;31mValueError\u001b[0m: operands could not be broadcast together with shapes (3,2) (2,3) "
          ]
        }
      ]
    },
    {
      "cell_type": "code",
      "source": [
        "print(f\"La primera matriz es \\n{mat_15}\")\n",
        "print(f\"\\nLa segunda matriz es \\n{mat_16}\")\n",
        "print(f\"\\nLas matrices concatenadas \\n{np.concatenate([mat_15,mat_16],axis=0)}\")"
      ],
      "metadata": {
        "id": "iGkMTESJpPHq",
        "colab": {
          "base_uri": "https://localhost:8080/"
        },
        "outputId": "eed574ab-47ce-45a2-e8d5-bc0710a714bf"
      },
      "execution_count": 62,
      "outputs": [
        {
          "output_type": "stream",
          "name": "stdout",
          "text": [
            "La primera matriz es \n",
            "[[3 1]\n",
            " [2 7]]\n",
            "\n",
            "La segunda matriz es \n",
            "[[4 2]\n",
            " [5 7]]\n",
            "\n",
            "Las matrices concatenadas \n",
            "[[3 1]\n",
            " [2 7]\n",
            " [4 2]\n",
            " [5 7]]\n"
          ]
        }
      ]
    },
    {
      "cell_type": "code",
      "source": [
        "print(f\"La primera matriz es \\n{mat_15}\")\n",
        "print(f\"\\nLa segunda matriz es \\n{mat_16}\")\n",
        "print(f\"\\nLas matrices concatenadas \\n{np.concatenate([mat_15,mat_16],axis=1)}\")"
      ],
      "metadata": {
        "id": "camf5mlbqJ7e",
        "colab": {
          "base_uri": "https://localhost:8080/"
        },
        "outputId": "ad37699d-f196-4a45-9617-ed030772128b"
      },
      "execution_count": 63,
      "outputs": [
        {
          "output_type": "stream",
          "name": "stdout",
          "text": [
            "La primera matriz es \n",
            "[[3 1]\n",
            " [2 7]]\n",
            "\n",
            "La segunda matriz es \n",
            "[[4 2]\n",
            " [5 7]]\n",
            "\n",
            "Las matrices concatenadas \n",
            "[[3 1 4 2]\n",
            " [2 7 5 7]]\n"
          ]
        }
      ]
    },
    {
      "cell_type": "code",
      "source": [
        "# Multiplicar matrices\n",
        "print(f\"La primera matriz es \\n{mat_19}\")\n",
        "print(f\"\\nLa segunda matriz es \\n{mat_18}\")\n",
        "print(f\"\\nLa matriz resultado de la multiplicación es \\n{mat_19.dot(mat_18)}\")"
      ],
      "metadata": {
        "id": "niWjoF-sqRRN",
        "colab": {
          "base_uri": "https://localhost:8080/"
        },
        "outputId": "a8f9459f-ef50-4c46-800b-97679af53b45"
      },
      "execution_count": 64,
      "outputs": [
        {
          "output_type": "stream",
          "name": "stdout",
          "text": [
            "La primera matriz es \n",
            "[[1 2 3]\n",
            " [3 4 5]]\n",
            "\n",
            "La segunda matriz es \n",
            "[[1 2]\n",
            " [3 4]\n",
            " [5 6]]\n",
            "\n",
            "La matriz resultado de la multiplicación es \n",
            "[[22 28]\n",
            " [40 52]]\n"
          ]
        }
      ]
    },
    {
      "cell_type": "code",
      "source": [
        "# Arreglo original\n",
        "arreglo_1 = np.array([[0, 1, 2, 3],[4, 5, 6, 7],[8, 9, 10, 11]])\n",
        "print(arreglo_1)\n",
        "arreglo_1.shape\n"
      ],
      "metadata": {
        "id": "tMJFRG3HXWTx",
        "colab": {
          "base_uri": "https://localhost:8080/"
        },
        "outputId": "71feb96f-981c-43a1-9fc6-c713a36e19b6"
      },
      "execution_count": 68,
      "outputs": [
        {
          "output_type": "stream",
          "name": "stdout",
          "text": [
            "[[ 0  1  2  3]\n",
            " [ 4  5  6  7]\n",
            " [ 8  9 10 11]]\n"
          ]
        },
        {
          "output_type": "execute_result",
          "data": {
            "text/plain": [
              "(3, 4)"
            ]
          },
          "metadata": {},
          "execution_count": 68
        }
      ]
    },
    {
      "cell_type": "code",
      "source": [
        "arreglo_1.ravel()\n",
        "#Lleva la matriz a 1D"
      ],
      "metadata": {
        "id": "vZN3_k-2XeL6",
        "colab": {
          "base_uri": "https://localhost:8080/"
        },
        "outputId": "f5616bed-3494-4a77-999c-818bbadbe355"
      },
      "execution_count": 110,
      "outputs": [
        {
          "output_type": "execute_result",
          "data": {
            "text/plain": [
              "array([ 0,  1,  2,  3,  4,  5,  6,  7,  8,  9, 10, 11])"
            ]
          },
          "metadata": {},
          "execution_count": 110
        }
      ]
    },
    {
      "cell_type": "code",
      "source": [
        "\n",
        "arreglo_1.shape = (6,2)\n",
        "print(arreglo_1)"
      ],
      "metadata": {
        "id": "S5dlrdg1XgCT",
        "colab": {
          "base_uri": "https://localhost:8080/"
        },
        "outputId": "bf94a29c-a83a-4174-b79a-ef24679579bc"
      },
      "execution_count": 111,
      "outputs": [
        {
          "output_type": "stream",
          "name": "stdout",
          "text": [
            "[[ 0  1]\n",
            " [ 2  3]\n",
            " [ 4  5]\n",
            " [ 6  7]\n",
            " [ 8  9]\n",
            " [10 11]]\n"
          ]
        }
      ]
    },
    {
      "cell_type": "code",
      "source": [
        "arreglo_1[2,1]"
      ],
      "metadata": {
        "colab": {
          "base_uri": "https://localhost:8080/"
        },
        "id": "T-SFxPdjg5jJ",
        "outputId": "4f6ad352-5d77-4a45-9129-702e6acade01"
      },
      "execution_count": 112,
      "outputs": [
        {
          "output_type": "execute_result",
          "data": {
            "text/plain": [
              "np.int64(5)"
            ]
          },
          "metadata": {},
          "execution_count": 112
        }
      ]
    },
    {
      "cell_type": "code",
      "source": [
        "arreglo_1.transpose()"
      ],
      "metadata": {
        "id": "odhL7RqdXksE",
        "colab": {
          "base_uri": "https://localhost:8080/"
        },
        "outputId": "0ec652b5-4c9c-4449-cad5-778433022b25"
      },
      "execution_count": 113,
      "outputs": [
        {
          "output_type": "execute_result",
          "data": {
            "text/plain": [
              "array([[ 0,  2,  4,  6,  8, 10],\n",
              "       [ 1,  3,  5,  7,  9, 11]])"
            ]
          },
          "metadata": {},
          "execution_count": 113
        }
      ]
    },
    {
      "cell_type": "code",
      "source": [
        "#LA TRANSPUESTA ES SOLO UN EJEMPLO VISUAL, LA MATRIZ SIGUE SIENDO DE 6X2 , no paso de 2x6"
      ],
      "metadata": {
        "id": "Pqd-AEYBjK7X"
      },
      "execution_count": null,
      "outputs": []
    },
    {
      "cell_type": "code",
      "source": [
        "print(arreglo_1[2,1])"
      ],
      "metadata": {
        "colab": {
          "base_uri": "https://localhost:8080/"
        },
        "id": "Wv8USNWLhCMZ",
        "outputId": "eecea9d9-694b-4c35-e0ae-839bf62f96b1"
      },
      "execution_count": 114,
      "outputs": [
        {
          "output_type": "stream",
          "name": "stdout",
          "text": [
            "5\n"
          ]
        }
      ]
    },
    {
      "cell_type": "code",
      "source": [
        "#Seleccionamos la fila 1 y la columna 2.\n",
        "# [x,y] x: columnas // y: filas\n",
        "print(arreglo_1[1,0])"
      ],
      "metadata": {
        "id": "BFZGYsDcYH3_",
        "colab": {
          "base_uri": "https://localhost:8080/"
        },
        "outputId": "8383ffc5-7687-4be3-a336-b75f6ba6cd94"
      },
      "execution_count": 105,
      "outputs": [
        {
          "output_type": "stream",
          "name": "stdout",
          "text": [
            "2\n"
          ]
        }
      ]
    },
    {
      "cell_type": "code",
      "source": [
        "#Seleccionamos la fila 1 y las 3 primeras columnas.\n",
        "print(arreglo_1[ 0 , 0:3 ])\n",
        "print(arreglo_1 [0:3 , 0])"
      ],
      "metadata": {
        "id": "_B1JZKb5YSfc",
        "colab": {
          "base_uri": "https://localhost:8080/"
        },
        "outputId": "6e701531-eebb-4ea0-cafb-30092dbeeb90"
      },
      "execution_count": 107,
      "outputs": [
        {
          "output_type": "stream",
          "name": "stdout",
          "text": [
            "[0 1]\n",
            "[0 2 4]\n"
          ]
        }
      ]
    },
    {
      "cell_type": "code",
      "source": [
        "#Seleccionamos la fila 1 y todas las columnas.\n",
        "arreglo_1[ : ,  0 ]"
      ],
      "metadata": {
        "id": "YgUxPko1YT8j",
        "colab": {
          "base_uri": "https://localhost:8080/"
        },
        "outputId": "a87f6527-5699-4543-97a7-05d19c78e618"
      },
      "execution_count": 108,
      "outputs": [
        {
          "output_type": "execute_result",
          "data": {
            "text/plain": [
              "array([ 0,  2,  4,  6,  8, 10])"
            ]
          },
          "metadata": {},
          "execution_count": 108
        }
      ]
    },
    {
      "cell_type": "code",
      "source": [
        "#Seleccionamos todas las filas y la columna 2.\n",
        "arreglo_1[ 1 , : ]"
      ],
      "metadata": {
        "id": "IBOmihejYVQd",
        "colab": {
          "base_uri": "https://localhost:8080/"
        },
        "outputId": "9cb5defe-6d49-429a-88bc-f120cc70c9dc"
      },
      "execution_count": 87,
      "outputs": [
        {
          "output_type": "execute_result",
          "data": {
            "text/plain": [
              "array([2, 3])"
            ]
          },
          "metadata": {},
          "execution_count": 87
        }
      ]
    },
    {
      "cell_type": "markdown",
      "source": [
        "### Actividad N037"
      ],
      "metadata": {
        "id": "TTYIFEXvYWZv"
      }
    },
    {
      "cell_type": "markdown",
      "source": [
        "Seleccione del arreglo data_array la edad y los años de experiencia del primer y tercer registro\n"
      ],
      "metadata": {
        "id": "l_pRWxCRYaji"
      }
    },
    {
      "cell_type": "code",
      "source": [
        "print(data_array)"
      ],
      "metadata": {
        "id": "3jNMiNmKYhVI",
        "colab": {
          "base_uri": "https://localhost:8080/"
        },
        "outputId": "32e1a8dd-1362-4d24-e2c5-c0a267239a19"
      },
      "execution_count": 90,
      "outputs": [
        {
          "output_type": "stream",
          "name": "stdout",
          "text": [
            "[[   35    10     1  3500 12000]\n",
            " [   50    25     3  6000 30000]\n",
            " [   23     2     0    50  1500]\n",
            " [   42    15     2  1000  2800]]\n"
          ]
        }
      ]
    },
    {
      "cell_type": "code",
      "source": [
        "print(f'Esta es la (edad, años experiencia) del primer registro {data_array[0, 0:2]}')\n",
        "print(f'\\nEsta es la (edad, años experiencia) del tercer registro {data_array[2, 0:2]}')"
      ],
      "metadata": {
        "colab": {
          "base_uri": "https://localhost:8080/"
        },
        "id": "aXZAjb_Jefr4",
        "outputId": "f402742d-7dbd-44a8-e55f-e73d93e8dd8d"
      },
      "execution_count": 116,
      "outputs": [
        {
          "output_type": "stream",
          "name": "stdout",
          "text": [
            "Esta es la (edad, años experiencia) del primer registro [35 10]\n",
            "\n",
            "Esta es la (edad, años experiencia) del tercer registro [23  2]\n"
          ]
        }
      ]
    },
    {
      "cell_type": "code",
      "source": [
        "type(data_array[0, 0:2])"
      ],
      "metadata": {
        "colab": {
          "base_uri": "https://localhost:8080/"
        },
        "id": "W8ZkBgvhnbZi",
        "outputId": "6fd54dd8-aa8d-4892-c663-df87c3a00cd9"
      },
      "execution_count": 126,
      "outputs": [
        {
          "output_type": "execute_result",
          "data": {
            "text/plain": [
              "numpy.ndarray"
            ]
          },
          "metadata": {},
          "execution_count": 126
        }
      ]
    },
    {
      "cell_type": "code",
      "source": [
        "concataneado = np.concatenate([data_array[0, 0:2], data_array[2, 0:2]], axis=0)\n",
        "print(concataneado)"
      ],
      "metadata": {
        "colab": {
          "base_uri": "https://localhost:8080/"
        },
        "id": "wz23afuskU5f",
        "outputId": "2958fbdd-2a22-4b61-b389-ddc3b8d83420"
      },
      "execution_count": 124,
      "outputs": [
        {
          "output_type": "stream",
          "name": "stdout",
          "text": [
            "[35 10 23  2]\n"
          ]
        }
      ]
    },
    {
      "cell_type": "code",
      "source": [
        "concataneado = np.concatenate([data_array[0, 0:2], data_array[2, 0:2]], axis=0).reshape(2,2)\n",
        "print(concataneado)"
      ],
      "metadata": {
        "colab": {
          "base_uri": "https://localhost:8080/"
        },
        "id": "S5rbM2srnuFF",
        "outputId": "2ea103fc-fcd1-47ae-92af-190405672f81"
      },
      "execution_count": 128,
      "outputs": [
        {
          "output_type": "stream",
          "name": "stdout",
          "text": [
            "[[35 10]\n",
            " [23  2]]\n"
          ]
        }
      ]
    },
    {
      "cell_type": "markdown",
      "source": [
        "### [5] Estadísticas en arreglos NumPy"
      ],
      "metadata": {
        "id": "bgDhLt00XvBE"
      }
    },
    {
      "cell_type": "code",
      "source": [
        "a = np.array([1, 2, 3, 4])\n",
        "\n",
        "print(a.mean())   # promedio\n",
        "print(a.sum())    # suma total\n",
        "print(a.max())    # valor máximo\n",
        "print(a.min())    # valor mínimo\n"
      ],
      "metadata": {
        "id": "LgSCO9TkX1TF",
        "colab": {
          "base_uri": "https://localhost:8080/"
        },
        "outputId": "25748b51-4142-4385-fdb0-2c83231181ac"
      },
      "execution_count": 129,
      "outputs": [
        {
          "output_type": "stream",
          "name": "stdout",
          "text": [
            "2.5\n",
            "10\n",
            "4\n",
            "1\n"
          ]
        }
      ]
    },
    {
      "cell_type": "markdown",
      "source": [
        "### Actividad N038"
      ],
      "metadata": {
        "id": "b8cqM5mJX7f-"
      }
    },
    {
      "cell_type": "markdown",
      "source": [
        "Del arreglo data_array, calcule los valores mínimo, máximos y promedios de todas las variables\n"
      ],
      "metadata": {
        "id": "vgJpDiufYkfC"
      }
    },
    {
      "cell_type": "code",
      "source": [
        "print(data_array)\n",
        "#Calculando para la variable: Edad\n",
        "print(f\" La edad minima es: {data_array[0:4,0].min()}\")\n",
        "print(f\" La edad maxima es: {data_array[0:4,0].max()}\")\n",
        "print(f\" El promedio de edad es: {data_array[0:4,0].mean()}\")\n",
        "\n",
        "#Calculando para la variable: Añoa de experiencia\n",
        "print(f\" \\nLos años de experiencia minima es: {data_array[0:4,1].min()}\")\n",
        "print(f\" Los años de experiencia es: {data_array[0:4,1].max()}\")\n",
        "print(f\" Los años de experiencia promedio es: {data_array[0:4,1].mean()}\")\n",
        "\n",
        "#Calculando para la variable: Numero de hijos\n",
        "print(f\" Los numeros de hijos minima es: {data_array[0:4,2].min()}\")\n",
        "print(f\" Los numeros de hijos  es: {data_array[0:4,2].max()}\")\n",
        "print(f\" \\nLos numeros de hijos promedio es: {data_array[0:4,2].mean()}\")\n",
        "\n",
        "#Calculando para la variable: Impuestos\n",
        "print(f\" El impuesto minimo es: {data_array[0:4,3].min()}\")\n",
        "print(f\" El impuesto maximo es: {data_array[0:4,3].max()}\")\n",
        "print(f\" \\nEl impuesto promedio es: {data_array[0:4,3].mean()}\")\n",
        "\n",
        "#Calculando para la variable: Ingresos\n",
        "print(f\" El ingreso minimo es: {data_array[0:4,4].min()}\")\n",
        "print(f\" El ingreso maximo es: {data_array[0:4,4].max()}\")\n",
        "print(f\" \\nEl ingreso promedio es: {data_array[0:4,4].mean()}\")"
      ],
      "metadata": {
        "id": "KPKkTN8RYqao",
        "colab": {
          "base_uri": "https://localhost:8080/"
        },
        "outputId": "5331656a-b491-4601-c954-cb5676d212af"
      },
      "execution_count": 135,
      "outputs": [
        {
          "output_type": "stream",
          "name": "stdout",
          "text": [
            "[[   35    10     1  3500 12000]\n",
            " [   50    25     3  6000 30000]\n",
            " [   23     2     0    50  1500]\n",
            " [   42    15     2  1000  2800]]\n",
            " La edad minima es: 23\n",
            " La edad maxima es: 50\n",
            " El promedio de edad es: 37.5\n",
            " \n",
            "Los años de experiencia minima es: 2\n",
            " Los años de experiencia es: 25\n",
            " Los años de experiencia promedio es: 13.0\n",
            " Los numeros de hijos minima es: 0\n",
            " Los numeros de hijos  es: 3\n",
            " \n",
            "Los numeros de hijos promedio es: 1.5\n",
            " El impuesto minimo es: 50\n",
            " El impuesto maximo es: 6000\n",
            " \n",
            "El impuesto promedio es: 2637.5\n",
            " El ingreso minimo es: 1500\n",
            " El ingreso maximo es: 30000\n",
            " \n",
            "El ingreso promedio es: 11575.0\n"
          ]
        }
      ]
    },
    {
      "cell_type": "code",
      "source": [
        "data_array.shape"
      ],
      "metadata": {
        "colab": {
          "base_uri": "https://localhost:8080/"
        },
        "id": "cNTnB4qTtYSL",
        "outputId": "23a0e38c-3ad4-4758-8b23-fe5833aff640"
      },
      "execution_count": 139,
      "outputs": [
        {
          "output_type": "execute_result",
          "data": {
            "text/plain": [
              "(4, 5)"
            ]
          },
          "metadata": {},
          "execution_count": 139
        }
      ]
    },
    {
      "cell_type": "code",
      "source": [
        "data_array.shape[1]"
      ],
      "metadata": {
        "colab": {
          "base_uri": "https://localhost:8080/"
        },
        "id": "YeR505gPtayU",
        "outputId": "8c13a8ec-53b4-46dc-94f4-42548419be7a"
      },
      "execution_count": 140,
      "outputs": [
        {
          "output_type": "execute_result",
          "data": {
            "text/plain": [
              "5"
            ]
          },
          "metadata": {},
          "execution_count": 140
        }
      ]
    },
    {
      "cell_type": "code",
      "source": [
        "#Otra forma de realizar\n",
        "\n",
        "for i in range(data_array.shape[1]):\n",
        "  print(data_array[:,i].mean())"
      ],
      "metadata": {
        "colab": {
          "base_uri": "https://localhost:8080/"
        },
        "id": "_-6pd9ALo0H5",
        "outputId": "9f4ee331-2c48-4af3-dbe3-359b904c2d25"
      },
      "execution_count": 141,
      "outputs": [
        {
          "output_type": "stream",
          "name": "stdout",
          "text": [
            "37.5\n",
            "13.0\n",
            "1.5\n",
            "2637.5\n",
            "11575.0\n"
          ]
        }
      ]
    },
    {
      "cell_type": "markdown",
      "source": [
        "### [6] Comparación de listas y arreglos NumPy"
      ],
      "metadata": {
        "id": "nwoy0lQ2Ys6d"
      }
    },
    {
      "cell_type": "code",
      "source": [
        "import numpy as np\n",
        "\n",
        "lista = list(range(1_000_000))\n",
        "array = np.array(lista)"
      ],
      "metadata": {
        "id": "5ZV888_YrxQH"
      },
      "execution_count": 143,
      "outputs": []
    },
    {
      "cell_type": "code",
      "source": [
        "lista"
      ],
      "metadata": {
        "id": "4gYi5Isavgqz",
        "colab": {
          "base_uri": "https://localhost:8080/"
        },
        "outputId": "e19265cb-65a5-4167-aa92-37942886c827"
      },
      "execution_count": 144,
      "outputs": [
        {
          "output_type": "execute_result",
          "data": {
            "text/plain": [
              "[0,\n",
              " 1,\n",
              " 2,\n",
              " 3,\n",
              " 4,\n",
              " 5,\n",
              " 6,\n",
              " 7,\n",
              " 8,\n",
              " 9,\n",
              " 10,\n",
              " 11,\n",
              " 12,\n",
              " 13,\n",
              " 14,\n",
              " 15,\n",
              " 16,\n",
              " 17,\n",
              " 18,\n",
              " 19,\n",
              " 20,\n",
              " 21,\n",
              " 22,\n",
              " 23,\n",
              " 24,\n",
              " 25,\n",
              " 26,\n",
              " 27,\n",
              " 28,\n",
              " 29,\n",
              " 30,\n",
              " 31,\n",
              " 32,\n",
              " 33,\n",
              " 34,\n",
              " 35,\n",
              " 36,\n",
              " 37,\n",
              " 38,\n",
              " 39,\n",
              " 40,\n",
              " 41,\n",
              " 42,\n",
              " 43,\n",
              " 44,\n",
              " 45,\n",
              " 46,\n",
              " 47,\n",
              " 48,\n",
              " 49,\n",
              " 50,\n",
              " 51,\n",
              " 52,\n",
              " 53,\n",
              " 54,\n",
              " 55,\n",
              " 56,\n",
              " 57,\n",
              " 58,\n",
              " 59,\n",
              " 60,\n",
              " 61,\n",
              " 62,\n",
              " 63,\n",
              " 64,\n",
              " 65,\n",
              " 66,\n",
              " 67,\n",
              " 68,\n",
              " 69,\n",
              " 70,\n",
              " 71,\n",
              " 72,\n",
              " 73,\n",
              " 74,\n",
              " 75,\n",
              " 76,\n",
              " 77,\n",
              " 78,\n",
              " 79,\n",
              " 80,\n",
              " 81,\n",
              " 82,\n",
              " 83,\n",
              " 84,\n",
              " 85,\n",
              " 86,\n",
              " 87,\n",
              " 88,\n",
              " 89,\n",
              " 90,\n",
              " 91,\n",
              " 92,\n",
              " 93,\n",
              " 94,\n",
              " 95,\n",
              " 96,\n",
              " 97,\n",
              " 98,\n",
              " 99,\n",
              " 100,\n",
              " 101,\n",
              " 102,\n",
              " 103,\n",
              " 104,\n",
              " 105,\n",
              " 106,\n",
              " 107,\n",
              " 108,\n",
              " 109,\n",
              " 110,\n",
              " 111,\n",
              " 112,\n",
              " 113,\n",
              " 114,\n",
              " 115,\n",
              " 116,\n",
              " 117,\n",
              " 118,\n",
              " 119,\n",
              " 120,\n",
              " 121,\n",
              " 122,\n",
              " 123,\n",
              " 124,\n",
              " 125,\n",
              " 126,\n",
              " 127,\n",
              " 128,\n",
              " 129,\n",
              " 130,\n",
              " 131,\n",
              " 132,\n",
              " 133,\n",
              " 134,\n",
              " 135,\n",
              " 136,\n",
              " 137,\n",
              " 138,\n",
              " 139,\n",
              " 140,\n",
              " 141,\n",
              " 142,\n",
              " 143,\n",
              " 144,\n",
              " 145,\n",
              " 146,\n",
              " 147,\n",
              " 148,\n",
              " 149,\n",
              " 150,\n",
              " 151,\n",
              " 152,\n",
              " 153,\n",
              " 154,\n",
              " 155,\n",
              " 156,\n",
              " 157,\n",
              " 158,\n",
              " 159,\n",
              " 160,\n",
              " 161,\n",
              " 162,\n",
              " 163,\n",
              " 164,\n",
              " 165,\n",
              " 166,\n",
              " 167,\n",
              " 168,\n",
              " 169,\n",
              " 170,\n",
              " 171,\n",
              " 172,\n",
              " 173,\n",
              " 174,\n",
              " 175,\n",
              " 176,\n",
              " 177,\n",
              " 178,\n",
              " 179,\n",
              " 180,\n",
              " 181,\n",
              " 182,\n",
              " 183,\n",
              " 184,\n",
              " 185,\n",
              " 186,\n",
              " 187,\n",
              " 188,\n",
              " 189,\n",
              " 190,\n",
              " 191,\n",
              " 192,\n",
              " 193,\n",
              " 194,\n",
              " 195,\n",
              " 196,\n",
              " 197,\n",
              " 198,\n",
              " 199,\n",
              " 200,\n",
              " 201,\n",
              " 202,\n",
              " 203,\n",
              " 204,\n",
              " 205,\n",
              " 206,\n",
              " 207,\n",
              " 208,\n",
              " 209,\n",
              " 210,\n",
              " 211,\n",
              " 212,\n",
              " 213,\n",
              " 214,\n",
              " 215,\n",
              " 216,\n",
              " 217,\n",
              " 218,\n",
              " 219,\n",
              " 220,\n",
              " 221,\n",
              " 222,\n",
              " 223,\n",
              " 224,\n",
              " 225,\n",
              " 226,\n",
              " 227,\n",
              " 228,\n",
              " 229,\n",
              " 230,\n",
              " 231,\n",
              " 232,\n",
              " 233,\n",
              " 234,\n",
              " 235,\n",
              " 236,\n",
              " 237,\n",
              " 238,\n",
              " 239,\n",
              " 240,\n",
              " 241,\n",
              " 242,\n",
              " 243,\n",
              " 244,\n",
              " 245,\n",
              " 246,\n",
              " 247,\n",
              " 248,\n",
              " 249,\n",
              " 250,\n",
              " 251,\n",
              " 252,\n",
              " 253,\n",
              " 254,\n",
              " 255,\n",
              " 256,\n",
              " 257,\n",
              " 258,\n",
              " 259,\n",
              " 260,\n",
              " 261,\n",
              " 262,\n",
              " 263,\n",
              " 264,\n",
              " 265,\n",
              " 266,\n",
              " 267,\n",
              " 268,\n",
              " 269,\n",
              " 270,\n",
              " 271,\n",
              " 272,\n",
              " 273,\n",
              " 274,\n",
              " 275,\n",
              " 276,\n",
              " 277,\n",
              " 278,\n",
              " 279,\n",
              " 280,\n",
              " 281,\n",
              " 282,\n",
              " 283,\n",
              " 284,\n",
              " 285,\n",
              " 286,\n",
              " 287,\n",
              " 288,\n",
              " 289,\n",
              " 290,\n",
              " 291,\n",
              " 292,\n",
              " 293,\n",
              " 294,\n",
              " 295,\n",
              " 296,\n",
              " 297,\n",
              " 298,\n",
              " 299,\n",
              " 300,\n",
              " 301,\n",
              " 302,\n",
              " 303,\n",
              " 304,\n",
              " 305,\n",
              " 306,\n",
              " 307,\n",
              " 308,\n",
              " 309,\n",
              " 310,\n",
              " 311,\n",
              " 312,\n",
              " 313,\n",
              " 314,\n",
              " 315,\n",
              " 316,\n",
              " 317,\n",
              " 318,\n",
              " 319,\n",
              " 320,\n",
              " 321,\n",
              " 322,\n",
              " 323,\n",
              " 324,\n",
              " 325,\n",
              " 326,\n",
              " 327,\n",
              " 328,\n",
              " 329,\n",
              " 330,\n",
              " 331,\n",
              " 332,\n",
              " 333,\n",
              " 334,\n",
              " 335,\n",
              " 336,\n",
              " 337,\n",
              " 338,\n",
              " 339,\n",
              " 340,\n",
              " 341,\n",
              " 342,\n",
              " 343,\n",
              " 344,\n",
              " 345,\n",
              " 346,\n",
              " 347,\n",
              " 348,\n",
              " 349,\n",
              " 350,\n",
              " 351,\n",
              " 352,\n",
              " 353,\n",
              " 354,\n",
              " 355,\n",
              " 356,\n",
              " 357,\n",
              " 358,\n",
              " 359,\n",
              " 360,\n",
              " 361,\n",
              " 362,\n",
              " 363,\n",
              " 364,\n",
              " 365,\n",
              " 366,\n",
              " 367,\n",
              " 368,\n",
              " 369,\n",
              " 370,\n",
              " 371,\n",
              " 372,\n",
              " 373,\n",
              " 374,\n",
              " 375,\n",
              " 376,\n",
              " 377,\n",
              " 378,\n",
              " 379,\n",
              " 380,\n",
              " 381,\n",
              " 382,\n",
              " 383,\n",
              " 384,\n",
              " 385,\n",
              " 386,\n",
              " 387,\n",
              " 388,\n",
              " 389,\n",
              " 390,\n",
              " 391,\n",
              " 392,\n",
              " 393,\n",
              " 394,\n",
              " 395,\n",
              " 396,\n",
              " 397,\n",
              " 398,\n",
              " 399,\n",
              " 400,\n",
              " 401,\n",
              " 402,\n",
              " 403,\n",
              " 404,\n",
              " 405,\n",
              " 406,\n",
              " 407,\n",
              " 408,\n",
              " 409,\n",
              " 410,\n",
              " 411,\n",
              " 412,\n",
              " 413,\n",
              " 414,\n",
              " 415,\n",
              " 416,\n",
              " 417,\n",
              " 418,\n",
              " 419,\n",
              " 420,\n",
              " 421,\n",
              " 422,\n",
              " 423,\n",
              " 424,\n",
              " 425,\n",
              " 426,\n",
              " 427,\n",
              " 428,\n",
              " 429,\n",
              " 430,\n",
              " 431,\n",
              " 432,\n",
              " 433,\n",
              " 434,\n",
              " 435,\n",
              " 436,\n",
              " 437,\n",
              " 438,\n",
              " 439,\n",
              " 440,\n",
              " 441,\n",
              " 442,\n",
              " 443,\n",
              " 444,\n",
              " 445,\n",
              " 446,\n",
              " 447,\n",
              " 448,\n",
              " 449,\n",
              " 450,\n",
              " 451,\n",
              " 452,\n",
              " 453,\n",
              " 454,\n",
              " 455,\n",
              " 456,\n",
              " 457,\n",
              " 458,\n",
              " 459,\n",
              " 460,\n",
              " 461,\n",
              " 462,\n",
              " 463,\n",
              " 464,\n",
              " 465,\n",
              " 466,\n",
              " 467,\n",
              " 468,\n",
              " 469,\n",
              " 470,\n",
              " 471,\n",
              " 472,\n",
              " 473,\n",
              " 474,\n",
              " 475,\n",
              " 476,\n",
              " 477,\n",
              " 478,\n",
              " 479,\n",
              " 480,\n",
              " 481,\n",
              " 482,\n",
              " 483,\n",
              " 484,\n",
              " 485,\n",
              " 486,\n",
              " 487,\n",
              " 488,\n",
              " 489,\n",
              " 490,\n",
              " 491,\n",
              " 492,\n",
              " 493,\n",
              " 494,\n",
              " 495,\n",
              " 496,\n",
              " 497,\n",
              " 498,\n",
              " 499,\n",
              " 500,\n",
              " 501,\n",
              " 502,\n",
              " 503,\n",
              " 504,\n",
              " 505,\n",
              " 506,\n",
              " 507,\n",
              " 508,\n",
              " 509,\n",
              " 510,\n",
              " 511,\n",
              " 512,\n",
              " 513,\n",
              " 514,\n",
              " 515,\n",
              " 516,\n",
              " 517,\n",
              " 518,\n",
              " 519,\n",
              " 520,\n",
              " 521,\n",
              " 522,\n",
              " 523,\n",
              " 524,\n",
              " 525,\n",
              " 526,\n",
              " 527,\n",
              " 528,\n",
              " 529,\n",
              " 530,\n",
              " 531,\n",
              " 532,\n",
              " 533,\n",
              " 534,\n",
              " 535,\n",
              " 536,\n",
              " 537,\n",
              " 538,\n",
              " 539,\n",
              " 540,\n",
              " 541,\n",
              " 542,\n",
              " 543,\n",
              " 544,\n",
              " 545,\n",
              " 546,\n",
              " 547,\n",
              " 548,\n",
              " 549,\n",
              " 550,\n",
              " 551,\n",
              " 552,\n",
              " 553,\n",
              " 554,\n",
              " 555,\n",
              " 556,\n",
              " 557,\n",
              " 558,\n",
              " 559,\n",
              " 560,\n",
              " 561,\n",
              " 562,\n",
              " 563,\n",
              " 564,\n",
              " 565,\n",
              " 566,\n",
              " 567,\n",
              " 568,\n",
              " 569,\n",
              " 570,\n",
              " 571,\n",
              " 572,\n",
              " 573,\n",
              " 574,\n",
              " 575,\n",
              " 576,\n",
              " 577,\n",
              " 578,\n",
              " 579,\n",
              " 580,\n",
              " 581,\n",
              " 582,\n",
              " 583,\n",
              " 584,\n",
              " 585,\n",
              " 586,\n",
              " 587,\n",
              " 588,\n",
              " 589,\n",
              " 590,\n",
              " 591,\n",
              " 592,\n",
              " 593,\n",
              " 594,\n",
              " 595,\n",
              " 596,\n",
              " 597,\n",
              " 598,\n",
              " 599,\n",
              " 600,\n",
              " 601,\n",
              " 602,\n",
              " 603,\n",
              " 604,\n",
              " 605,\n",
              " 606,\n",
              " 607,\n",
              " 608,\n",
              " 609,\n",
              " 610,\n",
              " 611,\n",
              " 612,\n",
              " 613,\n",
              " 614,\n",
              " 615,\n",
              " 616,\n",
              " 617,\n",
              " 618,\n",
              " 619,\n",
              " 620,\n",
              " 621,\n",
              " 622,\n",
              " 623,\n",
              " 624,\n",
              " 625,\n",
              " 626,\n",
              " 627,\n",
              " 628,\n",
              " 629,\n",
              " 630,\n",
              " 631,\n",
              " 632,\n",
              " 633,\n",
              " 634,\n",
              " 635,\n",
              " 636,\n",
              " 637,\n",
              " 638,\n",
              " 639,\n",
              " 640,\n",
              " 641,\n",
              " 642,\n",
              " 643,\n",
              " 644,\n",
              " 645,\n",
              " 646,\n",
              " 647,\n",
              " 648,\n",
              " 649,\n",
              " 650,\n",
              " 651,\n",
              " 652,\n",
              " 653,\n",
              " 654,\n",
              " 655,\n",
              " 656,\n",
              " 657,\n",
              " 658,\n",
              " 659,\n",
              " 660,\n",
              " 661,\n",
              " 662,\n",
              " 663,\n",
              " 664,\n",
              " 665,\n",
              " 666,\n",
              " 667,\n",
              " 668,\n",
              " 669,\n",
              " 670,\n",
              " 671,\n",
              " 672,\n",
              " 673,\n",
              " 674,\n",
              " 675,\n",
              " 676,\n",
              " 677,\n",
              " 678,\n",
              " 679,\n",
              " 680,\n",
              " 681,\n",
              " 682,\n",
              " 683,\n",
              " 684,\n",
              " 685,\n",
              " 686,\n",
              " 687,\n",
              " 688,\n",
              " 689,\n",
              " 690,\n",
              " 691,\n",
              " 692,\n",
              " 693,\n",
              " 694,\n",
              " 695,\n",
              " 696,\n",
              " 697,\n",
              " 698,\n",
              " 699,\n",
              " 700,\n",
              " 701,\n",
              " 702,\n",
              " 703,\n",
              " 704,\n",
              " 705,\n",
              " 706,\n",
              " 707,\n",
              " 708,\n",
              " 709,\n",
              " 710,\n",
              " 711,\n",
              " 712,\n",
              " 713,\n",
              " 714,\n",
              " 715,\n",
              " 716,\n",
              " 717,\n",
              " 718,\n",
              " 719,\n",
              " 720,\n",
              " 721,\n",
              " 722,\n",
              " 723,\n",
              " 724,\n",
              " 725,\n",
              " 726,\n",
              " 727,\n",
              " 728,\n",
              " 729,\n",
              " 730,\n",
              " 731,\n",
              " 732,\n",
              " 733,\n",
              " 734,\n",
              " 735,\n",
              " 736,\n",
              " 737,\n",
              " 738,\n",
              " 739,\n",
              " 740,\n",
              " 741,\n",
              " 742,\n",
              " 743,\n",
              " 744,\n",
              " 745,\n",
              " 746,\n",
              " 747,\n",
              " 748,\n",
              " 749,\n",
              " 750,\n",
              " 751,\n",
              " 752,\n",
              " 753,\n",
              " 754,\n",
              " 755,\n",
              " 756,\n",
              " 757,\n",
              " 758,\n",
              " 759,\n",
              " 760,\n",
              " 761,\n",
              " 762,\n",
              " 763,\n",
              " 764,\n",
              " 765,\n",
              " 766,\n",
              " 767,\n",
              " 768,\n",
              " 769,\n",
              " 770,\n",
              " 771,\n",
              " 772,\n",
              " 773,\n",
              " 774,\n",
              " 775,\n",
              " 776,\n",
              " 777,\n",
              " 778,\n",
              " 779,\n",
              " 780,\n",
              " 781,\n",
              " 782,\n",
              " 783,\n",
              " 784,\n",
              " 785,\n",
              " 786,\n",
              " 787,\n",
              " 788,\n",
              " 789,\n",
              " 790,\n",
              " 791,\n",
              " 792,\n",
              " 793,\n",
              " 794,\n",
              " 795,\n",
              " 796,\n",
              " 797,\n",
              " 798,\n",
              " 799,\n",
              " 800,\n",
              " 801,\n",
              " 802,\n",
              " 803,\n",
              " 804,\n",
              " 805,\n",
              " 806,\n",
              " 807,\n",
              " 808,\n",
              " 809,\n",
              " 810,\n",
              " 811,\n",
              " 812,\n",
              " 813,\n",
              " 814,\n",
              " 815,\n",
              " 816,\n",
              " 817,\n",
              " 818,\n",
              " 819,\n",
              " 820,\n",
              " 821,\n",
              " 822,\n",
              " 823,\n",
              " 824,\n",
              " 825,\n",
              " 826,\n",
              " 827,\n",
              " 828,\n",
              " 829,\n",
              " 830,\n",
              " 831,\n",
              " 832,\n",
              " 833,\n",
              " 834,\n",
              " 835,\n",
              " 836,\n",
              " 837,\n",
              " 838,\n",
              " 839,\n",
              " 840,\n",
              " 841,\n",
              " 842,\n",
              " 843,\n",
              " 844,\n",
              " 845,\n",
              " 846,\n",
              " 847,\n",
              " 848,\n",
              " 849,\n",
              " 850,\n",
              " 851,\n",
              " 852,\n",
              " 853,\n",
              " 854,\n",
              " 855,\n",
              " 856,\n",
              " 857,\n",
              " 858,\n",
              " 859,\n",
              " 860,\n",
              " 861,\n",
              " 862,\n",
              " 863,\n",
              " 864,\n",
              " 865,\n",
              " 866,\n",
              " 867,\n",
              " 868,\n",
              " 869,\n",
              " 870,\n",
              " 871,\n",
              " 872,\n",
              " 873,\n",
              " 874,\n",
              " 875,\n",
              " 876,\n",
              " 877,\n",
              " 878,\n",
              " 879,\n",
              " 880,\n",
              " 881,\n",
              " 882,\n",
              " 883,\n",
              " 884,\n",
              " 885,\n",
              " 886,\n",
              " 887,\n",
              " 888,\n",
              " 889,\n",
              " 890,\n",
              " 891,\n",
              " 892,\n",
              " 893,\n",
              " 894,\n",
              " 895,\n",
              " 896,\n",
              " 897,\n",
              " 898,\n",
              " 899,\n",
              " 900,\n",
              " 901,\n",
              " 902,\n",
              " 903,\n",
              " 904,\n",
              " 905,\n",
              " 906,\n",
              " 907,\n",
              " 908,\n",
              " 909,\n",
              " 910,\n",
              " 911,\n",
              " 912,\n",
              " 913,\n",
              " 914,\n",
              " 915,\n",
              " 916,\n",
              " 917,\n",
              " 918,\n",
              " 919,\n",
              " 920,\n",
              " 921,\n",
              " 922,\n",
              " 923,\n",
              " 924,\n",
              " 925,\n",
              " 926,\n",
              " 927,\n",
              " 928,\n",
              " 929,\n",
              " 930,\n",
              " 931,\n",
              " 932,\n",
              " 933,\n",
              " 934,\n",
              " 935,\n",
              " 936,\n",
              " 937,\n",
              " 938,\n",
              " 939,\n",
              " 940,\n",
              " 941,\n",
              " 942,\n",
              " 943,\n",
              " 944,\n",
              " 945,\n",
              " 946,\n",
              " 947,\n",
              " 948,\n",
              " 949,\n",
              " 950,\n",
              " 951,\n",
              " 952,\n",
              " 953,\n",
              " 954,\n",
              " 955,\n",
              " 956,\n",
              " 957,\n",
              " 958,\n",
              " 959,\n",
              " 960,\n",
              " 961,\n",
              " 962,\n",
              " 963,\n",
              " 964,\n",
              " 965,\n",
              " 966,\n",
              " 967,\n",
              " 968,\n",
              " 969,\n",
              " 970,\n",
              " 971,\n",
              " 972,\n",
              " 973,\n",
              " 974,\n",
              " 975,\n",
              " 976,\n",
              " 977,\n",
              " 978,\n",
              " 979,\n",
              " 980,\n",
              " 981,\n",
              " 982,\n",
              " 983,\n",
              " 984,\n",
              " 985,\n",
              " 986,\n",
              " 987,\n",
              " 988,\n",
              " 989,\n",
              " 990,\n",
              " 991,\n",
              " 992,\n",
              " 993,\n",
              " 994,\n",
              " 995,\n",
              " 996,\n",
              " 997,\n",
              " 998,\n",
              " 999,\n",
              " ...]"
            ]
          },
          "metadata": {},
          "execution_count": 144
        }
      ]
    },
    {
      "cell_type": "code",
      "source": [
        "array"
      ],
      "metadata": {
        "id": "D0ay9CWgvmjs",
        "colab": {
          "base_uri": "https://localhost:8080/"
        },
        "outputId": "bc258537-dcd4-4cb1-82ef-a47078437b03"
      },
      "execution_count": 145,
      "outputs": [
        {
          "output_type": "execute_result",
          "data": {
            "text/plain": [
              "array([     0,      1,      2, ..., 999997, 999998, 999999])"
            ]
          },
          "metadata": {},
          "execution_count": 145
        }
      ]
    },
    {
      "cell_type": "code",
      "source": [
        "type(lista)"
      ],
      "metadata": {
        "id": "v2gIlxFxvqdx",
        "colab": {
          "base_uri": "https://localhost:8080/"
        },
        "outputId": "3b4658d1-4e7d-4da2-acfc-78f047e76118"
      },
      "execution_count": 146,
      "outputs": [
        {
          "output_type": "execute_result",
          "data": {
            "text/plain": [
              "list"
            ]
          },
          "metadata": {},
          "execution_count": 146
        }
      ]
    },
    {
      "cell_type": "code",
      "source": [
        "type(array)"
      ],
      "metadata": {
        "id": "aKrIzQbEvskN",
        "colab": {
          "base_uri": "https://localhost:8080/"
        },
        "outputId": "5841c601-f7f0-4ed3-f894-2d78f1366c01"
      },
      "execution_count": 147,
      "outputs": [
        {
          "output_type": "execute_result",
          "data": {
            "text/plain": [
              "numpy.ndarray"
            ]
          },
          "metadata": {},
          "execution_count": 147
        }
      ]
    },
    {
      "cell_type": "code",
      "source": [
        "import time\n",
        "\n",
        "start = time.time()\n",
        "[ x*2 for x in lista ]\n",
        "print(\"Lista:\", time.time() - start)\n"
      ],
      "metadata": {
        "id": "4PGE4iYzvuwf",
        "colab": {
          "base_uri": "https://localhost:8080/"
        },
        "outputId": "509bf16a-c32e-4119-8dab-1ab51a6cee0f"
      },
      "execution_count": 148,
      "outputs": [
        {
          "output_type": "stream",
          "name": "stdout",
          "text": [
            "Lista: 0.05936694145202637\n"
          ]
        }
      ]
    },
    {
      "cell_type": "code",
      "source": [
        "import time\n",
        "\n",
        "start = time.time()\n",
        "array * 2\n",
        "print(\"NumPy:\", time.time() - start)"
      ],
      "metadata": {
        "id": "9VbDA_WIvyIP",
        "colab": {
          "base_uri": "https://localhost:8080/"
        },
        "outputId": "a8089932-ccea-4b76-ec36-16dbf7cb8af5"
      },
      "execution_count": 149,
      "outputs": [
        {
          "output_type": "stream",
          "name": "stdout",
          "text": [
            "NumPy: 0.002985715866088867\n"
          ]
        }
      ]
    },
    {
      "cell_type": "markdown",
      "source": [
        "### [7] Caso aplicado: Cálculo de la elasticidad precio"
      ],
      "metadata": {
        "id": "C05k156lY2C5"
      }
    },
    {
      "cell_type": "code",
      "source": [
        "import pandas as pd\n",
        "\n",
        "data = pd.read_csv(\"data_arroz.csv\", encoding='latin-1')"
      ],
      "metadata": {
        "id": "3z5ywQqCv8li"
      },
      "execution_count": 151,
      "outputs": []
    },
    {
      "cell_type": "code",
      "source": [
        "data.head(3) #muestrame los primeros registros (2), 2 primeros registros\n",
        "#data --> Dataframe de pandas"
      ],
      "metadata": {
        "id": "XnjgBcRq3mo8",
        "colab": {
          "base_uri": "https://localhost:8080/",
          "height": 143
        },
        "outputId": "e8140912-c8f3-4d34-caa4-259bb92f5f09"
      },
      "execution_count": 154,
      "outputs": [
        {
          "output_type": "execute_result",
          "data": {
            "text/plain": [
              "                           Sku  Semana  Precio  Demanda\n",
              "0  ARROZ EXTRA  X 5 KG COSTEÑO  201709    18.9     2468\n",
              "1  ARROZ EXTRA  X 5 KG COSTEÑO  201710    19.2     1746\n",
              "2  ARROZ EXTRA  X 5 KG COSTEÑO  201711    20.7     3941"
            ],
            "text/html": [
              "\n",
              "  <div id=\"df-a93bf782-9119-4d33-9983-961135ccd820\" class=\"colab-df-container\">\n",
              "    <div>\n",
              "<style scoped>\n",
              "    .dataframe tbody tr th:only-of-type {\n",
              "        vertical-align: middle;\n",
              "    }\n",
              "\n",
              "    .dataframe tbody tr th {\n",
              "        vertical-align: top;\n",
              "    }\n",
              "\n",
              "    .dataframe thead th {\n",
              "        text-align: right;\n",
              "    }\n",
              "</style>\n",
              "<table border=\"1\" class=\"dataframe\">\n",
              "  <thead>\n",
              "    <tr style=\"text-align: right;\">\n",
              "      <th></th>\n",
              "      <th>Sku</th>\n",
              "      <th>Semana</th>\n",
              "      <th>Precio</th>\n",
              "      <th>Demanda</th>\n",
              "    </tr>\n",
              "  </thead>\n",
              "  <tbody>\n",
              "    <tr>\n",
              "      <th>0</th>\n",
              "      <td>ARROZ EXTRA  X 5 KG COSTEÑO</td>\n",
              "      <td>201709</td>\n",
              "      <td>18.9</td>\n",
              "      <td>2468</td>\n",
              "    </tr>\n",
              "    <tr>\n",
              "      <th>1</th>\n",
              "      <td>ARROZ EXTRA  X 5 KG COSTEÑO</td>\n",
              "      <td>201710</td>\n",
              "      <td>19.2</td>\n",
              "      <td>1746</td>\n",
              "    </tr>\n",
              "    <tr>\n",
              "      <th>2</th>\n",
              "      <td>ARROZ EXTRA  X 5 KG COSTEÑO</td>\n",
              "      <td>201711</td>\n",
              "      <td>20.7</td>\n",
              "      <td>3941</td>\n",
              "    </tr>\n",
              "  </tbody>\n",
              "</table>\n",
              "</div>\n",
              "    <div class=\"colab-df-buttons\">\n",
              "\n",
              "  <div class=\"colab-df-container\">\n",
              "    <button class=\"colab-df-convert\" onclick=\"convertToInteractive('df-a93bf782-9119-4d33-9983-961135ccd820')\"\n",
              "            title=\"Convert this dataframe to an interactive table.\"\n",
              "            style=\"display:none;\">\n",
              "\n",
              "  <svg xmlns=\"http://www.w3.org/2000/svg\" height=\"24px\" viewBox=\"0 -960 960 960\">\n",
              "    <path d=\"M120-120v-720h720v720H120Zm60-500h600v-160H180v160Zm220 220h160v-160H400v160Zm0 220h160v-160H400v160ZM180-400h160v-160H180v160Zm440 0h160v-160H620v160ZM180-180h160v-160H180v160Zm440 0h160v-160H620v160Z\"/>\n",
              "  </svg>\n",
              "    </button>\n",
              "\n",
              "  <style>\n",
              "    .colab-df-container {\n",
              "      display:flex;\n",
              "      gap: 12px;\n",
              "    }\n",
              "\n",
              "    .colab-df-convert {\n",
              "      background-color: #E8F0FE;\n",
              "      border: none;\n",
              "      border-radius: 50%;\n",
              "      cursor: pointer;\n",
              "      display: none;\n",
              "      fill: #1967D2;\n",
              "      height: 32px;\n",
              "      padding: 0 0 0 0;\n",
              "      width: 32px;\n",
              "    }\n",
              "\n",
              "    .colab-df-convert:hover {\n",
              "      background-color: #E2EBFA;\n",
              "      box-shadow: 0px 1px 2px rgba(60, 64, 67, 0.3), 0px 1px 3px 1px rgba(60, 64, 67, 0.15);\n",
              "      fill: #174EA6;\n",
              "    }\n",
              "\n",
              "    .colab-df-buttons div {\n",
              "      margin-bottom: 4px;\n",
              "    }\n",
              "\n",
              "    [theme=dark] .colab-df-convert {\n",
              "      background-color: #3B4455;\n",
              "      fill: #D2E3FC;\n",
              "    }\n",
              "\n",
              "    [theme=dark] .colab-df-convert:hover {\n",
              "      background-color: #434B5C;\n",
              "      box-shadow: 0px 1px 3px 1px rgba(0, 0, 0, 0.15);\n",
              "      filter: drop-shadow(0px 1px 2px rgba(0, 0, 0, 0.3));\n",
              "      fill: #FFFFFF;\n",
              "    }\n",
              "  </style>\n",
              "\n",
              "    <script>\n",
              "      const buttonEl =\n",
              "        document.querySelector('#df-a93bf782-9119-4d33-9983-961135ccd820 button.colab-df-convert');\n",
              "      buttonEl.style.display =\n",
              "        google.colab.kernel.accessAllowed ? 'block' : 'none';\n",
              "\n",
              "      async function convertToInteractive(key) {\n",
              "        const element = document.querySelector('#df-a93bf782-9119-4d33-9983-961135ccd820');\n",
              "        const dataTable =\n",
              "          await google.colab.kernel.invokeFunction('convertToInteractive',\n",
              "                                                    [key], {});\n",
              "        if (!dataTable) return;\n",
              "\n",
              "        const docLinkHtml = 'Like what you see? Visit the ' +\n",
              "          '<a target=\"_blank\" href=https://colab.research.google.com/notebooks/data_table.ipynb>data table notebook</a>'\n",
              "          + ' to learn more about interactive tables.';\n",
              "        element.innerHTML = '';\n",
              "        dataTable['output_type'] = 'display_data';\n",
              "        await google.colab.output.renderOutput(dataTable, element);\n",
              "        const docLink = document.createElement('div');\n",
              "        docLink.innerHTML = docLinkHtml;\n",
              "        element.appendChild(docLink);\n",
              "      }\n",
              "    </script>\n",
              "  </div>\n",
              "\n",
              "\n",
              "    <div id=\"df-5cafa5ec-2804-4b3a-9d87-05f914c46840\">\n",
              "      <button class=\"colab-df-quickchart\" onclick=\"quickchart('df-5cafa5ec-2804-4b3a-9d87-05f914c46840')\"\n",
              "                title=\"Suggest charts\"\n",
              "                style=\"display:none;\">\n",
              "\n",
              "<svg xmlns=\"http://www.w3.org/2000/svg\" height=\"24px\"viewBox=\"0 0 24 24\"\n",
              "     width=\"24px\">\n",
              "    <g>\n",
              "        <path d=\"M19 3H5c-1.1 0-2 .9-2 2v14c0 1.1.9 2 2 2h14c1.1 0 2-.9 2-2V5c0-1.1-.9-2-2-2zM9 17H7v-7h2v7zm4 0h-2V7h2v10zm4 0h-2v-4h2v4z\"/>\n",
              "    </g>\n",
              "</svg>\n",
              "      </button>\n",
              "\n",
              "<style>\n",
              "  .colab-df-quickchart {\n",
              "      --bg-color: #E8F0FE;\n",
              "      --fill-color: #1967D2;\n",
              "      --hover-bg-color: #E2EBFA;\n",
              "      --hover-fill-color: #174EA6;\n",
              "      --disabled-fill-color: #AAA;\n",
              "      --disabled-bg-color: #DDD;\n",
              "  }\n",
              "\n",
              "  [theme=dark] .colab-df-quickchart {\n",
              "      --bg-color: #3B4455;\n",
              "      --fill-color: #D2E3FC;\n",
              "      --hover-bg-color: #434B5C;\n",
              "      --hover-fill-color: #FFFFFF;\n",
              "      --disabled-bg-color: #3B4455;\n",
              "      --disabled-fill-color: #666;\n",
              "  }\n",
              "\n",
              "  .colab-df-quickchart {\n",
              "    background-color: var(--bg-color);\n",
              "    border: none;\n",
              "    border-radius: 50%;\n",
              "    cursor: pointer;\n",
              "    display: none;\n",
              "    fill: var(--fill-color);\n",
              "    height: 32px;\n",
              "    padding: 0;\n",
              "    width: 32px;\n",
              "  }\n",
              "\n",
              "  .colab-df-quickchart:hover {\n",
              "    background-color: var(--hover-bg-color);\n",
              "    box-shadow: 0 1px 2px rgba(60, 64, 67, 0.3), 0 1px 3px 1px rgba(60, 64, 67, 0.15);\n",
              "    fill: var(--button-hover-fill-color);\n",
              "  }\n",
              "\n",
              "  .colab-df-quickchart-complete:disabled,\n",
              "  .colab-df-quickchart-complete:disabled:hover {\n",
              "    background-color: var(--disabled-bg-color);\n",
              "    fill: var(--disabled-fill-color);\n",
              "    box-shadow: none;\n",
              "  }\n",
              "\n",
              "  .colab-df-spinner {\n",
              "    border: 2px solid var(--fill-color);\n",
              "    border-color: transparent;\n",
              "    border-bottom-color: var(--fill-color);\n",
              "    animation:\n",
              "      spin 1s steps(1) infinite;\n",
              "  }\n",
              "\n",
              "  @keyframes spin {\n",
              "    0% {\n",
              "      border-color: transparent;\n",
              "      border-bottom-color: var(--fill-color);\n",
              "      border-left-color: var(--fill-color);\n",
              "    }\n",
              "    20% {\n",
              "      border-color: transparent;\n",
              "      border-left-color: var(--fill-color);\n",
              "      border-top-color: var(--fill-color);\n",
              "    }\n",
              "    30% {\n",
              "      border-color: transparent;\n",
              "      border-left-color: var(--fill-color);\n",
              "      border-top-color: var(--fill-color);\n",
              "      border-right-color: var(--fill-color);\n",
              "    }\n",
              "    40% {\n",
              "      border-color: transparent;\n",
              "      border-right-color: var(--fill-color);\n",
              "      border-top-color: var(--fill-color);\n",
              "    }\n",
              "    60% {\n",
              "      border-color: transparent;\n",
              "      border-right-color: var(--fill-color);\n",
              "    }\n",
              "    80% {\n",
              "      border-color: transparent;\n",
              "      border-right-color: var(--fill-color);\n",
              "      border-bottom-color: var(--fill-color);\n",
              "    }\n",
              "    90% {\n",
              "      border-color: transparent;\n",
              "      border-bottom-color: var(--fill-color);\n",
              "    }\n",
              "  }\n",
              "</style>\n",
              "\n",
              "      <script>\n",
              "        async function quickchart(key) {\n",
              "          const quickchartButtonEl =\n",
              "            document.querySelector('#' + key + ' button');\n",
              "          quickchartButtonEl.disabled = true;  // To prevent multiple clicks.\n",
              "          quickchartButtonEl.classList.add('colab-df-spinner');\n",
              "          try {\n",
              "            const charts = await google.colab.kernel.invokeFunction(\n",
              "                'suggestCharts', [key], {});\n",
              "          } catch (error) {\n",
              "            console.error('Error during call to suggestCharts:', error);\n",
              "          }\n",
              "          quickchartButtonEl.classList.remove('colab-df-spinner');\n",
              "          quickchartButtonEl.classList.add('colab-df-quickchart-complete');\n",
              "        }\n",
              "        (() => {\n",
              "          let quickchartButtonEl =\n",
              "            document.querySelector('#df-5cafa5ec-2804-4b3a-9d87-05f914c46840 button');\n",
              "          quickchartButtonEl.style.display =\n",
              "            google.colab.kernel.accessAllowed ? 'block' : 'none';\n",
              "        })();\n",
              "      </script>\n",
              "    </div>\n",
              "\n",
              "    </div>\n",
              "  </div>\n"
            ],
            "application/vnd.google.colaboratory.intrinsic+json": {
              "type": "dataframe",
              "variable_name": "data",
              "summary": "{\n  \"name\": \"data\",\n  \"rows\": 27,\n  \"fields\": [\n    {\n      \"column\": \"Sku\",\n      \"properties\": {\n        \"dtype\": \"category\",\n        \"num_unique_values\": 1,\n        \"samples\": [\n          \"ARROZ EXTRA  X 5 KG COSTE\\u00d1O\"\n        ],\n        \"semantic_type\": \"\",\n        \"description\": \"\"\n      }\n    },\n    {\n      \"column\": \"Semana\",\n      \"properties\": {\n        \"dtype\": \"number\",\n        \"std\": 7,\n        \"min\": 201709,\n        \"max\": 201735,\n        \"num_unique_values\": 27,\n        \"samples\": [\n          201717\n        ],\n        \"semantic_type\": \"\",\n        \"description\": \"\"\n      }\n    },\n    {\n      \"column\": \"Precio\",\n      \"properties\": {\n        \"dtype\": \"number\",\n        \"std\": 1.7296064470099726,\n        \"min\": 14.9,\n        \"max\": 24.0,\n        \"num_unique_values\": 20,\n        \"samples\": [\n          18.9\n        ],\n        \"semantic_type\": \"\",\n        \"description\": \"\"\n      }\n    },\n    {\n      \"column\": \"Demanda\",\n      \"properties\": {\n        \"dtype\": \"number\",\n        \"std\": 7518,\n        \"min\": 1746,\n        \"max\": 31372,\n        \"num_unique_values\": 24,\n        \"samples\": [\n          11648\n        ],\n        \"semantic_type\": \"\",\n        \"description\": \"\"\n      }\n    }\n  ]\n}"
            }
          },
          "metadata": {},
          "execution_count": 154
        }
      ]
    },
    {
      "cell_type": "code",
      "source": [
        "array_arroz = np.array(data.iloc[:,2:]) #Todas las filas y la columna desde las 2: hacia delante\n",
        "print(array_arroz)"
      ],
      "metadata": {
        "id": "OMJT7N0l4B7e",
        "colab": {
          "base_uri": "https://localhost:8080/"
        },
        "outputId": "d83fc3e5-b681-40b6-8858-62d9dcc2bcd3"
      },
      "execution_count": 156,
      "outputs": [
        {
          "output_type": "stream",
          "name": "stdout",
          "text": [
            "[[1.8900e+01 2.4680e+03]\n",
            " [1.9200e+01 1.7460e+03]\n",
            " [2.0700e+01 3.9410e+03]\n",
            " [1.8400e+01 4.2440e+03]\n",
            " [2.0400e+01 1.1699e+04]\n",
            " [2.4000e+01 1.7460e+03]\n",
            " [1.9600e+01 3.9410e+03]\n",
            " [1.8900e+01 4.2440e+03]\n",
            " [1.8500e+01 9.2310e+03]\n",
            " [1.8900e+01 1.0703e+04]\n",
            " [1.9100e+01 6.7510e+03]\n",
            " [1.7300e+01 1.1648e+04]\n",
            " [1.7400e+01 1.0219e+04]\n",
            " [1.8100e+01 1.3600e+04]\n",
            " [1.8300e+01 1.1005e+04]\n",
            " [1.7800e+01 9.1120e+03]\n",
            " [1.5600e+01 2.8216e+04]\n",
            " [1.7500e+01 1.4062e+04]\n",
            " [1.9200e+01 9.3040e+03]\n",
            " [1.9000e+01 9.3670e+03]\n",
            " [1.9200e+01 8.2840e+03]\n",
            " [1.4900e+01 3.1372e+04]\n",
            " [1.6800e+01 3.4870e+03]\n",
            " [1.9200e+01 4.8590e+03]\n",
            " [1.8900e+01 7.5030e+03]\n",
            " [1.6300e+01 2.4464e+04]\n",
            " [1.7400e+01 1.3449e+04]]\n"
          ]
        }
      ]
    },
    {
      "cell_type": "code",
      "source": [
        "X = array_arroz[:,0]\n",
        "X"
      ],
      "metadata": {
        "id": "wEbPCv1Y4HNH"
      },
      "execution_count": null,
      "outputs": []
    },
    {
      "cell_type": "code",
      "source": [
        "print(f\"Las estadísticas de los precios son \\n Mínimo: {X.min()} \\n Máximo: {X.max()} \\n Promedio: {X.mean()}\")"
      ],
      "metadata": {
        "id": "-Gmz4qEbNQUb"
      },
      "execution_count": null,
      "outputs": []
    },
    {
      "cell_type": "code",
      "source": [
        "y = array_arroz[:,1]\n",
        "y"
      ],
      "metadata": {
        "id": "6IbkffoD4x4E"
      },
      "execution_count": null,
      "outputs": []
    },
    {
      "cell_type": "code",
      "source": [
        "print(f\"Las estadísticas de la demanda semanal en unidades son \\n Mínimo: {y.min()} \\n Máximo: {y.max()} \\n Promedio: {np.round(y.mean(),2)}\")"
      ],
      "metadata": {
        "id": "jnXNWTsZNvpX"
      },
      "execution_count": null,
      "outputs": []
    },
    {
      "cell_type": "code",
      "source": [
        "X_ = np.column_stack((np.ones(len(X)), X))\n",
        "X_"
      ],
      "metadata": {
        "id": "u1DCeqtD44tq"
      },
      "execution_count": null,
      "outputs": []
    },
    {
      "cell_type": "code",
      "source": [
        "y = y.reshape(-1, 1)\n",
        "y"
      ],
      "metadata": {
        "id": "NEH7dDfI5B9d"
      },
      "execution_count": null,
      "outputs": []
    },
    {
      "cell_type": "code",
      "source": [
        "p1 = np.linalg.inv(np.dot(X_.transpose(),X_))\n",
        "p2 = np.dot(X_.transpose(),y)\n",
        "beta = np.dot(p1,p2)"
      ],
      "metadata": {
        "id": "bEACEGhg5IDe"
      },
      "execution_count": null,
      "outputs": []
    },
    {
      "cell_type": "code",
      "source": [
        "beta"
      ],
      "metadata": {
        "id": "XXZKF9qc6c3x"
      },
      "execution_count": null,
      "outputs": []
    },
    {
      "cell_type": "code",
      "source": [
        "beta[1,:]"
      ],
      "metadata": {
        "id": "M4EsJDee6kFm"
      },
      "execution_count": null,
      "outputs": []
    },
    {
      "cell_type": "code",
      "source": [
        "elasticidad = beta[1,:] * (X.mean()/y.mean())"
      ],
      "metadata": {
        "id": "w1nqRXjc6vkp"
      },
      "execution_count": null,
      "outputs": []
    },
    {
      "cell_type": "code",
      "source": [
        "elasticidad"
      ],
      "metadata": {
        "id": "pwXtE90YPRP5"
      },
      "execution_count": null,
      "outputs": []
    },
    {
      "cell_type": "markdown",
      "source": [
        "### Actividad N039"
      ],
      "metadata": {
        "id": "lLRhA9HrY_N2"
      }
    },
    {
      "cell_type": "markdown",
      "source": [
        "Calcular la elasticidad precio de un yogurt de 1 Litro, considere la información del archivo yogurt1L.csv que registra los precios y la demanda de este producto en 20 semanas consecutivas."
      ],
      "metadata": {
        "id": "xK3YD4cWZGrw"
      }
    },
    {
      "cell_type": "code",
      "source": [],
      "metadata": {
        "id": "U9N_TaxQPSo3"
      },
      "execution_count": null,
      "outputs": []
    }
  ]
}