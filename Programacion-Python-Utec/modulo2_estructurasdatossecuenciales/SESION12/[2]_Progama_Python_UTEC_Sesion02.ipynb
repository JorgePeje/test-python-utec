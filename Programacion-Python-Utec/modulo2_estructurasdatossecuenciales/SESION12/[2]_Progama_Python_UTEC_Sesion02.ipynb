{
  "nbformat": 4,
  "nbformat_minor": 0,
  "metadata": {
    "colab": {
      "provenance": [],
      "include_colab_link": true
    },
    "kernelspec": {
      "name": "python3",
      "display_name": "Python 3"
    },
    "language_info": {
      "name": "python"
    }
  },
  "cells": [
    {
      "cell_type": "markdown",
      "metadata": {
        "id": "view-in-github",
        "colab_type": "text"
      },
      "source": [
        "<a href=\"https://colab.research.google.com/github/JorgePeje/test-python-utec/blob/main/Programacion-Python-Utec/modulo2_estructurasdatossecuenciales/SESION12/%5B2%5D_Progama_Python_UTEC_Sesion02.ipynb\" target=\"_parent\"><img src=\"https://colab.research.google.com/assets/colab-badge.svg\" alt=\"Open In Colab\"/></a>"
      ]
    },
    {
      "cell_type": "markdown",
      "source": [
        "## [1] Recorrer una lista en Python"
      ],
      "metadata": {
        "id": "MD4emPFaL0p6"
      }
    },
    {
      "cell_type": "code",
      "execution_count": null,
      "metadata": {
        "id": "D8mSGH6KLL_l"
      },
      "outputs": [],
      "source": [
        "librerias = ['numpy','pandas','scipy','matplotlib','scikit learn']"
      ]
    },
    {
      "cell_type": "code",
      "source": [
        "print(f\"Los elementos de la lista librerias son \\n{librerias}\")"
      ],
      "metadata": {
        "colab": {
          "base_uri": "https://localhost:8080/"
        },
        "id": "oHnqo8bEL3JP",
        "outputId": "2f2c760b-1ae1-4f6f-ef09-9e38f912c105"
      },
      "execution_count": null,
      "outputs": [
        {
          "output_type": "stream",
          "name": "stdout",
          "text": [
            "Los elementos de la lista librerias son \n",
            "['numpy', 'pandas', 'scipy', 'matplotlib', 'scikit learn']\n"
          ]
        }
      ]
    },
    {
      "cell_type": "code",
      "source": [
        "type(librerias)"
      ],
      "metadata": {
        "colab": {
          "base_uri": "https://localhost:8080/"
        },
        "id": "Psqhco3ashR0",
        "outputId": "3c56c285-79a3-4d24-c287-eef5631587c1"
      },
      "execution_count": null,
      "outputs": [
        {
          "output_type": "execute_result",
          "data": {
            "text/plain": [
              "list"
            ]
          },
          "metadata": {},
          "execution_count": 50
        }
      ]
    },
    {
      "cell_type": "code",
      "source": [
        "for libreria in librerias:\n",
        "  print(libreria)"
      ],
      "metadata": {
        "colab": {
          "base_uri": "https://localhost:8080/"
        },
        "id": "2M0sHbWgMHN7",
        "outputId": "3731560d-1cd1-46c7-94e4-f6c82c98f5a3"
      },
      "execution_count": null,
      "outputs": [
        {
          "output_type": "stream",
          "name": "stdout",
          "text": [
            "numpy\n",
            "pandas\n",
            "scipy\n",
            "matplotlib\n",
            "scikit learn\n"
          ]
        }
      ]
    },
    {
      "cell_type": "markdown",
      "source": [
        "### Actividad N016"
      ],
      "metadata": {
        "id": "R8ZIY17-MQqA"
      }
    },
    {
      "cell_type": "code",
      "source": [
        "## SOLUCIÓN ACTIVIDAD N016\n",
        "\n",
        "productos = [\"Arroz\", \"Leche\", \"Pan\", \"Huevos\", \"Frutas\"]\n",
        "\n",
        "print(\"Mi lista de compra habitual en el supermercado es:\")\n",
        "for producto in productos:\n",
        "    print(producto)"
      ],
      "metadata": {
        "colab": {
          "base_uri": "https://localhost:8080/"
        },
        "id": "8M9HBSKOMLgH",
        "outputId": "f38540b5-2aa1-444b-ea85-1e7f34e0647f"
      },
      "execution_count": null,
      "outputs": [
        {
          "output_type": "stream",
          "name": "stdout",
          "text": [
            "Mi lista de compra habitual en el supermercado es:\n",
            "Arroz\n",
            "Leche\n",
            "Pan\n",
            "Huevos\n",
            "Frutas\n"
          ]
        }
      ]
    },
    {
      "cell_type": "markdown",
      "source": [
        "## [2] Realizar una acción después del bucle"
      ],
      "metadata": {
        "id": "mI8P28IGMe5e"
      }
    },
    {
      "cell_type": "code",
      "source": [
        "productos = ['aceite','arroz','agua','carne','pollo']"
      ],
      "metadata": {
        "id": "Ubh6rpUnMaYT"
      },
      "execution_count": null,
      "outputs": []
    },
    {
      "cell_type": "code",
      "source": [
        "print(\"Mi lista habitual en el supermercado es\")\n",
        "for producto in productos:\n",
        "  print('-',producto)\n",
        "print(\"Mi presupuesto principalmente se basa en esta lista\")"
      ],
      "metadata": {
        "colab": {
          "base_uri": "https://localhost:8080/"
        },
        "id": "3jqWsTTVMvj4",
        "outputId": "0f53391e-08dc-4e33-dcc0-67e87cc234da"
      },
      "execution_count": null,
      "outputs": [
        {
          "output_type": "stream",
          "name": "stdout",
          "text": [
            "Mi lista habitual en el supermercado es\n",
            "- Arroz\n",
            "- Leche\n",
            "- Pan\n",
            "- Huevos\n",
            "- Frutas\n",
            "Mi presupuesto principalmente se basa en esta lista\n"
          ]
        }
      ]
    },
    {
      "cell_type": "markdown",
      "source": [
        "### Actividad N017"
      ],
      "metadata": {
        "id": "aW6MbEPqNGZe"
      }
    },
    {
      "cell_type": "code",
      "source": [
        "## SOLUCIÓN DE ACTIVIDAD N017\n",
        "print(\"Las librerías más usadas en Python son:\")\n",
        "for libreria in librerias:\n",
        "  print('-',libreria)\n",
        "print(\"Tengo experiencia profesional trabajando con todas ellas\")"
      ],
      "metadata": {
        "colab": {
          "base_uri": "https://localhost:8080/",
          "height": 238
        },
        "id": "2mWHMqd9M_5c",
        "outputId": "3eeae9f8-3fbe-46a2-c041-7238fc467dd8"
      },
      "execution_count": null,
      "outputs": [
        {
          "output_type": "stream",
          "name": "stdout",
          "text": [
            "Las librerías más usadas en Python son:\n"
          ]
        },
        {
          "output_type": "error",
          "ename": "NameError",
          "evalue": "name 'librerias' is not defined",
          "traceback": [
            "\u001b[0;31m---------------------------------------------------------------------------\u001b[0m",
            "\u001b[0;31mNameError\u001b[0m                                 Traceback (most recent call last)",
            "\u001b[0;32m<ipython-input-15-ba35fe1b51fd>\u001b[0m in \u001b[0;36m<cell line: 0>\u001b[0;34m()\u001b[0m\n\u001b[1;32m      1\u001b[0m \u001b[0;31m## SOLUCIÓN DE ACTIVIDAD N017\u001b[0m\u001b[0;34m\u001b[0m\u001b[0;34m\u001b[0m\u001b[0m\n\u001b[1;32m      2\u001b[0m \u001b[0mprint\u001b[0m\u001b[0;34m(\u001b[0m\u001b[0;34m\"Las librerías más usadas en Python son:\"\u001b[0m\u001b[0;34m)\u001b[0m\u001b[0;34m\u001b[0m\u001b[0;34m\u001b[0m\u001b[0m\n\u001b[0;32m----> 3\u001b[0;31m \u001b[0;32mfor\u001b[0m \u001b[0mlibreria\u001b[0m \u001b[0;32min\u001b[0m \u001b[0mlibrerias\u001b[0m\u001b[0;34m:\u001b[0m\u001b[0;34m\u001b[0m\u001b[0;34m\u001b[0m\u001b[0m\n\u001b[0m\u001b[1;32m      4\u001b[0m   \u001b[0mprint\u001b[0m\u001b[0;34m(\u001b[0m\u001b[0;34m'-'\u001b[0m\u001b[0;34m,\u001b[0m\u001b[0mlibreria\u001b[0m\u001b[0;34m)\u001b[0m\u001b[0;34m\u001b[0m\u001b[0;34m\u001b[0m\u001b[0m\n\u001b[1;32m      5\u001b[0m \u001b[0mprint\u001b[0m\u001b[0;34m(\u001b[0m\u001b[0;34m\"Tengo experiencia profesional trabajando con todas ellas\"\u001b[0m\u001b[0;34m)\u001b[0m\u001b[0;34m\u001b[0m\u001b[0;34m\u001b[0m\u001b[0m\n",
            "\u001b[0;31mNameError\u001b[0m: name 'librerias' is not defined"
          ]
        }
      ]
    },
    {
      "cell_type": "markdown",
      "source": [
        "## [3] Problemas con identación y dos puntos"
      ],
      "metadata": {
        "id": "IZVy2ddcNULO"
      }
    },
    {
      "cell_type": "markdown",
      "source": [
        "### Olvidamos la identación"
      ],
      "metadata": {
        "id": "A_88Du1_NpC5"
      }
    },
    {
      "cell_type": "code",
      "source": [
        "print(\"En Python las librerías más populares son\")\n",
        "for libreria in librerias:\n",
        "print(\"-\",libreria)"
      ],
      "metadata": {
        "colab": {
          "base_uri": "https://localhost:8080/",
          "height": 110
        },
        "id": "tbJzYa-7NONP",
        "outputId": "7f58155e-6282-4b38-fb8c-ad0750a9adf8"
      },
      "execution_count": null,
      "outputs": [
        {
          "output_type": "error",
          "ename": "IndentationError",
          "evalue": "expected an indented block after 'for' statement on line 2 (<ipython-input-14-a6bc1d6d471e>, line 3)",
          "traceback": [
            "\u001b[0;36m  File \u001b[0;32m\"<ipython-input-14-a6bc1d6d471e>\"\u001b[0;36m, line \u001b[0;32m3\u001b[0m\n\u001b[0;31m    print(\"-\",libreria)\u001b[0m\n\u001b[0m    ^\u001b[0m\n\u001b[0;31mIndentationError\u001b[0m\u001b[0;31m:\u001b[0m expected an indented block after 'for' statement on line 2\n"
          ]
        }
      ]
    },
    {
      "cell_type": "markdown",
      "source": [
        "### Usamos la identación de manera innecesaria"
      ],
      "metadata": {
        "id": "OPt53QvUNtIZ"
      }
    },
    {
      "cell_type": "code",
      "source": [
        "print(\"En Python las librerías más populares son\")\n",
        "for libreria in librerias:\n",
        "  print(\"-\",libreria)\n",
        "  print(\"Tengo experiencia profesional trabajando con todas ellas\")"
      ],
      "metadata": {
        "colab": {
          "base_uri": "https://localhost:8080/",
          "height": 219
        },
        "id": "OUHG8ch-NhzH",
        "outputId": "487a36b0-dc5f-438a-d889-5d96f8265aa2"
      },
      "execution_count": null,
      "outputs": [
        {
          "output_type": "stream",
          "name": "stdout",
          "text": [
            "En Python las librerías más populares son\n"
          ]
        },
        {
          "output_type": "error",
          "ename": "NameError",
          "evalue": "name 'librerias' is not defined",
          "traceback": [
            "\u001b[0;31m---------------------------------------------------------------------------\u001b[0m",
            "\u001b[0;31mNameError\u001b[0m                                 Traceback (most recent call last)",
            "\u001b[0;32m<ipython-input-13-f7e74a6d36d2>\u001b[0m in \u001b[0;36m<cell line: 0>\u001b[0;34m()\u001b[0m\n\u001b[1;32m      1\u001b[0m \u001b[0mprint\u001b[0m\u001b[0;34m(\u001b[0m\u001b[0;34m\"En Python las librerías más populares son\"\u001b[0m\u001b[0;34m)\u001b[0m\u001b[0;34m\u001b[0m\u001b[0;34m\u001b[0m\u001b[0m\n\u001b[0;32m----> 2\u001b[0;31m \u001b[0;32mfor\u001b[0m \u001b[0mlibreria\u001b[0m \u001b[0;32min\u001b[0m \u001b[0mlibrerias\u001b[0m\u001b[0;34m:\u001b[0m\u001b[0;34m\u001b[0m\u001b[0;34m\u001b[0m\u001b[0m\n\u001b[0m\u001b[1;32m      3\u001b[0m   \u001b[0mprint\u001b[0m\u001b[0;34m(\u001b[0m\u001b[0;34m\"-\"\u001b[0m\u001b[0;34m,\u001b[0m\u001b[0mlibreria\u001b[0m\u001b[0;34m)\u001b[0m\u001b[0;34m\u001b[0m\u001b[0;34m\u001b[0m\u001b[0m\n\u001b[1;32m      4\u001b[0m   \u001b[0mprint\u001b[0m\u001b[0;34m(\u001b[0m\u001b[0;34m\"Tengo experiencia profesional trabajando con todas ellas\"\u001b[0m\u001b[0;34m)\u001b[0m\u001b[0;34m\u001b[0m\u001b[0;34m\u001b[0m\u001b[0m\n",
            "\u001b[0;31mNameError\u001b[0m: name 'librerias' is not defined"
          ]
        }
      ]
    },
    {
      "cell_type": "markdown",
      "source": [
        "### Olvidamos los dos puntos"
      ],
      "metadata": {
        "id": "kE584601OE7l"
      }
    },
    {
      "cell_type": "code",
      "source": [
        "print(\"En Python las librerías más populares son\")\n",
        "for libreria in librerias\n",
        "  print(\"-\",libreria)\n",
        "print(\"Tengo experiencia profesional trabajando con todas ellas\")"
      ],
      "metadata": {
        "colab": {
          "base_uri": "https://localhost:8080/",
          "height": 110
        },
        "id": "u5lNRDnJN5wm",
        "outputId": "7acfa36b-893a-46f3-9689-22e21c72e937"
      },
      "execution_count": null,
      "outputs": [
        {
          "output_type": "error",
          "ename": "SyntaxError",
          "evalue": "expected ':' (<ipython-input-12-70d9aa6ab298>, line 2)",
          "traceback": [
            "\u001b[0;36m  File \u001b[0;32m\"<ipython-input-12-70d9aa6ab298>\"\u001b[0;36m, line \u001b[0;32m2\u001b[0m\n\u001b[0;31m    for libreria in librerias\u001b[0m\n\u001b[0m                             ^\u001b[0m\n\u001b[0;31mSyntaxError\u001b[0m\u001b[0;31m:\u001b[0m expected ':'\n"
          ]
        }
      ]
    },
    {
      "cell_type": "markdown",
      "source": [
        "### Actividad N018"
      ],
      "metadata": {
        "id": "zn72L7ycOStz"
      }
    },
    {
      "cell_type": "code",
      "source": [
        "## SOLUCIÓN ACTIVIDAD N018\n",
        "paises = [\"Noruega\", \"Italia\", \"España\", \"Francia\"]\n",
        "print(\"Los paises que me gustaría conocer son:\")\n",
        "for pais in paises:\n",
        "  print('-',pais)\n",
        "print(\"Estos paises se caracterizan por sus bellos paisajes\")"
      ],
      "metadata": {
        "colab": {
          "base_uri": "https://localhost:8080/"
        },
        "id": "7Onf7aj0OUWW",
        "outputId": "38161cba-7d42-45ec-fef6-4173c0de8d1d"
      },
      "execution_count": null,
      "outputs": [
        {
          "output_type": "stream",
          "name": "stdout",
          "text": [
            "Los paises que me gustaría conocer son:\n",
            "- Noruega\n",
            "- Italia\n",
            "- España\n",
            "- Francia\n",
            "Estos paises se caracterizan por sus bellos paisajes\n"
          ]
        }
      ]
    },
    {
      "cell_type": "markdown",
      "source": [
        "## [2] Función RANGE"
      ],
      "metadata": {
        "id": "p0MaGjRGOZgU"
      }
    },
    {
      "cell_type": "code",
      "source": [
        "range(1,5)"
      ],
      "metadata": {
        "colab": {
          "base_uri": "https://localhost:8080/"
        },
        "id": "Q8VFXc-AOXm5",
        "outputId": "e29fc611-f9f3-405f-d7b8-78036e8e4c0d"
      },
      "execution_count": null,
      "outputs": [
        {
          "output_type": "execute_result",
          "data": {
            "text/plain": [
              "range(1, 5)"
            ]
          },
          "metadata": {},
          "execution_count": 59
        }
      ]
    },
    {
      "cell_type": "code",
      "source": [
        "for valor in range(1,5):\n",
        "  print(valor)"
      ],
      "metadata": {
        "colab": {
          "base_uri": "https://localhost:8080/"
        },
        "id": "W1KbWORTOgo9",
        "outputId": "0a0ad1e0-2e37-4277-e8b9-56e9405c2f19"
      },
      "execution_count": null,
      "outputs": [
        {
          "output_type": "stream",
          "name": "stdout",
          "text": [
            "1\n",
            "2\n",
            "3\n",
            "4\n"
          ]
        }
      ]
    },
    {
      "cell_type": "markdown",
      "source": [
        "## [3] Crear una lista usando la función RANGE"
      ],
      "metadata": {
        "id": "qjKgyikIOqWQ"
      }
    },
    {
      "cell_type": "code",
      "source": [
        "numeros = list(range(1,11))"
      ],
      "metadata": {
        "id": "BJ9nwe27Oj8t"
      },
      "execution_count": null,
      "outputs": []
    },
    {
      "cell_type": "code",
      "source": [
        "print(f\"La lista numeros contiene los siguientes elementos \\n{numeros}\")"
      ],
      "metadata": {
        "colab": {
          "base_uri": "https://localhost:8080/"
        },
        "id": "NoBvB3ddO9WL",
        "outputId": "36d448dc-a1a5-4dc6-b9da-46f721f8a705"
      },
      "execution_count": null,
      "outputs": [
        {
          "output_type": "stream",
          "name": "stdout",
          "text": [
            "La lista numeros contiene los siguientes elementos \n",
            "[1, 2, 3, 4, 5, 6, 7, 8, 9, 10]\n"
          ]
        }
      ]
    },
    {
      "cell_type": "code",
      "source": [
        "type(numeros)"
      ],
      "metadata": {
        "colab": {
          "base_uri": "https://localhost:8080/"
        },
        "id": "NMfmCSRWPDFA",
        "outputId": "a226f331-1169-4403-c9f0-d7c2165a6d5d"
      },
      "execution_count": null,
      "outputs": [
        {
          "output_type": "execute_result",
          "data": {
            "text/plain": [
              "list"
            ]
          },
          "metadata": {},
          "execution_count": 63
        }
      ]
    },
    {
      "cell_type": "code",
      "source": [
        "for valor in numeros:\n",
        "  print(valor)"
      ],
      "metadata": {
        "colab": {
          "base_uri": "https://localhost:8080/"
        },
        "id": "R7a7UfsqzsGY",
        "outputId": "9a60a391-6e6a-4a3f-c8b8-cd09d3e0ddc4"
      },
      "execution_count": null,
      "outputs": [
        {
          "output_type": "stream",
          "name": "stdout",
          "text": [
            "1\n",
            "2\n",
            "3\n",
            "4\n",
            "5\n",
            "6\n",
            "7\n",
            "8\n",
            "9\n",
            "10\n"
          ]
        }
      ]
    },
    {
      "cell_type": "markdown",
      "source": [
        "### Actividad N019"
      ],
      "metadata": {
        "id": "4CdtcPKoPIQv"
      }
    },
    {
      "cell_type": "code",
      "source": [
        "## SOLUCIÓN ACTIVIDAD N019\n",
        "\n",
        "#print(f\"La lista numeros contiene los siguientes elementos \\n{numeros}\")\n",
        "for valor in range(10,21):\n",
        "  print(valor)"
      ],
      "metadata": {
        "colab": {
          "base_uri": "https://localhost:8080/"
        },
        "id": "3diMOYkBPHGp",
        "outputId": "d14b3d23-d3e2-4abd-c889-e48990912ecd"
      },
      "execution_count": null,
      "outputs": [
        {
          "output_type": "stream",
          "name": "stdout",
          "text": [
            "10\n",
            "11\n",
            "12\n",
            "13\n",
            "14\n",
            "15\n",
            "16\n",
            "17\n",
            "18\n",
            "19\n",
            "20\n"
          ]
        }
      ]
    },
    {
      "cell_type": "code",
      "source": [
        "correlativos = list(range(10,21))\n",
        "print(f\"La lista numeros contiene los siguientes elementos \\n{correlativos}\")\n",
        "# Mostrar todos los elemento de la lista\n",
        "print(\"Acceder a los elementos de la lista a través de un bucle\")\n",
        "for valor in correlativos:\n",
        "  print(valor)"
      ],
      "metadata": {
        "colab": {
          "base_uri": "https://localhost:8080/"
        },
        "id": "D8QqA44I0z4l",
        "outputId": "0f6118af-e334-41bd-dd04-f4d7834c7cf5"
      },
      "execution_count": null,
      "outputs": [
        {
          "output_type": "stream",
          "name": "stdout",
          "text": [
            "La lista numeros contiene los siguientes elementos \n",
            "[10, 11, 12, 13, 14, 15, 16, 17, 18, 19, 20]\n",
            "Acceder a los elementos de la lista a través de un bucle\n",
            "10\n",
            "11\n",
            "12\n",
            "13\n",
            "14\n",
            "15\n",
            "16\n",
            "17\n",
            "18\n",
            "19\n",
            "20\n"
          ]
        }
      ]
    },
    {
      "cell_type": "code",
      "source": [
        "pares = list(range(2,22,2))"
      ],
      "metadata": {
        "id": "ndqZ8ReMPPYA"
      },
      "execution_count": null,
      "outputs": []
    },
    {
      "cell_type": "code",
      "source": [
        "print(f\"La lista pares contiene los elementos \\n{pares}\")"
      ],
      "metadata": {
        "colab": {
          "base_uri": "https://localhost:8080/"
        },
        "id": "t0jzzsXfPY8b",
        "outputId": "afafbd37-4423-4ce0-8531-9da06db37fcc"
      },
      "execution_count": null,
      "outputs": [
        {
          "output_type": "stream",
          "name": "stdout",
          "text": [
            "La lista pares contiene los elementos \n",
            "[2, 4, 6, 8, 10, 12, 14, 16, 18, 20]\n"
          ]
        }
      ]
    },
    {
      "cell_type": "code",
      "source": [
        "type(pares)"
      ],
      "metadata": {
        "colab": {
          "base_uri": "https://localhost:8080/"
        },
        "id": "McsS_5fWPcq2",
        "outputId": "abd1cb5e-567a-474a-b08a-2391d697886b"
      },
      "execution_count": null,
      "outputs": [
        {
          "output_type": "execute_result",
          "data": {
            "text/plain": [
              "list"
            ]
          },
          "metadata": {},
          "execution_count": 3
        }
      ]
    },
    {
      "cell_type": "markdown",
      "source": [
        "## [4] Crear una lista en función de otra lista"
      ],
      "metadata": {
        "id": "kjTuXQfbPiyW"
      }
    },
    {
      "cell_type": "code",
      "source": [
        "cuadrados = [] # lista vacía\n",
        "for par in pares:\n",
        "  cuadrado = par**2\n",
        "  cuadrados.append(cuadrado)\n",
        "print(f\"La lista pares contiene los elementos \\n{pares}\")\n",
        "print(f\"\\nLa lista cuadrados contiene los elementos \\n{cuadrados}\")"
      ],
      "metadata": {
        "colab": {
          "base_uri": "https://localhost:8080/"
        },
        "id": "zYuLtoPCPfRa",
        "outputId": "bcfb1c54-06a8-492a-9511-65c2fa3595ed"
      },
      "execution_count": null,
      "outputs": [
        {
          "output_type": "stream",
          "name": "stdout",
          "text": [
            "La lista pares contiene los elementos \n",
            "[2, 4, 6, 8, 10, 12, 14, 16, 18, 20]\n",
            "\n",
            "La lista cuadrados contiene los elementos \n",
            "[4, 16, 36, 64, 100, 144, 196, 256, 324, 400]\n"
          ]
        }
      ]
    },
    {
      "cell_type": "markdown",
      "source": [
        "## [5] Calcular estadísticas a partir de una lista"
      ],
      "metadata": {
        "id": "L6H83fgtQJva"
      }
    },
    {
      "cell_type": "code",
      "source": [
        "print(f\"El valor mínimo de la lista cuadrados es {min(cuadrados)}\")"
      ],
      "metadata": {
        "colab": {
          "base_uri": "https://localhost:8080/"
        },
        "id": "FjefhDc3P1Lz",
        "outputId": "35ab14b6-b35d-4dda-c419-c0afac1825e0"
      },
      "execution_count": null,
      "outputs": [
        {
          "output_type": "stream",
          "name": "stdout",
          "text": [
            "El valor mínimo de la lista cuadrados es 4\n"
          ]
        }
      ]
    },
    {
      "cell_type": "code",
      "source": [
        "print(f\"El valor máximo de la lista cuadrados es {max(cuadrados)}\")"
      ],
      "metadata": {
        "colab": {
          "base_uri": "https://localhost:8080/"
        },
        "id": "h2Q8zEjCQUF4",
        "outputId": "ba6a9737-9ea3-4ff6-fcf6-eba44bd128d9"
      },
      "execution_count": null,
      "outputs": [
        {
          "output_type": "stream",
          "name": "stdout",
          "text": [
            "El valor máximo de la lista cuadrados es 400\n"
          ]
        }
      ]
    },
    {
      "cell_type": "code",
      "source": [
        "print(f\"La suma de los valores de la lista cuadrados es {sum(cuadrados)}\")"
      ],
      "metadata": {
        "colab": {
          "base_uri": "https://localhost:8080/"
        },
        "id": "RQmQj9xuQW9m",
        "outputId": "bd863b4e-653b-4f1b-fafa-699b7292eab2"
      },
      "execution_count": null,
      "outputs": [
        {
          "output_type": "stream",
          "name": "stdout",
          "text": [
            "La suma de los valores de la lista cuadrados es 1540\n"
          ]
        }
      ]
    },
    {
      "cell_type": "code",
      "source": [
        "print(f\"El promedio de los valores de la lista cuadrados es {sum(cuadrados)/len(cuadrados)}\")"
      ],
      "metadata": {
        "colab": {
          "base_uri": "https://localhost:8080/"
        },
        "id": "Nv2IMNtMQbaR",
        "outputId": "57325a6b-2d3c-403f-96fa-14d2c93680e5"
      },
      "execution_count": null,
      "outputs": [
        {
          "output_type": "stream",
          "name": "stdout",
          "text": [
            "El promedio de los valores de la lista cuadrados es 154.0\n"
          ]
        }
      ]
    },
    {
      "cell_type": "markdown",
      "source": [
        "## [6] Comprensión de listas"
      ],
      "metadata": {
        "id": "M5GhhcB2QqaS"
      }
    },
    {
      "cell_type": "code",
      "source": [
        "cuadrados = [par**2 for par in pares]"
      ],
      "metadata": {
        "id": "yILWEw6hQjO3"
      },
      "execution_count": null,
      "outputs": []
    },
    {
      "cell_type": "code",
      "source": [
        "print(f\"La lista pares contiene los elementos \\n{pares}\")\n",
        "print(f\"\\nLa lista cuadrados contiene los elementos \\n{cuadrados}\")"
      ],
      "metadata": {
        "id": "4dWHFsmTQ01v",
        "outputId": "79598b46-5368-4258-c057-593b46846be9",
        "colab": {
          "base_uri": "https://localhost:8080/"
        }
      },
      "execution_count": null,
      "outputs": [
        {
          "output_type": "stream",
          "name": "stdout",
          "text": [
            "La lista pares contiene los elementos \n",
            "[2, 4, 6, 8, 10, 12, 14, 16, 18, 20]\n",
            "\n",
            "La lista cuadrados contiene los elementos \n",
            "[4, 16, 36, 64, 100, 144, 196, 256, 324, 400]\n"
          ]
        }
      ]
    },
    {
      "cell_type": "markdown",
      "source": [
        "### Actividad N020"
      ],
      "metadata": {
        "id": "c0IKdY8qRFtw"
      }
    },
    {
      "cell_type": "markdown",
      "source": [
        "Crear una lista de valores numéricos que sean correlativos, inicien en 10 y acaben en 20 (correlativos). A cada valor de la lista sumarle 5 y almacenarlo en otra lista llamada correlativosn, mostrar los resultados en pantalla, use comprensión de listas"
      ],
      "metadata": {
        "id": "gNqVKwaAOphX"
      }
    },
    {
      "cell_type": "code",
      "source": [
        "## SOLUCIÓN ACTIVIDAD N020\n",
        "correlativos=list(range(10,21))\n",
        "\n",
        "correlativosn=[valor+5 for valor in correlativos]\n",
        "\n",
        "print(f\"La lista correlativos contiene los elementos \\n{correlativos}\")\n",
        "print(f\"\\nLa lista correlativosn contiene los elementos \\n{correlativosn}\")"
      ],
      "metadata": {
        "id": "zY7Z2YCUQ9p9",
        "outputId": "cce5b772-ac7e-4d04-cb05-789887b019a2",
        "colab": {
          "base_uri": "https://localhost:8080/"
        }
      },
      "execution_count": null,
      "outputs": [
        {
          "output_type": "stream",
          "name": "stdout",
          "text": [
            "La lista correlativos contiene los elementos \n",
            "[10, 11, 12, 13, 14, 15, 16, 17, 18, 19, 20]\n",
            "\n",
            "La lista correlativosn contiene los elementos \n",
            "[15, 16, 17, 18, 19, 20, 21, 22, 23, 24, 25]\n"
          ]
        }
      ]
    },
    {
      "cell_type": "code",
      "source": [
        "correlativos=list(range(10,21))\n",
        "correlativosn=[]\n",
        "for valor in correlativos:\n",
        "  correlativosn.append(valor+5)\n",
        "\n",
        "\n",
        "print(f\"La lista correlativos contiene los elementos \\n{correlativos}\")\n",
        "print(f\"\\nLa lista correlativosn contiene los elementos \\n{correlativosn}\")"
      ],
      "metadata": {
        "id": "FN4-zfNCQP13",
        "outputId": "368d5ec8-60f3-48a8-da36-443ec8ba7f90",
        "colab": {
          "base_uri": "https://localhost:8080/"
        }
      },
      "execution_count": null,
      "outputs": [
        {
          "output_type": "stream",
          "name": "stdout",
          "text": [
            "La lista correlativos contiene los elementos \n",
            "[10, 11, 12, 13, 14, 15, 16, 17, 18, 19, 20]\n",
            "\n",
            "La lista correlativosn contiene los elementos \n",
            "[15, 16, 17, 18, 19, 20, 21, 22, 23, 24, 25]\n"
          ]
        }
      ]
    },
    {
      "cell_type": "markdown",
      "source": [
        "## [7] Acceder a más de un elemento de la lista"
      ],
      "metadata": {
        "id": "NRl9ZEmZRMyj"
      }
    },
    {
      "cell_type": "code",
      "source": [
        "print(f\"Los elementos de la lista librerias son \\n{librerias}\")"
      ],
      "metadata": {
        "id": "ooOaZzSlRJx4",
        "outputId": "2d72afbd-f5d0-4284-a53a-1567c160f3ea",
        "colab": {
          "base_uri": "https://localhost:8080/"
        }
      },
      "execution_count": null,
      "outputs": [
        {
          "output_type": "stream",
          "name": "stdout",
          "text": [
            "Los elementos de la lista librerias son \n",
            "['numpy', 'pandas', 'scipy', 'matplotlib', 'scikit learn']\n"
          ]
        }
      ]
    },
    {
      "cell_type": "code",
      "source": [
        "librerias[1:3]"
      ],
      "metadata": {
        "id": "C4uMCrKmRX07",
        "outputId": "ec4fe782-b4b3-4572-da7a-d26e342e80c7",
        "colab": {
          "base_uri": "https://localhost:8080/"
        }
      },
      "execution_count": null,
      "outputs": [
        {
          "output_type": "execute_result",
          "data": {
            "text/plain": [
              "['pandas', 'scipy']"
            ]
          },
          "metadata": {},
          "execution_count": 18
        }
      ]
    },
    {
      "cell_type": "code",
      "source": [
        "librerias[0:3]"
      ],
      "metadata": {
        "id": "6LpdSmUVRefl",
        "outputId": "b93113de-df88-4122-bbed-cee545137f3c",
        "colab": {
          "base_uri": "https://localhost:8080/"
        }
      },
      "execution_count": null,
      "outputs": [
        {
          "output_type": "execute_result",
          "data": {
            "text/plain": [
              "['numpy', 'pandas', 'scipy']"
            ]
          },
          "metadata": {},
          "execution_count": 19
        }
      ]
    },
    {
      "cell_type": "code",
      "source": [
        "librerias[:4]"
      ],
      "metadata": {
        "id": "uSJZAu2uRh1H",
        "outputId": "c04d4aeb-d735-443f-b712-cb3d3712c289",
        "colab": {
          "base_uri": "https://localhost:8080/"
        }
      },
      "execution_count": null,
      "outputs": [
        {
          "output_type": "execute_result",
          "data": {
            "text/plain": [
              "['numpy', 'pandas', 'scipy', 'matplotlib']"
            ]
          },
          "metadata": {},
          "execution_count": 21
        }
      ]
    },
    {
      "cell_type": "code",
      "source": [
        "librerias[3:5]"
      ],
      "metadata": {
        "id": "NXjQUYiURjR1",
        "outputId": "eea866a4-c6c3-4f9c-d85b-e9aeeb3eb7a6",
        "colab": {
          "base_uri": "https://localhost:8080/"
        }
      },
      "execution_count": null,
      "outputs": [
        {
          "output_type": "execute_result",
          "data": {
            "text/plain": [
              "['matplotlib', 'scikit learn']"
            ]
          },
          "metadata": {},
          "execution_count": 22
        }
      ]
    },
    {
      "cell_type": "code",
      "source": [
        "librerias[3:]"
      ],
      "metadata": {
        "id": "OOzBP1nbRnPW",
        "outputId": "a276dd06-1227-4fcb-ba95-48d8f7b8b3df",
        "colab": {
          "base_uri": "https://localhost:8080/"
        }
      },
      "execution_count": null,
      "outputs": [
        {
          "output_type": "execute_result",
          "data": {
            "text/plain": [
              "['matplotlib', 'scikit learn']"
            ]
          },
          "metadata": {},
          "execution_count": 24
        }
      ]
    },
    {
      "cell_type": "markdown",
      "source": [
        "### Actividad N021"
      ],
      "metadata": {
        "id": "PiGCrXKRRuCc"
      }
    },
    {
      "cell_type": "code",
      "source": [
        "## SOLUCIÓN ACTIVIDAD N021\n",
        "universidades=[\"UNI\", \"San Marcos\", \"UPC\", \"Catolica\", \"Cesar Vallejo\", \"UTEC\",\"Agraria\",\"Trujillo\"]\n",
        "print(f\"Los elementos de la lista universidades son \\n{universidades}\")\n",
        "\n",
        "print(len(universidades))\n",
        "\n",
        "universidades[len(universidades)-3:]"
      ],
      "metadata": {
        "id": "M-J8B0Z6Rpb0",
        "outputId": "e0f68d3c-b90f-452b-bb74-664687fda793",
        "colab": {
          "base_uri": "https://localhost:8080/"
        }
      },
      "execution_count": null,
      "outputs": [
        {
          "output_type": "stream",
          "name": "stdout",
          "text": [
            "Los elementos de la lista universidades son \n",
            "['UNI', 'San Marcos', 'UPC', 'Catolica', 'Cesar Vallejo', 'UTEC', 'Agraria', 'Trujillo']\n",
            "8\n"
          ]
        },
        {
          "output_type": "execute_result",
          "data": {
            "text/plain": [
              "['UTEC', 'Agraria', 'Trujillo']"
            ]
          },
          "metadata": {},
          "execution_count": 33
        }
      ]
    },
    {
      "cell_type": "markdown",
      "source": [
        "## [8] Copiar una lista"
      ],
      "metadata": {
        "id": "_V71W0HcR35w"
      }
    },
    {
      "cell_type": "code",
      "source": [
        "print(f\"La lista librerias contiene los elementos \\n{librerias}\")"
      ],
      "metadata": {
        "id": "fGMsX6P7R0i8",
        "outputId": "9a60180f-9b72-4c2f-ca98-1bb11a8fb095",
        "colab": {
          "base_uri": "https://localhost:8080/"
        }
      },
      "execution_count": null,
      "outputs": [
        {
          "output_type": "stream",
          "name": "stdout",
          "text": [
            "La lista librerias contiene los elementos \n",
            "['numpy', 'pandas', 'scipy', 'matplotlib', 'scikit learn']\n"
          ]
        }
      ]
    },
    {
      "cell_type": "code",
      "source": [
        "herramientas = librerias[:]"
      ],
      "metadata": {
        "id": "G27YO4BZSBZC"
      },
      "execution_count": null,
      "outputs": []
    },
    {
      "cell_type": "code",
      "source": [
        "librerias.append('re')"
      ],
      "metadata": {
        "id": "5GVRvm6HSFk4"
      },
      "execution_count": null,
      "outputs": []
    },
    {
      "cell_type": "code",
      "source": [
        "herramientas.append('sqlAlchemy')"
      ],
      "metadata": {
        "id": "QKZkMz2NSHiA"
      },
      "execution_count": null,
      "outputs": []
    },
    {
      "cell_type": "code",
      "source": [
        "print(f\"La lista librerias contiene los elementos \\n{librerias}\")"
      ],
      "metadata": {
        "id": "NwdYAgaKSLS6",
        "outputId": "15250e0d-2367-435b-dd36-069ab9b33741",
        "colab": {
          "base_uri": "https://localhost:8080/"
        }
      },
      "execution_count": null,
      "outputs": [
        {
          "output_type": "stream",
          "name": "stdout",
          "text": [
            "La lista librerias contiene los elementos \n",
            "['numpy', 'pandas', 'scipy', 'matplotlib', 'scikit learn', 're']\n"
          ]
        }
      ]
    },
    {
      "cell_type": "code",
      "source": [
        "print(f\"La lista herramientas contiene los elementos \\n{herramientas}\")"
      ],
      "metadata": {
        "id": "c9smWBJFSNPK",
        "outputId": "340cad16-d5ee-4418-d3f2-99c8d4c2d1d0",
        "colab": {
          "base_uri": "https://localhost:8080/"
        }
      },
      "execution_count": null,
      "outputs": [
        {
          "output_type": "stream",
          "name": "stdout",
          "text": [
            "La lista herramientas contiene los elementos \n",
            "['numpy', 'pandas', 'scipy', 'matplotlib', 'scikit learn', 'sqlAlchemy']\n"
          ]
        }
      ]
    },
    {
      "cell_type": "code",
      "source": [],
      "metadata": {
        "id": "MQFjW5zLSQjy"
      },
      "execution_count": null,
      "outputs": []
    },
    {
      "cell_type": "markdown",
      "source": [
        "1.1. Crear una lista que inicie en el número 12 y acabe en el número 200, en su\n",
        "construcción se considere saltos de 2 en 2, guarde la lista con el nombre\n",
        "\"lista_x\".\n",
        "1.2. Con la lista_x, eliminar el primer y el último valor, los valores eliminados\n",
        "se deberán almacenar en otra lista llamada numeros_eliminados.\n",
        "1.3. Muestre los valores de la lista numeros_eliminados.\n",
        "1.4. Muestre los valores mínimos y máximos de la lista_x."
      ],
      "metadata": {
        "id": "YSYGCI-mbnnt"
      }
    },
    {
      "cell_type": "code",
      "source": [
        "lista_x = list(range(12,201,2))\n",
        "\n",
        "first_element = lista_x.pop(0)\n",
        "last_element =  lista_x.pop(-1)\n",
        "\n",
        "numbers_eliminated=[first_element, last_element]\n",
        "\n",
        "print(f'Numeros eliminados {numbers_eliminated}')\n",
        "print(f'\\nEl numero minimo de la lista es {min(lista_x)}')\n",
        "print(f'\\nEl numero maximo de la lista es {max(lista_x)}')"
      ],
      "metadata": {
        "id": "tOItovQabt48",
        "outputId": "a6594728-df9f-475d-f102-45f49193d48e",
        "colab": {
          "base_uri": "https://localhost:8080/"
        }
      },
      "execution_count": null,
      "outputs": [
        {
          "output_type": "stream",
          "name": "stdout",
          "text": [
            "Numeros eliminados [12, 200]\n",
            "\n",
            "El numero minimo de la lista es 14\n",
            "\n",
            "El numero maximo de la lista es 198\n"
          ]
        }
      ]
    },
    {
      "cell_type": "markdown",
      "source": [
        "2.1. Determine el número de elementos de la lista a crear.\n",
        "*2.2. Ingrese los valores de la lista a crear.\n",
        "2.3. Almacene los valores en una lista.\n",
        "2.4. Muestre los valores de la lista.\n",
        "2.5. Calcule y muestre los valores mínimo, máximo y promedio de los valores\n",
        "de la lista."
      ],
      "metadata": {
        "id": "mBfp49lFeUZy"
      }
    },
    {
      "cell_type": "code",
      "source": [
        "#Determinando el numero de elementos a crear\n",
        "n = int(input(\"Ingrese la cantidad de elementos que desea que su lista contenga: \"))\n",
        "lista_creada = []\n",
        "\n",
        "#Ingreso/Almacenaje de valores\n",
        "for item in range (1,n+1):\n",
        "  elemento = int(input(f'Ingrese el valor de su elemento {item}: '))\n",
        "  lista_creada.append(elemento)\n",
        "\n",
        "#Calculos solicitados\n",
        "print(f'\\nSu lista creada es {lista_creada}')\n",
        "\n",
        "print(f'\\n\\nEl numero minimo de la lista es {min(lista_creada)}')\n",
        "print(f'\\nEl numero maximo de la lista es {max(lista_creada)}')\n",
        "print(f'\\nEl promedio de la lista es {sum(lista_creada)/len(lista_creada)}')"
      ],
      "metadata": {
        "id": "evx3cqh-eVos",
        "outputId": "63da0dc4-1537-4aeb-a1b8-87b92a012f8a",
        "colab": {
          "base_uri": "https://localhost:8080/"
        }
      },
      "execution_count": null,
      "outputs": [
        {
          "output_type": "stream",
          "name": "stdout",
          "text": [
            "Ingrese la cantidad de elementos que desea que su lista contenga: 5\n",
            "Ingrese el valor de su elemento 1: 1\n",
            "Ingrese el valor de su elemento 2: 2\n",
            "Ingrese el valor de su elemento 3: 3\n",
            "Ingrese el valor de su elemento 4: 4\n",
            "Ingrese el valor de su elemento 5: 5\n",
            "\n",
            "Su lista creada es [1, 2, 3, 4, 5]\n",
            "\n",
            "\n",
            "El numero minimo de la lista es 1\n",
            "\n",
            "El numero maximo de la lista es 5\n",
            "\n",
            "El promedio de la lista es 3.0\n"
          ]
        }
      ]
    },
    {
      "cell_type": "markdown",
      "source": [
        "* 3.1. Ingrese a python la siguiente lista_x = [\"A\", \"B\", \"b\", \"c\", \"E\", \"E\", \"f\"]\n",
        "* 3.2. Solicitar al usuario un elemento a eliminar.\n",
        "* 3.3. Mostrar el elemento eliminado y la lista resultante."
      ],
      "metadata": {
        "id": "NjQSOdNbk7ay"
      }
    },
    {
      "cell_type": "code",
      "source": [
        "#Primera forma, pero no elimina duplicados\n",
        "lista_x = [\"A\", \"B\", \"b\", \"c\", \"E\", \"E\", \"f\"]\n",
        "n=input('Ingrese el elemento a eliminar: ')\n",
        "\n",
        "for item in lista_x:\n",
        "  if item == n:\n",
        "    lista_x.remove(n)\n",
        "\n",
        "\n",
        "print(f'\\nEl elemento eliminado es {n}')\n",
        "print(f'\\nLa lista resultante es {lista_x}')\n"
      ],
      "metadata": {
        "colab": {
          "base_uri": "https://localhost:8080/"
        },
        "id": "N4X6sN0ik-y8",
        "outputId": "d5c1c12c-1a0e-425b-c3f3-eaf478245e1c"
      },
      "execution_count": null,
      "outputs": [
        {
          "output_type": "stream",
          "name": "stdout",
          "text": [
            "Ingrese el elemento a eliminar: E\n",
            "\n",
            "El elemento eliminado es E\n",
            "\n",
            "La lista resultante es ['A', 'B', 'b', 'c', 'E', 'f']\n"
          ]
        }
      ]
    },
    {
      "cell_type": "code",
      "source": [
        "#ELimina duplicados\n",
        "lista_x = [\"A\", \"B\", \"b\", \"c\", \"E\", \"E\", \"f\"]\n",
        "eliminado = input(\"Ingresar el elemento a eliminar: \")\n",
        "\n",
        "lista_z=[]\n",
        "for elemento in lista_x:\n",
        "  if elemento != eliminado:\n",
        "    lista_z.append(elemento)\n",
        "\n",
        "print(f'\\nEl elemento eliminado es {eliminado}')\n",
        "print(f'\\nLa lista resultante es {lista_z}')\n"
      ],
      "metadata": {
        "id": "IBID104b8npX",
        "outputId": "72eaa4d1-5fca-4ed4-baf4-b9768de7e4ad",
        "colab": {
          "base_uri": "https://localhost:8080/"
        }
      },
      "execution_count": 2,
      "outputs": [
        {
          "output_type": "stream",
          "name": "stdout",
          "text": [
            "Ingresar el elemento a eliminar: E\n",
            "\n",
            "El elemento eliminado es E\n",
            "\n",
            "La lista resultante es ['A', 'B', 'b', 'c', 'f']\n"
          ]
        }
      ]
    }
  ]
}